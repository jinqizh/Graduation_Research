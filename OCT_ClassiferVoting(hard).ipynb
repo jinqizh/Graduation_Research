{
  "cells": [
    {
      "cell_type": "code",
      "execution_count": null,
      "metadata": {
        "id": "fSgJPIygoWoa"
      },
      "outputs": [],
      "source": [
        "#content google drive\n",
        "from google.colab import drive\n",
        "drive.mount('/content/drive')"
      ]
    },
    {
      "cell_type": "code",
      "execution_count": null,
      "metadata": {
        "id": "PkqMvs6PF6-z"
      },
      "outputs": [],
      "source": [
        "!cat /proc/uptime | awk '{printf(\"残り時間 : %.2f\", 12-$1/60/60)}'"
      ]
    },
    {
      "cell_type": "code",
      "execution_count": null,
      "metadata": {
        "id": "DIVXZQNXolHB"
      },
      "outputs": [],
      "source": [
        "import tensorflow as tf\n",
        "import os\n",
        "import cv2\n",
        "import numpy as np\n",
        "import matplotlib.pyplot as plt\n",
        "from tensorflow import keras\n",
        "from tensorflow.keras import layers\n",
        "from keras.models import Sequential\n",
        "from keras.layers import Dense,Dropout,Activation,Flatten\n",
        "from sklearn.utils import shuffle\n",
        "from tensorflow.keras.optimizers import SGD\n",
        "import tensorflow_hub as hub\n",
        "from tensorflow.keras.callbacks import ModelCheckpoint\n",
        "from tensorflow.keras.preprocessing.image import ImageDataGenerator\n",
        "!pip install tensorflow-addons\n",
        "import tensorflow_addons as tfa\n",
        "from tensorflow.keras.models import Model\n",
        "from sklearn.metrics import accuracy_score\n",
        "import glob\n",
        "#select tensorflow's version\n",
        "%tensorflow_version 2.x"
      ]
    },
    {
      "cell_type": "code",
      "execution_count": null,
      "metadata": {
        "id": "bvClfecYos9i"
      },
      "outputs": [],
      "source": [
        "#形状設定\n",
        "IMAGE_SHAPE=(224,224)\n",
        "\n",
        "#リアルタイムにデータ拡張しながら，テンソル画像データのバッチを生成する。(1/255 メモリ消費の削減)\n",
        "image_generator=ImageDataGenerator(\n",
        "    rescale=1./255,\n",
        "    validation_split=0.3\n",
        "    )"
      ]
    },
    {
      "cell_type": "code",
      "execution_count": null,
      "metadata": {
        "id": "Zce07hR94Ufr"
      },
      "outputs": [],
      "source": [
        "# HDF5フォーマットでモデルを保存するために必要\n",
        "!pip install -q pyyaml h5py  "
      ]
    },
    {
      "cell_type": "code",
      "execution_count": null,
      "metadata": {
        "id": "GIQVT06K4YCO"
      },
      "outputs": [],
      "source": [
        "#各データセットのディレクトリを選択し、全画像をリサイズする。\n",
        "#ディレクトリへのバスを受け取り、拡張・正規化したデータバッチを生成する。\n",
        "batch_size=32\n",
        "\n",
        "train_generator = image_generator.flow_from_directory(\n",
        "    '/content/drive/MyDrive/data/train',\n",
        "    target_size=(224, 224),\n",
        "    #class_mode='binary',\n",
        "    batch_size=batch_size,\n",
        "    subset='training',\n",
        ")\n",
        "\n",
        "val_generator = image_generator.flow_from_directory(\n",
        "    '/content/drive/MyDrive/data/train',\n",
        "    target_size=(224, 224),\n",
        "    #class_mode='binary',\n",
        "    batch_size=batch_size,\n",
        "    subset='validation'\n",
        ")"
      ]
    },
    {
      "cell_type": "code",
      "execution_count": null,
      "metadata": {
        "id": "K3ZIpVmaounj"
      },
      "outputs": [],
      "source": [
        "#各データセットのディレクトリを選択し、全画像をリサイズする。\n",
        "#ディレクトリへのバスを受け取り、拡張・正規化したデータバッチを生成する。\n",
        "#train_data=image_generator.flow_from_directory('/content/drive/MyDrive/data/train',target_size=IMAGE_SHAPE)\n",
        "test_data=image_generator.flow_from_directory('/content/drive/MyDrive/data/test',target_size=IMAGE_SHAPE)\n",
        "gizi_data=image_generator.flow_from_directory('/content/drive/MyDrive/data/train',target_size=IMAGE_SHAPE)\n",
        "val_data=image_generator.flow_from_directory('/content/drive/MyDrive/data/val',target_size=IMAGE_SHAPE)"
      ]
    },
    {
      "cell_type": "code",
      "execution_count": null,
      "metadata": {
        "id": "-OrDzGSDovq9"
      },
      "outputs": [],
      "source": [
        "#各データセットの画像バッチ形状と、ラベルのバッチ形状を表示する\n",
        "#擬似データはラベル付けない\n",
        "for image_train_batch,label_train_batch in train_generator:\n",
        "  print(\"Image batch shape:\",image_train_batch.shape)\n",
        "  print(\"Label batch shape:\",label_train_batch.shape)\n",
        "  break\n",
        "\n",
        "for image_train_batch,label_train_batch in train_generator:\n",
        "  print(\"Image batch shape:\",image_train_batch.shape)\n",
        "  print(\"Label batch shape:\",label_train_batch.shape)\n",
        "  break\n",
        "\n",
        "for image_val_batch,label_val_batch in val_data:\n",
        "  print(\"Image batch shape:\",image_val_batch.shape)\n",
        "  print(\"Label batch shape:\",label_val_batch.shape)\n",
        "  break\n",
        "\n",
        "for image_test_batch,label_test_batch in test_data:\n",
        "  print(\"Image batch shape:\",image_test_batch.shape)\n",
        "  print(\"Label batch shape:\",label_test_batch.shape)\n",
        "  break"
      ]
    },
    {
      "cell_type": "code",
      "execution_count": null,
      "metadata": {
        "id": "UPgeTIw2pf6o"
      },
      "outputs": [],
      "source": [
        "#モデル設定\n",
        "MODEL_DIR='/content/drive/MyDrive/result11'\n",
        "if not os.path.exists(MODEL_DIR):\n",
        "  os.makedirs(MODEL_DIR)\n",
        "\n",
        "checkpoint=tf.keras.callbacks.ModelCheckpoint(filepath=os.path.join(MODEL_DIR,\"model-{epoch:02d}.h5\"),\n",
        "                                              monitor='val_loss',\n",
        "                                              mode='min',\n",
        "                                              save_weights_only=True,\n",
        "                                              verbose=1\n",
        "                                              )\n",
        "#filepath:モデルファイルを保存する場所を選択\n",
        "#monitor:監視するメトリック名\n",
        "#mode:ファイルを上書きするかどうか\n",
        "#save_weights_only:モデルのウェイトのみを保存する\n",
        "#verbose:1、冗長モード                                             "
      ]
    },
    {
      "cell_type": "code",
      "execution_count": null,
      "metadata": {
        "id": "QXIeqEhTCj5A"
      },
      "outputs": [],
      "source": [
        "checkpoint1=tf.keras.callbacks.ModelCheckpoint(filepath=os.path.join(MODEL_DIR,\"model01-{epoch:02d}.h5\"),\n",
        "                                              monitor='val_loss',\n",
        "                                              mode='min',\n",
        "                                              save_weights_only=True,\n",
        "                                              verbose=1\n",
        "                                              )"
      ]
    },
    {
      "cell_type": "code",
      "execution_count": null,
      "metadata": {
        "id": "0_Ww4iCvCkZC"
      },
      "outputs": [],
      "source": [
        "checkpoint2=tf.keras.callbacks.ModelCheckpoint(filepath=os.path.join(MODEL_DIR,\"model02-{epoch:02d}.h5\"),\n",
        "                                              monitor='val_loss',\n",
        "                                              mode='min',\n",
        "                                              save_weights_only=True,\n",
        "                                              verbose=1\n",
        "                                              )"
      ]
    },
    {
      "cell_type": "code",
      "execution_count": null,
      "metadata": {
        "id": "22CqXB5kCkzV"
      },
      "outputs": [],
      "source": [
        "checkpoint3=tf.keras.callbacks.ModelCheckpoint(filepath=os.path.join(MODEL_DIR,\"model03-{epoch:02d}.h5\"),\n",
        "                                              monitor='val_loss',\n",
        "                                              mode='min',\n",
        "                                              save_weights_only=True,\n",
        "                                              verbose=1\n",
        "                                              )"
      ]
    },
    {
      "cell_type": "code",
      "execution_count": null,
      "metadata": {
        "id": "bRdlrRenphMd"
      },
      "outputs": [],
      "source": [
        "#訓練プロセスの可視化\n",
        "#カスタムコールバックを作成して、すべてのエポックでのトレーニングの進行状況を視覚化します\n",
        "class CollectBatchStats(tf.keras.callbacks.Callback):\n",
        "  def __init__(self):\n",
        "    self.batch_losses=[]\n",
        "    self.batch_acc=[]\n",
        "    \n",
        "  def on_train_batch_end(self,batch,logs=1e-12):\n",
        "    self.batch_losses.append(logs['loss'])\n",
        "    self.batch_acc.append(logs['acc'])\n",
        "    self.model.reset_metrics()"
      ]
    },
    {
      "cell_type": "code",
      "execution_count": null,
      "metadata": {
        "id": "1F0LHIN3ow_E"
      },
      "outputs": [],
      "source": [
        "#使用するモデルの選択（特徴抽出器/分類器）_ efficientnetv2\n",
        "feature_extractor_url=\"https://tfhub.dev/google/imagenet/efficientnet_v2_imagenet21k_xl/feature_vector/2\"\n",
        "\n",
        "#入力画像サイズを決定する(モデルに適したサイズを設定)\n",
        "feature_extractor_layer=hub.KerasLayer(feature_extractor_url,input_shape=(512,512,3))\n",
        "\n",
        "#学習済み重みを固定する\n",
        "feature_extractor_layer.trainable=False\n",
        "\n",
        "#上位の分類層を接合する\n",
        "ebc1=Sequential([feature_extractor_layer,layers.Dense(train_generator.num_classes,activation='softmax')])\n",
        "\n",
        "#モデルの概要を確認する\n",
        "ebc1.summary()\n",
        "\n",
        "ebc1.compile(optimizer=tf.keras.optimizers.Adam(),\n",
        "              loss='categorical_crossentropy',\n",
        "              metrics=['acc'])"
      ]
    },
    {
      "cell_type": "code",
      "execution_count": null,
      "metadata": {
        "id": "hxJIuI4EoyHN"
      },
      "outputs": [],
      "source": [
        "#使用するモデルの選択（特徴抽出器/分類器）_ efficientnetb1\n",
        "feature_extractor_url_b1=\"https://tfhub.dev/google/efficientnet/b1/feature-vector/1\"\n",
        "\n",
        "#入力画像サイズを決定する(モデルに適したサイズを設定)\n",
        "feature_extractor_layer_b1=hub.KerasLayer(feature_extractor_url_b1,input_shape=(512,512,3))\n",
        "\n",
        "#学習済み重みを固定する\n",
        "feature_extractor_layer_b1.trainable=False\n",
        "\n",
        "#上位の分類層を接合する\n",
        "ebc2=Sequential([feature_extractor_layer_b1,layers.Dense(train_generator.num_classes,activation='softmax')])\n",
        "\n",
        "#モデルの概要を確認する\n",
        "ebc2.summary()\n",
        "\n",
        "ebc2.compile(optimizer=tf.keras.optimizers.Adam(),\n",
        "              loss='categorical_crossentropy',\n",
        "              metrics=['acc'])"
      ]
    },
    {
      "cell_type": "code",
      "execution_count": null,
      "metadata": {
        "id": "QzQ38ggvozNg"
      },
      "outputs": [],
      "source": [
        "#使用するモデルの選択（特徴抽出器/分類器）_ efficientnetb2\n",
        "feature_extractor_url_b2=\"https://tfhub.dev/google/efficientnet/b2/feature-vector/1\"\n",
        "\n",
        "#入力画像サイズを決定する(モデルに適したサイズを設定)\n",
        "feature_extractor_layer_b2=hub.KerasLayer(feature_extractor_url_b2,input_shape=(512,512,3))\n",
        "\n",
        "#学習済み重みを固定する\n",
        "feature_extractor_layer_b2.trainable=False\n",
        "\n",
        "#上位の分類層を接合する\n",
        "ebc3=Sequential([feature_extractor_layer_b2,layers.Dense(train_generator.num_classes,activation='softmax')])\n",
        "\n",
        "#モデルの概要を確認する\n",
        "ebc3.summary()\n",
        "\n",
        "ebc3.compile(optimizer=tf.keras.optimizers.Adam(),\n",
        "              loss='categorical_crossentropy',\n",
        "              metrics=['acc'])"
      ]
    },
    {
      "cell_type": "code",
      "execution_count": null,
      "metadata": {
        "id": "BdJfbdK8W35b"
      },
      "outputs": [],
      "source": [
        "batch_stats_callback=CollectBatchStats()\n",
        "batch_size=32\n",
        "epochz=3\n",
        "epoch=15\n",
        "#steps_per_epoch\n",
        "s_p_e=np.ceil(train_generator.samples/batch_size)"
      ]
    },
    {
      "cell_type": "code",
      "execution_count": null,
      "metadata": {
        "id": "v2yrMUCeCHl6"
      },
      "outputs": [],
      "source": []
    },
    {
      "cell_type": "code",
      "execution_count": null,
      "metadata": {
        "id": "fLpHL08jCHa8"
      },
      "outputs": [],
      "source": []
    },
    {
      "cell_type": "code",
      "execution_count": null,
      "metadata": {
        "id": "C3je8e7Tqyry"
      },
      "outputs": [],
      "source": []
    },
    {
      "cell_type": "code",
      "execution_count": null,
      "metadata": {
        "id": "0mDfTI1U93k4"
      },
      "outputs": [],
      "source": []
    },
    {
      "cell_type": "markdown",
      "metadata": {
        "id": "NTrXHXfPqzJe"
      },
      "source": [
        "model1"
      ]
    },
    {
      "cell_type": "code",
      "execution_count": null,
      "metadata": {
        "id": "IyPSUnmW5NEw"
      },
      "outputs": [],
      "source": [
        "ebc1.fit(train_generator,\n",
        "         epochs=epochz,\n",
        "         steps_per_epoch=s_p_e,\n",
        "         #validation_data=val_generator,\n",
        "         callbacks=[batch_stats_callback],\n",
        "         )"
      ]
    },
    {
      "cell_type": "code",
      "execution_count": null,
      "metadata": {
        "id": "dgEDuSXa6eco"
      },
      "outputs": [],
      "source": [
        "ebc1.fit(train_generator,\n",
        "         epochs=epochz,\n",
        "         steps_per_epoch=s_p_e,\n",
        "         #validation_data=val_generator,\n",
        "         callbacks=[batch_stats_callback],\n",
        "         )"
      ]
    },
    {
      "cell_type": "code",
      "execution_count": null,
      "metadata": {
        "colab": {
          "background_save": true
        },
        "id": "SDPG3Blo6eOj"
      },
      "outputs": [],
      "source": [
        "ebc1.fit(train_generator,\n",
        "         epochs=epochz,\n",
        "         steps_per_epoch=s_p_e,\n",
        "         #validation_data=val_generator,\n",
        "         callbacks=[batch_stats_callback],\n",
        "         )"
      ]
    },
    {
      "cell_type": "code",
      "execution_count": null,
      "metadata": {
        "id": "G6wPjrZZ6eEI"
      },
      "outputs": [],
      "source": [
        "ebc1.fit(train_generator,\n",
        "         epochs=epochz,\n",
        "         steps_per_epoch=s_p_e,\n",
        "         #validation_data=val_generator,\n",
        "         callbacks=[batch_stats_callback],\n",
        "         )"
      ]
    },
    {
      "cell_type": "code",
      "execution_count": null,
      "metadata": {
        "id": "b0t3v5gc6d3I"
      },
      "outputs": [],
      "source": [
        "ebc1.fit(train_generator,\n",
        "         epochs=epochz,\n",
        "         steps_per_epoch=s_p_e,\n",
        "         #validation_data=val_generator,\n",
        "         callbacks=[batch_stats_callback],\n",
        "         )"
      ]
    },
    {
      "cell_type": "markdown",
      "metadata": {
        "id": "TksWwnETUNlo"
      },
      "source": [
        "教師モデル学習"
      ]
    },
    {
      "cell_type": "markdown",
      "metadata": {
        "id": "WPpPH-eB8Etr"
      },
      "source": [
        "mark"
      ]
    },
    {
      "cell_type": "code",
      "execution_count": null,
      "metadata": {
        "id": "OiAchV3f5bT9"
      },
      "outputs": [],
      "source": [
        "#上位分類層を接合\n",
        "ebc1=Sequential([feature_extractor_layer,\n",
        "                           layers.Dense(train_generator.num_classes,activation='softmax')])\n",
        "\n",
        "ebc1.summary()\n",
        "\n",
        "ebc1.compile(optimizer=tf.keras.optimizers.Adam(),\n",
        "              loss='categorical_crossentropy',\n",
        "              metrics=['acc'])"
      ]
    },
    {
      "cell_type": "code",
      "execution_count": null,
      "metadata": {
        "id": "oYMAPr_wpPn_"
      },
      "outputs": [],
      "source": [
        "ebc1.fit(train_generator,\n",
        "         epochs=epochz,\n",
        "         steps_per_epoch=s_p_e,\n",
        "         validation_data=val_generator,\n",
        "         callbacks=[checkpoint1,batch_stats_callback],\n",
        "         )"
      ]
    },
    {
      "cell_type": "code",
      "execution_count": null,
      "metadata": {
        "id": "UKPI79PE8Nvk"
      },
      "outputs": [],
      "source": [
        "ebc1.fit(train_generator,\n",
        "         epochs=epochz,\n",
        "         steps_per_epoch=s_p_e,\n",
        "         validation_data=val_generator,\n",
        "         callbacks=[checkpoint1,batch_stats_callback],\n",
        "         )"
      ]
    },
    {
      "cell_type": "code",
      "execution_count": null,
      "metadata": {
        "id": "enm2ezLW8NjT"
      },
      "outputs": [],
      "source": [
        "ebc1.fit(train_generator,\n",
        "         epochs=epochz,\n",
        "         steps_per_epoch=s_p_e,\n",
        "         validation_data=val_generator,\n",
        "         callbacks=[checkpoint1,batch_stats_callback],\n",
        "         )"
      ]
    },
    {
      "cell_type": "code",
      "execution_count": null,
      "metadata": {
        "id": "Hz6e2Xj_8NI_"
      },
      "outputs": [],
      "source": [
        "ebc1.fit(train_generator,\n",
        "         epochs=epochz,\n",
        "         steps_per_epoch=s_p_e,\n",
        "         validation_data=val_generator,\n",
        "         callbacks=[checkpoint1,batch_stats_callback],\n",
        "         )"
      ]
    },
    {
      "cell_type": "code",
      "execution_count": null,
      "metadata": {
        "id": "rjQ1VHzPaxWN"
      },
      "outputs": [],
      "source": [
        "ebc1.fit(train_generator,\n",
        "         epochs=epochz,\n",
        "         steps_per_epoch=s_p_e,\n",
        "         validation_data=val_generator,\n",
        "         callbacks=[checkpoint1,batch_stats_callback],\n",
        "         )"
      ]
    },
    {
      "cell_type": "markdown",
      "metadata": {
        "id": "SygNTYBk8Ppr"
      },
      "source": [
        "mark"
      ]
    },
    {
      "cell_type": "code",
      "execution_count": null,
      "metadata": {
        "id": "xCg_kIo-Nkn3"
      },
      "outputs": [],
      "source": [
        "#上位分類層を接合\n",
        "ebc1=Sequential([feature_extractor_layer,\n",
        "                           layers.Dense(train_generator.num_classes,activation='softmax')])\n",
        "\n",
        "ebc1.summary()\n",
        "\n",
        "ebc1.compile(optimizer=tf.keras.optimizers.Adam(),\n",
        "              loss='categorical_crossentropy',\n",
        "              metrics=['acc'])\n",
        "\n"
      ]
    },
    {
      "cell_type": "code",
      "execution_count": null,
      "metadata": {
        "id": "WKL-CQd7sshd"
      },
      "outputs": [],
      "source": [
        "#擬似ラベル作成\n",
        "history=ebc1.fit(train_generator,\n",
        "                  epochs=epochz,\n",
        "                  steps_per_epoch=s_p_e,\n",
        "                  validation_data=gizi_data,\n",
        "                  callbacks=[checkpoint1,batch_stats_callback]\n",
        "                  )"
      ]
    },
    {
      "cell_type": "code",
      "execution_count": null,
      "metadata": {
        "id": "vEhTYIUU8SBP"
      },
      "outputs": [],
      "source": [
        "history=ebc1.fit(train_generator,\n",
        "                  epochs=epochz,\n",
        "                  steps_per_epoch=s_p_e,\n",
        "                  validation_data=gizi_data,\n",
        "                  callbacks=[checkpoint1,batch_stats_callback]\n",
        "                  )"
      ]
    },
    {
      "cell_type": "code",
      "execution_count": null,
      "metadata": {
        "id": "742qbulr8R1Q"
      },
      "outputs": [],
      "source": [
        "history=ebc1.fit(train_generator,\n",
        "                  epochs=epochz,\n",
        "                  steps_per_epoch=s_p_e,\n",
        "                  validation_data=gizi_data,\n",
        "                  callbacks=[checkpoint1,batch_stats_callback]\n",
        "                  )"
      ]
    },
    {
      "cell_type": "code",
      "execution_count": null,
      "metadata": {
        "id": "E7hQFDFC8Rog"
      },
      "outputs": [],
      "source": [
        "history=ebc1.fit(train_generator,\n",
        "                  epochs=epochz,\n",
        "                  steps_per_epoch=s_p_e,\n",
        "                  validation_data=gizi_data,\n",
        "                  callbacks=[checkpoint1,batch_stats_callback]\n",
        "                  )"
      ]
    },
    {
      "cell_type": "code",
      "execution_count": null,
      "metadata": {
        "id": "QGbC02288Rcx"
      },
      "outputs": [],
      "source": [
        "history=ebc1.fit(train_generator,\n",
        "                  epochs=epochz,\n",
        "                  steps_per_epoch=s_p_e,\n",
        "                  validation_data=gizi_data,\n",
        "                  callbacks=[checkpoint1,batch_stats_callback]\n",
        "                  )"
      ]
    },
    {
      "cell_type": "code",
      "execution_count": null,
      "metadata": {
        "id": "7Pj9bX04OEBi"
      },
      "outputs": [],
      "source": [
        "#疑似ラベルの予測\n",
        "gizi_label1=ebc1.predict(gizi_data)"
      ]
    },
    {
      "cell_type": "markdown",
      "metadata": {
        "id": "QJlPPHp58T3_"
      },
      "source": [
        "mark"
      ]
    },
    {
      "cell_type": "code",
      "execution_count": null,
      "metadata": {
        "id": "kouowLzUOFP4"
      },
      "outputs": [],
      "source": [
        "feature_extractor_layer.trainable=False\n",
        "#入力画像ノイズ(rand augmentation)の設定\n",
        "data_augmentation=Sequential([layers.RandomRotation(2.10)])\n",
        "#モデルノイズ（stochastic depth）の設定\n",
        "stochastic_Depth=Sequential([tfa.layers.StochasticDepth(0.35)])\n",
        "\n",
        "#モデルにrand augmentationを適用\n",
        "model1=Sequential([data_augmentation])\n",
        "#モデルにstochastic depthを適用\n",
        "model1=Sequential([stochastic_Depth])\n",
        "\n",
        "#モデルノイズ（dropout）の設定と適用\n",
        "model1=Sequential([feature_extractor_layer,\n",
        "                           layers.Dense(train_generator.num_classes,activation='softmax'),\n",
        "                           #layers.Dropout(0.2)\n",
        "                           \n",
        "                  ])"
      ]
    },
    {
      "cell_type": "markdown",
      "metadata": {
        "id": "qnEfQ0Jt8XXq"
      },
      "source": [
        "mark"
      ]
    },
    {
      "cell_type": "code",
      "execution_count": null,
      "metadata": {
        "id": "byBJbPE9OWq_"
      },
      "outputs": [],
      "source": [
        "#model1\n",
        "model1.compile(optimizer=tf.keras.optimizers.Adam(),\n",
        "              loss='categorical_crossentropy',\n",
        "              metrics=['acc'])\n",
        "model1.summary()\n"
      ]
    },
    {
      "cell_type": "code",
      "execution_count": null,
      "metadata": {
        "id": "ZIdU673iOaU2"
      },
      "outputs": [],
      "source": [
        "#model1\n",
        "history=model1.fit(gizi_data,\n",
        "                  epochs=epochz,\n",
        "                  steps_per_epoch=np.ceil(gizi_data.samples/batch_size),\n",
        "                  validation_data=val_generator,\n",
        "                  callbacks=[checkpoint1,batch_stats_callback]\n",
        "                  )"
      ]
    },
    {
      "cell_type": "code",
      "execution_count": null,
      "metadata": {
        "id": "hoWojoFE8a8V"
      },
      "outputs": [],
      "source": [
        "history=model1.fit(gizi_data,\n",
        "                  epochs=epochz,\n",
        "                  steps_per_epoch=np.ceil(gizi_data.samples/batch_size),\n",
        "                  validation_data=val_generator,\n",
        "                  callbacks=[checkpoint1,batch_stats_callback]\n",
        "                  )"
      ]
    },
    {
      "cell_type": "code",
      "execution_count": null,
      "metadata": {
        "id": "eIRGqYqo8avj"
      },
      "outputs": [],
      "source": [
        "history=model1.fit(gizi_data,\n",
        "                  epochs=epochz,\n",
        "                  steps_per_epoch=np.ceil(gizi_data.samples/batch_size),\n",
        "                  validation_data=val_generator,\n",
        "                  callbacks=[checkpoint1,batch_stats_callback]\n",
        "                  )"
      ]
    },
    {
      "cell_type": "code",
      "execution_count": null,
      "metadata": {
        "id": "FqqC4jmz8aiB"
      },
      "outputs": [],
      "source": [
        "history=model1.fit(gizi_data,\n",
        "                  epochs=epochz,\n",
        "                  steps_per_epoch=np.ceil(gizi_data.samples/batch_size),\n",
        "                  validation_data=val_generator,\n",
        "                  callbacks=[checkpoint1,batch_stats_callback]\n",
        "                  )"
      ]
    },
    {
      "cell_type": "code",
      "execution_count": null,
      "metadata": {
        "id": "uQKmMK9B8aPR"
      },
      "outputs": [],
      "source": [
        "history=model1.fit(gizi_data,\n",
        "                  epochs=epochz,\n",
        "                  steps_per_epoch=np.ceil(gizi_data.samples/batch_size),\n",
        "                  validation_data=val_generator,\n",
        "                  callbacks=[checkpoint1,batch_stats_callback]\n",
        "                  )"
      ]
    },
    {
      "cell_type": "markdown",
      "metadata": {
        "id": "1wh8HdG_4BNY"
      },
      "source": [
        "1"
      ]
    },
    {
      "cell_type": "code",
      "execution_count": null,
      "metadata": {
        "id": "4WWrbzGdrZQR"
      },
      "outputs": [],
      "source": [
        "history=model1.fit(train_generator,\n",
        "                   epochs=epochz,\n",
        "                   steps_per_epoch=s_p_e,\n",
        "                   validation_data=val_generator,\n",
        "                   callbacks=[checkpoint1,batch_stats_callback]\n",
        "                   )"
      ]
    },
    {
      "cell_type": "code",
      "execution_count": null,
      "metadata": {
        "id": "KKyXb2fu8dnr"
      },
      "outputs": [],
      "source": [
        "history=model1.fit(train_generator,\n",
        "                   epochs=epochz,\n",
        "                   steps_per_epoch=s_p_e,\n",
        "                   validation_data=val_generator,\n",
        "                   callbacks=[checkpoint1,batch_stats_callback]\n",
        "                   )"
      ]
    },
    {
      "cell_type": "code",
      "execution_count": null,
      "metadata": {
        "id": "av59Bvyp8dbc"
      },
      "outputs": [],
      "source": [
        "history=model1.fit(train_generator,\n",
        "                   epochs=epochz,\n",
        "                   steps_per_epoch=s_p_e,\n",
        "                   validation_data=val_generator,\n",
        "                   callbacks=[checkpoint1,batch_stats_callback]\n",
        "                   )"
      ]
    },
    {
      "cell_type": "code",
      "execution_count": null,
      "metadata": {
        "id": "pasZYZTi8dPM"
      },
      "outputs": [],
      "source": [
        "history=model1.fit(train_generator,\n",
        "                   epochs=epochz,\n",
        "                   steps_per_epoch=s_p_e,\n",
        "                   validation_data=val_generator,\n",
        "                   callbacks=[checkpoint1,batch_stats_callback]\n",
        "                   )"
      ]
    },
    {
      "cell_type": "code",
      "execution_count": null,
      "metadata": {
        "id": "yJ9RKIa28dD_"
      },
      "outputs": [],
      "source": [
        "history=model1.fit(train_generator,\n",
        "                   epochs=epochz,\n",
        "                   steps_per_epoch=s_p_e,\n",
        "                   validation_data=val_generator,\n",
        "                   callbacks=[checkpoint1,batch_stats_callback]\n",
        "                   )"
      ]
    },
    {
      "cell_type": "code",
      "execution_count": null,
      "metadata": {
        "id": "ckOn-cbrOkLK"
      },
      "outputs": [],
      "source": [
        "# HDF5フォーマットでモデルを保存するために必要\n",
        "!pip install -q pyyaml h5py  "
      ]
    },
    {
      "cell_type": "code",
      "execution_count": null,
      "metadata": {
        "id": "RekH5DbcOgl0"
      },
      "outputs": [],
      "source": [
        "model1.save('/content/drive/MyDrive/result11/model1.h5/')"
      ]
    },
    {
      "cell_type": "code",
      "execution_count": null,
      "metadata": {
        "id": "Ptdqut3-Zhe3"
      },
      "outputs": [],
      "source": []
    },
    {
      "cell_type": "markdown",
      "metadata": {
        "id": "v9USPnLMOIY8"
      },
      "source": [
        "model2"
      ]
    },
    {
      "cell_type": "code",
      "execution_count": null,
      "metadata": {
        "id": "JjdlcbD3pSVa"
      },
      "outputs": [],
      "source": [
        "ebc2.fit(train_generator,\n",
        "         epochs=epochz,\n",
        "         steps_per_epoch=s_p_e,\n",
        "         #validation_data=val_generator,\n",
        "         callbacks=[batch_stats_callback],\n",
        "         )"
      ]
    },
    {
      "cell_type": "code",
      "execution_count": null,
      "metadata": {
        "id": "ChFejgeyxm23"
      },
      "outputs": [],
      "source": [
        "ebc2.fit(train_generator,\n",
        "         epochs=epochz,\n",
        "         steps_per_epoch=s_p_e,\n",
        "         #validation_data=val_generator,\n",
        "         callbacks=[batch_stats_callback],\n",
        "         )"
      ]
    },
    {
      "cell_type": "code",
      "execution_count": null,
      "metadata": {
        "id": "53C_lx2oxmss"
      },
      "outputs": [],
      "source": [
        "ebc2.fit(train_generator,\n",
        "         epochs=epochz,\n",
        "         steps_per_epoch=s_p_e,\n",
        "         #validation_data=val_generator,\n",
        "         callbacks=[batch_stats_callback],\n",
        "         )"
      ]
    },
    {
      "cell_type": "code",
      "execution_count": null,
      "metadata": {
        "id": "QddWiSj2xmjX"
      },
      "outputs": [],
      "source": [
        "ebc2.fit(train_generator,\n",
        "         epochs=epochz,\n",
        "         steps_per_epoch=s_p_e,\n",
        "         #validation_data=val_generator,\n",
        "         callbacks=[batch_stats_callback],\n",
        "         )"
      ]
    },
    {
      "cell_type": "code",
      "execution_count": null,
      "metadata": {
        "id": "MItTpbOgxmYI"
      },
      "outputs": [],
      "source": [
        "ebc2.fit(train_generator,\n",
        "         epochs=epochz,\n",
        "         steps_per_epoch=s_p_e,\n",
        "         #validation_data=val_generator,\n",
        "         callbacks=[batch_stats_callback],\n",
        "         )"
      ]
    },
    {
      "cell_type": "markdown",
      "metadata": {
        "id": "KXngMj2A6x20"
      },
      "source": [
        "教師モデル学習"
      ]
    },
    {
      "cell_type": "markdown",
      "metadata": {
        "id": "wUX7Z8Ot9POp"
      },
      "source": [
        "mark"
      ]
    },
    {
      "cell_type": "code",
      "execution_count": null,
      "metadata": {
        "id": "y1XNehJENlRQ"
      },
      "outputs": [],
      "source": [
        "#上位分類層を接合\n",
        "ebc2=Sequential([feature_extractor_layer,\n",
        "                           layers.Dense(train_generator.num_classes,activation='softmax')])\n",
        "\n",
        "ebc2.summary()\n",
        "\n",
        "ebc2.compile(optimizer=tf.keras.optimizers.Adam(),\n",
        "              loss='categorical_crossentropy',\n",
        "              metrics=['acc'])"
      ]
    },
    {
      "cell_type": "code",
      "execution_count": null,
      "metadata": {
        "id": "zp5Gkdim6ope"
      },
      "outputs": [],
      "source": [
        "ebc2.fit(train_generator,\n",
        "         epochs=epochz,\n",
        "         steps_per_epoch=s_p_e,\n",
        "         validation_data=val_generator,\n",
        "         callbacks=[batch_stats_callback,checkpoint2],\n",
        "         )"
      ]
    },
    {
      "cell_type": "code",
      "execution_count": null,
      "metadata": {
        "id": "65wwvpF89Ro2"
      },
      "outputs": [],
      "source": [
        "ebc2.fit(train_generator,\n",
        "         epochs=epochz,\n",
        "         steps_per_epoch=s_p_e,\n",
        "         validation_data=val_generator,\n",
        "         callbacks=[batch_stats_callback,checkpoint2],\n",
        "         )"
      ]
    },
    {
      "cell_type": "code",
      "execution_count": null,
      "metadata": {
        "id": "J4a_GT6i9RbE"
      },
      "outputs": [],
      "source": [
        "ebc2.fit(train_generator,\n",
        "         epochs=epochz,\n",
        "         steps_per_epoch=s_p_e,\n",
        "         validation_data=val_generator,\n",
        "         callbacks=[batch_stats_callback,checkpoint2],\n",
        "         )"
      ]
    },
    {
      "cell_type": "code",
      "execution_count": null,
      "metadata": {
        "id": "KL4Jzveh9RNP"
      },
      "outputs": [],
      "source": [
        "ebc2.fit(train_generator,\n",
        "         epochs=epochz,\n",
        "         steps_per_epoch=s_p_e,\n",
        "         validation_data=val_generator,\n",
        "         callbacks=[batch_stats_callback,checkpoint2],\n",
        "         )"
      ]
    },
    {
      "cell_type": "code",
      "execution_count": null,
      "metadata": {
        "id": "wBsv6F0h9Q6P"
      },
      "outputs": [],
      "source": [
        "ebc2.fit(train_generator,\n",
        "         epochs=epochz,\n",
        "         steps_per_epoch=s_p_e,\n",
        "         validation_data=val_generator,\n",
        "         callbacks=[batch_stats_callback,checkpoint2],\n",
        "         )"
      ]
    },
    {
      "cell_type": "markdown",
      "metadata": {
        "id": "Y4JrjL5V9StE"
      },
      "source": [
        "mark"
      ]
    },
    {
      "cell_type": "code",
      "execution_count": null,
      "metadata": {
        "id": "EdpxkG4E6qoi"
      },
      "outputs": [],
      "source": [
        "#上位分類層を接合\n",
        "ebc2=Sequential([feature_extractor_layer,\n",
        "                           layers.Dense(train_generator.num_classes,activation='softmax')])\n",
        "\n",
        "ebc2.summary()\n",
        "\n",
        "ebc2.compile(optimizer=tf.keras.optimizers.Adam(),\n",
        "              loss='categorical_crossentropy',\n",
        "              metrics=['acc'])"
      ]
    },
    {
      "cell_type": "code",
      "execution_count": null,
      "metadata": {
        "id": "4XMqb4oprnLb"
      },
      "outputs": [],
      "source": [
        "#擬似ラベル作成\n",
        "history=ebc2.fit(train_generator,\n",
        "                 epochs=epochz,\n",
        "                 steps_per_epoch=s_p_e,\n",
        "                 validation_data=gizi_data,\n",
        "                 callbacks=[checkpoint2,batch_stats_callback]\n",
        "                 )"
      ]
    },
    {
      "cell_type": "code",
      "execution_count": null,
      "metadata": {
        "id": "l2Wit1OL9VbC"
      },
      "outputs": [],
      "source": [
        "history=ebc2.fit(train_generator,\n",
        "                 epochs=epochz,\n",
        "                 steps_per_epoch=s_p_e,\n",
        "                 validation_data=gizi_data,\n",
        "                 callbacks=[checkpoint2,batch_stats_callback]\n",
        "                 )"
      ]
    },
    {
      "cell_type": "code",
      "execution_count": null,
      "metadata": {
        "id": "jrKBiV2w9VPE"
      },
      "outputs": [],
      "source": [
        "history=ebc2.fit(train_generator,\n",
        "                 epochs=epochz,\n",
        "                 steps_per_epoch=s_p_e,\n",
        "                 validation_data=gizi_data,\n",
        "                 callbacks=[checkpoint2,batch_stats_callback]\n",
        "                 )"
      ]
    },
    {
      "cell_type": "code",
      "execution_count": null,
      "metadata": {
        "id": "p4t4P2a-9VBA"
      },
      "outputs": [],
      "source": [
        "history=ebc2.fit(train_generator,\n",
        "                 epochs=epochz,\n",
        "                 steps_per_epoch=s_p_e,\n",
        "                 validation_data=gizi_data,\n",
        "                 callbacks=[checkpoint2,batch_stats_callback]\n",
        "                 )"
      ]
    },
    {
      "cell_type": "code",
      "execution_count": null,
      "metadata": {
        "id": "URYZvet89U1i"
      },
      "outputs": [],
      "source": [
        "history=ebc2.fit(train_generator,\n",
        "                 epochs=epochz,\n",
        "                 steps_per_epoch=s_p_e,\n",
        "                 validation_data=gizi_data,\n",
        "                 callbacks=[checkpoint2,batch_stats_callback]\n",
        "                 )"
      ]
    },
    {
      "cell_type": "code",
      "execution_count": null,
      "metadata": {
        "id": "IVmd6T5-OhOz"
      },
      "outputs": [],
      "source": [
        "gizi_label2=ebc2.predict(gizi_data)"
      ]
    },
    {
      "cell_type": "markdown",
      "metadata": {
        "id": "OdLGsOb49WbH"
      },
      "source": [
        "mark"
      ]
    },
    {
      "cell_type": "code",
      "execution_count": null,
      "metadata": {
        "id": "157xYYJjOmPW"
      },
      "outputs": [],
      "source": [
        "feature_extractor_layer.trainable=False\n",
        "#入力画像ノイズ(rand augmentation)の設定\n",
        "data_augmentation=Sequential([layers.RandomRotation(2.10)])\n",
        "#モデルノイズ（stochastic depth）の設定\n",
        "stochastic_Depth=Sequential([tfa.layers.StochasticDepth(0.35)])\n",
        "\n",
        "#モデルにrand augmentationを適用\n",
        "model2=Sequential([data_augmentation])\n",
        "#モデルにstochastic depthを適用\n",
        "model2=Sequential([stochastic_Depth])\n",
        "\n",
        "\n",
        "\n",
        "model2=Sequential([feature_extractor_layer,\n",
        "                           layers.Dense(train_generator.num_classes,activation='softmax'),\n",
        "                           #layers.Dropout(0.2)\n",
        "                  ])\n",
        "\n"
      ]
    },
    {
      "cell_type": "markdown",
      "metadata": {
        "id": "uyT37cD79Y46"
      },
      "source": [
        "mark"
      ]
    },
    {
      "cell_type": "code",
      "execution_count": null,
      "metadata": {
        "id": "ic2Mzg1JOpH_"
      },
      "outputs": [],
      "source": [
        "#model2\n",
        "model2.compile(optimizer=tf.keras.optimizers.Adam(),\n",
        "              loss='categorical_crossentropy',\n",
        "              metrics=['acc'])\n",
        "model2.summary()\n"
      ]
    },
    {
      "cell_type": "code",
      "execution_count": null,
      "metadata": {
        "id": "i8rZ1QSROqdZ"
      },
      "outputs": [],
      "source": [
        "#model2\n",
        "history=model2.fit(gizi_data,\n",
        "                   epochs=epochz,\n",
        "                   steps_per_epoch=np.ceil(gizi_data.samples/batch_size),\n",
        "                   validation_data=val_generator,\n",
        "                   callbacks=[checkpoint2,batch_stats_callback]\n",
        "                   )\n"
      ]
    },
    {
      "cell_type": "code",
      "execution_count": null,
      "metadata": {
        "id": "sQyKRrnF9bkA"
      },
      "outputs": [],
      "source": [
        "history=model2.fit(gizi_data,\n",
        "                   epochs=epochz,\n",
        "                   steps_per_epoch=np.ceil(gizi_data.samples/batch_size),\n",
        "                   validation_data=val_generator,\n",
        "                   callbacks=[checkpoint2,batch_stats_callback]\n",
        "                   )"
      ]
    },
    {
      "cell_type": "code",
      "execution_count": null,
      "metadata": {
        "id": "zjCHIb9c9bY0"
      },
      "outputs": [],
      "source": [
        "history=model2.fit(gizi_data,\n",
        "                   epochs=epochz,\n",
        "                   steps_per_epoch=np.ceil(gizi_data.samples/batch_size),\n",
        "                   validation_data=val_generator,\n",
        "                   callbacks=[checkpoint2,batch_stats_callback]\n",
        "                   )"
      ]
    },
    {
      "cell_type": "code",
      "execution_count": null,
      "metadata": {
        "id": "hMolHIeg9bLS"
      },
      "outputs": [],
      "source": [
        "history=model2.fit(gizi_data,\n",
        "                   epochs=epochz,\n",
        "                   steps_per_epoch=np.ceil(gizi_data.samples/batch_size),\n",
        "                   validation_data=val_generator,\n",
        "                   callbacks=[checkpoint2,batch_stats_callback]\n",
        "                   )"
      ]
    },
    {
      "cell_type": "code",
      "execution_count": null,
      "metadata": {
        "id": "WQLAg8Ri9a_S"
      },
      "outputs": [],
      "source": [
        "history=model2.fit(gizi_data,\n",
        "                   epochs=epochz,\n",
        "                   steps_per_epoch=np.ceil(gizi_data.samples/batch_size),\n",
        "                   validation_data=val_generator,\n",
        "                   callbacks=[checkpoint2,batch_stats_callback]\n",
        "                   )"
      ]
    },
    {
      "cell_type": "markdown",
      "metadata": {
        "id": "wO-pyy-B4a5J"
      },
      "source": [
        "2"
      ]
    },
    {
      "cell_type": "code",
      "execution_count": null,
      "metadata": {
        "id": "oTaVja0nro8c"
      },
      "outputs": [],
      "source": [
        "history=model2.fit(train_generator,\n",
        "                   epochs=epochz,\n",
        "                   steps_per_epoch=s_p_e,\n",
        "                   validation_data=val_generator,\n",
        "                   callbacks=[checkpoint2,batch_stats_callback]\n",
        "                   )"
      ]
    },
    {
      "cell_type": "code",
      "execution_count": null,
      "metadata": {
        "id": "rk5kn5YL9d2G"
      },
      "outputs": [],
      "source": [
        "history=model2.fit(train_generator,\n",
        "                   epochs=epochz,\n",
        "                   steps_per_epoch=s_p_e,\n",
        "                   validation_data=val_generator,\n",
        "                   callbacks=[checkpoint2,batch_stats_callback]\n",
        "                   )"
      ]
    },
    {
      "cell_type": "code",
      "execution_count": null,
      "metadata": {
        "id": "AlrI-bw49doF"
      },
      "outputs": [],
      "source": [
        "history=model2.fit(train_generator,\n",
        "                   epochs=epochz,\n",
        "                   steps_per_epoch=s_p_e,\n",
        "                   validation_data=val_generator,\n",
        "                   callbacks=[checkpoint2,batch_stats_callback]\n",
        "                   )"
      ]
    },
    {
      "cell_type": "code",
      "execution_count": null,
      "metadata": {
        "id": "zXzvu6Xd9dcE"
      },
      "outputs": [],
      "source": [
        "history=model2.fit(train_generator,\n",
        "                   epochs=epochz,\n",
        "                   steps_per_epoch=s_p_e,\n",
        "                   validation_data=val_generator,\n",
        "                   callbacks=[checkpoint2,batch_stats_callback]\n",
        "                   )"
      ]
    },
    {
      "cell_type": "code",
      "execution_count": null,
      "metadata": {
        "id": "94wx39C09dNe"
      },
      "outputs": [],
      "source": [
        "history=model2.fit(train_generator,\n",
        "                   epochs=epochz,\n",
        "                   steps_per_epoch=s_p_e,\n",
        "                   validation_data=val_generator,\n",
        "                   callbacks=[checkpoint2,batch_stats_callback]\n",
        "                   )"
      ]
    },
    {
      "cell_type": "code",
      "execution_count": null,
      "metadata": {
        "id": "WkeRE4nBOdql"
      },
      "outputs": [],
      "source": [
        "model2.save('/content/drive/MyDrive/result11/model2.h5/')"
      ]
    },
    {
      "cell_type": "markdown",
      "metadata": {
        "id": "PKvI-i08OQPz"
      },
      "source": [
        "model3"
      ]
    },
    {
      "cell_type": "code",
      "execution_count": null,
      "metadata": {
        "id": "5pHbUKKVpU4u"
      },
      "outputs": [],
      "source": [
        "ebc3.fit(train_generator,\n",
        "         epochs=epochz,\n",
        "         steps_per_epoch=s_p_e,\n",
        "         #validation_data=val_generator,\n",
        "         callbacks=[batch_stats_callback],\n",
        "         )"
      ]
    },
    {
      "cell_type": "code",
      "execution_count": null,
      "metadata": {
        "id": "ABP_ZLADxsHE"
      },
      "outputs": [],
      "source": [
        "ebc3.fit(train_generator,\n",
        "         epochs=epochz,\n",
        "         steps_per_epoch=s_p_e,\n",
        "         #validation_data=val_generator,\n",
        "         callbacks=[batch_stats_callback],\n",
        "         )"
      ]
    },
    {
      "cell_type": "code",
      "execution_count": null,
      "metadata": {
        "id": "VOeMVmcBxr7m"
      },
      "outputs": [],
      "source": [
        "ebc3.fit(train_generator,\n",
        "         epochs=epochz,\n",
        "         steps_per_epoch=s_p_e,\n",
        "         #validation_data=val_generator,\n",
        "         callbacks=[batch_stats_callback],\n",
        "         )"
      ]
    },
    {
      "cell_type": "code",
      "execution_count": null,
      "metadata": {
        "id": "mCa371pKxrv4"
      },
      "outputs": [],
      "source": [
        "ebc3.fit(train_generator,\n",
        "         epochs=epochz,\n",
        "         steps_per_epoch=s_p_e,\n",
        "         #validation_data=val_generator,\n",
        "         callbacks=[batch_stats_callback],\n",
        "         )"
      ]
    },
    {
      "cell_type": "code",
      "execution_count": null,
      "metadata": {
        "id": "DNgUOSE4xrim"
      },
      "outputs": [],
      "source": [
        "ebc3.fit(train_generator,\n",
        "         epochs=epochz,\n",
        "         steps_per_epoch=s_p_e,\n",
        "         #validation_data=val_generator,\n",
        "         callbacks=[batch_stats_callback],\n",
        "         )"
      ]
    },
    {
      "cell_type": "markdown",
      "metadata": {
        "id": "FXoGivwo9f2O"
      },
      "source": [
        "mark"
      ]
    },
    {
      "cell_type": "code",
      "execution_count": null,
      "metadata": {
        "id": "FC0OJdAZNlzX"
      },
      "outputs": [],
      "source": [
        "#上位分類層を接合\n",
        "ebc3=Sequential([feature_extractor_layer,\n",
        "                           layers.Dense(train_generator.num_classes,activation='softmax')])\n",
        "\n",
        "ebc3.summary()\n",
        "\n",
        "ebc3.compile(optimizer=tf.keras.optimizers.Adam(),\n",
        "              loss='categorical_crossentropy',\n",
        "              metrics=['acc'])\n",
        "\n"
      ]
    },
    {
      "cell_type": "markdown",
      "metadata": {
        "id": "DlN8IuygSiz5"
      },
      "source": [
        "教師モデル作成"
      ]
    },
    {
      "cell_type": "code",
      "execution_count": null,
      "metadata": {
        "id": "TODUFDzdSR3Q"
      },
      "outputs": [],
      "source": [
        "ebc3.fit(train_generator,\n",
        "         epochs=epochz,\n",
        "         steps_per_epoch=s_p_e,\n",
        "         validation_data=val_generator,\n",
        "         callbacks=[batch_stats_callback,checkpoint3],\n",
        "         )"
      ]
    },
    {
      "cell_type": "code",
      "execution_count": null,
      "metadata": {
        "id": "lsIeZrX09mpI"
      },
      "outputs": [],
      "source": [
        "ebc3.fit(train_generator,\n",
        "         epochs=epochz,\n",
        "         steps_per_epoch=s_p_e,\n",
        "         validation_data=val_generator,\n",
        "         callbacks=[batch_stats_callback,checkpoint3],\n",
        "         )"
      ]
    },
    {
      "cell_type": "code",
      "execution_count": null,
      "metadata": {
        "id": "bqov6uY59mah"
      },
      "outputs": [],
      "source": [
        "ebc3.fit(train_generator,\n",
        "         epochs=epochz,\n",
        "         steps_per_epoch=s_p_e,\n",
        "         validation_data=val_generator,\n",
        "         callbacks=[batch_stats_callback,checkpoint3],\n",
        "         )"
      ]
    },
    {
      "cell_type": "code",
      "execution_count": null,
      "metadata": {
        "id": "OuLvxSaO9mL9"
      },
      "outputs": [],
      "source": [
        "ebc3.fit(train_generator,\n",
        "         epochs=epochz,\n",
        "         steps_per_epoch=s_p_e,\n",
        "         validation_data=val_generator,\n",
        "         callbacks=[batch_stats_callback,checkpoint3],\n",
        "         )"
      ]
    },
    {
      "cell_type": "code",
      "execution_count": null,
      "metadata": {
        "id": "CXHSBsJD9l-b"
      },
      "outputs": [],
      "source": [
        "ebc3.fit(train_generator,\n",
        "         epochs=epochz,\n",
        "         steps_per_epoch=s_p_e,\n",
        "         validation_data=val_generator,\n",
        "         callbacks=[batch_stats_callback,checkpoint3],\n",
        "         )"
      ]
    },
    {
      "cell_type": "markdown",
      "metadata": {
        "id": "LQw2hoT89kfG"
      },
      "source": [
        "mark"
      ]
    },
    {
      "cell_type": "code",
      "execution_count": null,
      "metadata": {
        "id": "-bHPfAViSyUE"
      },
      "outputs": [],
      "source": [
        "#上位分類層を接合\n",
        "ebc3=Sequential([feature_extractor_layer,\n",
        "                           layers.Dense(train_generator.num_classes,activation='softmax')])\n",
        "\n",
        "ebc3.summary()\n",
        "\n",
        "ebc3.compile(optimizer=tf.keras.optimizers.Adam(),\n",
        "              loss='categorical_crossentropy',\n",
        "              metrics=['acc'])"
      ]
    },
    {
      "cell_type": "code",
      "execution_count": null,
      "metadata": {
        "id": "EniSTvIJrrq6"
      },
      "outputs": [],
      "source": [
        "#擬似ラベル作成\n",
        "history=ebc3.fit(train_generator,\n",
        "                 epochs=epochz,\n",
        "                 steps_per_epoch=s_p_e,\n",
        "                 validation_data=gizi_data,\n",
        "                 callbacks=[batch_stats_callback,checkpoint3],\n",
        "                 )"
      ]
    },
    {
      "cell_type": "code",
      "execution_count": null,
      "metadata": {
        "id": "FunQsS979pCg"
      },
      "outputs": [],
      "source": [
        "history=ebc3.fit(train_generator,\n",
        "                 epochs=epochz,\n",
        "                 steps_per_epoch=s_p_e,\n",
        "                 validation_data=gizi_data,\n",
        "                 callbacks=[batch_stats_callback,checkpoint3],\n",
        "                 )"
      ]
    },
    {
      "cell_type": "code",
      "execution_count": null,
      "metadata": {
        "id": "AIjDZzZx9o2A"
      },
      "outputs": [],
      "source": [
        "history=ebc3.fit(train_generator,\n",
        "                 epochs=epochz,\n",
        "                 steps_per_epoch=s_p_e,\n",
        "                 validation_data=gizi_data,\n",
        "                 callbacks=[batch_stats_callback,checkpoint3],\n",
        "                 )"
      ]
    },
    {
      "cell_type": "code",
      "execution_count": null,
      "metadata": {
        "id": "tlEFKmgN9opQ"
      },
      "outputs": [],
      "source": [
        "history=ebc3.fit(train_generator,\n",
        "                 epochs=epochz,\n",
        "                 steps_per_epoch=s_p_e,\n",
        "                 validation_data=gizi_data,\n",
        "                 callbacks=[batch_stats_callback,checkpoint3],\n",
        "                 )"
      ]
    },
    {
      "cell_type": "code",
      "execution_count": null,
      "metadata": {
        "id": "9sZ0h8E09ob9"
      },
      "outputs": [],
      "source": [
        "history=ebc3.fit(train_generator,\n",
        "                 epochs=epochz,\n",
        "                 steps_per_epoch=s_p_e,\n",
        "                 validation_data=gizi_data,\n",
        "                 callbacks=[batch_stats_callback,checkpoint3],\n",
        "                 )"
      ]
    },
    {
      "cell_type": "code",
      "execution_count": null,
      "metadata": {
        "id": "uUz4ogOIenWF"
      },
      "outputs": [],
      "source": [
        "gizi_label3=ebc3.predict(gizi_data)"
      ]
    },
    {
      "cell_type": "markdown",
      "metadata": {
        "id": "Fzcgamej9qJE"
      },
      "source": [
        "mark"
      ]
    },
    {
      "cell_type": "code",
      "execution_count": null,
      "metadata": {
        "id": "mJnPXaXOeuHY"
      },
      "outputs": [],
      "source": [
        "feature_extractor_layer.trainable=False\n",
        "#入力画像ノイズ(rand augmentation)の設定\n",
        "data_augmentation=Sequential([layers.RandomRotation(2.10)])\n",
        "#モデルノイズ（stochastic depth）の設定\n",
        "stochastic_Depth=Sequential([tfa.layers.StochasticDepth(0.35)])\n",
        "\n",
        "#モデルにrand augmentationを適用\n",
        "model3=Sequential([data_augmentation])\n",
        "#モデルにstochastic depthを適用\n",
        "model3=Sequential([stochastic_Depth])\n",
        "\n",
        "model3=Sequential([feature_extractor_layer,\n",
        "                           layers.Dense(train_generator.num_classes,activation='softmax'),\n",
        "                           #layers.Dropout(0.2)\n",
        "                  ])"
      ]
    },
    {
      "cell_type": "markdown",
      "metadata": {
        "id": "IeDWlcPJ9t2U"
      },
      "source": [
        "mark"
      ]
    },
    {
      "cell_type": "code",
      "execution_count": null,
      "metadata": {
        "id": "R48YnIGEOusf"
      },
      "outputs": [],
      "source": [
        "#model3\n",
        "model3.compile(optimizer=tf.keras.optimizers.Adam(),\n",
        "              loss='categorical_crossentropy',\n",
        "              metrics=['acc'])\n",
        "model3.summary()"
      ]
    },
    {
      "cell_type": "code",
      "execution_count": null,
      "metadata": {
        "id": "PM5XSKWlOu_g"
      },
      "outputs": [],
      "source": [
        "#model3\n",
        "history=model3.fit(gizi_data,\n",
        "                   epochs=epochz,\n",
        "                   steps_per_epoch=np.ceil(gizi_data.samples/batch_size),\n",
        "                   validation_data=val_generator,\n",
        "                   callbacks=[checkpoint3,batch_stats_callback]\n",
        "                   )"
      ]
    },
    {
      "cell_type": "code",
      "execution_count": null,
      "metadata": {
        "id": "GuxUl02u9xIf"
      },
      "outputs": [],
      "source": [
        "history=model3.fit(gizi_data,\n",
        "                   epochs=epochz,\n",
        "                   steps_per_epoch=np.ceil(gizi_data.samples/batch_size),\n",
        "                   validation_data=val_generator,\n",
        "                   callbacks=[checkpoint3,batch_stats_callback]\n",
        "                   )"
      ]
    },
    {
      "cell_type": "code",
      "execution_count": null,
      "metadata": {
        "id": "8jwOaa4c9w7-"
      },
      "outputs": [],
      "source": [
        "history=model3.fit(gizi_data,\n",
        "                   epochs=epochz,\n",
        "                   steps_per_epoch=np.ceil(gizi_data.samples/batch_size),\n",
        "                   validation_data=val_generator,\n",
        "                   callbacks=[checkpoint3,batch_stats_callback]\n",
        "                   )"
      ]
    },
    {
      "cell_type": "code",
      "execution_count": null,
      "metadata": {
        "id": "wo_2I2Na9wvv"
      },
      "outputs": [],
      "source": [
        "history=model3.fit(gizi_data,\n",
        "                   epochs=epochz,\n",
        "                   steps_per_epoch=np.ceil(gizi_data.samples/batch_size),\n",
        "                   validation_data=val_generator,\n",
        "                   callbacks=[checkpoint3,batch_stats_callback]\n",
        "                   )"
      ]
    },
    {
      "cell_type": "code",
      "execution_count": null,
      "metadata": {
        "id": "C-Lqmsxk9whq"
      },
      "outputs": [],
      "source": [
        "history=model3.fit(gizi_data,\n",
        "                   epochs=epochz,\n",
        "                   steps_per_epoch=np.ceil(gizi_data.samples/batch_size),\n",
        "                   validation_data=val_generator,\n",
        "                   callbacks=[checkpoint3,batch_stats_callback]\n",
        "                   )"
      ]
    },
    {
      "cell_type": "markdown",
      "metadata": {
        "id": "hexq4yjv4mZ5"
      },
      "source": [
        "3"
      ]
    },
    {
      "cell_type": "code",
      "execution_count": null,
      "metadata": {
        "id": "7Wcj-H-Q4rdV"
      },
      "outputs": [],
      "source": [
        "history=model3.fit(train_generator,\n",
        "                   epochs=epochz,\n",
        "                   steps_per_epoch=s_p_e,\n",
        "                   validation_data=val_generator,\n",
        "                   callbacks=[batch_stats_callback,checkpoint3]\n",
        "                   )"
      ]
    },
    {
      "cell_type": "code",
      "execution_count": null,
      "metadata": {
        "id": "7udinO1g9zXN"
      },
      "outputs": [],
      "source": [
        "history=model3.fit(train_generator,\n",
        "                   epochs=epochz,\n",
        "                   steps_per_epoch=s_p_e,\n",
        "                   validation_data=val_generator,\n",
        "                   callbacks=[batch_stats_callback,checkpoint3]\n",
        "                   )"
      ]
    },
    {
      "cell_type": "code",
      "execution_count": null,
      "metadata": {
        "id": "OQ5RfUFg9zLe"
      },
      "outputs": [],
      "source": [
        "history=model3.fit(train_generator,\n",
        "                   epochs=epochz,\n",
        "                   steps_per_epoch=s_p_e,\n",
        "                   validation_data=val_generator,\n",
        "                   callbacks=[batch_stats_callback,checkpoint3]\n",
        "                   )"
      ]
    },
    {
      "cell_type": "code",
      "execution_count": null,
      "metadata": {
        "id": "qBRLDcQK9y84"
      },
      "outputs": [],
      "source": [
        "history=model3.fit(train_generator,\n",
        "                   epochs=epochz,\n",
        "                   steps_per_epoch=s_p_e,\n",
        "                   validation_data=val_generator,\n",
        "                   callbacks=[batch_stats_callback,checkpoint3]\n",
        "                   )"
      ]
    },
    {
      "cell_type": "code",
      "execution_count": null,
      "metadata": {
        "id": "jh3bjzVP9yv3"
      },
      "outputs": [],
      "source": [
        "history=model3.fit(train_generator,\n",
        "                   epochs=epochz,\n",
        "                   steps_per_epoch=s_p_e,\n",
        "                   validation_data=val_generator,\n",
        "                   callbacks=[batch_stats_callback,checkpoint3]\n",
        "                   )"
      ]
    },
    {
      "cell_type": "code",
      "execution_count": null,
      "metadata": {
        "id": "YFcL0kU1qHAP"
      },
      "outputs": [],
      "source": [
        "#モデル保存\n",
        "model3.save('/content/drive/MyDrive/result11/model3.h5/')"
      ]
    },
    {
      "cell_type": "code",
      "execution_count": null,
      "metadata": {
        "id": "QXQ1LY0EkT2p"
      },
      "outputs": [],
      "source": []
    },
    {
      "cell_type": "code",
      "execution_count": null,
      "metadata": {
        "id": "-cRPYnBjkern"
      },
      "outputs": [],
      "source": [
        "from google.colab import runtime\n",
        "runtime.unassign()"
      ]
    },
    {
      "cell_type": "markdown",
      "metadata": {
        "id": "o8g1Y8pZF-Bf"
      },
      "source": [
        "Accuracy for each model"
      ]
    },
    {
      "cell_type": "code",
      "execution_count": null,
      "metadata": {
        "id": "XvwsHsw6NnzE"
      },
      "outputs": [],
      "source": [
        "#content google drive\n",
        "from google.colab import drive\n",
        "drive.mount('/content/drive', force_remount=True)"
      ]
    },
    {
      "cell_type": "code",
      "execution_count": null,
      "metadata": {
        "id": "z1jDy1hIOyZa"
      },
      "outputs": [],
      "source": [
        "from tensorflow import keras\n",
        "from tensorflow.keras.preprocessing.image import ImageDataGenerator"
      ]
    },
    {
      "cell_type": "code",
      "execution_count": null,
      "metadata": {
        "id": "BEAwV4afO04J"
      },
      "outputs": [],
      "source": [
        "model1 = keras.models.load_model('/content/drive/MyDrive/result11/model1.h5/')\n",
        "model2 = keras.models.load_model('/content/drive/MyDrive/result11/model2.h5/')\n",
        "model3 = keras.models.load_model('/content/drive/MyDrive/result11/model3.h5/')"
      ]
    },
    {
      "cell_type": "code",
      "execution_count": null,
      "metadata": {
        "id": "scuq19CoO_YT"
      },
      "outputs": [],
      "source": [
        "train_datagenerator = ImageDataGenerator(rescale = 1.0/255,\n",
        "                                        shear_range = 0.2,\n",
        "                                        zoom_range = 0.5,\n",
        "                                        horizontal_flip = True,\n",
        "                                        rotation_range=10,\n",
        "                                        width_shift_range=0.2,\n",
        "                                        brightness_range=[0.2,1.2]\n",
        "                                        )\n",
        "test_datagenerator = ImageDataGenerator(rescale = 1.0/255)\n",
        "\n",
        "training_set = train_datagenerator.flow_from_directory('/content/drive/MyDrive/data/train/',\n",
        "                                                    target_size = (224,224),\n",
        "                                                    batch_size = 32,\n",
        "                                                    class_mode = 'categorical')\n",
        "\n",
        "class_dict = training_set.class_indices\n",
        "print(class_dict)\n",
        "\n",
        "li = list(class_dict.keys())\n",
        "print(li)\n",
        "\n",
        "valid_set = test_datagenerator.flow_from_directory('/content/drive/MyDrive/data/test',\n",
        "                                                  target_size = (512,512),\n",
        "                                                    batch_size = 32,\n",
        "                                                    class_mode = 'categorical')\n",
        "\n",
        "# valid_set\n",
        "x_test, y_test = valid_set.next() "
      ]
    },
    {
      "cell_type": "code",
      "execution_count": null,
      "metadata": {
        "id": "okjB_mcYPFTd"
      },
      "outputs": [],
      "source": [
        "# predicting an image\n",
        "import matplotlib.pyplot as plt\n",
        "from keras.preprocessing import image\n",
        "import numpy as np\n",
        "\n",
        "class votingClassifer:\n",
        "    'votingClassifer class'\n",
        "\n",
        "\n",
        "    def __init__(self, estimators,mode=\"hard\",weight=None,show_info=\"percent\"):\n",
        "        \n",
        "        if mode not in [\"hard\",\"soft\"]:\n",
        "            raise Exception(\"the mode should be 'hard' or 'soft'\")\n",
        "            \n",
        "        self.estimators=estimators\n",
        "        self.mode=mode\n",
        "        self.weight=weight\n",
        "        self.show_info=show_info  \n",
        "            \n",
        "    def predict(self,x_test):        \n",
        "        if self.mode==\"hard\":\n",
        "            return self.votingClassifer_hard(self.estimators, x_test, show_info=self.show_info)\n",
        "        else:\n",
        "            return self.votingClassifer_soft(self.estimators, x_test, weight=self.weight, show_info=self.show_info)\n",
        "\n",
        "    def getNumberDiff(self, index_classes, n):  \n",
        "        \n",
        "        for x in index_classes:\n",
        "            if index_class_prefer != x:\n",
        "                return x    \n",
        "    \n",
        "    def getNumberElse(self, index_classes, n):\n",
        "\n",
        "        indices = [i for i, value in enumerate(index_classes) if value != n]\n",
        "        counts = np.bincount(indices)\n",
        "        ind=np.argmax(counts)\n",
        "        n1=(indices == ind).sum()\n",
        " \n",
        "                \n",
        "        return n1\n",
        "    \n",
        "    # hard voting\n",
        "    def votingClassifer_hard(self,estimators,x_test,show_info='percent'):\n",
        "        \n",
        "        if show_info not in [\"info\",\"percent\",\"nothing\"]:\n",
        "            raise Exception(\"the attribut 'show_info' should be 'info' or 'percent','nothing'\")            \n",
        "            \n",
        "        \n",
        "        cpt=0\n",
        "        index_classes_glob, class_names_glob, probs_glob=[],[],[]\n",
        "        N=len(x_test)\n",
        "        for x in x_test:\n",
        "            index_classes, class_names, probs=[],[],[]\n",
        "            for model in estimators:\n",
        "                img = np.expand_dims(x, axis=0)\n",
        "                # make a prediction\n",
        "                y_prob = model.predict(img)[0]\n",
        "                probabilty = y_prob.flatten()\n",
        "                max_prob = probabilty.max()\n",
        "                y_classes = y_prob.argmax(axis=-1)\n",
        "                index_class, class_name, prob = y_classes,li[y_classes],max_prob\n",
        "                index_classes.append(index_class)\n",
        "                class_names.append(class_name)\n",
        "                probs.append(prob)\n",
        "            index_classes, class_names, probs = np.array(index_classes), np.array(class_names), np.array(probs)    \n",
        "            counts = np.bincount(index_classes)\n",
        "            index_class_prefer=np.argmax(counts)\n",
        " \n",
        "            n1=(index_classes == index_class_prefer).sum()\n",
        "    \n",
        "            if n1 == 1:\n",
        "                print(\"\\n Each estimator predict a different class\")\n",
        "                prob = probs.max()\n",
        "                indice = [i for i, value in enumerate(probs) if value == prob][0]\n",
        "                class_name = class_names[indice]\n",
        "\n",
        "                \n",
        "            elif n1 == len(estimators)/2 and len(estimators)/2 == self.getNumberElse(index_classes, index_class_prefer):\n",
        "                \n",
        "                print(\"\\n the half-estimators predict a class and the other estimators predict a different class\")\n",
        "                \n",
        "                indices1 = [i for i, value in enumerate(index_classes) if value == index_class_prefer]\n",
        "                sum2=0\n",
        "                for ind in indices1:\n",
        "                    sum2+=probs[ind]\n",
        "                \n",
        "                prob1=sum2/len(indices1)\n",
        "                \n",
        "                n2=self.getNumberDiff(index_classes, index_class_prefer)      \n",
        "                \n",
        "                indices2 = [i for i, value in enumerate(index_classes) if value == n2]\n",
        "                sum2=0\n",
        "                for ind in indices2:\n",
        "                    sum2+=probs[ind]\n",
        "                \n",
        "                prob2=sum2/len(indices2)\n",
        "                \n",
        "                if prob1 < prob2:\n",
        "                    prob=prob2\n",
        "                    indice = [i for i, value in enumerate(index_classes) if value == n2][0]\n",
        "                    class_name = class_names[indice]\n",
        "                    \n",
        "                else:\n",
        "                    prob=prob1\n",
        "                    indice = [i for i, value in enumerate(index_classes) if value == index_class_prefer][0]\n",
        "                    class_name = class_names[indice]\n",
        "                \n",
        "            else:\n",
        "                \n",
        "                sum1=0\n",
        "                nbr=0\n",
        "                for i, index in zip(range(len(probs)),index_classes):\n",
        "                    if index_class_prefer== index:\n",
        "                        sum1+=probs[i]\n",
        "                        nbr+=1\n",
        "                        \n",
        "                prob=sum1/nbr\n",
        "                indice = index_class_prefer\n",
        "                class_name = li[index_class_prefer]\n",
        "\n",
        "            \n",
        "            if show_info==\"info\":\n",
        "                cpt+=1\n",
        "                print(\"\\rpercent: {:.2f}%, li[{}]:{} --> {}\".format(cpt*100/N,index_class_prefer, li[index_class_prefer], prob), end='')   \n",
        "            elif show_info==\"percent\":\n",
        "                cpt+=1\n",
        "                print(\"\\rpercent: {:.2f}%\".format(cpt*100/N), end='')\n",
        "          \n",
        "                \n",
        "            index_classes_glob.append(indice)\n",
        "            class_names_glob.append(class_name)\n",
        "            probs_glob.append(prob)\n",
        "\n",
        "        return np.array(index_classes_glob), np.array(class_names_glob), np.array(probs_glob) \n",
        "    \n",
        "   # soft voting \n",
        "    def votingClassifer_soft(self, estimators, x_test, weight=None, show_info=\"percent\"):\n",
        "        \n",
        "        if show_info not in [\"info\",\"percent\",\"nothing\"]:\n",
        "            raise Exception(\"the attribut 'show_info' should be 'info' or 'percent','nothing'\")  \n",
        "\n",
        "        if weight is None :\n",
        "            weight=np.ones(len(estimators))\n",
        "\n",
        "        if len(weight) != len(estimators):\n",
        "            raise Exception(\"number of models and wheight should be equals\")    \n",
        "\n",
        "        cpt=0 \n",
        "        # get number of classes \n",
        "        x = image.img_to_array(x_test[0])\n",
        "        x = np.expand_dims(x, axis=0)\n",
        "        y_prob = estimators[0].predict(x) \n",
        "        num_classes =  y_prob.shape[1]\n",
        "\n",
        "        Tab=np.zeros(num_classes)# num_classes\n",
        "        index_classes_glob, class_names_glob, probs_glob=[],[],[]\n",
        "        N=len(x_test)\n",
        "        for x in x_test:\n",
        "            index_classes, class_names, probs= [], [], []\n",
        "            for model in estimators:\n",
        "                img = np.expand_dims(x, axis=0)\n",
        "                # make a prediction\n",
        "                y_prob = model.predict(img)[0]\n",
        "                idxs = np.argsort(y_prob)\n",
        "                # loop over the indexes of the high confidence class labels\n",
        "                for (index, value) in enumerate(idxs):\n",
        "                    # build the label and draw the label on the image\n",
        "                    #label = \"{}) {}[{}]: {:.2f}%\".format(index,li[value],value, y_prob[value] * 100)\n",
        "                    #print(label)\n",
        "                    Tab[value]=y_prob[value]\n",
        "\n",
        "                probs.append(Tab)\n",
        "\n",
        "            probs=np.array(probs) # probs.shape: (3, 38)\n",
        "\n",
        "            proba=[]   \n",
        "\n",
        "            div=sum(weight)\n",
        "            for i in range(len(probs[0])):\n",
        "                s=0\n",
        "                for j in range(len(weight)):\n",
        "                    s+= probs[j][i] * weight[j] \n",
        "                s=s/div\n",
        "                proba.append(s)\n",
        "\n",
        "            proba=np.array(proba)\n",
        "            max_prob=max(proba)\n",
        "\n",
        "            indices=[i for i, value in enumerate(proba) if value == max_prob]\n",
        "\n",
        "            index_class, class_name, prob=indices[0],li[indices[0]],max_prob \n",
        "\n",
        "            index_classes_glob.append(index_class)\n",
        "            class_names_glob.append(class_name)\n",
        "            probs_glob.append(prob) \n",
        "\n",
        "            if show_info==\"info\":\n",
        "                cpt+=1\n",
        "                print(\"percent: {:.2f}%, li[{}]:{} --> {}%\".format(cpt*100/N,index_class, li[index_class], prob))   \n",
        "            elif show_info==\"percent\":\n",
        "                cpt+=1\n",
        "                print(\"\\rpercent: {:.2f}%\".format(cpt*100/N), end='')\n",
        "\n",
        "\n",
        "\n",
        "        return np.array(index_classes_glob), np.array(class_names_glob), np.array(probs_glob)  "
      ]
    },
    {
      "cell_type": "code",
      "execution_count": null,
      "metadata": {
        "id": "0sDMxq6CPJ9m"
      },
      "outputs": [],
      "source": [
        "from sklearn.base import is_classifier, is_regressor\n",
        "models_names=['model1','model2','model3']\n",
        "print(\"model name\\t estimator name\\t is_regressor\\t is_classifier\")    \n",
        "for estimator , model_name in zip([model1,model2,model3],models_names):\n",
        "        print(\"{}\\t   {}     \\t {}      \\t {}\".format(model_name,estimator.__class__.__name__,\n",
        "                                              is_regressor(estimator),\n",
        "                                              is_classifier(estimator)\n",
        "                                              ))"
      ]
    },
    {
      "cell_type": "code",
      "execution_count": null,
      "metadata": {
        "id": "Rkv7dtYRhtCl"
      },
      "outputs": [],
      "source": [
        "from sklearn.metrics import accuracy_score\n",
        "from sklearn.metrics import precision_score\n",
        "from sklearn.metrics import recall_score\n",
        "from sklearn.metrics import classification_report\n",
        "import numpy as np\n",
        "models=[model1,model2,model3]\n",
        "model_names=[\"model1\",\"model2\",'model3']\n",
        "for model,model_name in zip(models,model_names):\n",
        "            \n",
        "    y_prob = model.predict(x_test)\n",
        "    y_pred1 = y_prob.argmax(axis=-1)\n",
        "    y_test1=np.argmax(y_test, axis=1)\n",
        "    # accuracy\n",
        "    print(model_name+\" accuracy: \",accuracy_score(y_test1,y_pred1))\n",
        "    del model , y_pred1, y_test1\n",
        "    #Precision\n",
        "    #print('Precision:', precision_score(y_test,y_pred1))\n",
        "    #Recall\n",
        "    #print('Recall:', recall_score(y_test1,y_pred1))\n",
        "    #F-measure\n",
        "    #print(\"Classification report\")\n",
        "    #print(classification_report(y_test1, y_pred1))"
      ]
    },
    {
      "cell_type": "code",
      "execution_count": null,
      "metadata": {
        "id": "RNwvATGkF39x"
      },
      "outputs": [],
      "source": [
        "# valid_set\n",
        "x_test, y_test = valid_set.next() \n",
        "\n",
        "#VotingClassifier(hard)\n",
        "estimators = [model1,model2,model3]\n",
        "vc=votingClassifer(estimators=estimators,mode=\"hard\",show_info=\"percent\")\n",
        "index_classes, class_names, probs=vc.predict(x_test)"
      ]
    },
    {
      "cell_type": "markdown",
      "metadata": {
        "id": "1SQTEoB5GNaJ"
      },
      "source": [
        "accuracy"
      ]
    },
    {
      "cell_type": "code",
      "execution_count": null,
      "metadata": {
        "id": "o43-_QmgGLtR"
      },
      "outputs": [],
      "source": [
        "# inverse_to_categorical inverser format binary to format indexation\n",
        "# datagenerator use the methode to_categorical for labelsation to frmat binary \n",
        "# the method inverce of to_categorical is argmax\n",
        "import numpy as np\n",
        "y_test1=np.argmax(y_test, axis=1)\n",
        "y_pred1=index_classes\n",
        "\n",
        "# accuracy\n",
        "from sklearn.metrics import accuracy_score\n",
        "print(\"votingClassifer(hard) accuracy : \",accuracy_score(y_test1,y_pred1))"
      ]
    }
  ],
  "metadata": {
    "colab": {
      "provenance": []
    },
    "gpuClass": "standard",
    "kernelspec": {
      "display_name": "Python 3.9.6 64-bit",
      "language": "python",
      "name": "python3"
    },
    "language_info": {
      "name": "python",
      "version": "3.9.6"
    },
    "vscode": {
      "interpreter": {
        "hash": "31f2aee4e71d21fbe5cf8b01ff0e069b9275f58929596ceb00d14d90e3e16cd6"
      }
    }
  },
  "nbformat": 4,
  "nbformat_minor": 0
}
