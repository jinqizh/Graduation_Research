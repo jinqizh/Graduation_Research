{
  "cells": [
    {
      "cell_type": "code",
      "execution_count": null,
      "metadata": {},
      "outputs": [],
      "source": [
        "'''\n",
        "Train data 2100 ,Test data 900 & Val  data 1000\n",
        "epochs 10\n",
        "Used EfficientNet series models\n",
        "Ensemble Accuracy 53%\n",
        "'''"
      ]
    },
    {
      "cell_type": "code",
      "execution_count": 2,
      "metadata": {
        "colab": {
          "base_uri": "https://localhost:8080/"
        },
        "id": "fSgJPIygoWoa",
        "outputId": "0f428d45-5162-4ebb-a771-9ea732c2336e"
      },
      "outputs": [
        {
          "name": "stdout",
          "output_type": "stream",
          "text": [
            "Mounted at /content/drive\n"
          ]
        }
      ],
      "source": [
        "#content google drive\n",
        "from google.colab import drive\n",
        "drive.mount('/content/drive', force_remount=True)"
      ]
    },
    {
      "cell_type": "code",
      "execution_count": 3,
      "metadata": {
        "colab": {
          "base_uri": "https://localhost:8080/"
        },
        "id": "TbStwNFWX6-6",
        "outputId": "0e248401-f103-4ec2-a53b-95bbc2b6e553"
      },
      "outputs": [
        {
          "name": "stdout",
          "output_type": "stream",
          "text": [
            "Mon Nov 14 06:34:25 2022       \n",
            "+-----------------------------------------------------------------------------+\n",
            "| NVIDIA-SMI 460.32.03    Driver Version: 460.32.03    CUDA Version: 11.2     |\n",
            "|-------------------------------+----------------------+----------------------+\n",
            "| GPU  Name        Persistence-M| Bus-Id        Disp.A | Volatile Uncorr. ECC |\n",
            "| Fan  Temp  Perf  Pwr:Usage/Cap|         Memory-Usage | GPU-Util  Compute M. |\n",
            "|                               |                      |               MIG M. |\n",
            "|===============================+======================+======================|\n",
            "|   0  Tesla T4            Off  | 00000000:00:04.0 Off |                    0 |\n",
            "| N/A   58C    P8    10W /  70W |      0MiB / 15109MiB |      0%      Default |\n",
            "|                               |                      |                  N/A |\n",
            "+-------------------------------+----------------------+----------------------+\n",
            "                                                                               \n",
            "+-----------------------------------------------------------------------------+\n",
            "| Processes:                                                                  |\n",
            "|  GPU   GI   CI        PID   Type   Process name                  GPU Memory |\n",
            "|        ID   ID                                                   Usage      |\n",
            "|=============================================================================|\n",
            "|  No running processes found                                                 |\n",
            "+-----------------------------------------------------------------------------+\n"
          ]
        }
      ],
      "source": [
        "!nvidia-smi"
      ]
    },
    {
      "cell_type": "code",
      "execution_count": 4,
      "metadata": {
        "colab": {
          "base_uri": "https://localhost:8080/"
        },
        "id": "DIVXZQNXolHB",
        "outputId": "a5d3483e-0b7c-4294-95f3-e43890bf8ac2"
      },
      "outputs": [
        {
          "name": "stdout",
          "output_type": "stream",
          "text": [
            "Looking in indexes: https://pypi.org/simple, https://us-python.pkg.dev/colab-wheels/public/simple/\n",
            "Collecting tensorflow-addons\n",
            "  Downloading tensorflow_addons-0.18.0-cp37-cp37m-manylinux_2_17_x86_64.manylinux2014_x86_64.whl (1.1 MB)\n",
            "\u001b[K     |████████████████████████████████| 1.1 MB 3.1 MB/s \n",
            "\u001b[?25hRequirement already satisfied: typeguard>=2.7 in /usr/local/lib/python3.7/dist-packages (from tensorflow-addons) (2.7.1)\n",
            "Requirement already satisfied: packaging in /usr/local/lib/python3.7/dist-packages (from tensorflow-addons) (21.3)\n",
            "Requirement already satisfied: pyparsing!=3.0.5,>=2.0.2 in /usr/local/lib/python3.7/dist-packages (from packaging->tensorflow-addons) (3.0.9)\n",
            "Installing collected packages: tensorflow-addons\n",
            "Successfully installed tensorflow-addons-0.18.0\n",
            "Colab only includes TensorFlow 2.x; %tensorflow_version has no effect.\n"
          ]
        }
      ],
      "source": [
        "import tensorflow as tf\n",
        "import os\n",
        "import cv2\n",
        "import numpy as np\n",
        "import matplotlib.pyplot as plt\n",
        "from tensorflow import keras\n",
        "from tensorflow.keras import layers\n",
        "from keras.models import Sequential\n",
        "from keras.layers import Dense,Dropout,Activation,Flatten\n",
        "from sklearn.utils import shuffle\n",
        "from tensorflow.keras.optimizers import SGD\n",
        "import tensorflow_hub as hub\n",
        "from tensorflow.keras.callbacks import ModelCheckpoint\n",
        "from tensorflow.keras.preprocessing.image import ImageDataGenerator\n",
        "!pip install tensorflow-addons\n",
        "import tensorflow_addons as tfa\n",
        "from tensorflow.keras.models import Model\n",
        "from sklearn.metrics import accuracy_score\n",
        "import glob\n",
        "#select tensorflow's version\n",
        "%tensorflow_version 2.x"
      ]
    },
    {
      "cell_type": "code",
      "execution_count": 5,
      "metadata": {
        "id": "bvClfecYos9i"
      },
      "outputs": [],
      "source": [
        "#形状設定\n",
        "IMAGE_SHAPE=(224,224)\n",
        "\n",
        "#リアルタイムにデータ拡張しながら，テンソル画像データのバッチを生成する。(1/255 メモリ消費の削減)\n",
        "image_generator=ImageDataGenerator(\n",
        "    rescale=1./255,\n",
        "    validation_split=0.3\n",
        "    )"
      ]
    },
    {
      "cell_type": "code",
      "execution_count": 6,
      "metadata": {
        "id": "Zce07hR94Ufr"
      },
      "outputs": [],
      "source": [
        "# HDF5フォーマットでモデルを保存するために必要\n",
        "!pip install -q pyyaml h5py  "
      ]
    },
    {
      "cell_type": "code",
      "execution_count": 7,
      "metadata": {
        "colab": {
          "base_uri": "https://localhost:8080/"
        },
        "id": "GIQVT06K4YCO",
        "outputId": "c01e6e3c-72a5-4e59-847c-f01baaf0803c"
      },
      "outputs": [
        {
          "name": "stdout",
          "output_type": "stream",
          "text": [
            "Found 8471 images belonging to 4 classes.\n",
            "Found 3630 images belonging to 4 classes.\n"
          ]
        }
      ],
      "source": [
        "#各データセットのディレクトリを選択し、全画像をリサイズする。\n",
        "#ディレクトリへのバスを受け取り、拡張・正規化したデータバッチを生成する。\n",
        "batch_size=32\n",
        "\n",
        "train_generator = image_generator.flow_from_directory(\n",
        "    '/content/drive/MyDrive/data/train',\n",
        "    target_size=(224, 224),\n",
        "    #class_mode='binary',\n",
        "    batch_size=batch_size,\n",
        "    subset='training',\n",
        ")\n",
        "\n",
        "val_generator = image_generator.flow_from_directory(\n",
        "    '/content/drive/MyDrive/data/train',\n",
        "    target_size=(224, 224),\n",
        "    #class_mode='binary',\n",
        "    batch_size=batch_size,\n",
        "    subset='validation'\n",
        ")"
      ]
    },
    {
      "cell_type": "code",
      "execution_count": 8,
      "metadata": {
        "colab": {
          "base_uri": "https://localhost:8080/"
        },
        "id": "K3ZIpVmaounj",
        "outputId": "6f50de2e-c338-4559-fcf8-0a8f91139c15"
      },
      "outputs": [
        {
          "name": "stdout",
          "output_type": "stream",
          "text": [
            "Found 4010 images belonging to 4 classes.\n",
            "Found 12101 images belonging to 4 classes.\n",
            "Found 968 images belonging to 4 classes.\n"
          ]
        }
      ],
      "source": [
        "#各データセットのディレクトリを選択し、全画像をリサイズする。\n",
        "#ディレクトリへのバスを受け取り、拡張・正規化したデータバッチを生成する。\n",
        "#train_data=image_generator.flow_from_directory('/content/drive/MyDrive/data/train',target_size=IMAGE_SHAPE)\n",
        "test_data=image_generator.flow_from_directory('/content/drive/MyDrive/data/test',target_size=IMAGE_SHAPE)\n",
        "gizi_data=image_generator.flow_from_directory('/content/drive/MyDrive/data/train',target_size=IMAGE_SHAPE)\n",
        "val_data=image_generator.flow_from_directory('/content/drive/MyDrive/data/val',target_size=IMAGE_SHAPE)"
      ]
    },
    {
      "cell_type": "code",
      "execution_count": 9,
      "metadata": {
        "colab": {
          "base_uri": "https://localhost:8080/"
        },
        "id": "-OrDzGSDovq9",
        "outputId": "7ccc3ff4-86a7-4d73-f6cb-d643cda0514e"
      },
      "outputs": [
        {
          "name": "stdout",
          "output_type": "stream",
          "text": [
            "Image batch shape: (32, 224, 224, 3)\n",
            "Label batch shape: (32, 4)\n",
            "Image batch shape: (32, 224, 224, 3)\n",
            "Label batch shape: (32, 4)\n",
            "Image batch shape: (32, 224, 224, 3)\n",
            "Label batch shape: (32, 4)\n",
            "Image batch shape: (32, 224, 224, 3)\n",
            "Label batch shape: (32, 4)\n"
          ]
        }
      ],
      "source": [
        "#各データセットの画像バッチ形状と、ラベルのバッチ形状を表示する\n",
        "#擬似データはラベル付けない\n",
        "for image_train_batch,label_train_batch in train_generator:\n",
        "  print(\"Image batch shape:\",image_train_batch.shape)\n",
        "  print(\"Label batch shape:\",label_train_batch.shape)\n",
        "  break\n",
        "\n",
        "for image_train_batch,label_train_batch in train_generator:\n",
        "  print(\"Image batch shape:\",image_train_batch.shape)\n",
        "  print(\"Label batch shape:\",label_train_batch.shape)\n",
        "  break\n",
        "\n",
        "for image_val_batch,label_val_batch in val_data:\n",
        "  print(\"Image batch shape:\",image_val_batch.shape)\n",
        "  print(\"Label batch shape:\",label_val_batch.shape)\n",
        "  break\n",
        "\n",
        "for image_test_batch,label_test_batch in test_data:\n",
        "  print(\"Image batch shape:\",image_test_batch.shape)\n",
        "  print(\"Label batch shape:\",label_test_batch.shape)\n",
        "  break"
      ]
    },
    {
      "cell_type": "code",
      "execution_count": 10,
      "metadata": {
        "id": "UPgeTIw2pf6o"
      },
      "outputs": [],
      "source": [
        "#モデル設定\n",
        "MODEL_DIR='/content/drive/MyDrive/result7'\n",
        "if not os.path.exists(MODEL_DIR):\n",
        "  os.makedirs(MODEL_DIR)\n",
        "\n",
        "checkpoint=tf.keras.callbacks.ModelCheckpoint(filepath=os.path.join(MODEL_DIR,\"model-{epoch:02d}.h5\"),\n",
        "                                              monitor='val_loss',\n",
        "                                              mode='min',\n",
        "                                              save_weights_only=True,\n",
        "                                              verbose=1\n",
        "                                              )\n",
        "#filepath:モデルファイルを保存する場所を選択\n",
        "#monitor:監視するメトリック名\n",
        "#mode:ファイルを上書きするかどうか\n",
        "#save_weights_only:モデルのウェイトのみを保存する\n",
        "#verbose:1、冗長モード                                             "
      ]
    },
    {
      "cell_type": "code",
      "execution_count": 11,
      "metadata": {
        "id": "QXIeqEhTCj5A"
      },
      "outputs": [],
      "source": [
        "checkpoint1=tf.keras.callbacks.ModelCheckpoint(filepath=os.path.join(MODEL_DIR,\"model01-{epoch:02d}.h5\"),\n",
        "                                              monitor='val_loss',\n",
        "                                              mode='min',\n",
        "                                              save_weights_only=True,\n",
        "                                              verbose=1\n",
        "                                              )"
      ]
    },
    {
      "cell_type": "code",
      "execution_count": 12,
      "metadata": {
        "id": "0_Ww4iCvCkZC"
      },
      "outputs": [],
      "source": [
        "checkpoint2=tf.keras.callbacks.ModelCheckpoint(filepath=os.path.join(MODEL_DIR,\"model02-{epoch:02d}.h5\"),\n",
        "                                              monitor='val_loss',\n",
        "                                              mode='min',\n",
        "                                              save_weights_only=True,\n",
        "                                              verbose=1\n",
        "                                              )"
      ]
    },
    {
      "cell_type": "code",
      "execution_count": 13,
      "metadata": {
        "id": "22CqXB5kCkzV"
      },
      "outputs": [],
      "source": [
        "checkpoint3=tf.keras.callbacks.ModelCheckpoint(filepath=os.path.join(MODEL_DIR,\"model03-{epoch:02d}.h5\"),\n",
        "                                              monitor='val_loss',\n",
        "                                              mode='min',\n",
        "                                              save_weights_only=True,\n",
        "                                              verbose=1\n",
        "                                              )"
      ]
    },
    {
      "cell_type": "code",
      "execution_count": 14,
      "metadata": {
        "id": "bRdlrRenphMd"
      },
      "outputs": [],
      "source": [
        "#訓練プロセスの可視化\n",
        "#カスタムコールバックを作成して、すべてのエポックでのトレーニングの進行状況を視覚化します\n",
        "class CollectBatchStats(tf.keras.callbacks.Callback):\n",
        "  def __init__(self):\n",
        "    self.batch_losses=[]\n",
        "    self.batch_acc=[]\n",
        "    \n",
        "  def on_train_batch_end(self,batch,logs=1e-12):\n",
        "    self.batch_losses.append(logs['loss'])\n",
        "    self.batch_acc.append(logs['acc'])\n",
        "    self.model.reset_metrics()"
      ]
    },
    {
      "cell_type": "code",
      "execution_count": 15,
      "metadata": {
        "colab": {
          "base_uri": "https://localhost:8080/"
        },
        "id": "1F0LHIN3ow_E",
        "outputId": "f728ace1-d750-408a-8739-3f70887f3114"
      },
      "outputs": [
        {
          "name": "stdout",
          "output_type": "stream",
          "text": [
            "Model: \"sequential\"\n",
            "_________________________________________________________________\n",
            " Layer (type)                Output Shape              Param #   \n",
            "=================================================================\n",
            " keras_layer (KerasLayer)    (None, 1280)              207615832 \n",
            "                                                                 \n",
            " dense (Dense)               (None, 4)                 5124      \n",
            "                                                                 \n",
            "=================================================================\n",
            "Total params: 207,620,956\n",
            "Trainable params: 5,124\n",
            "Non-trainable params: 207,615,832\n",
            "_________________________________________________________________\n"
          ]
        }
      ],
      "source": [
        "#使用するモデルの選択（特徴抽出器/分類器）_ efficientnetv2\n",
        "feature_extractor_url=\"https://tfhub.dev/google/imagenet/efficientnet_v2_imagenet21k_xl/feature_vector/2\"\n",
        "\n",
        "#入力画像サイズを決定する(モデルに適したサイズを設定)\n",
        "feature_extractor_layer=hub.KerasLayer(feature_extractor_url,input_shape=(512,512,3))\n",
        "\n",
        "#学習済み重みを固定する\n",
        "feature_extractor_layer.trainable=False\n",
        "\n",
        "#上位の分類層を接合する\n",
        "ebc1=Sequential([feature_extractor_layer,layers.Dense(train_generator.num_classes,activation='softmax')])\n",
        "\n",
        "#モデルの概要を確認する\n",
        "ebc1.summary()\n",
        "\n",
        "ebc1.compile(optimizer=tf.keras.optimizers.Adam(),\n",
        "              loss='categorical_crossentropy',\n",
        "              metrics=['acc'])"
      ]
    },
    {
      "cell_type": "code",
      "execution_count": 16,
      "metadata": {
        "colab": {
          "base_uri": "https://localhost:8080/"
        },
        "id": "hxJIuI4EoyHN",
        "outputId": "92ddb25d-2603-492e-bb3d-2af944d65cfa"
      },
      "outputs": [
        {
          "name": "stdout",
          "output_type": "stream",
          "text": [
            "Model: \"sequential_1\"\n",
            "_________________________________________________________________\n",
            " Layer (type)                Output Shape              Param #   \n",
            "=================================================================\n",
            " keras_layer_1 (KerasLayer)  (None, 1280)              6575232   \n",
            "                                                                 \n",
            " dense_1 (Dense)             (None, 4)                 5124      \n",
            "                                                                 \n",
            "=================================================================\n",
            "Total params: 6,580,356\n",
            "Trainable params: 5,124\n",
            "Non-trainable params: 6,575,232\n",
            "_________________________________________________________________\n"
          ]
        }
      ],
      "source": [
        "#使用するモデルの選択（特徴抽出器/分類器）_ efficientnetb1\n",
        "feature_extractor_url_b1=\"https://tfhub.dev/google/efficientnet/b1/feature-vector/1\"\n",
        "\n",
        "#入力画像サイズを決定する(モデルに適したサイズを設定)\n",
        "feature_extractor_layer_b1=hub.KerasLayer(feature_extractor_url_b1,input_shape=(512,512,3))\n",
        "\n",
        "#学習済み重みを固定する\n",
        "feature_extractor_layer_b1.trainable=False\n",
        "\n",
        "#上位の分類層を接合する\n",
        "ebc2=Sequential([feature_extractor_layer_b1,layers.Dense(train_generator.num_classes,activation='softmax')])\n",
        "\n",
        "#モデルの概要を確認する\n",
        "ebc2.summary()\n",
        "\n",
        "ebc2.compile(optimizer=tf.keras.optimizers.Adam(),\n",
        "              loss='categorical_crossentropy',\n",
        "              metrics=['acc'])"
      ]
    },
    {
      "cell_type": "code",
      "execution_count": 17,
      "metadata": {
        "colab": {
          "base_uri": "https://localhost:8080/"
        },
        "id": "QzQ38ggvozNg",
        "outputId": "6b7c3655-afc7-4f94-d4cd-d78f52b3da22"
      },
      "outputs": [
        {
          "name": "stdout",
          "output_type": "stream",
          "text": [
            "Model: \"sequential_2\"\n",
            "_________________________________________________________________\n",
            " Layer (type)                Output Shape              Param #   \n",
            "=================================================================\n",
            " keras_layer_2 (KerasLayer)  (None, 1408)              7768562   \n",
            "                                                                 \n",
            " dense_2 (Dense)             (None, 4)                 5636      \n",
            "                                                                 \n",
            "=================================================================\n",
            "Total params: 7,774,198\n",
            "Trainable params: 5,636\n",
            "Non-trainable params: 7,768,562\n",
            "_________________________________________________________________\n"
          ]
        }
      ],
      "source": [
        "#使用するモデルの選択（特徴抽出器/分類器）_ efficientnetb2\n",
        "feature_extractor_url_b2=\"https://tfhub.dev/google/efficientnet/b2/feature-vector/1\"\n",
        "\n",
        "#入力画像サイズを決定する(モデルに適したサイズを設定)\n",
        "feature_extractor_layer_b2=hub.KerasLayer(feature_extractor_url_b2,input_shape=(512,512,3))\n",
        "\n",
        "#学習済み重みを固定する\n",
        "feature_extractor_layer_b2.trainable=False\n",
        "\n",
        "#上位の分類層を接合する\n",
        "ebc3=Sequential([feature_extractor_layer_b2,layers.Dense(train_generator.num_classes,activation='softmax')])\n",
        "\n",
        "#モデルの概要を確認する\n",
        "ebc3.summary()\n",
        "\n",
        "ebc3.compile(optimizer=tf.keras.optimizers.Adam(),\n",
        "              loss='categorical_crossentropy',\n",
        "              metrics=['acc'])"
      ]
    },
    {
      "cell_type": "code",
      "execution_count": 18,
      "metadata": {
        "id": "9L4VRdFJCZzU"
      },
      "outputs": [],
      "source": [
        "train_datagenerator = ImageDataGenerator(rescale = 1.0/255,\n",
        "                                        shear_range = 0.2,\n",
        "                                        zoom_range = 0.5,\n",
        "                                        horizontal_flip = True,\n",
        "                                        rotation_range=10,\n",
        "                                        width_shift_range=0.2,\n",
        "                                        brightness_range=[0.2,1.2]\n",
        "                                        )\n",
        "test_datagenerator = ImageDataGenerator(rescale = 1.0/255)"
      ]
    },
    {
      "cell_type": "code",
      "execution_count": 19,
      "metadata": {
        "colab": {
          "base_uri": "https://localhost:8080/"
        },
        "id": "9vrYqW-DCeIo",
        "outputId": "9f361970-8f5a-4eeb-9ce2-3b753c7d75fe"
      },
      "outputs": [
        {
          "name": "stdout",
          "output_type": "stream",
          "text": [
            "Found 12101 images belonging to 4 classes.\n"
          ]
        }
      ],
      "source": [
        "training_set = train_datagenerator.flow_from_directory('/content/drive/MyDrive/data/train/',\n",
        "                                                    target_size = (224,224),\n",
        "                                                    batch_size = 32,\n",
        "                                                    class_mode = 'categorical')"
      ]
    },
    {
      "cell_type": "code",
      "execution_count": 20,
      "metadata": {
        "colab": {
          "base_uri": "https://localhost:8080/"
        },
        "id": "qssxlQynCjEh",
        "outputId": "c4ecd28d-eba8-4126-f02b-acfe982ab1b2"
      },
      "outputs": [
        {
          "name": "stdout",
          "output_type": "stream",
          "text": [
            "{'CNV_train': 0, 'DME_train': 1, 'DRUSEN_train': 2, 'NORMAL_train': 3}\n",
            "['CNV_train', 'DME_train', 'DRUSEN_train', 'NORMAL_train']\n"
          ]
        }
      ],
      "source": [
        "class_dict = training_set.class_indices\n",
        "print(class_dict)\n",
        "\n",
        "li = list(class_dict.keys())\n",
        "print(li)"
      ]
    },
    {
      "cell_type": "code",
      "execution_count": 21,
      "metadata": {
        "id": "QnXO9sdiCrxD"
      },
      "outputs": [],
      "source": [
        "# predicting an image\n",
        "import matplotlib.pyplot as plt\n",
        "from keras.preprocessing import image\n",
        "import numpy as np\n",
        "\n",
        "class votingClassifer:\n",
        "    'votingClassifer class'\n",
        "\n",
        "\n",
        "    def __init__(self, estimators,mode=\"hard\",weight=None,show_info=\"percent\"):\n",
        "        \n",
        "        if mode not in [\"hard\",\"soft\"]:\n",
        "            raise Exception(\"the mode should be 'hard' or 'soft'\")\n",
        "            \n",
        "        self.estimators=estimators\n",
        "        self.mode=mode\n",
        "        self.weight=weight\n",
        "        self.show_info=show_info  \n",
        "            \n",
        "    def predict(self,x_test):        \n",
        "        if self.mode==\"hard\":\n",
        "            return self.votingClassifer_hard(self.estimators, x_test, show_info=self.show_info)\n",
        "        else:\n",
        "            return self.votingClassifer_soft(self.estimators, x_test, weight=self.weight, show_info=self.show_info)\n",
        "\n",
        "    def getNumberDiff(self, index_classes, n):  \n",
        "        \n",
        "        for x in index_classes:\n",
        "            if index_class_prefer != x:\n",
        "                return x    \n",
        "    \n",
        "    def getNumberElse(self, index_classes, n):\n",
        "\n",
        "        indices = [i for i, value in enumerate(index_classes) if value != n]\n",
        "        counts = np.bincount(indices)\n",
        "        ind=np.argmax(counts)\n",
        "        n1=(indices == ind).sum()\n",
        " \n",
        "                \n",
        "        return n1\n",
        "    \n",
        "    # hard voting\n",
        "    def votingClassifer_hard(self,estimators,x_test,show_info='percent'):\n",
        "        \n",
        "        if show_info not in [\"info\",\"percent\",\"nothing\"]:\n",
        "            raise Exception(\"the attribut 'show_info' should be 'info' or 'percent','nothing'\")            \n",
        "            \n",
        "        \n",
        "        cpt=0\n",
        "        index_classes_glob, class_names_glob, probs_glob=[],[],[]\n",
        "        N=len(x_test)\n",
        "        for x in x_test:\n",
        "            index_classes, class_names, probs=[],[],[]\n",
        "            for model in estimators:\n",
        "                img = np.expand_dims(x, axis=0)\n",
        "                # make a prediction\n",
        "                y_prob = model.predict(img)[0]\n",
        "                probabilty = y_prob.flatten()\n",
        "                max_prob = probabilty.max()\n",
        "                y_classes = y_prob.argmax(axis=-1)\n",
        "                index_class, class_name, prob = y_classes,li[y_classes],max_prob\n",
        "                index_classes.append(index_class)\n",
        "                class_names.append(class_name)\n",
        "                probs.append(prob)\n",
        "            index_classes, class_names, probs = np.array(index_classes), np.array(class_names), np.array(probs)    \n",
        "            counts = np.bincount(index_classes)\n",
        "            index_class_prefer=np.argmax(counts)\n",
        " \n",
        "            n1=(index_classes == index_class_prefer).sum()\n",
        "    \n",
        "            if n1 == 1:\n",
        "                print(\"\\n Each estimator predict a different class\")\n",
        "                prob = probs.max()\n",
        "                indice = [i for i, value in enumerate(probs) if value == prob][0]\n",
        "                class_name = class_names[indice]\n",
        "\n",
        "                \n",
        "            elif n1 == len(estimators)/2 and len(estimators)/2 == self.getNumberElse(index_classes, index_class_prefer):\n",
        "                \n",
        "                print(\"\\n the half-estimators predict a class and the other estimators predict a different class\")\n",
        "                \n",
        "                indices1 = [i for i, value in enumerate(index_classes) if value == index_class_prefer]\n",
        "                sum2=0\n",
        "                for ind in indices1:\n",
        "                    sum2+=probs[ind]\n",
        "                \n",
        "                prob1=sum2/len(indices1)\n",
        "                \n",
        "                n2=self.getNumberDiff(index_classes, index_class_prefer)      \n",
        "                \n",
        "                indices2 = [i for i, value in enumerate(index_classes) if value == n2]\n",
        "                sum2=0\n",
        "                for ind in indices2:\n",
        "                    sum2+=probs[ind]\n",
        "                \n",
        "                prob2=sum2/len(indices2)\n",
        "                \n",
        "                if prob1 < prob2:\n",
        "                    prob=prob2\n",
        "                    indice = [i for i, value in enumerate(index_classes) if value == n2][0]\n",
        "                    class_name = class_names[indice]\n",
        "                    \n",
        "                else:\n",
        "                    prob=prob1\n",
        "                    indice = [i for i, value in enumerate(index_classes) if value == index_class_prefer][0]\n",
        "                    class_name = class_names[indice]\n",
        "                \n",
        "            else:\n",
        "                \n",
        "                sum1=0\n",
        "                nbr=0\n",
        "                for i, index in zip(range(len(probs)),index_classes):\n",
        "                    if index_class_prefer== index:\n",
        "                        sum1+=probs[i]\n",
        "                        nbr+=1\n",
        "                        \n",
        "                prob=sum1/nbr\n",
        "                indice = index_class_prefer\n",
        "                class_name = li[index_class_prefer]\n",
        "\n",
        "            \n",
        "            if show_info==\"info\":\n",
        "                cpt+=1\n",
        "                print(\"\\rpercent: {:.2f}%, li[{}]:{} --> {}\".format(cpt*100/N,index_class_prefer, li[index_class_prefer], prob), end='')   \n",
        "            elif show_info==\"percent\":\n",
        "                cpt+=1\n",
        "                print(\"\\rpercent: {:.2f}%\".format(cpt*100/N), end='')\n",
        "          \n",
        "                \n",
        "            index_classes_glob.append(indice)\n",
        "            class_names_glob.append(class_name)\n",
        "            probs_glob.append(prob)\n",
        "\n",
        "        return np.array(index_classes_glob), np.array(class_names_glob), np.array(probs_glob) \n",
        "    \n",
        "   # soft voting \n",
        "    def votingClassifer_soft(self, estimators, x_test, weight=None, show_info=\"percent\"):\n",
        "        \n",
        "        if show_info not in [\"info\",\"percent\",\"nothing\"]:\n",
        "            raise Exception(\"the attribut 'show_info' should be 'info' or 'percent','nothing'\")  \n",
        "\n",
        "        if weight is None :\n",
        "            weight=np.ones(len(estimators))\n",
        "\n",
        "        if len(weight) != len(estimators):\n",
        "            raise Exception(\"number of models and wheight should be equals\")    \n",
        "\n",
        "        cpt=0 \n",
        "        # get number of classes \n",
        "        x = image.img_to_array(x_test[0])\n",
        "        x = np.expand_dims(x, axis=0)\n",
        "        y_prob = estimators[0].predict(x) \n",
        "        num_classes =  y_prob.shape[1]\n",
        "\n",
        "        Tab=np.zeros(num_classes)# num_classes\n",
        "        index_classes_glob, class_names_glob, probs_glob=[],[],[]\n",
        "        N=len(x_test)\n",
        "        for x in x_test:\n",
        "            index_classes, class_names, probs= [], [], []\n",
        "            for model in estimators:\n",
        "                img = np.expand_dims(x, axis=0)\n",
        "                # make a prediction\n",
        "                y_prob = model.predict(img)[0]\n",
        "                idxs = np.argsort(y_prob)\n",
        "                # loop over the indexes of the high confidence class labels\n",
        "                for (index, value) in enumerate(idxs):\n",
        "                    # build the label and draw the label on the image\n",
        "                    #label = \"{}) {}[{}]: {:.2f}%\".format(index,li[value],value, y_prob[value] * 100)\n",
        "                    #print(label)\n",
        "                    Tab[value]=y_prob[value]\n",
        "\n",
        "                probs.append(Tab)\n",
        "\n",
        "            probs=np.array(probs) # probs.shape: (3, 38)\n",
        "\n",
        "            proba=[]   \n",
        "\n",
        "            div=sum(weight)\n",
        "            for i in range(len(probs[0])):\n",
        "                s=0\n",
        "                for j in range(len(weight)):\n",
        "                    s+= probs[j][i] * weight[j] \n",
        "                s=s/div\n",
        "                proba.append(s)\n",
        "\n",
        "            proba=np.array(proba)\n",
        "            max_prob=max(proba)\n",
        "\n",
        "            indices=[i for i, value in enumerate(proba) if value == max_prob]\n",
        "\n",
        "            index_class, class_name, prob=indices[0],li[indices[0]],max_prob \n",
        "\n",
        "            index_classes_glob.append(index_class)\n",
        "            class_names_glob.append(class_name)\n",
        "            probs_glob.append(prob) \n",
        "\n",
        "            if show_info==\"info\":\n",
        "                cpt+=1\n",
        "                print(\"percent: {:.2f}%, li[{}]:{} --> {}%\".format(cpt*100/N,index_class, li[index_class], prob))   \n",
        "            elif show_info==\"percent\":\n",
        "                cpt+=1\n",
        "                print(\"\\rpercent: {:.2f}%\".format(cpt*100/N), end='')\n",
        "\n",
        "\n",
        "\n",
        "        return np.array(index_classes_glob), np.array(class_names_glob), np.array(probs_glob)  "
      ]
    },
    {
      "cell_type": "code",
      "execution_count": 22,
      "metadata": {
        "colab": {
          "base_uri": "https://localhost:8080/"
        },
        "id": "XiBIK8DcCv5n",
        "outputId": "10fea86d-00d5-48ca-c552-ae08e6f0c98a"
      },
      "outputs": [
        {
          "name": "stdout",
          "output_type": "stream",
          "text": [
            "Found 4010 images belonging to 4 classes.\n"
          ]
        }
      ],
      "source": [
        "valid_set = test_datagenerator.flow_from_directory('/content/drive/MyDrive/data/test',\n",
        "                                                  target_size = (512,512),\n",
        "                                                    batch_size = 32,\n",
        "                                                    class_mode = 'categorical')\n",
        "\n",
        "# valid_set\n",
        "x_test, y_test = valid_set.next() "
      ]
    },
    {
      "cell_type": "code",
      "execution_count": 23,
      "metadata": {
        "id": "BdJfbdK8W35b"
      },
      "outputs": [],
      "source": [
        "batch_stats_callback=CollectBatchStats()\n",
        "batch_size=32\n",
        "epochz=5\n",
        "epoch=10\n",
        "#steps_per_epoch\n",
        "s_p_e=np.ceil(train_generator.samples/batch_size)"
      ]
    },
    {
      "cell_type": "code",
      "execution_count": null,
      "metadata": {
        "id": "C3je8e7Tqyry"
      },
      "outputs": [],
      "source": []
    },
    {
      "cell_type": "code",
      "execution_count": null,
      "metadata": {
        "id": "0mDfTI1U93k4"
      },
      "outputs": [],
      "source": []
    },
    {
      "cell_type": "markdown",
      "metadata": {
        "id": "NTrXHXfPqzJe"
      },
      "source": [
        "model1"
      ]
    },
    {
      "cell_type": "code",
      "execution_count": null,
      "metadata": {
        "colab": {
          "base_uri": "https://localhost:8080/"
        },
        "id": "IyPSUnmW5NEw",
        "outputId": "8d347405-1c08-44cf-b8b8-8aca44aabb25"
      },
      "outputs": [
        {
          "name": "stdout",
          "output_type": "stream",
          "text": [
            "Epoch 1/5\n",
            "265/265 [==============================] - 2133s 8s/step - loss: 0.4499 - acc: 0.8438\n",
            "Epoch 2/5\n",
            "265/265 [==============================] - 151s 571ms/step - loss: 0.3165 - acc: 0.8438\n",
            "Epoch 3/5\n",
            "265/265 [==============================] - 151s 570ms/step - loss: 0.1267 - acc: 0.9688\n",
            "Epoch 4/5\n",
            "265/265 [==============================] - 151s 570ms/step - loss: 0.2091 - acc: 0.9375\n",
            "Epoch 5/5\n",
            "265/265 [==============================] - 151s 570ms/step - loss: 0.3323 - acc: 0.8750\n"
          ]
        },
        {
          "data": {
            "text/plain": [
              "<keras.callbacks.History at 0x7f5e18ec0d90>"
            ]
          },
          "execution_count": 25,
          "metadata": {},
          "output_type": "execute_result"
        }
      ],
      "source": [
        "ebc1.fit(train_generator,\n",
        "         epochs=epochz,\n",
        "         steps_per_epoch=s_p_e,\n",
        "         #validation_data=val_generator,\n",
        "         callbacks=[batch_stats_callback],\n",
        "         )"
      ]
    },
    {
      "cell_type": "markdown",
      "metadata": {
        "id": "TksWwnETUNlo"
      },
      "source": [
        "教師モデル学習"
      ]
    },
    {
      "cell_type": "code",
      "execution_count": 24,
      "metadata": {
        "colab": {
          "base_uri": "https://localhost:8080/"
        },
        "id": "OiAchV3f5bT9",
        "outputId": "e610b0b8-7eff-4be2-ec19-25a38421b787"
      },
      "outputs": [
        {
          "name": "stdout",
          "output_type": "stream",
          "text": [
            "Model: \"sequential_3\"\n",
            "_________________________________________________________________\n",
            " Layer (type)                Output Shape              Param #   \n",
            "=================================================================\n",
            " keras_layer (KerasLayer)    (None, 1280)              207615832 \n",
            "                                                                 \n",
            " dense_3 (Dense)             (None, 4)                 5124      \n",
            "                                                                 \n",
            "=================================================================\n",
            "Total params: 207,620,956\n",
            "Trainable params: 5,124\n",
            "Non-trainable params: 207,615,832\n",
            "_________________________________________________________________\n"
          ]
        }
      ],
      "source": [
        "#上位分類層を接合\n",
        "ebc1=Sequential([feature_extractor_layer,\n",
        "                           layers.Dense(train_generator.num_classes,activation='softmax')])\n",
        "\n",
        "ebc1.summary()\n",
        "\n",
        "ebc1.compile(optimizer=tf.keras.optimizers.Adam(),\n",
        "              loss='categorical_crossentropy',\n",
        "              metrics=['acc'])"
      ]
    },
    {
      "cell_type": "code",
      "execution_count": null,
      "metadata": {
        "colab": {
          "base_uri": "https://localhost:8080/"
        },
        "id": "oYMAPr_wpPn_",
        "outputId": "fa485e51-f212-4429-cf09-41a0490441a7"
      },
      "outputs": [
        {
          "name": "stdout",
          "output_type": "stream",
          "text": [
            "Epoch 1/5\n",
            "265/265 [==============================] - ETA: 0s - loss: 0.4307 - acc: 0.8125\n",
            "Epoch 1: saving model to /content/drive/MyDrive/result7/model01-01.h5\n",
            "265/265 [==============================] - 1135s 4s/step - loss: 0.4307 - acc: 0.8125 - val_loss: 0.5272 - val_acc: 0.8036\n",
            "Epoch 2/5\n",
            "265/265 [==============================] - ETA: 0s - loss: 0.2953 - acc: 0.9062\n",
            "Epoch 2: saving model to /content/drive/MyDrive/result7/model01-02.h5\n",
            "265/265 [==============================] - 229s 864ms/step - loss: 0.2953 - acc: 0.9062 - val_loss: 0.5420 - val_acc: 0.7917\n",
            "Epoch 3/5\n",
            "265/265 [==============================] - ETA: 0s - loss: 0.2359 - acc: 0.9062\n",
            "Epoch 3: saving model to /content/drive/MyDrive/result7/model01-03.h5\n",
            "265/265 [==============================] - 243s 919ms/step - loss: 0.2359 - acc: 0.9062 - val_loss: 0.4825 - val_acc: 0.8298\n",
            "Epoch 4/5\n",
            "265/265 [==============================] - ETA: 0s - loss: 0.2197 - acc: 0.9062\n",
            "Epoch 4: saving model to /content/drive/MyDrive/result7/model01-04.h5\n",
            "265/265 [==============================] - 225s 850ms/step - loss: 0.2197 - acc: 0.9062 - val_loss: 0.4909 - val_acc: 0.8209\n",
            "Epoch 5/5\n",
            "265/265 [==============================] - ETA: 0s - loss: 0.3196 - acc: 0.9688\n",
            "Epoch 5: saving model to /content/drive/MyDrive/result7/model01-05.h5\n",
            "265/265 [==============================] - 226s 852ms/step - loss: 0.3196 - acc: 0.9688 - val_loss: 0.4904 - val_acc: 0.8215\n"
          ]
        },
        {
          "data": {
            "text/plain": [
              "<keras.callbacks.History at 0x7f5e100f4cd0>"
            ]
          },
          "execution_count": 27,
          "metadata": {},
          "output_type": "execute_result"
        }
      ],
      "source": [
        "ebc1.fit(train_generator,\n",
        "         epochs=epochz,\n",
        "         steps_per_epoch=s_p_e,\n",
        "         validation_data=val_generator,\n",
        "         callbacks=[checkpoint1,batch_stats_callback],\n",
        "         )"
      ]
    },
    {
      "cell_type": "code",
      "execution_count": 25,
      "metadata": {
        "colab": {
          "base_uri": "https://localhost:8080/"
        },
        "id": "xCg_kIo-Nkn3",
        "outputId": "3bec577b-1cdb-43de-8add-782507a58f1a"
      },
      "outputs": [
        {
          "name": "stdout",
          "output_type": "stream",
          "text": [
            "Model: \"sequential_4\"\n",
            "_________________________________________________________________\n",
            " Layer (type)                Output Shape              Param #   \n",
            "=================================================================\n",
            " keras_layer (KerasLayer)    (None, 1280)              207615832 \n",
            "                                                                 \n",
            " dense_4 (Dense)             (None, 4)                 5124      \n",
            "                                                                 \n",
            "=================================================================\n",
            "Total params: 207,620,956\n",
            "Trainable params: 5,124\n",
            "Non-trainable params: 207,615,832\n",
            "_________________________________________________________________\n"
          ]
        }
      ],
      "source": [
        "#上位分類層を接合\n",
        "ebc1=Sequential([feature_extractor_layer,\n",
        "                           layers.Dense(train_generator.num_classes,activation='softmax')])\n",
        "\n",
        "ebc1.summary()\n",
        "\n",
        "ebc1.compile(optimizer=tf.keras.optimizers.Adam(),\n",
        "              loss='categorical_crossentropy',\n",
        "              metrics=['acc'])\n",
        "\n"
      ]
    },
    {
      "cell_type": "code",
      "execution_count": null,
      "metadata": {
        "colab": {
          "base_uri": "https://localhost:8080/"
        },
        "id": "WKL-CQd7sshd",
        "outputId": "f0016f50-c0be-42fb-93e5-571e08d82f73"
      },
      "outputs": [
        {
          "name": "stdout",
          "output_type": "stream",
          "text": [
            "Epoch 1/5\n",
            "265/265 [==============================] - ETA: 0s - loss: 0.2509 - acc: 0.9375\n",
            "Epoch 1: saving model to /content/drive/MyDrive/result7/model01-01.h5\n",
            "265/265 [==============================] - 389s 1s/step - loss: 0.2509 - acc: 0.9375 - val_loss: 0.3982 - val_acc: 0.8593\n",
            "Epoch 2/5\n",
            "265/265 [==============================] - ETA: 0s - loss: 0.2627 - acc: 0.9062\n",
            "Epoch 2: saving model to /content/drive/MyDrive/result7/model01-02.h5\n",
            "265/265 [==============================] - 386s 1s/step - loss: 0.2627 - acc: 0.9062 - val_loss: 0.3473 - val_acc: 0.8774\n",
            "Epoch 3/5\n",
            "265/265 [==============================] - ETA: 0s - loss: 0.3562 - acc: 0.9062\n",
            "Epoch 3: saving model to /content/drive/MyDrive/result7/model01-03.h5\n",
            "265/265 [==============================] - 382s 1s/step - loss: 0.3562 - acc: 0.9062 - val_loss: 0.3066 - val_acc: 0.8907\n",
            "Epoch 4/5\n",
            "265/265 [==============================] - ETA: 0s - loss: 0.2274 - acc: 0.9062\n",
            "Epoch 4: saving model to /content/drive/MyDrive/result7/model01-04.h5\n",
            "265/265 [==============================] - 382s 1s/step - loss: 0.2274 - acc: 0.9062 - val_loss: 0.2965 - val_acc: 0.8953\n",
            "Epoch 5/5\n",
            "265/265 [==============================] - ETA: 0s - loss: 0.2425 - acc: 0.9375\n",
            "Epoch 5: saving model to /content/drive/MyDrive/result7/model01-05.h5\n",
            "265/265 [==============================] - 389s 1s/step - loss: 0.2425 - acc: 0.9375 - val_loss: 0.2922 - val_acc: 0.8950\n"
          ]
        }
      ],
      "source": [
        "#擬似ラベル作成\n",
        "history=ebc1.fit(train_generator,\n",
        "                  epochs=epochz,\n",
        "                  steps_per_epoch=s_p_e,\n",
        "                  validation_data=gizi_data,\n",
        "                  callbacks=[checkpoint1,batch_stats_callback]\n",
        "                  )"
      ]
    },
    {
      "cell_type": "code",
      "execution_count": null,
      "metadata": {
        "colab": {
          "base_uri": "https://localhost:8080/"
        },
        "id": "7Pj9bX04OEBi",
        "outputId": "09853917-5892-435a-bc46-d7f40ef54765"
      },
      "outputs": [
        {
          "name": "stdout",
          "output_type": "stream",
          "text": [
            "379/379 [==============================] - 216s 560ms/step\n"
          ]
        }
      ],
      "source": [
        "#疑似ラベルの予測\n",
        "gizi_label1=ebc1.predict(gizi_data)"
      ]
    },
    {
      "cell_type": "code",
      "execution_count": 26,
      "metadata": {
        "id": "kouowLzUOFP4"
      },
      "outputs": [],
      "source": [
        "feature_extractor_layer.trainable=False\n",
        "#入力画像ノイズ(rand augmentation)の設定\n",
        "data_augmentation=Sequential([layers.RandomRotation(2.10)])\n",
        "#モデルノイズ（stochastic depth）の設定\n",
        "stochastic_Depth=Sequential([tfa.layers.StochasticDepth(0.35)])\n",
        "\n",
        "#モデルにrand augmentationを適用\n",
        "model1=Sequential([data_augmentation])\n",
        "#モデルにstochastic depthを適用\n",
        "model1=Sequential([stochastic_Depth])\n",
        "\n",
        "#モデルノイズ（dropout）の設定と適用\n",
        "model1=Sequential([feature_extractor_layer,\n",
        "                           layers.Dense(train_generator.num_classes,activation='softmax'),\n",
        "                           #layers.Dropout(0.2)\n",
        "                           \n",
        "                  ])"
      ]
    },
    {
      "cell_type": "code",
      "execution_count": 27,
      "metadata": {
        "colab": {
          "base_uri": "https://localhost:8080/"
        },
        "id": "byBJbPE9OWq_",
        "outputId": "dadf029c-9c4f-4798-e97d-c8949fb733b2"
      },
      "outputs": [
        {
          "name": "stdout",
          "output_type": "stream",
          "text": [
            "Model: \"sequential_9\"\n",
            "_________________________________________________________________\n",
            " Layer (type)                Output Shape              Param #   \n",
            "=================================================================\n",
            " keras_layer (KerasLayer)    (None, 1280)              207615832 \n",
            "                                                                 \n",
            " dense_5 (Dense)             (None, 4)                 5124      \n",
            "                                                                 \n",
            "=================================================================\n",
            "Total params: 207,620,956\n",
            "Trainable params: 5,124\n",
            "Non-trainable params: 207,615,832\n",
            "_________________________________________________________________\n"
          ]
        }
      ],
      "source": [
        "#model1\n",
        "model1.compile(optimizer=tf.keras.optimizers.Adam(),\n",
        "              loss='categorical_crossentropy',\n",
        "              metrics=['acc'])\n",
        "model1.summary()\n"
      ]
    },
    {
      "cell_type": "code",
      "execution_count": null,
      "metadata": {
        "colab": {
          "base_uri": "https://localhost:8080/"
        },
        "id": "ZIdU673iOaU2",
        "outputId": "2ad25c95-abb9-41f7-a1fb-c304e27f26fb"
      },
      "outputs": [
        {
          "name": "stdout",
          "output_type": "stream",
          "text": [
            "Epoch 1/5\n",
            "379/379 [==============================] - ETA: 0s - loss: 0.4958 - acc: 0.8438\n",
            "Epoch 1: saving model to /content/drive/MyDrive/result7/model01-01.h5\n",
            "379/379 [==============================] - 306s 788ms/step - loss: 0.4958 - acc: 0.8438 - val_loss: 0.3762 - val_acc: 0.8634\n",
            "Epoch 2/5\n",
            "379/379 [==============================] - ETA: 0s - loss: 0.2086 - acc: 0.9062\n",
            "Epoch 2: saving model to /content/drive/MyDrive/result7/model01-02.h5\n",
            "379/379 [==============================] - 295s 779ms/step - loss: 0.2086 - acc: 0.9062 - val_loss: 0.3733 - val_acc: 0.8570\n",
            "Epoch 3/5\n",
            "379/379 [==============================] - ETA: 0s - loss: 0.2287 - acc: 0.9688\n",
            "Epoch 3: saving model to /content/drive/MyDrive/result7/model01-03.h5\n",
            "379/379 [==============================] - 294s 776ms/step - loss: 0.2287 - acc: 0.9688 - val_loss: 0.2860 - val_acc: 0.9011\n",
            "Epoch 4/5\n",
            "379/379 [==============================] - ETA: 0s - loss: 0.0959 - acc: 0.9688\n",
            "Epoch 4: saving model to /content/drive/MyDrive/result7/model01-04.h5\n",
            "379/379 [==============================] - 304s 802ms/step - loss: 0.0959 - acc: 0.9688 - val_loss: 0.2723 - val_acc: 0.9019\n",
            "Epoch 5/5\n",
            "379/379 [==============================] - ETA: 0s - loss: 0.1320 - acc: 0.9688\n",
            "Epoch 5: saving model to /content/drive/MyDrive/result7/model01-05.h5\n",
            "379/379 [==============================] - 303s 799ms/step - loss: 0.1320 - acc: 0.9688 - val_loss: 0.2465 - val_acc: 0.9085\n"
          ]
        }
      ],
      "source": [
        "#model1\n",
        "history=model1.fit(gizi_data,\n",
        "                  epochs=epochz,\n",
        "                  steps_per_epoch=np.ceil(gizi_data.samples/batch_size),\n",
        "                  validation_data=val_generator,\n",
        "                  callbacks=[checkpoint1,batch_stats_callback]\n",
        "                  )"
      ]
    },
    {
      "cell_type": "markdown",
      "metadata": {
        "id": "1wh8HdG_4BNY"
      },
      "source": [
        "1"
      ]
    },
    {
      "cell_type": "code",
      "execution_count": 28,
      "metadata": {
        "colab": {
          "base_uri": "https://localhost:8080/",
          "height": 1000
        },
        "id": "4WWrbzGdrZQR",
        "outputId": "e2be6127-d2e2-4cac-e289-3b4df86828bc"
      },
      "outputs": [
        {
          "name": "stdout",
          "output_type": "stream",
          "text": [
            "Epoch 1/10\n",
            "265/265 [==============================] - ETA: 0s - loss: 0.3162 - acc: 0.9062\n",
            "Epoch 1: saving model to /content/drive/MyDrive/result7/model01-01.h5\n",
            "265/265 [==============================] - 3287s 12s/step - loss: 0.3162 - acc: 0.9062 - val_loss: 0.5616 - val_acc: 0.7926\n",
            "Epoch 2/10\n",
            "265/265 [==============================] - ETA: 0s - loss: 0.4011 - acc: 0.8438\n",
            "Epoch 2: saving model to /content/drive/MyDrive/result7/model01-02.h5\n",
            "265/265 [==============================] - 219s 828ms/step - loss: 0.4011 - acc: 0.8438 - val_loss: 0.5407 - val_acc: 0.8022\n",
            "Epoch 3/10\n",
            "265/265 [==============================] - ETA: 0s - loss: 0.3114 - acc: 0.9062\n",
            "Epoch 3: saving model to /content/drive/MyDrive/result7/model01-03.h5\n",
            "265/265 [==============================] - 218s 824ms/step - loss: 0.3114 - acc: 0.9062 - val_loss: 0.5418 - val_acc: 0.7975\n",
            "Epoch 4/10\n",
            "265/265 [==============================] - ETA: 0s - loss: 0.1871 - acc: 0.9688\n",
            "Epoch 4: saving model to /content/drive/MyDrive/result7/model01-04.h5\n",
            "265/265 [==============================] - 219s 827ms/step - loss: 0.1871 - acc: 0.9688 - val_loss: 0.4881 - val_acc: 0.8190\n",
            "Epoch 5/10\n",
            "265/265 [==============================] - ETA: 0s - loss: 0.3143 - acc: 0.9062\n",
            "Epoch 5: saving model to /content/drive/MyDrive/result7/model01-05.h5\n",
            "265/265 [==============================] - 219s 825ms/step - loss: 0.3143 - acc: 0.9062 - val_loss: 0.5757 - val_acc: 0.7953\n",
            "Epoch 6/10\n",
            "265/265 [==============================] - ETA: 0s - loss: 0.3436 - acc: 0.8438\n",
            "Epoch 6: saving model to /content/drive/MyDrive/result7/model01-06.h5\n",
            "265/265 [==============================] - 218s 824ms/step - loss: 0.3436 - acc: 0.8438 - val_loss: 0.5005 - val_acc: 0.8193\n",
            "Epoch 7/10\n",
            "265/265 [==============================] - ETA: 0s - loss: 0.3359 - acc: 0.9375\n",
            "Epoch 7: saving model to /content/drive/MyDrive/result7/model01-07.h5\n",
            "265/265 [==============================] - 218s 821ms/step - loss: 0.3359 - acc: 0.9375 - val_loss: 0.4757 - val_acc: 0.8234\n",
            "Epoch 8/10\n",
            "265/265 [==============================] - ETA: 0s - loss: 0.2221 - acc: 0.9062\n",
            "Epoch 8: saving model to /content/drive/MyDrive/result7/model01-08.h5\n",
            "265/265 [==============================] - 217s 821ms/step - loss: 0.2221 - acc: 0.9062 - val_loss: 0.4433 - val_acc: 0.8300\n",
            "Epoch 9/10\n",
            "265/265 [==============================] - ETA: 0s - loss: 0.1013 - acc: 0.9688\n",
            "Epoch 9: saving model to /content/drive/MyDrive/result7/model01-09.h5\n",
            "265/265 [==============================] - 217s 820ms/step - loss: 0.1013 - acc: 0.9688 - val_loss: 0.4713 - val_acc: 0.8229\n",
            "Epoch 10/10\n",
            "265/265 [==============================] - ETA: 0s - loss: 0.1404 - acc: 0.9688\n",
            "Epoch 10: saving model to /content/drive/MyDrive/result7/model01-10.h5\n"
          ]
        },
        {
          "ename": "OSError",
          "evalue": "ignored",
          "output_type": "error",
          "traceback": [
            "\u001b[0;31m---------------------------------------------------------------------------\u001b[0m",
            "\u001b[0;31mOSError\u001b[0m                                   Traceback (most recent call last)",
            "\u001b[0;32m<ipython-input-28-213ee6bd4299>\u001b[0m in \u001b[0;36m<module>\u001b[0;34m\u001b[0m\n\u001b[1;32m      3\u001b[0m                    \u001b[0msteps_per_epoch\u001b[0m\u001b[0;34m=\u001b[0m\u001b[0ms_p_e\u001b[0m\u001b[0;34m,\u001b[0m\u001b[0;34m\u001b[0m\u001b[0;34m\u001b[0m\u001b[0m\n\u001b[1;32m      4\u001b[0m                    \u001b[0mvalidation_data\u001b[0m\u001b[0;34m=\u001b[0m\u001b[0mval_generator\u001b[0m\u001b[0;34m,\u001b[0m\u001b[0;34m\u001b[0m\u001b[0;34m\u001b[0m\u001b[0m\n\u001b[0;32m----> 5\u001b[0;31m                    \u001b[0mcallbacks\u001b[0m\u001b[0;34m=\u001b[0m\u001b[0;34m[\u001b[0m\u001b[0mcheckpoint1\u001b[0m\u001b[0;34m,\u001b[0m\u001b[0mbatch_stats_callback\u001b[0m\u001b[0;34m]\u001b[0m\u001b[0;34m\u001b[0m\u001b[0;34m\u001b[0m\u001b[0m\n\u001b[0m\u001b[1;32m      6\u001b[0m                    )\n\u001b[1;32m      7\u001b[0m \u001b[0;34m\u001b[0m\u001b[0m\n",
            "\u001b[0;32m/usr/local/lib/python3.7/dist-packages/keras/utils/traceback_utils.py\u001b[0m in \u001b[0;36merror_handler\u001b[0;34m(*args, **kwargs)\u001b[0m\n\u001b[1;32m     65\u001b[0m     \u001b[0;32mexcept\u001b[0m \u001b[0mException\u001b[0m \u001b[0;32mas\u001b[0m \u001b[0me\u001b[0m\u001b[0;34m:\u001b[0m  \u001b[0;31m# pylint: disable=broad-except\u001b[0m\u001b[0;34m\u001b[0m\u001b[0;34m\u001b[0m\u001b[0m\n\u001b[1;32m     66\u001b[0m       \u001b[0mfiltered_tb\u001b[0m \u001b[0;34m=\u001b[0m \u001b[0m_process_traceback_frames\u001b[0m\u001b[0;34m(\u001b[0m\u001b[0me\u001b[0m\u001b[0;34m.\u001b[0m\u001b[0m__traceback__\u001b[0m\u001b[0;34m)\u001b[0m\u001b[0;34m\u001b[0m\u001b[0;34m\u001b[0m\u001b[0m\n\u001b[0;32m---> 67\u001b[0;31m       \u001b[0;32mraise\u001b[0m \u001b[0me\u001b[0m\u001b[0;34m.\u001b[0m\u001b[0mwith_traceback\u001b[0m\u001b[0;34m(\u001b[0m\u001b[0mfiltered_tb\u001b[0m\u001b[0;34m)\u001b[0m \u001b[0;32mfrom\u001b[0m \u001b[0;32mNone\u001b[0m\u001b[0;34m\u001b[0m\u001b[0;34m\u001b[0m\u001b[0m\n\u001b[0m\u001b[1;32m     68\u001b[0m     \u001b[0;32mfinally\u001b[0m\u001b[0;34m:\u001b[0m\u001b[0;34m\u001b[0m\u001b[0;34m\u001b[0m\u001b[0m\n\u001b[1;32m     69\u001b[0m       \u001b[0;32mdel\u001b[0m \u001b[0mfiltered_tb\u001b[0m\u001b[0;34m\u001b[0m\u001b[0;34m\u001b[0m\u001b[0m\n",
            "\u001b[0;32m/usr/local/lib/python3.7/dist-packages/h5py/_hl/files.py\u001b[0m in \u001b[0;36m__init__\u001b[0;34m(self, name, mode, driver, libver, userblock_size, swmr, rdcc_nslots, rdcc_nbytes, rdcc_w0, track_order, fs_strategy, fs_persist, fs_threshold, **kwds)\u001b[0m\n\u001b[1;32m    425\u001b[0m                                fapl, fcpl=make_fcpl(track_order=track_order, fs_strategy=fs_strategy,\n\u001b[1;32m    426\u001b[0m                                fs_persist=fs_persist, fs_threshold=fs_threshold),\n\u001b[0;32m--> 427\u001b[0;31m                                swmr=swmr)\n\u001b[0m\u001b[1;32m    428\u001b[0m \u001b[0;34m\u001b[0m\u001b[0m\n\u001b[1;32m    429\u001b[0m             \u001b[0;32mif\u001b[0m \u001b[0misinstance\u001b[0m\u001b[0;34m(\u001b[0m\u001b[0mlibver\u001b[0m\u001b[0;34m,\u001b[0m \u001b[0mtuple\u001b[0m\u001b[0;34m)\u001b[0m\u001b[0;34m:\u001b[0m\u001b[0;34m\u001b[0m\u001b[0;34m\u001b[0m\u001b[0m\n",
            "\u001b[0;32m/usr/local/lib/python3.7/dist-packages/h5py/_hl/files.py\u001b[0m in \u001b[0;36mmake_fid\u001b[0;34m(name, mode, userblock_size, fapl, fcpl, swmr)\u001b[0m\n\u001b[1;32m    194\u001b[0m         \u001b[0mfid\u001b[0m \u001b[0;34m=\u001b[0m \u001b[0mh5f\u001b[0m\u001b[0;34m.\u001b[0m\u001b[0mcreate\u001b[0m\u001b[0;34m(\u001b[0m\u001b[0mname\u001b[0m\u001b[0;34m,\u001b[0m \u001b[0mh5f\u001b[0m\u001b[0;34m.\u001b[0m\u001b[0mACC_EXCL\u001b[0m\u001b[0;34m,\u001b[0m \u001b[0mfapl\u001b[0m\u001b[0;34m=\u001b[0m\u001b[0mfapl\u001b[0m\u001b[0;34m,\u001b[0m \u001b[0mfcpl\u001b[0m\u001b[0;34m=\u001b[0m\u001b[0mfcpl\u001b[0m\u001b[0;34m)\u001b[0m\u001b[0;34m\u001b[0m\u001b[0;34m\u001b[0m\u001b[0m\n\u001b[1;32m    195\u001b[0m     \u001b[0;32melif\u001b[0m \u001b[0mmode\u001b[0m \u001b[0;34m==\u001b[0m \u001b[0;34m'w'\u001b[0m\u001b[0;34m:\u001b[0m\u001b[0;34m\u001b[0m\u001b[0;34m\u001b[0m\u001b[0m\n\u001b[0;32m--> 196\u001b[0;31m         \u001b[0mfid\u001b[0m \u001b[0;34m=\u001b[0m \u001b[0mh5f\u001b[0m\u001b[0;34m.\u001b[0m\u001b[0mcreate\u001b[0m\u001b[0;34m(\u001b[0m\u001b[0mname\u001b[0m\u001b[0;34m,\u001b[0m \u001b[0mh5f\u001b[0m\u001b[0;34m.\u001b[0m\u001b[0mACC_TRUNC\u001b[0m\u001b[0;34m,\u001b[0m \u001b[0mfapl\u001b[0m\u001b[0;34m=\u001b[0m\u001b[0mfapl\u001b[0m\u001b[0;34m,\u001b[0m \u001b[0mfcpl\u001b[0m\u001b[0;34m=\u001b[0m\u001b[0mfcpl\u001b[0m\u001b[0;34m)\u001b[0m\u001b[0;34m\u001b[0m\u001b[0;34m\u001b[0m\u001b[0m\n\u001b[0m\u001b[1;32m    197\u001b[0m     \u001b[0;32melif\u001b[0m \u001b[0mmode\u001b[0m \u001b[0;34m==\u001b[0m \u001b[0;34m'a'\u001b[0m\u001b[0;34m:\u001b[0m\u001b[0;34m\u001b[0m\u001b[0;34m\u001b[0m\u001b[0m\n\u001b[1;32m    198\u001b[0m         \u001b[0;31m# Open in append mode (read/write).\u001b[0m\u001b[0;34m\u001b[0m\u001b[0;34m\u001b[0m\u001b[0;34m\u001b[0m\u001b[0m\n",
            "\u001b[0;32mh5py/_objects.pyx\u001b[0m in \u001b[0;36mh5py._objects.with_phil.wrapper\u001b[0;34m()\u001b[0m\n",
            "\u001b[0;32mh5py/_objects.pyx\u001b[0m in \u001b[0;36mh5py._objects.with_phil.wrapper\u001b[0;34m()\u001b[0m\n",
            "\u001b[0;32mh5py/h5f.pyx\u001b[0m in \u001b[0;36mh5py.h5f.create\u001b[0;34m()\u001b[0m\n",
            "\u001b[0;31mOSError\u001b[0m: Unable to create file (unable to open file: name = '/content/drive/MyDrive/result7/model01-10.h5', errno = 5, error message = 'Input/output error', flags = 13, o_flags = 242)"
          ]
        }
      ],
      "source": [
        "history=model1.fit(train_generator,\n",
        "                   epochs=epoch,\n",
        "                   steps_per_epoch=s_p_e,\n",
        "                   validation_data=val_generator,\n",
        "                   callbacks=[checkpoint1,batch_stats_callback]\n",
        "                   )\n",
        "\n",
        "#y_prob = model1.predict(val_data)\n",
        "#y_pred1 = y_prob.argmax(axis=-1)\n",
        "#y_test1=np.argmax(y_test, axis=1)\n",
        "# accuracy\n",
        "#print(model1+\" accuracy: \",accuracy_score(y_test1,y_pred1))\n",
        "#del model1 , y_pred1, y_test1"
      ]
    },
    {
      "cell_type": "code",
      "execution_count": null,
      "metadata": {
        "id": "ckOn-cbrOkLK"
      },
      "outputs": [],
      "source": [
        "# HDF5フォーマットでモデルを保存するために必要\n",
        "!pip install -q pyyaml h5py  "
      ]
    },
    {
      "cell_type": "code",
      "execution_count": 29,
      "metadata": {
        "colab": {
          "base_uri": "https://localhost:8080/"
        },
        "id": "RekH5DbcOgl0",
        "outputId": "957a997f-47be-4aa0-f9d1-8524204a58cf"
      },
      "outputs": [
        {
          "name": "stderr",
          "output_type": "stream",
          "text": [
            "WARNING:absl:Found untraced functions such as restored_function_body, restored_function_body, restored_function_body, restored_function_body, restored_function_body while saving (showing 5 of 1594). These functions will not be directly callable after loading.\n"
          ]
        }
      ],
      "source": [
        "model1.save('/content/drive/MyDrive/result7/model1.h5/')"
      ]
    },
    {
      "cell_type": "code",
      "execution_count": null,
      "metadata": {
        "id": "vbMmxaF5RKmi"
      },
      "outputs": [],
      "source": [
        "#from google.colab import runtime\n",
        "#runtime.unassign()"
      ]
    },
    {
      "cell_type": "code",
      "execution_count": null,
      "metadata": {
        "id": "Ptdqut3-Zhe3"
      },
      "outputs": [],
      "source": []
    },
    {
      "cell_type": "markdown",
      "metadata": {
        "id": "v9USPnLMOIY8"
      },
      "source": [
        "model2"
      ]
    },
    {
      "cell_type": "code",
      "execution_count": null,
      "metadata": {
        "colab": {
          "base_uri": "https://localhost:8080/"
        },
        "id": "JjdlcbD3pSVa",
        "outputId": "6a239632-1a1b-4e09-cdbe-d18151aa4e30"
      },
      "outputs": [
        {
          "name": "stdout",
          "output_type": "stream",
          "text": [
            "Epoch 1/5\n",
            "265/265 [==============================] - 60s 225ms/step - loss: 0.6103 - acc: 0.7812\n",
            "Epoch 2/5\n",
            "265/265 [==============================] - 46s 174ms/step - loss: 0.4848 - acc: 0.9062\n",
            "Epoch 3/5\n",
            "265/265 [==============================] - 46s 172ms/step - loss: 0.3067 - acc: 0.9062\n",
            "Epoch 4/5\n",
            "265/265 [==============================] - 47s 177ms/step - loss: 0.2994 - acc: 0.9062\n",
            "Epoch 5/5\n",
            "265/265 [==============================] - 46s 173ms/step - loss: 0.3883 - acc: 0.9062\n"
          ]
        },
        {
          "data": {
            "text/plain": [
              "<keras.callbacks.History at 0x7fafcd5f1690>"
            ]
          },
          "execution_count": 79,
          "metadata": {},
          "output_type": "execute_result"
        }
      ],
      "source": [
        "ebc2.fit(train_generator,\n",
        "         epochs=epochz,\n",
        "         steps_per_epoch=s_p_e,\n",
        "         #validation_data=val_generator,\n",
        "         callbacks=[batch_stats_callback],\n",
        "         )"
      ]
    },
    {
      "cell_type": "markdown",
      "metadata": {
        "id": "KXngMj2A6x20"
      },
      "source": [
        "教師モデル学習"
      ]
    },
    {
      "cell_type": "code",
      "execution_count": null,
      "metadata": {
        "colab": {
          "base_uri": "https://localhost:8080/"
        },
        "id": "y1XNehJENlRQ",
        "outputId": "0a205179-a393-441f-e77c-382a2115aa05"
      },
      "outputs": [
        {
          "name": "stdout",
          "output_type": "stream",
          "text": [
            "Model: \"sequential_24\"\n",
            "_________________________________________________________________\n",
            " Layer (type)                Output Shape              Param #   \n",
            "=================================================================\n",
            " keras_layer_3 (KerasLayer)  (None, 1280)              207615832 \n",
            "                                                                 \n",
            " dense_12 (Dense)            (None, 4)                 5124      \n",
            "                                                                 \n",
            "=================================================================\n",
            "Total params: 207,620,956\n",
            "Trainable params: 5,124\n",
            "Non-trainable params: 207,615,832\n",
            "_________________________________________________________________\n"
          ]
        }
      ],
      "source": [
        "#上位分類層を接合\n",
        "ebc2=Sequential([feature_extractor_layer,\n",
        "                           layers.Dense(train_generator.num_classes,activation='softmax')])\n",
        "\n",
        "ebc2.summary()\n",
        "\n",
        "ebc2.compile(optimizer=tf.keras.optimizers.Adam(),\n",
        "              loss='categorical_crossentropy',\n",
        "              metrics=['acc'])"
      ]
    },
    {
      "cell_type": "code",
      "execution_count": null,
      "metadata": {
        "colab": {
          "base_uri": "https://localhost:8080/"
        },
        "id": "zp5Gkdim6ope",
        "outputId": "3538d84a-d302-46ae-a618-c0b376ab93f0"
      },
      "outputs": [
        {
          "name": "stdout",
          "output_type": "stream",
          "text": [
            "Epoch 1/5\n",
            "265/265 [==============================] - ETA: 0s - loss: 0.2647 - acc: 0.9375\n",
            "Epoch 1: saving model to /content/drive/MyDrive/result7/model02-01.h5\n",
            "265/265 [==============================] - 223s 811ms/step - loss: 0.2647 - acc: 0.9375 - val_loss: 0.5438 - val_acc: 0.7970\n",
            "Epoch 2/5\n",
            "265/265 [==============================] - ETA: 0s - loss: 0.2187 - acc: 0.9375\n",
            "Epoch 2: saving model to /content/drive/MyDrive/result7/model02-02.h5\n",
            "265/265 [==============================] - 233s 881ms/step - loss: 0.2187 - acc: 0.9375 - val_loss: 0.4928 - val_acc: 0.8157\n",
            "Epoch 3/5\n",
            "265/265 [==============================] - ETA: 0s - loss: 0.2958 - acc: 0.8750\n",
            "Epoch 3: saving model to /content/drive/MyDrive/result7/model02-03.h5\n",
            "265/265 [==============================] - 211s 795ms/step - loss: 0.2958 - acc: 0.8750 - val_loss: 0.4664 - val_acc: 0.8259\n",
            "Epoch 4/5\n",
            "265/265 [==============================] - ETA: 0s - loss: 0.1512 - acc: 0.9688\n",
            "Epoch 4: saving model to /content/drive/MyDrive/result7/model02-04.h5\n",
            "265/265 [==============================] - 211s 796ms/step - loss: 0.1512 - acc: 0.9688 - val_loss: 0.5296 - val_acc: 0.8074\n",
            "Epoch 5/5\n",
            "265/265 [==============================] - ETA: 0s - loss: 0.1073 - acc: 1.0000\n",
            "Epoch 5: saving model to /content/drive/MyDrive/result7/model02-05.h5\n",
            "265/265 [==============================] - 211s 795ms/step - loss: 0.1073 - acc: 1.0000 - val_loss: 0.5571 - val_acc: 0.8017\n"
          ]
        },
        {
          "data": {
            "text/plain": [
              "<keras.callbacks.History at 0x7faefd117c10>"
            ]
          },
          "execution_count": 81,
          "metadata": {},
          "output_type": "execute_result"
        }
      ],
      "source": [
        "ebc2.fit(train_generator,\n",
        "         epochs=epochz,\n",
        "         steps_per_epoch=s_p_e,\n",
        "         validation_data=val_generator,\n",
        "         callbacks=[batch_stats_callback,checkpoint2],\n",
        "         )"
      ]
    },
    {
      "cell_type": "code",
      "execution_count": null,
      "metadata": {
        "colab": {
          "base_uri": "https://localhost:8080/"
        },
        "id": "EdpxkG4E6qoi",
        "outputId": "47a9ab49-0722-4f39-c99d-5f35eacb4664"
      },
      "outputs": [
        {
          "name": "stdout",
          "output_type": "stream",
          "text": [
            "Model: \"sequential_25\"\n",
            "_________________________________________________________________\n",
            " Layer (type)                Output Shape              Param #   \n",
            "=================================================================\n",
            " keras_layer_3 (KerasLayer)  (None, 1280)              207615832 \n",
            "                                                                 \n",
            " dense_13 (Dense)            (None, 4)                 5124      \n",
            "                                                                 \n",
            "=================================================================\n",
            "Total params: 207,620,956\n",
            "Trainable params: 5,124\n",
            "Non-trainable params: 207,615,832\n",
            "_________________________________________________________________\n"
          ]
        }
      ],
      "source": [
        "#上位分類層を接合\n",
        "ebc2=Sequential([feature_extractor_layer,\n",
        "                           layers.Dense(train_generator.num_classes,activation='softmax')])\n",
        "\n",
        "ebc2.summary()\n",
        "\n",
        "ebc2.compile(optimizer=tf.keras.optimizers.Adam(),\n",
        "              loss='categorical_crossentropy',\n",
        "              metrics=['acc'])"
      ]
    },
    {
      "cell_type": "code",
      "execution_count": null,
      "metadata": {
        "colab": {
          "base_uri": "https://localhost:8080/"
        },
        "id": "4XMqb4oprnLb",
        "outputId": "25f7cfd2-0707-4fc6-af30-67edffc72955"
      },
      "outputs": [
        {
          "name": "stdout",
          "output_type": "stream",
          "text": [
            "Epoch 1/5\n",
            "265/265 [==============================] - ETA: 0s - loss: 0.2666 - acc: 0.8750\n",
            "Epoch 1: saving model to /content/drive/MyDrive/result7/model02-01.h5\n",
            "265/265 [==============================] - 415s 2s/step - loss: 0.2666 - acc: 0.8750 - val_loss: 0.3851 - val_acc: 0.8703\n",
            "Epoch 2/5\n",
            "265/265 [==============================] - ETA: 0s - loss: 0.3148 - acc: 0.8438\n",
            "Epoch 2: saving model to /content/drive/MyDrive/result7/model02-02.h5\n",
            "265/265 [==============================] - 407s 2s/step - loss: 0.3148 - acc: 0.8438 - val_loss: 0.3367 - val_acc: 0.8815\n",
            "Epoch 3/5\n",
            "265/265 [==============================] - ETA: 0s - loss: 0.4747 - acc: 0.8125\n",
            "Epoch 3: saving model to /content/drive/MyDrive/result7/model02-03.h5\n",
            "265/265 [==============================] - 408s 2s/step - loss: 0.4747 - acc: 0.8125 - val_loss: 0.3423 - val_acc: 0.8751\n",
            "Epoch 4/5\n",
            "265/265 [==============================] - ETA: 0s - loss: 0.1780 - acc: 0.9062\n",
            "Epoch 4: saving model to /content/drive/MyDrive/result7/model02-04.h5\n",
            "265/265 [==============================] - 402s 2s/step - loss: 0.1780 - acc: 0.9062 - val_loss: 0.3100 - val_acc: 0.8874\n",
            "Epoch 5/5\n",
            "265/265 [==============================] - ETA: 0s - loss: 0.4070 - acc: 0.8438\n",
            "Epoch 5: saving model to /content/drive/MyDrive/result7/model02-05.h5\n",
            "265/265 [==============================] - 403s 2s/step - loss: 0.4070 - acc: 0.8438 - val_loss: 0.2697 - val_acc: 0.9036\n"
          ]
        }
      ],
      "source": [
        "#擬似ラベル作成\n",
        "history=ebc2.fit(train_generator,\n",
        "                 epochs=epochz,\n",
        "                 steps_per_epoch=s_p_e,\n",
        "                 validation_data=gizi_data,\n",
        "                 callbacks=[checkpoint2,batch_stats_callback]\n",
        "                 )"
      ]
    },
    {
      "cell_type": "code",
      "execution_count": null,
      "metadata": {
        "colab": {
          "base_uri": "https://localhost:8080/"
        },
        "id": "IVmd6T5-OhOz",
        "outputId": "144f874d-de8b-405a-db1e-e556d1835efa"
      },
      "outputs": [
        {
          "name": "stdout",
          "output_type": "stream",
          "text": [
            "379/379 [==============================] - 206s 531ms/step\n"
          ]
        }
      ],
      "source": [
        "gizi_label2=ebc2.predict(gizi_data)"
      ]
    },
    {
      "cell_type": "code",
      "execution_count": null,
      "metadata": {
        "id": "157xYYJjOmPW"
      },
      "outputs": [],
      "source": [
        "feature_extractor_layer.trainable=False\n",
        "#入力画像ノイズ(rand augmentation)の設定\n",
        "data_augmentation=Sequential([layers.RandomRotation(2.10)])\n",
        "#モデルノイズ（stochastic depth）の設定\n",
        "stochastic_Depth=Sequential([tfa.layers.StochasticDepth(0.35)])\n",
        "\n",
        "#モデルにrand augmentationを適用\n",
        "model2=Sequential([data_augmentation])\n",
        "#モデルにstochastic depthを適用\n",
        "model2=Sequential([stochastic_Depth])\n",
        "\n",
        "\n",
        "\n",
        "model2=Sequential([feature_extractor_layer,\n",
        "                           layers.Dense(train_generator.num_classes,activation='softmax'),\n",
        "                           #layers.Dropout(0.2)\n",
        "                  ])\n",
        "\n"
      ]
    },
    {
      "cell_type": "code",
      "execution_count": null,
      "metadata": {
        "colab": {
          "base_uri": "https://localhost:8080/"
        },
        "id": "ic2Mzg1JOpH_",
        "outputId": "7c5b45fe-aabf-46ce-b416-80843fd3c238"
      },
      "outputs": [
        {
          "name": "stdout",
          "output_type": "stream",
          "text": [
            "Model: \"sequential_30\"\n",
            "_________________________________________________________________\n",
            " Layer (type)                Output Shape              Param #   \n",
            "=================================================================\n",
            " keras_layer_3 (KerasLayer)  (None, 1280)              207615832 \n",
            "                                                                 \n",
            " dense_14 (Dense)            (None, 4)                 5124      \n",
            "                                                                 \n",
            "=================================================================\n",
            "Total params: 207,620,956\n",
            "Trainable params: 5,124\n",
            "Non-trainable params: 207,615,832\n",
            "_________________________________________________________________\n"
          ]
        }
      ],
      "source": [
        "#model2\n",
        "model2.compile(optimizer=tf.keras.optimizers.Adam(),\n",
        "              loss='categorical_crossentropy',\n",
        "              metrics=['acc'])\n",
        "model2.summary()\n"
      ]
    },
    {
      "cell_type": "code",
      "execution_count": null,
      "metadata": {
        "colab": {
          "base_uri": "https://localhost:8080/"
        },
        "id": "i8rZ1QSROqdZ",
        "outputId": "46807ee0-e5e7-44b6-c7c2-dea1b5afffe3"
      },
      "outputs": [
        {
          "name": "stdout",
          "output_type": "stream",
          "text": [
            "Epoch 1/5\n",
            "379/379 [==============================] - ETA: 0s - loss: 0.3168 - acc: 0.8438\n",
            "Epoch 1: saving model to /content/drive/MyDrive/result7/model02-01.h5\n",
            "379/379 [==============================] - 342s 879ms/step - loss: 0.3168 - acc: 0.8438 - val_loss: 0.3828 - val_acc: 0.8647\n",
            "Epoch 2/5\n",
            "379/379 [==============================] - ETA: 0s - loss: 0.2607 - acc: 0.9062\n",
            "Epoch 2: saving model to /content/drive/MyDrive/result7/model02-02.h5\n",
            "379/379 [==============================] - 329s 868ms/step - loss: 0.2607 - acc: 0.9062 - val_loss: 0.3680 - val_acc: 0.8565\n",
            "Epoch 3/5\n",
            "379/379 [==============================] - ETA: 0s - loss: 0.3330 - acc: 0.9062\n",
            "Epoch 3: saving model to /content/drive/MyDrive/result7/model02-03.h5\n",
            "379/379 [==============================] - 328s 867ms/step - loss: 0.3330 - acc: 0.9062 - val_loss: 0.2872 - val_acc: 0.8942\n",
            "Epoch 4/5\n",
            "379/379 [==============================] - ETA: 0s - loss: 0.2388 - acc: 0.9688\n",
            "Epoch 4: saving model to /content/drive/MyDrive/result7/model02-04.h5\n",
            "379/379 [==============================] - 326s 861ms/step - loss: 0.2388 - acc: 0.9688 - val_loss: 0.3097 - val_acc: 0.8821\n",
            "Epoch 5/5\n",
            "379/379 [==============================] - ETA: 0s - loss: 0.2931 - acc: 0.9375\n",
            "Epoch 5: saving model to /content/drive/MyDrive/result7/model02-05.h5\n",
            "379/379 [==============================] - 328s 866ms/step - loss: 0.2931 - acc: 0.9375 - val_loss: 0.2454 - val_acc: 0.9088\n"
          ]
        }
      ],
      "source": [
        "#model2\n",
        "history=model2.fit(gizi_data,\n",
        "                   epochs=epochz,\n",
        "                   steps_per_epoch=np.ceil(gizi_data.samples/batch_size),\n",
        "                   validation_data=val_generator,\n",
        "                   callbacks=[checkpoint2,batch_stats_callback]\n",
        "                   )\n"
      ]
    },
    {
      "cell_type": "markdown",
      "metadata": {
        "id": "wO-pyy-B4a5J"
      },
      "source": [
        "2"
      ]
    },
    {
      "cell_type": "code",
      "execution_count": null,
      "metadata": {
        "colab": {
          "base_uri": "https://localhost:8080/"
        },
        "id": "oTaVja0nro8c",
        "outputId": "f61c2ce0-69a7-47cc-bd6f-ce6bddd578f5"
      },
      "outputs": [
        {
          "name": "stdout",
          "output_type": "stream",
          "text": [
            "Epoch 1/10\n",
            "265/265 [==============================] - ETA: 0s - loss: 0.0601 - acc: 1.0000\n",
            "Epoch 1: saving model to /content/drive/MyDrive/result7/model02-01.h5\n",
            "265/265 [==============================] - 267s 1s/step - loss: 0.0601 - acc: 1.0000 - val_loss: 0.3078 - val_acc: 0.8854\n",
            "Epoch 2/10\n",
            "265/265 [==============================] - ETA: 0s - loss: 0.1940 - acc: 0.9375\n",
            "Epoch 2: saving model to /content/drive/MyDrive/result7/model02-02.h5\n",
            "265/265 [==============================] - 261s 985ms/step - loss: 0.1940 - acc: 0.9375 - val_loss: 0.3467 - val_acc: 0.8601\n",
            "Epoch 3/10\n",
            "265/265 [==============================] - ETA: 0s - loss: 0.0809 - acc: 0.9688\n",
            "Epoch 3: saving model to /content/drive/MyDrive/result7/model02-03.h5\n",
            "265/265 [==============================] - 265s 1000ms/step - loss: 0.0809 - acc: 0.9688 - val_loss: 0.3249 - val_acc: 0.8747\n",
            "Epoch 4/10\n",
            "265/265 [==============================] - ETA: 0s - loss: 0.1044 - acc: 0.9688\n",
            "Epoch 4: saving model to /content/drive/MyDrive/result7/model02-04.h5\n",
            "265/265 [==============================] - 265s 1s/step - loss: 0.1044 - acc: 0.9688 - val_loss: 0.3264 - val_acc: 0.8760\n",
            "Epoch 5/10\n",
            "265/265 [==============================] - ETA: 0s - loss: 0.2364 - acc: 0.9375\n",
            "Epoch 5: saving model to /content/drive/MyDrive/result7/model02-05.h5\n",
            "265/265 [==============================] - 266s 1s/step - loss: 0.2364 - acc: 0.9375 - val_loss: 0.3982 - val_acc: 0.8463\n",
            "Epoch 6/10\n",
            "265/265 [==============================] - ETA: 0s - loss: 0.2095 - acc: 0.9375\n",
            "Epoch 6: saving model to /content/drive/MyDrive/result7/model02-06.h5\n",
            "265/265 [==============================] - 211s 795ms/step - loss: 0.2095 - acc: 0.9375 - val_loss: 0.3586 - val_acc: 0.8647\n",
            "Epoch 7/10\n",
            "265/265 [==============================] - ETA: 0s - loss: 0.0949 - acc: 0.9688\n",
            "Epoch 7: saving model to /content/drive/MyDrive/result7/model02-07.h5\n",
            "265/265 [==============================] - 211s 796ms/step - loss: 0.0949 - acc: 0.9688 - val_loss: 0.3397 - val_acc: 0.8664\n",
            "Epoch 8/10\n",
            "265/265 [==============================] - ETA: 0s - loss: 0.1675 - acc: 0.9375\n",
            "Epoch 8: saving model to /content/drive/MyDrive/result7/model02-08.h5\n",
            "265/265 [==============================] - 211s 797ms/step - loss: 0.1675 - acc: 0.9375 - val_loss: 0.3545 - val_acc: 0.8672\n",
            "Epoch 9/10\n",
            "265/265 [==============================] - ETA: 0s - loss: 0.0750 - acc: 1.0000\n",
            "Epoch 9: saving model to /content/drive/MyDrive/result7/model02-09.h5\n",
            "265/265 [==============================] - 212s 800ms/step - loss: 0.0750 - acc: 1.0000 - val_loss: 0.4257 - val_acc: 0.8399\n",
            "Epoch 10/10\n",
            "265/265 [==============================] - ETA: 0s - loss: 0.2072 - acc: 0.9062\n",
            "Epoch 10: saving model to /content/drive/MyDrive/result7/model02-10.h5\n",
            "265/265 [==============================] - 211s 796ms/step - loss: 0.2072 - acc: 0.9062 - val_loss: 0.3748 - val_acc: 0.8587\n"
          ]
        }
      ],
      "source": [
        "history=model2.fit(train_generator,\n",
        "                   epochs=epoch,\n",
        "                   steps_per_epoch=s_p_e,\n",
        "                   validation_data=val_generator,\n",
        "                   callbacks=[checkpoint2,batch_stats_callback]\n",
        "                   )"
      ]
    },
    {
      "cell_type": "code",
      "execution_count": null,
      "metadata": {
        "colab": {
          "base_uri": "https://localhost:8080/"
        },
        "id": "WkeRE4nBOdql",
        "outputId": "65b31dd0-a475-4ddf-d3b8-a067f340631c"
      },
      "outputs": [
        {
          "name": "stderr",
          "output_type": "stream",
          "text": [
            "WARNING:absl:Found untraced functions such as restored_function_body, restored_function_body, restored_function_body, restored_function_body, restored_function_body while saving (showing 5 of 1594). These functions will not be directly callable after loading.\n"
          ]
        }
      ],
      "source": [
        "model2.save('/content/drive/MyDrive/result7/model2.h5/')"
      ]
    },
    {
      "cell_type": "markdown",
      "metadata": {
        "id": "PKvI-i08OQPz"
      },
      "source": [
        "model3"
      ]
    },
    {
      "cell_type": "code",
      "execution_count": null,
      "metadata": {
        "colab": {
          "base_uri": "https://localhost:8080/"
        },
        "id": "5pHbUKKVpU4u",
        "outputId": "018e0a86-505e-409e-ccb1-51c528da74d3"
      },
      "outputs": [
        {
          "name": "stdout",
          "output_type": "stream",
          "text": [
            "Epoch 1/5\n",
            "265/265 [==============================] - 67s 223ms/step - loss: 0.4905 - acc: 0.9062\n",
            "Epoch 2/5\n",
            "265/265 [==============================] - 47s 178ms/step - loss: 0.2873 - acc: 0.9688\n",
            "Epoch 3/5\n",
            "265/265 [==============================] - 47s 176ms/step - loss: 0.4026 - acc: 0.8750\n",
            "Epoch 4/5\n",
            "265/265 [==============================] - 47s 177ms/step - loss: 0.1782 - acc: 0.9688\n",
            "Epoch 5/5\n",
            "265/265 [==============================] - 46s 174ms/step - loss: 0.2010 - acc: 0.9688\n"
          ]
        },
        {
          "data": {
            "text/plain": [
              "<keras.callbacks.History at 0x7faf475b2d10>"
            ]
          },
          "execution_count": 90,
          "metadata": {},
          "output_type": "execute_result"
        }
      ],
      "source": [
        "ebc3.fit(train_generator,\n",
        "         epochs=epochz,\n",
        "         steps_per_epoch=s_p_e,\n",
        "         #validation_data=val_generator,\n",
        "         callbacks=[batch_stats_callback],\n",
        "         )"
      ]
    },
    {
      "cell_type": "code",
      "execution_count": null,
      "metadata": {
        "colab": {
          "base_uri": "https://localhost:8080/"
        },
        "id": "FC0OJdAZNlzX",
        "outputId": "3ee73f59-279b-4df1-f222-87dfe101e9c2"
      },
      "outputs": [
        {
          "name": "stdout",
          "output_type": "stream",
          "text": [
            "Model: \"sequential_3\"\n",
            "_________________________________________________________________\n",
            " Layer (type)                Output Shape              Param #   \n",
            "=================================================================\n",
            " keras_layer (KerasLayer)    (None, 1280)              207615832 \n",
            "                                                                 \n",
            " dense_3 (Dense)             (None, 4)                 5124      \n",
            "                                                                 \n",
            "=================================================================\n",
            "Total params: 207,620,956\n",
            "Trainable params: 5,124\n",
            "Non-trainable params: 207,615,832\n",
            "_________________________________________________________________\n"
          ]
        }
      ],
      "source": [
        "#上位分類層を接合\n",
        "ebc3=Sequential([feature_extractor_layer,\n",
        "                           layers.Dense(train_generator.num_classes,activation='softmax')])\n",
        "\n",
        "ebc3.summary()\n",
        "\n",
        "ebc3.compile(optimizer=tf.keras.optimizers.Adam(),\n",
        "              loss='categorical_crossentropy',\n",
        "              metrics=['acc'])\n",
        "\n"
      ]
    },
    {
      "cell_type": "markdown",
      "metadata": {
        "id": "DlN8IuygSiz5"
      },
      "source": [
        "教師モデル作成"
      ]
    },
    {
      "cell_type": "code",
      "execution_count": null,
      "metadata": {
        "colab": {
          "base_uri": "https://localhost:8080/"
        },
        "id": "TODUFDzdSR3Q",
        "outputId": "d0ced5be-7bf7-418c-8643-ca84eea271e7"
      },
      "outputs": [
        {
          "name": "stdout",
          "output_type": "stream",
          "text": [
            "Epoch 1/5\n",
            "265/265 [==============================] - ETA: 0s - loss: 0.5557 - acc: 0.7812\n",
            "Epoch 1: saving model to /content/drive/MyDrive/result7/model03-01.h5\n",
            "265/265 [==============================] - 225s 817ms/step - loss: 0.5557 - acc: 0.7812 - val_loss: 0.5367 - val_acc: 0.7887\n",
            "Epoch 2/5\n",
            "265/265 [==============================] - ETA: 0s - loss: 0.2924 - acc: 0.9062\n",
            "Epoch 2: saving model to /content/drive/MyDrive/result7/model03-02.h5\n",
            "265/265 [==============================] - 213s 803ms/step - loss: 0.2924 - acc: 0.9062 - val_loss: 0.5040 - val_acc: 0.8116\n",
            "Epoch 3/5\n",
            "265/265 [==============================] - ETA: 0s - loss: 0.1219 - acc: 0.9688\n",
            "Epoch 3: saving model to /content/drive/MyDrive/result7/model03-03.h5\n",
            "265/265 [==============================] - 212s 797ms/step - loss: 0.1219 - acc: 0.9688 - val_loss: 0.4664 - val_acc: 0.8262\n",
            "Epoch 4/5\n",
            "265/265 [==============================] - ETA: 0s - loss: 0.4089 - acc: 0.8750\n",
            "Epoch 4: saving model to /content/drive/MyDrive/result7/model03-04.h5\n",
            "265/265 [==============================] - 212s 801ms/step - loss: 0.4089 - acc: 0.8750 - val_loss: 0.4596 - val_acc: 0.8281\n",
            "Epoch 5/5\n",
            "265/265 [==============================] - ETA: 0s - loss: 0.2152 - acc: 0.9375\n",
            "Epoch 5: saving model to /content/drive/MyDrive/result7/model03-05.h5\n",
            "265/265 [==============================] - 211s 796ms/step - loss: 0.2152 - acc: 0.9375 - val_loss: 0.5288 - val_acc: 0.8050\n"
          ]
        },
        {
          "data": {
            "text/plain": [
              "<keras.callbacks.History at 0x7faf4eae8610>"
            ]
          },
          "execution_count": 92,
          "metadata": {},
          "output_type": "execute_result"
        }
      ],
      "source": [
        "ebc3.fit(train_generator,\n",
        "         epochs=epochz,\n",
        "         steps_per_epoch=s_p_e,\n",
        "         validation_data=val_generator,\n",
        "         callbacks=[batch_stats_callback,checkpoint3],\n",
        "         )"
      ]
    },
    {
      "cell_type": "code",
      "execution_count": null,
      "metadata": {
        "colab": {
          "base_uri": "https://localhost:8080/"
        },
        "id": "-bHPfAViSyUE",
        "outputId": "db88f619-5a84-4522-cb9c-83b947d2d344"
      },
      "outputs": [
        {
          "name": "stdout",
          "output_type": "stream",
          "text": [
            "Model: \"sequential_4\"\n",
            "_________________________________________________________________\n",
            " Layer (type)                Output Shape              Param #   \n",
            "=================================================================\n",
            " keras_layer (KerasLayer)    (None, 1280)              207615832 \n",
            "                                                                 \n",
            " dense_4 (Dense)             (None, 4)                 5124      \n",
            "                                                                 \n",
            "=================================================================\n",
            "Total params: 207,620,956\n",
            "Trainable params: 5,124\n",
            "Non-trainable params: 207,615,832\n",
            "_________________________________________________________________\n"
          ]
        }
      ],
      "source": [
        "#上位分類層を接合\n",
        "ebc3=Sequential([feature_extractor_layer,\n",
        "                           layers.Dense(train_generator.num_classes,activation='softmax')])\n",
        "\n",
        "ebc3.summary()\n",
        "\n",
        "ebc3.compile(optimizer=tf.keras.optimizers.Adam(),\n",
        "              loss='categorical_crossentropy',\n",
        "              metrics=['acc'])"
      ]
    },
    {
      "cell_type": "code",
      "execution_count": null,
      "metadata": {
        "colab": {
          "base_uri": "https://localhost:8080/"
        },
        "id": "EniSTvIJrrq6",
        "outputId": "cce8b5d6-bea2-4730-edc4-365e5d1deb84"
      },
      "outputs": [
        {
          "name": "stdout",
          "output_type": "stream",
          "text": [
            "Epoch 1/5\n",
            "265/265 [==============================] - ETA: 0s - loss: 0.1959 - acc: 0.9688\n",
            "Epoch 1: saving model to /content/drive/MyDrive/result7/model03-01.h5\n",
            "265/265 [==============================] - 427s 2s/step - loss: 0.1959 - acc: 0.9688 - val_loss: 0.4137 - val_acc: 0.8555\n",
            "Epoch 2/5\n",
            "265/265 [==============================] - ETA: 0s - loss: 0.1222 - acc: 1.0000\n",
            "Epoch 2: saving model to /content/drive/MyDrive/result7/model03-02.h5\n",
            "265/265 [==============================] - 411s 2s/step - loss: 0.1222 - acc: 1.0000 - val_loss: 0.3514 - val_acc: 0.8727\n",
            "Epoch 3/5\n",
            "265/265 [==============================] - ETA: 0s - loss: 0.2853 - acc: 0.8750\n",
            "Epoch 3: saving model to /content/drive/MyDrive/result7/model03-03.h5\n",
            "265/265 [==============================] - 415s 2s/step - loss: 0.2853 - acc: 0.8750 - val_loss: 0.3241 - val_acc: 0.8844\n",
            "Epoch 4/5\n",
            "265/265 [==============================] - ETA: 0s - loss: 0.1524 - acc: 0.9375\n",
            "Epoch 4: saving model to /content/drive/MyDrive/result7/model03-04.h5\n",
            "265/265 [==============================] - 420s 2s/step - loss: 0.1524 - acc: 0.9375 - val_loss: 0.3030 - val_acc: 0.8927\n",
            "Epoch 5/5\n",
            "265/265 [==============================] - ETA: 0s - loss: 0.2194 - acc: 0.9375\n",
            "Epoch 5: saving model to /content/drive/MyDrive/result7/model03-05.h5\n",
            "265/265 [==============================] - 412s 2s/step - loss: 0.2194 - acc: 0.9375 - val_loss: 0.3269 - val_acc: 0.8796\n"
          ]
        }
      ],
      "source": [
        "#擬似ラベル作成\n",
        "history=ebc3.fit(train_generator,\n",
        "                 epochs=epochz,\n",
        "                 steps_per_epoch=s_p_e,\n",
        "                 validation_data=gizi_data,\n",
        "                 callbacks=[batch_stats_callback,checkpoint3],\n",
        "                 )"
      ]
    },
    {
      "cell_type": "code",
      "execution_count": null,
      "metadata": {
        "colab": {
          "base_uri": "https://localhost:8080/"
        },
        "id": "uUz4ogOIenWF",
        "outputId": "366bdab5-24f7-4866-e5dc-01aa2209eae7"
      },
      "outputs": [
        {
          "name": "stdout",
          "output_type": "stream",
          "text": [
            "379/379 [==============================] - 206s 532ms/step\n"
          ]
        }
      ],
      "source": [
        "gizi_label3=ebc3.predict(gizi_data)"
      ]
    },
    {
      "cell_type": "code",
      "execution_count": null,
      "metadata": {
        "id": "mJnPXaXOeuHY"
      },
      "outputs": [],
      "source": [
        "feature_extractor_layer.trainable=False\n",
        "#入力画像ノイズ(rand augmentation)の設定\n",
        "data_augmentation=Sequential([layers.RandomRotation(2.10)])\n",
        "#モデルノイズ（stochastic depth）の設定\n",
        "stochastic_Depth=Sequential([tfa.layers.StochasticDepth(0.35)])\n",
        "\n",
        "#モデルにrand augmentationを適用\n",
        "model3=Sequential([data_augmentation])\n",
        "#モデルにstochastic depthを適用\n",
        "model3=Sequential([stochastic_Depth])\n",
        "\n",
        "model3=Sequential([feature_extractor_layer,\n",
        "                           layers.Dense(train_generator.num_classes,activation='softmax'),\n",
        "                           #layers.Dropout(0.2)\n",
        "                  ])"
      ]
    },
    {
      "cell_type": "code",
      "execution_count": null,
      "metadata": {
        "colab": {
          "base_uri": "https://localhost:8080/"
        },
        "id": "R48YnIGEOusf",
        "outputId": "cc4b3096-964e-43df-c0f9-404e0b0f219c"
      },
      "outputs": [
        {
          "name": "stdout",
          "output_type": "stream",
          "text": [
            "Model: \"sequential_9\"\n",
            "_________________________________________________________________\n",
            " Layer (type)                Output Shape              Param #   \n",
            "=================================================================\n",
            " keras_layer (KerasLayer)    (None, 1280)              207615832 \n",
            "                                                                 \n",
            " dense_5 (Dense)             (None, 4)                 5124      \n",
            "                                                                 \n",
            "=================================================================\n",
            "Total params: 207,620,956\n",
            "Trainable params: 5,124\n",
            "Non-trainable params: 207,615,832\n",
            "_________________________________________________________________\n"
          ]
        }
      ],
      "source": [
        "#model3\n",
        "model3.compile(optimizer=tf.keras.optimizers.Adam(),\n",
        "              loss='categorical_crossentropy',\n",
        "              metrics=['acc'])\n",
        "model3.summary()"
      ]
    },
    {
      "cell_type": "code",
      "execution_count": null,
      "metadata": {
        "colab": {
          "base_uri": "https://localhost:8080/"
        },
        "id": "PM5XSKWlOu_g",
        "outputId": "b88dfa56-532c-4623-b862-89d3ffb7364c"
      },
      "outputs": [
        {
          "name": "stdout",
          "output_type": "stream",
          "text": [
            "Epoch 1/5\n",
            "379/379 [==============================] - ETA: 0s - loss: 0.6537 - acc: 0.7812\n",
            "Epoch 1: saving model to /content/drive/MyDrive/result7/model03-01.h5\n",
            "379/379 [==============================] - 2583s 7s/step - loss: 0.6537 - acc: 0.7812 - val_loss: 0.4663 - val_acc: 0.8077\n",
            "Epoch 2/5\n",
            "379/379 [==============================] - ETA: 0s - loss: 0.4203 - acc: 0.7812\n",
            "Epoch 2: saving model to /content/drive/MyDrive/result7/model03-02.h5\n",
            "379/379 [==============================] - 318s 840ms/step - loss: 0.4203 - acc: 0.7812 - val_loss: 0.3320 - val_acc: 0.8755\n",
            "Epoch 3/5\n",
            "379/379 [==============================] - ETA: 0s - loss: 0.1206 - acc: 1.0000\n",
            "Epoch 3: saving model to /content/drive/MyDrive/result7/model03-03.h5\n",
            "379/379 [==============================] - 314s 828ms/step - loss: 0.1206 - acc: 1.0000 - val_loss: 0.2803 - val_acc: 0.9022\n",
            "Epoch 4/5\n",
            "379/379 [==============================] - ETA: 0s - loss: 0.4027 - acc: 0.8438\n",
            "Epoch 4: saving model to /content/drive/MyDrive/result7/model03-04.h5\n",
            "379/379 [==============================] - 314s 829ms/step - loss: 0.4027 - acc: 0.8438 - val_loss: 0.2548 - val_acc: 0.9129\n",
            "Epoch 5/5\n",
            "379/379 [==============================] - ETA: 0s - loss: 0.3456 - acc: 0.8438\n",
            "Epoch 5: saving model to /content/drive/MyDrive/result7/model03-05.h5\n",
            "379/379 [==============================] - 314s 828ms/step - loss: 0.3456 - acc: 0.8438 - val_loss: 0.2638 - val_acc: 0.9072\n"
          ]
        }
      ],
      "source": [
        "#model3\n",
        "history=model3.fit(gizi_data,\n",
        "                   epochs=epochz,\n",
        "                   steps_per_epoch=np.ceil(gizi_data.samples/batch_size),\n",
        "                   validation_data=val_generator,\n",
        "                   callbacks=[checkpoint3,batch_stats_callback]\n",
        "                   )"
      ]
    },
    {
      "cell_type": "markdown",
      "metadata": {
        "id": "hexq4yjv4mZ5"
      },
      "source": [
        "3"
      ]
    },
    {
      "cell_type": "code",
      "execution_count": null,
      "metadata": {
        "colab": {
          "base_uri": "https://localhost:8080/"
        },
        "id": "7Wcj-H-Q4rdV",
        "outputId": "65af2674-3c60-4a7b-9b59-701205b336e8"
      },
      "outputs": [
        {
          "name": "stdout",
          "output_type": "stream",
          "text": [
            "Epoch 1/10\n",
            "265/265 [==============================] - ETA: 0s - loss: 0.1889 - acc: 0.9375\n",
            "Epoch 1: saving model to /content/drive/MyDrive/result7/model03-01.h5\n",
            "265/265 [==============================] - 253s 957ms/step - loss: 0.1889 - acc: 0.9375 - val_loss: 0.2811 - val_acc: 0.8928\n",
            "Epoch 2/10\n",
            "265/265 [==============================] - ETA: 0s - loss: 0.2104 - acc: 0.9062\n",
            "Epoch 2: saving model to /content/drive/MyDrive/result7/model03-02.h5\n",
            "265/265 [==============================] - 249s 941ms/step - loss: 0.2104 - acc: 0.9062 - val_loss: 0.2989 - val_acc: 0.8887\n",
            "Epoch 3/10\n",
            "265/265 [==============================] - ETA: 0s - loss: 0.2611 - acc: 0.9375\n",
            "Epoch 3: saving model to /content/drive/MyDrive/result7/model03-03.h5\n",
            "265/265 [==============================] - 250s 944ms/step - loss: 0.2611 - acc: 0.9375 - val_loss: 0.4073 - val_acc: 0.8424\n",
            "Epoch 4/10\n",
            "265/265 [==============================] - ETA: 0s - loss: 0.1518 - acc: 0.9375\n",
            "Epoch 4: saving model to /content/drive/MyDrive/result7/model03-04.h5\n",
            "265/265 [==============================] - 262s 988ms/step - loss: 0.1518 - acc: 0.9375 - val_loss: 0.3347 - val_acc: 0.8793\n",
            "Epoch 5/10\n",
            "265/265 [==============================] - ETA: 0s - loss: 0.1105 - acc: 0.9375\n",
            "Epoch 5: saving model to /content/drive/MyDrive/result7/model03-05.h5\n",
            "265/265 [==============================] - 247s 935ms/step - loss: 0.1105 - acc: 0.9375 - val_loss: 0.3531 - val_acc: 0.8697\n",
            "Epoch 6/10\n",
            "265/265 [==============================] - ETA: 0s - loss: 0.1351 - acc: 0.9375\n",
            "Epoch 6: saving model to /content/drive/MyDrive/result7/model03-06.h5\n",
            "265/265 [==============================] - 238s 898ms/step - loss: 0.1351 - acc: 0.9375 - val_loss: 0.4246 - val_acc: 0.8468\n",
            "Epoch 7/10\n",
            "265/265 [==============================] - ETA: 0s - loss: 0.1614 - acc: 0.9375\n",
            "Epoch 7: saving model to /content/drive/MyDrive/result7/model03-07.h5\n",
            "265/265 [==============================] - 237s 895ms/step - loss: 0.1614 - acc: 0.9375 - val_loss: 0.3850 - val_acc: 0.8512\n",
            "Epoch 8/10\n",
            "265/265 [==============================] - ETA: 0s - loss: 0.0730 - acc: 0.9688\n",
            "Epoch 8: saving model to /content/drive/MyDrive/result7/model03-08.h5\n",
            "265/265 [==============================] - 237s 896ms/step - loss: 0.0730 - acc: 0.9688 - val_loss: 0.4466 - val_acc: 0.8347\n",
            "Epoch 9/10\n",
            "265/265 [==============================] - ETA: 0s - loss: 0.0956 - acc: 0.9688\n",
            "Epoch 9: saving model to /content/drive/MyDrive/result7/model03-09.h5\n",
            "265/265 [==============================] - 237s 895ms/step - loss: 0.0956 - acc: 0.9688 - val_loss: 0.3678 - val_acc: 0.8609\n",
            "Epoch 10/10\n",
            "265/265 [==============================] - ETA: 0s - loss: 0.0743 - acc: 0.9688\n",
            "Epoch 10: saving model to /content/drive/MyDrive/result7/model03-10.h5\n",
            "265/265 [==============================] - 238s 897ms/step - loss: 0.0743 - acc: 0.9688 - val_loss: 0.3764 - val_acc: 0.8556\n"
          ]
        }
      ],
      "source": [
        "history=model3.fit(train_generator,\n",
        "                   epochs=epoch,\n",
        "                   steps_per_epoch=s_p_e,\n",
        "                   validation_data=val_generator,\n",
        "                   callbacks=[batch_stats_callback,checkpoint3]\n",
        "                   )"
      ]
    },
    {
      "cell_type": "code",
      "execution_count": null,
      "metadata": {
        "colab": {
          "base_uri": "https://localhost:8080/"
        },
        "id": "YFcL0kU1qHAP",
        "outputId": "6a29d002-60d5-4bc9-c6d2-d3b861579e18"
      },
      "outputs": [
        {
          "name": "stderr",
          "output_type": "stream",
          "text": [
            "WARNING:absl:Found untraced functions such as restored_function_body, restored_function_body, restored_function_body, restored_function_body, restored_function_body while saving (showing 5 of 1594). These functions will not be directly callable after loading.\n"
          ]
        }
      ],
      "source": [
        "#モデル保存\n",
        "model3.save('/content/drive/MyDrive/result7/model3.h5/')"
      ]
    },
    {
      "cell_type": "markdown",
      "metadata": {
        "id": "o8g1Y8pZF-Bf"
      },
      "source": [
        "Accuracy for each model"
      ]
    },
    {
      "cell_type": "code",
      "execution_count": null,
      "metadata": {
        "id": "z1jDy1hIOyZa"
      },
      "outputs": [],
      "source": [
        "from tensorflow import keras"
      ]
    },
    {
      "cell_type": "code",
      "execution_count": null,
      "metadata": {
        "id": "BEAwV4afO04J"
      },
      "outputs": [],
      "source": [
        "model1 = keras.models.load_model('/content/drive/MyDrive/result7/model1.h5/')\n",
        "model2 = keras.models.load_model('/content/drive/MyDrive/result7/model2.h5/')\n",
        "model3 = keras.models.load_model('/content/drive/MyDrive/result7/model3.h5/')"
      ]
    },
    {
      "cell_type": "code",
      "execution_count": null,
      "metadata": {
        "colab": {
          "base_uri": "https://localhost:8080/"
        },
        "id": "0sDMxq6CPJ9m",
        "outputId": "342697d3-7b33-4b11-8a0c-082339ed1e2b"
      },
      "outputs": [
        {
          "name": "stdout",
          "output_type": "stream",
          "text": [
            "model name\t estimator name\t is_regressor\t is_classifier\n",
            "model1\t   Sequential     \t False      \t False\n",
            "model2\t   Sequential     \t False      \t False\n",
            "model3\t   Sequential     \t False      \t False\n"
          ]
        }
      ],
      "source": [
        "from sklearn.base import is_classifier, is_regressor\n",
        "models_names=['model1','model2','model3']\n",
        "print(\"model name\\t estimator name\\t is_regressor\\t is_classifier\")    \n",
        "for estimator , model_name in zip([model1,model2,model3],models_names):\n",
        "        print(\"{}\\t   {}     \\t {}      \\t {}\".format(model_name,estimator.__class__.__name__,\n",
        "                                              is_regressor(estimator),\n",
        "                                              is_classifier(estimator)\n",
        "                                              ))"
      ]
    },
    {
      "cell_type": "code",
      "execution_count": null,
      "metadata": {
        "colab": {
          "base_uri": "https://localhost:8080/"
        },
        "id": "Rkv7dtYRhtCl",
        "outputId": "ec1928f7-2443-4ca7-ec83-6167f5a782b9"
      },
      "outputs": [
        {
          "name": "stdout",
          "output_type": "stream",
          "text": [
            "1/1 [==============================] - 18s 18s/step\n",
            "model1 accuracy:  0.625\n",
            "1/1 [==============================] - 6s 6s/step\n",
            "model2 accuracy:  0.6875\n",
            "1/1 [==============================] - 6s 6s/step\n",
            "model3 accuracy:  0.09375\n"
          ]
        }
      ],
      "source": [
        "from sklearn.metrics import accuracy_score\n",
        "from sklearn.metrics import precision_score\n",
        "from sklearn.metrics import recall_score\n",
        "from sklearn.metrics import classification_report\n",
        "import numpy as np\n",
        "models=[model1,model2,model3]\n",
        "model_names=[\"model1\",\"model2\",'model3']\n",
        "for model,model_name in zip(models,model_names):\n",
        "            \n",
        "    y_prob = model.predict(x_test)\n",
        "    y_pred1 = y_prob.argmax(axis=-1)\n",
        "    y_test1=np.argmax(y_test, axis=1)\n",
        "    # accuracy\n",
        "    print(model_name+\" accuracy: \",accuracy_score(y_test1,y_pred1))\n",
        "    del model , y_pred1, y_test1\n",
        "    #Precision\n",
        "    #print('Precision:', precision_score(y_test,y_pred1))\n",
        "    #Recall\n",
        "    #print('Recall:', recall_score(y_test1,y_pred1))\n",
        "    #F-measure\n",
        "    #print(\"Classification report\")\n",
        "    #print(classification_report(y_test1, y_pred1))"
      ]
    },
    {
      "cell_type": "code",
      "execution_count": null,
      "metadata": {
        "colab": {
          "base_uri": "https://localhost:8080/"
        },
        "id": "RNwvATGkF39x",
        "outputId": "71fe0ab9-f9c4-4059-ab6f-4c3bd98a6b1a"
      },
      "outputs": [
        {
          "name": "stdout",
          "output_type": "stream",
          "text": [
            "1/1 [==============================] - 5s 5s/step\n"
          ]
        },
        {
          "name": "stderr",
          "output_type": "stream",
          "text": [
            "WARNING:tensorflow:5 out of the last 5 calls to <function Model.make_predict_function.<locals>.predict_function at 0x7f449e4ca170> triggered tf.function retracing. Tracing is expensive and the excessive number of tracings could be due to (1) creating @tf.function repeatedly in a loop, (2) passing tensors with different shapes, (3) passing Python objects instead of tensors. For (1), please define your @tf.function outside of the loop. For (2), @tf.function has reduce_retracing=True option that can avoid unnecessary retracing. For (3), please refer to https://www.tensorflow.org/guide/function#controlling_retracing and https://www.tensorflow.org/api_docs/python/tf/function for  more details.\n"
          ]
        },
        {
          "name": "stdout",
          "output_type": "stream",
          "text": [
            "1/1 [==============================] - 5s 5s/step\n"
          ]
        },
        {
          "name": "stderr",
          "output_type": "stream",
          "text": [
            "WARNING:tensorflow:6 out of the last 6 calls to <function Model.make_predict_function.<locals>.predict_function at 0x7f449e148b90> triggered tf.function retracing. Tracing is expensive and the excessive number of tracings could be due to (1) creating @tf.function repeatedly in a loop, (2) passing tensors with different shapes, (3) passing Python objects instead of tensors. For (1), please define your @tf.function outside of the loop. For (2), @tf.function has reduce_retracing=True option that can avoid unnecessary retracing. For (3), please refer to https://www.tensorflow.org/guide/function#controlling_retracing and https://www.tensorflow.org/api_docs/python/tf/function for  more details.\n"
          ]
        },
        {
          "name": "stdout",
          "output_type": "stream",
          "text": [
            "1/1 [==============================] - 5s 5s/step\n",
            "1/1 [==============================] - 0s 110ms/step\n",
            "1/1 [==============================] - 0s 103ms/step\n",
            "1/1 [==============================] - 0s 94ms/step\n",
            "1/1 [==============================] - 0s 93ms/step\n",
            "1/1 [==============================] - 0s 93ms/step\n",
            "1/1 [==============================] - 0s 92ms/step\n",
            "1/1 [==============================] - 0s 92ms/step\n",
            "1/1 [==============================] - 0s 91ms/step\n",
            "1/1 [==============================] - 0s 92ms/step\n",
            "1/1 [==============================] - 0s 92ms/step\n",
            "1/1 [==============================] - 0s 94ms/step\n",
            "1/1 [==============================] - 0s 92ms/step\n",
            "\n",
            " Each estimator predict a different class\n",
            "1/1 [==============================] - 0s 100ms/step\n",
            "1/1 [==============================] - 0s 92ms/step\n",
            "1/1 [==============================] - 0s 90ms/step\n",
            "1/1 [==============================] - 0s 92ms/step\n",
            "1/1 [==============================] - 0s 92ms/step\n",
            "1/1 [==============================] - 0s 92ms/step\n",
            "1/1 [==============================] - 0s 93ms/step\n",
            "1/1 [==============================] - 0s 96ms/step\n",
            "1/1 [==============================] - 0s 91ms/step\n",
            "1/1 [==============================] - 0s 95ms/step\n",
            "1/1 [==============================] - 0s 93ms/step\n",
            "1/1 [==============================] - 0s 93ms/step\n",
            "1/1 [==============================] - 0s 90ms/step\n",
            "1/1 [==============================] - 0s 99ms/step\n",
            "1/1 [==============================] - 0s 93ms/step\n",
            "\n",
            " Each estimator predict a different class\n",
            "1/1 [==============================] - 0s 91ms/step\n",
            "1/1 [==============================] - 0s 95ms/step\n",
            "1/1 [==============================] - 0s 93ms/step\n",
            "\n",
            " Each estimator predict a different class\n",
            "1/1 [==============================] - 0s 93ms/step\n",
            "1/1 [==============================] - 0s 92ms/step\n",
            "1/1 [==============================] - 0s 93ms/step\n",
            "1/1 [==============================] - 0s 87ms/step\n",
            "1/1 [==============================] - 0s 92ms/step\n",
            "1/1 [==============================] - 0s 98ms/step\n",
            "\n",
            " Each estimator predict a different class\n",
            "1/1 [==============================] - 0s 93ms/step\n",
            "1/1 [==============================] - 0s 95ms/step\n",
            "1/1 [==============================] - 0s 91ms/step\n",
            "1/1 [==============================] - 0s 93ms/step\n",
            "1/1 [==============================] - 0s 96ms/step\n",
            "1/1 [==============================] - 0s 94ms/step\n",
            "1/1 [==============================] - 0s 101ms/step\n",
            "1/1 [==============================] - 0s 98ms/step\n",
            "1/1 [==============================] - 0s 93ms/step\n",
            "1/1 [==============================] - 0s 93ms/step\n",
            "1/1 [==============================] - 0s 91ms/step\n",
            "1/1 [==============================] - 0s 95ms/step\n",
            "1/1 [==============================] - 0s 94ms/step\n",
            "1/1 [==============================] - 0s 91ms/step\n",
            "1/1 [==============================] - 0s 96ms/step\n",
            "1/1 [==============================] - 0s 96ms/step\n",
            "1/1 [==============================] - 0s 93ms/step\n",
            "1/1 [==============================] - 0s 92ms/step\n",
            "1/1 [==============================] - 0s 92ms/step\n",
            "1/1 [==============================] - 0s 91ms/step\n",
            "1/1 [==============================] - 0s 92ms/step\n",
            "1/1 [==============================] - 0s 93ms/step\n",
            "1/1 [==============================] - 0s 94ms/step\n",
            "1/1 [==============================] - 0s 92ms/step\n",
            "1/1 [==============================] - 0s 95ms/step\n",
            "1/1 [==============================] - 0s 94ms/step\n",
            "1/1 [==============================] - 0s 94ms/step\n",
            "1/1 [==============================] - 0s 95ms/step\n",
            "1/1 [==============================] - 0s 95ms/step\n",
            "1/1 [==============================] - 0s 92ms/step\n",
            "\n",
            " Each estimator predict a different class\n",
            "1/1 [==============================] - 0s 92ms/step\n",
            "1/1 [==============================] - 0s 93ms/step\n",
            "1/1 [==============================] - 0s 94ms/step\n",
            "1/1 [==============================] - 0s 96ms/step\n",
            "1/1 [==============================] - 0s 91ms/step\n",
            "1/1 [==============================] - 0s 94ms/step\n",
            "1/1 [==============================] - 0s 93ms/step\n",
            "1/1 [==============================] - 0s 93ms/step\n",
            "1/1 [==============================] - 0s 92ms/step\n",
            "1/1 [==============================] - 0s 92ms/step\n",
            "1/1 [==============================] - 0s 91ms/step\n",
            "1/1 [==============================] - 0s 92ms/step\n",
            "\n",
            " Each estimator predict a different class\n",
            "1/1 [==============================] - 0s 93ms/step\n",
            "1/1 [==============================] - 0s 93ms/step\n",
            "1/1 [==============================] - 0s 93ms/step\n",
            "\n",
            " Each estimator predict a different class\n",
            "1/1 [==============================] - 0s 94ms/step\n",
            "1/1 [==============================] - 0s 94ms/step\n",
            "1/1 [==============================] - 0s 94ms/step\n",
            "\n",
            " Each estimator predict a different class\n",
            "1/1 [==============================] - 0s 93ms/step\n",
            "1/1 [==============================] - 0s 92ms/step\n",
            "1/1 [==============================] - 0s 92ms/step\n",
            "1/1 [==============================] - 0s 102ms/step\n",
            "1/1 [==============================] - 0s 93ms/step\n",
            "1/1 [==============================] - 0s 94ms/step\n",
            "1/1 [==============================] - 0s 93ms/step\n",
            "1/1 [==============================] - 0s 93ms/step\n",
            "1/1 [==============================] - 0s 93ms/step\n",
            "\n",
            " Each estimator predict a different class\n",
            "percent: 100.00%"
          ]
        }
      ],
      "source": [
        "# valid_set\n",
        "x_test, y_test = valid_set.next() \n",
        "\n",
        "#VotingClassifier(hard)\n",
        "estimators = [model1,model2,model3]\n",
        "vc=votingClassifer(estimators=estimators,mode=\"hard\",show_info=\"percent\")\n",
        "index_classes, class_names, probs=vc.predict(x_test)"
      ]
    },
    {
      "cell_type": "markdown",
      "metadata": {
        "id": "1SQTEoB5GNaJ"
      },
      "source": [
        "accuracy"
      ]
    },
    {
      "cell_type": "code",
      "execution_count": null,
      "metadata": {
        "colab": {
          "base_uri": "https://localhost:8080/"
        },
        "id": "o43-_QmgGLtR",
        "outputId": "934287e4-ab26-43f4-bf36-60285b0142b2"
      },
      "outputs": [
        {
          "name": "stdout",
          "output_type": "stream",
          "text": [
            "votingClassifer(hard) accuracy :  0.53125\n"
          ]
        }
      ],
      "source": [
        "# inverse_to_categorical inverser format binary to format indexation\n",
        "# datagenerator use the methode to_categorical for labelsation to frmat binary \n",
        "# the method inverce of to_categorical is argmax\n",
        "import numpy as np\n",
        "y_test1=np.argmax(y_test, axis=1)\n",
        "y_pred1=index_classes\n",
        "\n",
        "# accuracy\n",
        "from sklearn.metrics import accuracy_score\n",
        "print(\"votingClassifer(hard) accuracy : \",accuracy_score(y_test1,y_pred1))"
      ]
    }
  ],
  "metadata": {
    "accelerator": "GPU",
    "colab": {
      "collapsed_sections": [],
      "provenance": []
    },
    "gpuClass": "standard",
    "kernelspec": {
      "display_name": "Python 3.9.6 64-bit",
      "language": "python",
      "name": "python3"
    },
    "language_info": {
      "name": "python",
      "version": "3.9.6"
    },
    "vscode": {
      "interpreter": {
        "hash": "31f2aee4e71d21fbe5cf8b01ff0e069b9275f58929596ceb00d14d90e3e16cd6"
      }
    }
  },
  "nbformat": 4,
  "nbformat_minor": 0
}
