{
  "cells": [
    {
      "cell_type": "markdown",
      "metadata": {
        "id": "I0ocllpeekcI"
      },
      "source": [
        "# Preprocessing"
      ]
    },
    {
      "cell_type": "code",
      "execution_count": 1,
      "metadata": {
        "colab": {
          "base_uri": "https://localhost:8080/"
        },
        "id": "fSgJPIygoWoa",
        "outputId": "3447b29e-0ea4-4dc9-a825-ac494bd7de3a"
      },
      "outputs": [
        {
          "name": "stdout",
          "output_type": "stream",
          "text": [
            "Mounted at /content/drive\n"
          ]
        }
      ],
      "source": [
        "#content google drive\n",
        "from google.colab import drive\n",
        "drive.mount('/content/drive')"
      ]
    },
    {
      "cell_type": "code",
      "execution_count": 2,
      "metadata": {
        "colab": {
          "base_uri": "https://localhost:8080/"
        },
        "id": "PkqMvs6PF6-z",
        "outputId": "aadd3d3c-351f-4f65-c319-804511e6f1c9"
      },
      "outputs": [
        {
          "name": "stdout",
          "output_type": "stream",
          "text": [
            "残り時間 : 11.98"
          ]
        }
      ],
      "source": [
        "!cat /proc/uptime | awk '{printf(\"残り時間 : %.2f\", 12-$1/60/60)}'"
      ]
    },
    {
      "cell_type": "code",
      "execution_count": 3,
      "metadata": {
        "colab": {
          "base_uri": "https://localhost:8080/"
        },
        "id": "DIVXZQNXolHB",
        "outputId": "ee5208b2-00aa-422b-b478-5d1b974cff4b"
      },
      "outputs": [
        {
          "name": "stdout",
          "output_type": "stream",
          "text": [
            "Looking in indexes: https://pypi.org/simple, https://us-python.pkg.dev/colab-wheels/public/simple/\n",
            "Collecting tensorflow-addons\n",
            "  Downloading tensorflow_addons-0.19.0-cp38-cp38-manylinux_2_17_x86_64.manylinux2014_x86_64.whl (1.1 MB)\n",
            "\u001b[K     |████████████████████████████████| 1.1 MB 4.4 MB/s \n",
            "\u001b[?25hRequirement already satisfied: packaging in /usr/local/lib/python3.8/dist-packages (from tensorflow-addons) (21.3)\n",
            "Requirement already satisfied: typeguard>=2.7 in /usr/local/lib/python3.8/dist-packages (from tensorflow-addons) (2.7.1)\n",
            "Requirement already satisfied: pyparsing!=3.0.5,>=2.0.2 in /usr/local/lib/python3.8/dist-packages (from packaging->tensorflow-addons) (3.0.9)\n",
            "Installing collected packages: tensorflow-addons\n",
            "Successfully installed tensorflow-addons-0.19.0\n",
            "Colab only includes TensorFlow 2.x; %tensorflow_version has no effect.\n"
          ]
        }
      ],
      "source": [
        "import tensorflow as tf\n",
        "import os\n",
        "import cv2\n",
        "import numpy as np\n",
        "import matplotlib.pyplot as plt\n",
        "from tensorflow import keras\n",
        "from tensorflow.keras import layers\n",
        "from keras.models import Sequential\n",
        "from keras.layers import Dense,Dropout,Activation,Flatten\n",
        "from sklearn.utils import shuffle\n",
        "from tensorflow.keras.optimizers import SGD\n",
        "import tensorflow_hub as hub\n",
        "from tensorflow.keras.callbacks import ModelCheckpoint\n",
        "from tensorflow.keras.preprocessing.image import ImageDataGenerator\n",
        "!pip install tensorflow-addons\n",
        "import tensorflow_addons as tfa\n",
        "from tensorflow.keras.models import Model\n",
        "from sklearn.metrics import accuracy_score\n",
        "import glob\n",
        "#select tensorflow's version\n",
        "%tensorflow_version 2.x"
      ]
    },
    {
      "cell_type": "code",
      "execution_count": 4,
      "metadata": {
        "id": "bvClfecYos9i"
      },
      "outputs": [],
      "source": [
        "#形状設定\n",
        "IMAGE_SHAPE=(224,224)\n",
        "\n",
        "#リアルタイムにデータ拡張しながら，テンソル画像データのバッチを生成する。(1/255 メモリ消費の削減)\n",
        "image_generator=ImageDataGenerator(\n",
        "    rescale=1./255,\n",
        "    validation_split=0.3\n",
        "    )"
      ]
    },
    {
      "cell_type": "code",
      "execution_count": 5,
      "metadata": {
        "id": "Zce07hR94Ufr"
      },
      "outputs": [],
      "source": [
        "# HDF5フォーマットでモデルを保存するために必要\n",
        "!pip install -q pyyaml h5py  "
      ]
    },
    {
      "cell_type": "code",
      "execution_count": 6,
      "metadata": {
        "colab": {
          "base_uri": "https://localhost:8080/"
        },
        "id": "GIQVT06K4YCO",
        "outputId": "ce330a31-1503-443a-c9c2-43659185347e"
      },
      "outputs": [
        {
          "name": "stdout",
          "output_type": "stream",
          "text": [
            "Found 8400 images belonging to 4 classes.\n",
            "Found 3600 images belonging to 4 classes.\n"
          ]
        }
      ],
      "source": [
        "#各データセットのディレクトリを選択し、全画像をリサイズする。\n",
        "#ディレクトリへのバスを受け取り、拡張・正規化したデータバッチを生成する。\n",
        "batch_size=32\n",
        "\n",
        "train_generator = image_generator.flow_from_directory(\n",
        "    '/content/drive/MyDrive/data/train',\n",
        "    target_size=(224, 224),\n",
        "    #class_mode='binary',\n",
        "    batch_size=batch_size,\n",
        "    subset='training',\n",
        ")\n",
        "\n",
        "val_generator = image_generator.flow_from_directory(\n",
        "    '/content/drive/MyDrive/data/train',\n",
        "    target_size=(224, 224),\n",
        "    #class_mode='binary',\n",
        "    batch_size=batch_size,\n",
        "    subset='validation'\n",
        ")"
      ]
    },
    {
      "cell_type": "code",
      "execution_count": 7,
      "metadata": {
        "colab": {
          "base_uri": "https://localhost:8080/"
        },
        "id": "K3ZIpVmaounj",
        "outputId": "dec656a4-3c6e-41bc-99f1-4c24a544ef82"
      },
      "outputs": [
        {
          "name": "stdout",
          "output_type": "stream",
          "text": [
            "Found 968 images belonging to 4 classes.\n",
            "Found 12000 images belonging to 4 classes.\n",
            "Found 4000 images belonging to 4 classes.\n"
          ]
        }
      ],
      "source": [
        "#各データセットのディレクトリを選択し、全画像をリサイズする。\n",
        "#ディレクトリへのバスを受け取り、拡張・正規化したデータバッチを生成する。\n",
        "#train_data=image_generator.flow_from_directory('/content/drive/MyDrive/data/train',target_size=IMAGE_SHAPE)\n",
        "test_data=image_generator.flow_from_directory('/content/drive/MyDrive/data/test',target_size=IMAGE_SHAPE)\n",
        "gizi_data=image_generator.flow_from_directory('/content/drive/MyDrive/data/train',target_size=IMAGE_SHAPE)\n",
        "val_data=image_generator.flow_from_directory('/content/drive/MyDrive/data/val',target_size=IMAGE_SHAPE)"
      ]
    },
    {
      "cell_type": "code",
      "execution_count": 8,
      "metadata": {
        "colab": {
          "base_uri": "https://localhost:8080/"
        },
        "id": "-OrDzGSDovq9",
        "outputId": "92167568-8149-4efd-91e5-96bdaee30478"
      },
      "outputs": [
        {
          "name": "stdout",
          "output_type": "stream",
          "text": [
            "Image batch shape: (32, 224, 224, 3)\n",
            "Label batch shape: (32, 4)\n",
            "Image batch shape: (32, 224, 224, 3)\n",
            "Label batch shape: (32, 4)\n",
            "Image batch shape: (32, 224, 224, 3)\n",
            "Label batch shape: (32, 4)\n",
            "Image batch shape: (32, 224, 224, 3)\n",
            "Label batch shape: (32, 4)\n"
          ]
        }
      ],
      "source": [
        "#各データセットの画像バッチ形状と、ラベルのバッチ形状を表示する\n",
        "#擬似データはラベル付けない\n",
        "for image_train_batch,label_train_batch in train_generator:\n",
        "  print(\"Image batch shape:\",image_train_batch.shape)\n",
        "  print(\"Label batch shape:\",label_train_batch.shape)\n",
        "  break\n",
        "\n",
        "for image_train_batch,label_train_batch in train_generator:\n",
        "  print(\"Image batch shape:\",image_train_batch.shape)\n",
        "  print(\"Label batch shape:\",label_train_batch.shape)\n",
        "  break\n",
        "\n",
        "for image_val_batch,label_val_batch in val_data:\n",
        "  print(\"Image batch shape:\",image_val_batch.shape)\n",
        "  print(\"Label batch shape:\",label_val_batch.shape)\n",
        "  break\n",
        "\n",
        "for image_test_batch,label_test_batch in test_data:\n",
        "  print(\"Image batch shape:\",image_test_batch.shape)\n",
        "  print(\"Label batch shape:\",label_test_batch.shape)\n",
        "  break"
      ]
    },
    {
      "cell_type": "code",
      "execution_count": 9,
      "metadata": {
        "id": "UPgeTIw2pf6o"
      },
      "outputs": [],
      "source": [
        "#モデル設定\n",
        "MODEL_DIR='/content/drive/MyDrive/result11'\n",
        "if not os.path.exists(MODEL_DIR):\n",
        "  os.makedirs(MODEL_DIR)\n",
        "\n",
        "checkpoint=tf.keras.callbacks.ModelCheckpoint(filepath=os.path.join(MODEL_DIR,\"model-{epoch:02d}.h5\"),\n",
        "                                              monitor='val_loss',\n",
        "                                              mode='min',\n",
        "                                              save_weights_only=True,\n",
        "                                              verbose=1\n",
        "                                              )\n",
        "#filepath:モデルファイルを保存する場所を選択\n",
        "#monitor:監視するメトリック名\n",
        "#mode:ファイルを上書きするかどうか\n",
        "#save_weights_only:モデルのウェイトのみを保存する\n",
        "#verbose:1、冗長モード                                             "
      ]
    },
    {
      "cell_type": "code",
      "execution_count": 10,
      "metadata": {
        "id": "QXIeqEhTCj5A"
      },
      "outputs": [],
      "source": [
        "checkpoint1=tf.keras.callbacks.ModelCheckpoint(filepath=os.path.join(MODEL_DIR,\"model01-{epoch:02d}.h5\"),\n",
        "                                              monitor='val_loss',\n",
        "                                              mode='min',\n",
        "                                              save_weights_only=True,\n",
        "                                              verbose=1\n",
        "                                              )"
      ]
    },
    {
      "cell_type": "code",
      "execution_count": 11,
      "metadata": {
        "id": "0_Ww4iCvCkZC"
      },
      "outputs": [],
      "source": [
        "checkpoint2=tf.keras.callbacks.ModelCheckpoint(filepath=os.path.join(MODEL_DIR,\"model02-{epoch:02d}.h5\"),\n",
        "                                              monitor='val_loss',\n",
        "                                              mode='min',\n",
        "                                              save_weights_only=True,\n",
        "                                              verbose=1\n",
        "                                              )"
      ]
    },
    {
      "cell_type": "code",
      "execution_count": 12,
      "metadata": {
        "id": "22CqXB5kCkzV"
      },
      "outputs": [],
      "source": [
        "checkpoint3=tf.keras.callbacks.ModelCheckpoint(filepath=os.path.join(MODEL_DIR,\"model03-{epoch:02d}.h5\"),\n",
        "                                              monitor='val_loss',\n",
        "                                              mode='min',\n",
        "                                              save_weights_only=True,\n",
        "                                              verbose=1\n",
        "                                              )"
      ]
    },
    {
      "cell_type": "code",
      "execution_count": 13,
      "metadata": {
        "id": "bRdlrRenphMd"
      },
      "outputs": [],
      "source": [
        "#訓練プロセスの可視化\n",
        "#カスタムコールバックを作成して、すべてのエポックでのトレーニングの進行状況を視覚化します\n",
        "class CollectBatchStats(tf.keras.callbacks.Callback):\n",
        "  def __init__(self):\n",
        "    self.batch_losses=[]\n",
        "    self.batch_acc=[]\n",
        "    \n",
        "  def on_train_batch_end(self,batch,logs=1e-12):\n",
        "    self.batch_losses.append(logs['loss'])\n",
        "    self.batch_acc.append(logs['acc'])\n",
        "    self.model.reset_metrics()"
      ]
    },
    {
      "cell_type": "code",
      "execution_count": 14,
      "metadata": {
        "colab": {
          "base_uri": "https://localhost:8080/"
        },
        "id": "1F0LHIN3ow_E",
        "outputId": "ad9b5798-3ea2-44be-f59f-e2f8fa308927"
      },
      "outputs": [
        {
          "name": "stdout",
          "output_type": "stream",
          "text": [
            "Model: \"sequential\"\n",
            "_________________________________________________________________\n",
            " Layer (type)                Output Shape              Param #   \n",
            "=================================================================\n",
            " keras_layer (KerasLayer)    (None, 1280)              207615832 \n",
            "                                                                 \n",
            " dense (Dense)               (None, 4)                 5124      \n",
            "                                                                 \n",
            "=================================================================\n",
            "Total params: 207,620,956\n",
            "Trainable params: 5,124\n",
            "Non-trainable params: 207,615,832\n",
            "_________________________________________________________________\n"
          ]
        }
      ],
      "source": [
        "#使用するモデルの選択（特徴抽出器/分類器）_ efficientnetv2\n",
        "feature_extractor_url=\"https://tfhub.dev/google/imagenet/efficientnet_v2_imagenet21k_xl/feature_vector/2\"\n",
        "\n",
        "#入力画像サイズを決定する(モデルに適したサイズを設定)\n",
        "feature_extractor_layer=hub.KerasLayer(feature_extractor_url,input_shape=(512,512,3))\n",
        "\n",
        "#学習済み重みを固定する\n",
        "feature_extractor_layer.trainable=False\n",
        "\n",
        "#上位の分類層を接合する\n",
        "ebc1=Sequential([feature_extractor_layer,layers.Dense(train_generator.num_classes,activation='softmax')])\n",
        "\n",
        "#モデルの概要を確認する\n",
        "ebc1.summary()\n",
        "\n",
        "ebc1.compile(optimizer=tf.keras.optimizers.Adam(),\n",
        "              loss='categorical_crossentropy',\n",
        "              metrics=['acc'])"
      ]
    },
    {
      "cell_type": "code",
      "execution_count": 15,
      "metadata": {
        "colab": {
          "base_uri": "https://localhost:8080/"
        },
        "id": "hxJIuI4EoyHN",
        "outputId": "7cde6ae4-ce8c-4189-da83-7f48d796b3ed"
      },
      "outputs": [
        {
          "name": "stdout",
          "output_type": "stream",
          "text": [
            "Model: \"sequential_1\"\n",
            "_________________________________________________________________\n",
            " Layer (type)                Output Shape              Param #   \n",
            "=================================================================\n",
            " keras_layer_1 (KerasLayer)  (None, 1280)              6575232   \n",
            "                                                                 \n",
            " dense_1 (Dense)             (None, 4)                 5124      \n",
            "                                                                 \n",
            "=================================================================\n",
            "Total params: 6,580,356\n",
            "Trainable params: 5,124\n",
            "Non-trainable params: 6,575,232\n",
            "_________________________________________________________________\n"
          ]
        }
      ],
      "source": [
        "#使用するモデルの選択（特徴抽出器/分類器）_ efficientnetb1\n",
        "feature_extractor_url_b1=\"https://tfhub.dev/google/efficientnet/b1/feature-vector/1\"\n",
        "\n",
        "#入力画像サイズを決定する(モデルに適したサイズを設定)\n",
        "feature_extractor_layer_b1=hub.KerasLayer(feature_extractor_url_b1,input_shape=(512,512,3))\n",
        "\n",
        "#学習済み重みを固定する\n",
        "feature_extractor_layer_b1.trainable=False\n",
        "\n",
        "#上位の分類層を接合する\n",
        "ebc2=Sequential([feature_extractor_layer_b1,layers.Dense(train_generator.num_classes,activation='softmax')])\n",
        "\n",
        "#モデルの概要を確認する\n",
        "ebc2.summary()\n",
        "\n",
        "ebc2.compile(optimizer=tf.keras.optimizers.Adam(),\n",
        "              loss='categorical_crossentropy',\n",
        "              metrics=['acc'])"
      ]
    },
    {
      "cell_type": "code",
      "execution_count": 16,
      "metadata": {
        "colab": {
          "base_uri": "https://localhost:8080/"
        },
        "id": "QzQ38ggvozNg",
        "outputId": "296ffcd0-673b-4032-e002-39a4fa846f84"
      },
      "outputs": [
        {
          "name": "stdout",
          "output_type": "stream",
          "text": [
            "Model: \"sequential_2\"\n",
            "_________________________________________________________________\n",
            " Layer (type)                Output Shape              Param #   \n",
            "=================================================================\n",
            " keras_layer_2 (KerasLayer)  (None, 1408)              7768562   \n",
            "                                                                 \n",
            " dense_2 (Dense)             (None, 4)                 5636      \n",
            "                                                                 \n",
            "=================================================================\n",
            "Total params: 7,774,198\n",
            "Trainable params: 5,636\n",
            "Non-trainable params: 7,768,562\n",
            "_________________________________________________________________\n"
          ]
        }
      ],
      "source": [
        "#使用するモデルの選択（特徴抽出器/分類器）_ efficientnetb2\n",
        "feature_extractor_url_b2=\"https://tfhub.dev/google/efficientnet/b2/feature-vector/1\"\n",
        "\n",
        "#入力画像サイズを決定する(モデルに適したサイズを設定)\n",
        "feature_extractor_layer_b2=hub.KerasLayer(feature_extractor_url_b2,input_shape=(512,512,3))\n",
        "\n",
        "#学習済み重みを固定する\n",
        "feature_extractor_layer_b2.trainable=False\n",
        "\n",
        "#上位の分類層を接合する\n",
        "ebc3=Sequential([feature_extractor_layer_b2,layers.Dense(train_generator.num_classes,activation='softmax')])\n",
        "\n",
        "#モデルの概要を確認する\n",
        "ebc3.summary()\n",
        "\n",
        "ebc3.compile(optimizer=tf.keras.optimizers.Adam(),\n",
        "              loss='categorical_crossentropy',\n",
        "              metrics=['acc'])"
      ]
    },
    {
      "cell_type": "code",
      "execution_count": 17,
      "metadata": {
        "id": "BdJfbdK8W35b"
      },
      "outputs": [],
      "source": [
        "batch_stats_callback=CollectBatchStats()\n",
        "batch_size=32\n",
        "epochz=3\n",
        "epoch=15\n",
        "#steps_per_epoch\n",
        "s_p_e=np.ceil(train_generator.samples/batch_size)"
      ]
    },
    {
      "cell_type": "code",
      "execution_count": 17,
      "metadata": {
        "id": "0mDfTI1U93k4"
      },
      "outputs": [],
      "source": []
    },
    {
      "cell_type": "markdown",
      "metadata": {
        "id": "HlrZWDL0eg--"
      },
      "source": [
        "# model 1"
      ]
    },
    {
      "cell_type": "markdown",
      "metadata": {
        "id": "NTrXHXfPqzJe"
      },
      "source": [
        "model1"
      ]
    },
    {
      "cell_type": "code",
      "execution_count": null,
      "metadata": {
        "colab": {
          "base_uri": "https://localhost:8080/"
        },
        "id": "IyPSUnmW5NEw",
        "outputId": "ae7c7471-311d-4e62-d704-fd954bb119c5"
      },
      "outputs": [
        {
          "name": "stdout",
          "output_type": "stream",
          "text": [
            "Epoch 1/3\n",
            "265/265 [==============================] - 6921s 26s/step - loss: 0.4547 - acc: 0.8750\n",
            "Epoch 2/3\n",
            "265/265 [==============================] - 6931s 26s/step - loss: 0.2585 - acc: 0.8750\n",
            "Epoch 3/3\n",
            "265/265 [==============================] - 7135s 27s/step - loss: 0.2894 - acc: 0.9062\n"
          ]
        },
        {
          "data": {
            "text/plain": [
              "<keras.callbacks.History at 0x7fa5ddef4c50>"
            ]
          },
          "execution_count": 17,
          "metadata": {},
          "output_type": "execute_result"
        }
      ],
      "source": [
        "ebc1.fit(train_generator,\n",
        "         epochs=epochz,\n",
        "         steps_per_epoch=s_p_e,\n",
        "         #validation_data=val_generator,\n",
        "         callbacks=[batch_stats_callback],\n",
        "         )"
      ]
    },
    {
      "cell_type": "code",
      "execution_count": null,
      "metadata": {
        "colab": {
          "base_uri": "https://localhost:8080/"
        },
        "id": "dgEDuSXa6eco",
        "outputId": "af8e08f1-9bec-4ecd-9c32-2d942a83bf20"
      },
      "outputs": [
        {
          "name": "stdout",
          "output_type": "stream",
          "text": [
            "Epoch 1/3\n",
            "265/265 [==============================] - 7915s 30s/step - loss: 0.1661 - acc: 0.9375\n",
            "Epoch 2/3\n",
            "265/265 [==============================] - 7450s 28s/step - loss: 0.2484 - acc: 0.9375\n",
            "Epoch 3/3\n",
            "265/265 [==============================] - 7092s 27s/step - loss: 0.1019 - acc: 0.9688\n"
          ]
        },
        {
          "data": {
            "text/plain": [
              "<keras.callbacks.History at 0x7fa5d5704f10>"
            ]
          },
          "execution_count": 20,
          "metadata": {},
          "output_type": "execute_result"
        }
      ],
      "source": [
        "ebc1.fit(train_generator,\n",
        "         epochs=epochz,\n",
        "         steps_per_epoch=s_p_e,\n",
        "         #validation_data=val_generator,\n",
        "         callbacks=[batch_stats_callback],\n",
        "         )"
      ]
    },
    {
      "cell_type": "code",
      "execution_count": null,
      "metadata": {
        "colab": {
          "background_save": true,
          "base_uri": "https://localhost:8080/"
        },
        "id": "SDPG3Blo6eOj",
        "outputId": "34e4f2a5-8760-47f3-927a-8e9c6c07bb71"
      },
      "outputs": [
        {
          "name": "stdout",
          "output_type": "stream",
          "text": [
            "Epoch 1/3\n",
            "265/265 [==============================] - 7240s 27s/step - loss: 0.3580 - acc: 0.8696\n",
            "Epoch 2/3\n",
            "265/265 [==============================] - 7554s 29s/step - loss: 0.1655 - acc: 0.9062\n",
            "Epoch 3/3\n",
            "265/265 [==============================] - 7566s 29s/step - loss: 0.2184 - acc: 0.8750\n"
          ]
        },
        {
          "data": {
            "text/plain": [
              "<keras.callbacks.History at 0x7fa5d4adf850>"
            ]
          },
          "execution_count": 21,
          "metadata": {},
          "output_type": "execute_result"
        }
      ],
      "source": [
        "ebc1.fit(train_generator,\n",
        "         epochs=epochz,\n",
        "         steps_per_epoch=s_p_e,\n",
        "         #validation_data=val_generator,\n",
        "         callbacks=[batch_stats_callback],\n",
        "         )"
      ]
    },
    {
      "cell_type": "code",
      "execution_count": null,
      "metadata": {
        "colab": {
          "base_uri": "https://localhost:8080/"
        },
        "id": "G6wPjrZZ6eEI",
        "outputId": "71e1a957-570b-4573-893c-325c9acf6bfa"
      },
      "outputs": [
        {
          "name": "stdout",
          "output_type": "stream",
          "text": [
            "Epoch 1/3\n",
            "265/265 [==============================] - 7114s 27s/step - loss: 0.3442 - acc: 0.8750\n",
            "Epoch 2/3\n",
            "265/265 [==============================] - 7013s 26s/step - loss: 0.2897 - acc: 0.8438\n",
            "Epoch 3/3\n",
            "265/265 [==============================] - 6962s 26s/step - loss: 0.2257 - acc: 0.8750\n"
          ]
        },
        {
          "data": {
            "text/plain": [
              "<keras.callbacks.History at 0x7f44693210d0>"
            ]
          },
          "execution_count": 17,
          "metadata": {},
          "output_type": "execute_result"
        }
      ],
      "source": [
        "ebc1.fit(train_generator,\n",
        "         epochs=epochz,\n",
        "         steps_per_epoch=s_p_e,\n",
        "         #validation_data=val_generator,\n",
        "         callbacks=[batch_stats_callback],\n",
        "         )"
      ]
    },
    {
      "cell_type": "code",
      "execution_count": null,
      "metadata": {
        "colab": {
          "base_uri": "https://localhost:8080/"
        },
        "id": "b0t3v5gc6d3I",
        "outputId": "227fc2d2-e759-48f2-e01e-d715f72f6ede"
      },
      "outputs": [
        {
          "name": "stdout",
          "output_type": "stream",
          "text": [
            "Epoch 1/3\n",
            "265/265 [==============================] - 7014s 26s/step - loss: 0.1598 - acc: 0.9688\n",
            "Epoch 2/3\n",
            "265/265 [==============================] - 7031s 27s/step - loss: 0.4163 - acc: 0.9062\n",
            "Epoch 3/3\n",
            "265/265 [==============================] - 7097s 27s/step - loss: 0.1041 - acc: 0.9688\n"
          ]
        },
        {
          "data": {
            "text/plain": [
              "<keras.callbacks.History at 0x7f4455916f10>"
            ]
          },
          "execution_count": 18,
          "metadata": {},
          "output_type": "execute_result"
        }
      ],
      "source": [
        "ebc1.fit(train_generator,\n",
        "         epochs=epochz,\n",
        "         steps_per_epoch=s_p_e,\n",
        "         #validation_data=val_generator,\n",
        "         callbacks=[batch_stats_callback],\n",
        "         )"
      ]
    },
    {
      "cell_type": "markdown",
      "metadata": {
        "id": "TksWwnETUNlo"
      },
      "source": [
        "教師モデル学習"
      ]
    },
    {
      "cell_type": "markdown",
      "metadata": {
        "id": "WPpPH-eB8Etr"
      },
      "source": [
        "mark"
      ]
    },
    {
      "cell_type": "code",
      "execution_count": null,
      "metadata": {
        "colab": {
          "base_uri": "https://localhost:8080/"
        },
        "id": "OiAchV3f5bT9",
        "outputId": "366497e9-bd3c-43b5-9b1a-7832655f78f5"
      },
      "outputs": [
        {
          "name": "stdout",
          "output_type": "stream",
          "text": [
            "Model: \"sequential_3\"\n",
            "_________________________________________________________________\n",
            " Layer (type)                Output Shape              Param #   \n",
            "=================================================================\n",
            " keras_layer (KerasLayer)    (None, 1280)              207615832 \n",
            "                                                                 \n",
            " dense_3 (Dense)             (None, 4)                 5124      \n",
            "                                                                 \n",
            "=================================================================\n",
            "Total params: 207,620,956\n",
            "Trainable params: 5,124\n",
            "Non-trainable params: 207,615,832\n",
            "_________________________________________________________________\n"
          ]
        }
      ],
      "source": [
        "#上位分類層を接合\n",
        "ebc1=Sequential([feature_extractor_layer,\n",
        "                           layers.Dense(train_generator.num_classes,activation='softmax')])\n",
        "\n",
        "ebc1.summary()\n",
        "\n",
        "ebc1.compile(optimizer=tf.keras.optimizers.Adam(),\n",
        "              loss='categorical_crossentropy',\n",
        "              metrics=['acc'])"
      ]
    },
    {
      "cell_type": "code",
      "execution_count": null,
      "metadata": {
        "colab": {
          "base_uri": "https://localhost:8080/"
        },
        "id": "oYMAPr_wpPn_",
        "outputId": "98faa197-fa53-4ad7-ba4e-9cd4da6c3ffb"
      },
      "outputs": [
        {
          "name": "stdout",
          "output_type": "stream",
          "text": [
            "Epoch 1/3\n",
            "265/265 [==============================] - ETA: 0s - loss: 0.2897 - acc: 0.8438 \n",
            "Epoch 1: saving model to /content/drive/MyDrive/result11/model01-01.h5\n",
            "265/265 [==============================] - 10209s 39s/step - loss: 0.2897 - acc: 0.8438 - val_loss: 0.5249 - val_acc: 0.8094\n",
            "Epoch 2/3\n",
            "265/265 [==============================] - ETA: 0s - loss: 0.2380 - acc: 0.9375 \n",
            "Epoch 2: saving model to /content/drive/MyDrive/result11/model01-02.h5\n",
            "265/265 [==============================] - 10196s 39s/step - loss: 0.2380 - acc: 0.9375 - val_loss: 0.5457 - val_acc: 0.7970\n",
            "Epoch 3/3\n",
            "265/265 [==============================] - ETA: 0s - loss: 0.1190 - acc: 1.0000 \n",
            "Epoch 3: saving model to /content/drive/MyDrive/result11/model01-03.h5\n",
            "265/265 [==============================] - 10235s 39s/step - loss: 0.1190 - acc: 1.0000 - val_loss: 0.4672 - val_acc: 0.8256\n"
          ]
        },
        {
          "data": {
            "text/plain": [
              "<keras.callbacks.History at 0x7f444d0a2490>"
            ]
          },
          "execution_count": 20,
          "metadata": {},
          "output_type": "execute_result"
        }
      ],
      "source": [
        "ebc1.fit(train_generator,\n",
        "         epochs=epochz,\n",
        "         steps_per_epoch=s_p_e,\n",
        "         validation_data=val_generator,\n",
        "         callbacks=[checkpoint1,batch_stats_callback],\n",
        "         )"
      ]
    },
    {
      "cell_type": "code",
      "execution_count": null,
      "metadata": {
        "colab": {
          "base_uri": "https://localhost:8080/"
        },
        "id": "UKPI79PE8Nvk",
        "outputId": "c42c0146-2ea4-424b-dcbf-cfebcb445c6a"
      },
      "outputs": [
        {
          "name": "stdout",
          "output_type": "stream",
          "text": [
            "Epoch 1/3\n",
            "265/265 [==============================] - ETA: 0s - loss: 0.6026 - acc: 0.7500 \n",
            "Epoch 1: saving model to /content/drive/MyDrive/result11/model01-01.h5\n",
            "265/265 [==============================] - 6639s 25s/step - loss: 0.6026 - acc: 0.7500 - val_loss: 0.5886 - val_acc: 0.7780\n",
            "Epoch 2/3\n",
            "265/265 [==============================] - ETA: 0s - loss: 0.5779 - acc: 0.8125 \n",
            "Epoch 2: saving model to /content/drive/MyDrive/result11/model01-02.h5\n",
            "265/265 [==============================] - 6606s 25s/step - loss: 0.5779 - acc: 0.8125 - val_loss: 0.4927 - val_acc: 0.8198\n",
            "Epoch 3/3\n",
            "265/265 [==============================] - ETA: 0s - loss: 0.1671 - acc: 1.0000 \n",
            "Epoch 3: saving model to /content/drive/MyDrive/result11/model01-03.h5\n",
            "265/265 [==============================] - 6664s 25s/step - loss: 0.1671 - acc: 1.0000 - val_loss: 0.4859 - val_acc: 0.8185\n"
          ]
        },
        {
          "data": {
            "text/plain": [
              "<keras.callbacks.History at 0x7fee82d5e490>"
            ]
          },
          "execution_count": 21,
          "metadata": {},
          "output_type": "execute_result"
        }
      ],
      "source": [
        "ebc1.fit(train_generator,\n",
        "         epochs=epochz,\n",
        "         steps_per_epoch=s_p_e,\n",
        "         validation_data=val_generator,\n",
        "         callbacks=[checkpoint1,batch_stats_callback],\n",
        "         )"
      ]
    },
    {
      "cell_type": "code",
      "execution_count": null,
      "metadata": {
        "colab": {
          "base_uri": "https://localhost:8080/"
        },
        "id": "enm2ezLW8NjT",
        "outputId": "72304408-d808-4f84-81e5-4c20a5b6b8a3"
      },
      "outputs": [
        {
          "name": "stdout",
          "output_type": "stream",
          "text": [
            "Epoch 1/3\n",
            "265/265 [==============================] - ETA: 0s - loss: 0.0600 - acc: 1.0000 \n",
            "Epoch 1: saving model to /content/drive/MyDrive/result11/model01-01.h5\n",
            "265/265 [==============================] - 6748s 25s/step - loss: 0.0600 - acc: 1.0000 - val_loss: 0.4724 - val_acc: 0.8256\n",
            "Epoch 2/3\n",
            "265/265 [==============================] - ETA: 0s - loss: 0.1740 - acc: 0.9062 \n",
            "Epoch 2: saving model to /content/drive/MyDrive/result11/model01-02.h5\n",
            "265/265 [==============================] - 6826s 26s/step - loss: 0.1740 - acc: 0.9062 - val_loss: 0.4606 - val_acc: 0.8240\n",
            "Epoch 3/3\n",
            "265/265 [==============================] - ETA: 0s - loss: 0.1909 - acc: 0.9375 \n",
            "Epoch 3: saving model to /content/drive/MyDrive/result11/model01-03.h5\n",
            "265/265 [==============================] - 6715s 25s/step - loss: 0.1909 - acc: 0.9375 - val_loss: 0.5256 - val_acc: 0.8080\n"
          ]
        },
        {
          "data": {
            "text/plain": [
              "<keras.callbacks.History at 0x7fedf0700710>"
            ]
          },
          "execution_count": 22,
          "metadata": {},
          "output_type": "execute_result"
        }
      ],
      "source": [
        "ebc1.fit(train_generator,\n",
        "         epochs=epochz,\n",
        "         steps_per_epoch=s_p_e,\n",
        "         validation_data=val_generator,\n",
        "         callbacks=[checkpoint1,batch_stats_callback],\n",
        "         )"
      ]
    },
    {
      "cell_type": "code",
      "execution_count": null,
      "metadata": {
        "colab": {
          "base_uri": "https://localhost:8080/"
        },
        "id": "Hz6e2Xj_8NI_",
        "outputId": "fb0835de-4b9b-4acb-8d54-b97f9f647b60"
      },
      "outputs": [
        {
          "name": "stdout",
          "output_type": "stream",
          "text": [
            "Epoch 1/3\n",
            "265/265 [==============================] - ETA: 0s - loss: 0.4816 - acc: 0.7812 \n",
            "Epoch 1: saving model to /content/drive/MyDrive/result11/model01-01.h5\n",
            "265/265 [==============================] - 10370s 39s/step - loss: 0.4816 - acc: 0.7812 - val_loss: 0.5300 - val_acc: 0.7981\n",
            "Epoch 2/3\n",
            "265/265 [==============================] - ETA: 0s - loss: 0.4023 - acc: 0.8750 \n",
            "Epoch 2: saving model to /content/drive/MyDrive/result11/model01-02.h5\n",
            "265/265 [==============================] - 10455s 39s/step - loss: 0.4023 - acc: 0.8750 - val_loss: 0.5439 - val_acc: 0.7948\n",
            "Epoch 3/3\n",
            "265/265 [==============================] - ETA: 0s - loss: 0.2054 - acc: 0.9375 \n",
            "Epoch 3: saving model to /content/drive/MyDrive/result11/model01-03.h5\n",
            "265/265 [==============================] - 10709s 40s/step - loss: 0.2054 - acc: 0.9375 - val_loss: 0.4732 - val_acc: 0.8215\n"
          ]
        },
        {
          "data": {
            "text/plain": [
              "<keras.callbacks.History at 0x7f57df077650>"
            ]
          },
          "execution_count": 19,
          "metadata": {},
          "output_type": "execute_result"
        }
      ],
      "source": [
        "ebc1.fit(train_generator,\n",
        "         epochs=epochz,\n",
        "         steps_per_epoch=s_p_e,\n",
        "         validation_data=val_generator,\n",
        "         callbacks=[checkpoint1,batch_stats_callback],\n",
        "         )"
      ]
    },
    {
      "cell_type": "code",
      "execution_count": null,
      "metadata": {
        "colab": {
          "base_uri": "https://localhost:8080/"
        },
        "id": "rjQ1VHzPaxWN",
        "outputId": "f6084a8d-65f5-432b-ef22-ec71fd09dd86"
      },
      "outputs": [
        {
          "name": "stdout",
          "output_type": "stream",
          "text": [
            "Epoch 1/3\n",
            "265/265 [==============================] - ETA: 0s - loss: 0.1071 - acc: 1.0000 \n",
            "Epoch 1: saving model to /content/drive/MyDrive/result11/model01-01.h5\n",
            "265/265 [==============================] - 10552s 40s/step - loss: 0.1071 - acc: 1.0000 - val_loss: 0.4821 - val_acc: 0.8209\n",
            "Epoch 2/3\n",
            "265/265 [==============================] - ETA: 0s - loss: 0.2996 - acc: 0.9062 \n",
            "Epoch 2: saving model to /content/drive/MyDrive/result11/model01-02.h5\n",
            "265/265 [==============================] - 10481s 40s/step - loss: 0.2996 - acc: 0.9062 - val_loss: 0.4500 - val_acc: 0.8306\n",
            "Epoch 3/3\n",
            "265/265 [==============================] - ETA: 0s - loss: 0.2123 - acc: 0.9688 \n",
            "Epoch 3: saving model to /content/drive/MyDrive/result11/model01-03.h5\n",
            "265/265 [==============================] - 10611s 40s/step - loss: 0.2123 - acc: 0.9688 - val_loss: 0.4666 - val_acc: 0.8262\n"
          ]
        },
        {
          "data": {
            "text/plain": [
              "<keras.callbacks.History at 0x7f57d13aead0>"
            ]
          },
          "execution_count": 20,
          "metadata": {},
          "output_type": "execute_result"
        }
      ],
      "source": [
        "ebc1.fit(train_generator,\n",
        "         epochs=epochz,\n",
        "         steps_per_epoch=s_p_e,\n",
        "         validation_data=val_generator,\n",
        "         callbacks=[checkpoint1,batch_stats_callback],\n",
        "         )"
      ]
    },
    {
      "cell_type": "markdown",
      "metadata": {
        "id": "SygNTYBk8Ppr"
      },
      "source": [
        "mark"
      ]
    },
    {
      "cell_type": "code",
      "execution_count": null,
      "metadata": {
        "colab": {
          "base_uri": "https://localhost:8080/"
        },
        "id": "xCg_kIo-Nkn3",
        "outputId": "bb0daeb2-4526-4943-d269-b6678f5474f5"
      },
      "outputs": [
        {
          "name": "stdout",
          "output_type": "stream",
          "text": [
            "Model: \"sequential_4\"\n",
            "_________________________________________________________________\n",
            " Layer (type)                Output Shape              Param #   \n",
            "=================================================================\n",
            " keras_layer (KerasLayer)    (None, 1280)              207615832 \n",
            "                                                                 \n",
            " dense_4 (Dense)             (None, 4)                 5124      \n",
            "                                                                 \n",
            "=================================================================\n",
            "Total params: 207,620,956\n",
            "Trainable params: 5,124\n",
            "Non-trainable params: 207,615,832\n",
            "_________________________________________________________________\n"
          ]
        }
      ],
      "source": [
        "#上位分類層を接合\n",
        "ebc1=Sequential([feature_extractor_layer,\n",
        "                           layers.Dense(train_generator.num_classes,activation='softmax')])\n",
        "\n",
        "ebc1.summary()\n",
        "\n",
        "ebc1.compile(optimizer=tf.keras.optimizers.Adam(),\n",
        "              loss='categorical_crossentropy',\n",
        "              metrics=['acc'])\n",
        "\n"
      ]
    },
    {
      "cell_type": "code",
      "execution_count": null,
      "metadata": {
        "colab": {
          "base_uri": "https://localhost:8080/"
        },
        "id": "WKL-CQd7sshd",
        "outputId": "a9d5da04-ba14-441f-c669-68779a8b82be"
      },
      "outputs": [
        {
          "name": "stdout",
          "output_type": "stream",
          "text": [
            "Epoch 1/3\n",
            "265/265 [==============================] - ETA: 0s - loss: 0.5400 - acc: 0.7812 \n",
            "Epoch 1: saving model to /content/drive/MyDrive/result11/model01-01.h5\n",
            "265/265 [==============================] - 13663s 52s/step - loss: 0.5400 - acc: 0.7812 - val_loss: 0.4218 - val_acc: 0.8470\n",
            "Epoch 2/3\n",
            "265/265 [==============================] - ETA: 0s - loss: 0.2713 - acc: 0.8750 \n",
            "Epoch 2: saving model to /content/drive/MyDrive/result11/model01-02.h5\n",
            "265/265 [==============================] - 13793s 52s/step - loss: 0.2713 - acc: 0.8750 - val_loss: 0.3377 - val_acc: 0.8830\n",
            "Epoch 3/3\n",
            "265/265 [==============================] - ETA: 0s - loss: 0.2521 - acc: 0.9062 \n",
            "Epoch 3: saving model to /content/drive/MyDrive/result11/model01-03.h5\n",
            "265/265 [==============================] - 13845s 52s/step - loss: 0.2521 - acc: 0.9062 - val_loss: 0.3220 - val_acc: 0.8870\n"
          ]
        }
      ],
      "source": [
        "#擬似ラベル作成\n",
        "history=ebc1.fit(train_generator,\n",
        "                  epochs=epochz,\n",
        "                  steps_per_epoch=s_p_e,\n",
        "                  validation_data=gizi_data,\n",
        "                  callbacks=[checkpoint1,batch_stats_callback]\n",
        "                  )"
      ]
    },
    {
      "cell_type": "code",
      "execution_count": null,
      "metadata": {
        "colab": {
          "background_save": true,
          "base_uri": "https://localhost:8080/"
        },
        "id": "vEhTYIUU8SBP",
        "outputId": "c97f350b-56a2-408e-cb42-bbc9039e7741"
      },
      "outputs": [
        {
          "name": "stdout",
          "output_type": "stream",
          "text": [
            "Epoch 1/3\n",
            "265/265 [==============================] - ETA: 0s - loss: 0.2781 - acc: 0.8750 \n",
            "Epoch 1: saving model to /content/drive/MyDrive/result11/model01-01.h5\n",
            "265/265 [==============================] - 13670s 52s/step - loss: 0.2781 - acc: 0.8750 - val_loss: 0.2886 - val_acc: 0.8965\n",
            "Epoch 2/3\n",
            "265/265 [==============================] - ETA: 0s - loss: 0.0784 - acc: 0.9688 \n",
            "Epoch 2: saving model to /content/drive/MyDrive/result11/model01-02.h5\n",
            "265/265 [==============================] - 14036s 53s/step - loss: 0.0784 - acc: 0.9688 - val_loss: 0.2820 - val_acc: 0.8998\n",
            "Epoch 3/3\n",
            "265/265 [==============================] - ETA: 0s - loss: 0.1907 - acc: 0.9375 \n",
            "Epoch 3: saving model to /content/drive/MyDrive/result11/model01-03.h5\n",
            "265/265 [==============================] - 14110s 53s/step - loss: 0.1907 - acc: 0.9375 - val_loss: 0.2877 - val_acc: 0.8990\n"
          ]
        }
      ],
      "source": [
        "history=ebc1.fit(train_generator,\n",
        "                  epochs=epochz,\n",
        "                  steps_per_epoch=s_p_e,\n",
        "                  validation_data=gizi_data,\n",
        "                  callbacks=[checkpoint1,batch_stats_callback]\n",
        "                  )"
      ]
    },
    {
      "cell_type": "code",
      "execution_count": null,
      "metadata": {
        "colab": {
          "base_uri": "https://localhost:8080/"
        },
        "id": "742qbulr8R1Q",
        "outputId": "29a3fb25-f640-482f-e7fe-b5756ac45895"
      },
      "outputs": [
        {
          "name": "stdout",
          "output_type": "stream",
          "text": [
            "Epoch 1/3\n",
            " 78/265 [=======>......................] - ETA: 1:23:59 - loss: 0.7705 - acc: 0.6875"
          ]
        }
      ],
      "source": [
        "history=ebc1.fit(train_generator,\n",
        "                  epochs=epochz,\n",
        "                  steps_per_epoch=s_p_e,\n",
        "                  validation_data=gizi_data,\n",
        "                  callbacks=[checkpoint1,batch_stats_callback]\n",
        "                  )"
      ]
    },
    {
      "cell_type": "code",
      "execution_count": null,
      "metadata": {
        "id": "E7hQFDFC8Rog"
      },
      "outputs": [],
      "source": [
        "history=ebc1.fit(train_generator,\n",
        "                  epochs=epochz,\n",
        "                  steps_per_epoch=s_p_e,\n",
        "                  validation_data=gizi_data,\n",
        "                  callbacks=[checkpoint1,batch_stats_callback]\n",
        "                  )"
      ]
    },
    {
      "cell_type": "code",
      "execution_count": null,
      "metadata": {
        "id": "QGbC02288Rcx"
      },
      "outputs": [],
      "source": [
        "history=ebc1.fit(train_generator,\n",
        "                  epochs=epochz,\n",
        "                  steps_per_epoch=s_p_e,\n",
        "                  validation_data=gizi_data,\n",
        "                  callbacks=[checkpoint1,batch_stats_callback]\n",
        "                  )"
      ]
    },
    {
      "cell_type": "code",
      "execution_count": null,
      "metadata": {
        "id": "7Pj9bX04OEBi"
      },
      "outputs": [],
      "source": [
        "#疑似ラベルの予測\n",
        "gizi_label1=ebc1.predict(gizi_data)"
      ]
    },
    {
      "cell_type": "markdown",
      "metadata": {
        "id": "QJlPPHp58T3_"
      },
      "source": [
        "mark"
      ]
    },
    {
      "cell_type": "code",
      "execution_count": null,
      "metadata": {
        "id": "kouowLzUOFP4"
      },
      "outputs": [],
      "source": [
        "feature_extractor_layer.trainable=False\n",
        "#入力画像ノイズ(rand augmentation)の設定\n",
        "data_augmentation=Sequential([layers.RandomRotation(2.10)])\n",
        "#モデルノイズ（stochastic depth）の設定\n",
        "stochastic_Depth=Sequential([tfa.layers.StochasticDepth(0.35)])\n",
        "\n",
        "#モデルにrand augmentationを適用\n",
        "model1=Sequential([data_augmentation])\n",
        "#モデルにstochastic depthを適用\n",
        "model1=Sequential([stochastic_Depth])\n",
        "\n",
        "#モデルノイズ（dropout）の設定と適用\n",
        "model1=Sequential([feature_extractor_layer,\n",
        "                           layers.Dense(train_generator.num_classes,activation='softmax'),\n",
        "                           #layers.Dropout(0.2)\n",
        "                           \n",
        "                  ])"
      ]
    },
    {
      "cell_type": "markdown",
      "metadata": {
        "id": "qnEfQ0Jt8XXq"
      },
      "source": [
        "mark"
      ]
    },
    {
      "cell_type": "code",
      "execution_count": null,
      "metadata": {
        "id": "byBJbPE9OWq_"
      },
      "outputs": [],
      "source": [
        "#model1\n",
        "model1.compile(optimizer=tf.keras.optimizers.Adam(),\n",
        "              loss='categorical_crossentropy',\n",
        "              metrics=['acc'])\n",
        "model1.summary()\n"
      ]
    },
    {
      "cell_type": "code",
      "execution_count": null,
      "metadata": {
        "id": "ZIdU673iOaU2"
      },
      "outputs": [],
      "source": [
        "#model1\n",
        "history=model1.fit(gizi_data,\n",
        "                  epochs=epochz,\n",
        "                  steps_per_epoch=np.ceil(gizi_data.samples/batch_size),\n",
        "                  validation_data=val_generator,\n",
        "                  callbacks=[checkpoint1,batch_stats_callback]\n",
        "                  )"
      ]
    },
    {
      "cell_type": "code",
      "execution_count": null,
      "metadata": {
        "id": "hoWojoFE8a8V"
      },
      "outputs": [],
      "source": [
        "history=model1.fit(gizi_data,\n",
        "                  epochs=epochz,\n",
        "                  steps_per_epoch=np.ceil(gizi_data.samples/batch_size),\n",
        "                  validation_data=val_generator,\n",
        "                  callbacks=[checkpoint1,batch_stats_callback]\n",
        "                  )"
      ]
    },
    {
      "cell_type": "code",
      "execution_count": null,
      "metadata": {
        "id": "eIRGqYqo8avj"
      },
      "outputs": [],
      "source": [
        "history=model1.fit(gizi_data,\n",
        "                  epochs=epochz,\n",
        "                  steps_per_epoch=np.ceil(gizi_data.samples/batch_size),\n",
        "                  validation_data=val_generator,\n",
        "                  callbacks=[checkpoint1,batch_stats_callback]\n",
        "                  )"
      ]
    },
    {
      "cell_type": "code",
      "execution_count": null,
      "metadata": {
        "id": "FqqC4jmz8aiB"
      },
      "outputs": [],
      "source": [
        "history=model1.fit(gizi_data,\n",
        "                  epochs=epochz,\n",
        "                  steps_per_epoch=np.ceil(gizi_data.samples/batch_size),\n",
        "                  validation_data=val_generator,\n",
        "                  callbacks=[checkpoint1,batch_stats_callback]\n",
        "                  )"
      ]
    },
    {
      "cell_type": "code",
      "execution_count": null,
      "metadata": {
        "id": "uQKmMK9B8aPR"
      },
      "outputs": [],
      "source": [
        "history=model1.fit(gizi_data,\n",
        "                  epochs=epochz,\n",
        "                  steps_per_epoch=np.ceil(gizi_data.samples/batch_size),\n",
        "                  validation_data=val_generator,\n",
        "                  callbacks=[checkpoint1,batch_stats_callback]\n",
        "                  )"
      ]
    },
    {
      "cell_type": "markdown",
      "metadata": {
        "id": "1wh8HdG_4BNY"
      },
      "source": [
        "1"
      ]
    },
    {
      "cell_type": "code",
      "execution_count": null,
      "metadata": {
        "id": "4WWrbzGdrZQR"
      },
      "outputs": [],
      "source": [
        "history=model1.fit(train_generator,\n",
        "                   epochs=epochz,\n",
        "                   steps_per_epoch=s_p_e,\n",
        "                   validation_data=val_generator,\n",
        "                   callbacks=[checkpoint1,batch_stats_callback]\n",
        "                   )"
      ]
    },
    {
      "cell_type": "code",
      "execution_count": null,
      "metadata": {
        "id": "KKyXb2fu8dnr"
      },
      "outputs": [],
      "source": [
        "history=model1.fit(train_generator,\n",
        "                   epochs=epochz,\n",
        "                   steps_per_epoch=s_p_e,\n",
        "                   validation_data=val_generator,\n",
        "                   callbacks=[checkpoint1,batch_stats_callback]\n",
        "                   )"
      ]
    },
    {
      "cell_type": "code",
      "execution_count": null,
      "metadata": {
        "id": "av59Bvyp8dbc"
      },
      "outputs": [],
      "source": [
        "history=model1.fit(train_generator,\n",
        "                   epochs=epochz,\n",
        "                   steps_per_epoch=s_p_e,\n",
        "                   validation_data=val_generator,\n",
        "                   callbacks=[checkpoint1,batch_stats_callback]\n",
        "                   )"
      ]
    },
    {
      "cell_type": "code",
      "execution_count": null,
      "metadata": {
        "id": "pasZYZTi8dPM"
      },
      "outputs": [],
      "source": [
        "history=model1.fit(train_generator,\n",
        "                   epochs=epochz,\n",
        "                   steps_per_epoch=s_p_e,\n",
        "                   validation_data=val_generator,\n",
        "                   callbacks=[checkpoint1,batch_stats_callback]\n",
        "                   )"
      ]
    },
    {
      "cell_type": "code",
      "execution_count": null,
      "metadata": {
        "id": "yJ9RKIa28dD_"
      },
      "outputs": [],
      "source": [
        "history=model1.fit(train_generator,\n",
        "                   epochs=epochz,\n",
        "                   steps_per_epoch=s_p_e,\n",
        "                   validation_data=val_generator,\n",
        "                   callbacks=[checkpoint1,batch_stats_callback]\n",
        "                   )"
      ]
    },
    {
      "cell_type": "code",
      "execution_count": null,
      "metadata": {
        "id": "ckOn-cbrOkLK"
      },
      "outputs": [],
      "source": [
        "# HDF5フォーマットでモデルを保存するために必要\n",
        "!pip install -q pyyaml h5py  "
      ]
    },
    {
      "cell_type": "code",
      "execution_count": null,
      "metadata": {
        "id": "RekH5DbcOgl0"
      },
      "outputs": [],
      "source": [
        "model1.save('/content/drive/MyDrive/result11/model1.h5/')"
      ]
    },
    {
      "cell_type": "markdown",
      "metadata": {
        "id": "lIAbUZEUebtt"
      },
      "source": [
        "# model 2"
      ]
    },
    {
      "cell_type": "markdown",
      "metadata": {
        "id": "v9USPnLMOIY8"
      },
      "source": [
        "model2"
      ]
    },
    {
      "cell_type": "code",
      "execution_count": null,
      "metadata": {
        "id": "JjdlcbD3pSVa"
      },
      "outputs": [],
      "source": [
        "ebc2.fit(train_generator,\n",
        "         epochs=epochz,\n",
        "         steps_per_epoch=s_p_e,\n",
        "         #validation_data=val_generator,\n",
        "         callbacks=[batch_stats_callback],\n",
        "         )"
      ]
    },
    {
      "cell_type": "code",
      "execution_count": null,
      "metadata": {
        "id": "ChFejgeyxm23"
      },
      "outputs": [],
      "source": [
        "ebc2.fit(train_generator,\n",
        "         epochs=epochz,\n",
        "         steps_per_epoch=s_p_e,\n",
        "         #validation_data=val_generator,\n",
        "         callbacks=[batch_stats_callback],\n",
        "         )"
      ]
    },
    {
      "cell_type": "code",
      "execution_count": null,
      "metadata": {
        "id": "53C_lx2oxmss"
      },
      "outputs": [],
      "source": [
        "ebc2.fit(train_generator,\n",
        "         epochs=epochz,\n",
        "         steps_per_epoch=s_p_e,\n",
        "         #validation_data=val_generator,\n",
        "         callbacks=[batch_stats_callback],\n",
        "         )"
      ]
    },
    {
      "cell_type": "code",
      "execution_count": null,
      "metadata": {
        "id": "QddWiSj2xmjX"
      },
      "outputs": [],
      "source": [
        "ebc2.fit(train_generator,\n",
        "         epochs=epochz,\n",
        "         steps_per_epoch=s_p_e,\n",
        "         #validation_data=val_generator,\n",
        "         callbacks=[batch_stats_callback],\n",
        "         )"
      ]
    },
    {
      "cell_type": "code",
      "execution_count": null,
      "metadata": {
        "id": "MItTpbOgxmYI"
      },
      "outputs": [],
      "source": [
        "ebc2.fit(train_generator,\n",
        "         epochs=epochz,\n",
        "         steps_per_epoch=s_p_e,\n",
        "         #validation_data=val_generator,\n",
        "         callbacks=[batch_stats_callback],\n",
        "         )"
      ]
    },
    {
      "cell_type": "markdown",
      "metadata": {
        "id": "KXngMj2A6x20"
      },
      "source": [
        "教師モデル学習"
      ]
    },
    {
      "cell_type": "markdown",
      "metadata": {
        "id": "wUX7Z8Ot9POp"
      },
      "source": [
        "mark"
      ]
    },
    {
      "cell_type": "code",
      "execution_count": null,
      "metadata": {
        "id": "y1XNehJENlRQ"
      },
      "outputs": [],
      "source": [
        "#上位分類層を接合\n",
        "ebc2=Sequential([feature_extractor_layer,\n",
        "                           layers.Dense(train_generator.num_classes,activation='softmax')])\n",
        "\n",
        "ebc2.summary()\n",
        "\n",
        "ebc2.compile(optimizer=tf.keras.optimizers.Adam(),\n",
        "              loss='categorical_crossentropy',\n",
        "              metrics=['acc'])"
      ]
    },
    {
      "cell_type": "code",
      "execution_count": null,
      "metadata": {
        "id": "zp5Gkdim6ope"
      },
      "outputs": [],
      "source": [
        "ebc2.fit(train_generator,\n",
        "         epochs=epochz,\n",
        "         steps_per_epoch=s_p_e,\n",
        "         validation_data=val_generator,\n",
        "         callbacks=[batch_stats_callback,checkpoint2],\n",
        "         )"
      ]
    },
    {
      "cell_type": "code",
      "execution_count": null,
      "metadata": {
        "id": "65wwvpF89Ro2"
      },
      "outputs": [],
      "source": [
        "ebc2.fit(train_generator,\n",
        "         epochs=epochz,\n",
        "         steps_per_epoch=s_p_e,\n",
        "         validation_data=val_generator,\n",
        "         callbacks=[batch_stats_callback,checkpoint2],\n",
        "         )"
      ]
    },
    {
      "cell_type": "code",
      "execution_count": null,
      "metadata": {
        "id": "J4a_GT6i9RbE"
      },
      "outputs": [],
      "source": [
        "ebc2.fit(train_generator,\n",
        "         epochs=epochz,\n",
        "         steps_per_epoch=s_p_e,\n",
        "         validation_data=val_generator,\n",
        "         callbacks=[batch_stats_callback,checkpoint2],\n",
        "         )"
      ]
    },
    {
      "cell_type": "code",
      "execution_count": null,
      "metadata": {
        "id": "KL4Jzveh9RNP"
      },
      "outputs": [],
      "source": [
        "ebc2.fit(train_generator,\n",
        "         epochs=epochz,\n",
        "         steps_per_epoch=s_p_e,\n",
        "         validation_data=val_generator,\n",
        "         callbacks=[batch_stats_callback,checkpoint2],\n",
        "         )"
      ]
    },
    {
      "cell_type": "code",
      "execution_count": null,
      "metadata": {
        "id": "wBsv6F0h9Q6P"
      },
      "outputs": [],
      "source": [
        "ebc2.fit(train_generator,\n",
        "         epochs=epochz,\n",
        "         steps_per_epoch=s_p_e,\n",
        "         validation_data=val_generator,\n",
        "         callbacks=[batch_stats_callback,checkpoint2],\n",
        "         )"
      ]
    },
    {
      "cell_type": "markdown",
      "metadata": {
        "id": "Y4JrjL5V9StE"
      },
      "source": [
        "mark"
      ]
    },
    {
      "cell_type": "code",
      "execution_count": null,
      "metadata": {
        "id": "EdpxkG4E6qoi"
      },
      "outputs": [],
      "source": [
        "#上位分類層を接合\n",
        "ebc2=Sequential([feature_extractor_layer,\n",
        "                           layers.Dense(train_generator.num_classes,activation='softmax')])\n",
        "\n",
        "ebc2.summary()\n",
        "\n",
        "ebc2.compile(optimizer=tf.keras.optimizers.Adam(),\n",
        "              loss='categorical_crossentropy',\n",
        "              metrics=['acc'])"
      ]
    },
    {
      "cell_type": "code",
      "execution_count": null,
      "metadata": {
        "id": "4XMqb4oprnLb"
      },
      "outputs": [],
      "source": [
        "#擬似ラベル作成\n",
        "history=ebc2.fit(train_generator,\n",
        "                 epochs=epochz,\n",
        "                 steps_per_epoch=s_p_e,\n",
        "                 validation_data=gizi_data,\n",
        "                 callbacks=[checkpoint2,batch_stats_callback]\n",
        "                 )"
      ]
    },
    {
      "cell_type": "code",
      "execution_count": null,
      "metadata": {
        "id": "l2Wit1OL9VbC"
      },
      "outputs": [],
      "source": [
        "history=ebc2.fit(train_generator,\n",
        "                 epochs=epochz,\n",
        "                 steps_per_epoch=s_p_e,\n",
        "                 validation_data=gizi_data,\n",
        "                 callbacks=[checkpoint2,batch_stats_callback]\n",
        "                 )"
      ]
    },
    {
      "cell_type": "code",
      "execution_count": null,
      "metadata": {
        "id": "jrKBiV2w9VPE"
      },
      "outputs": [],
      "source": [
        "history=ebc2.fit(train_generator,\n",
        "                 epochs=epochz,\n",
        "                 steps_per_epoch=s_p_e,\n",
        "                 validation_data=gizi_data,\n",
        "                 callbacks=[checkpoint2,batch_stats_callback]\n",
        "                 )"
      ]
    },
    {
      "cell_type": "code",
      "execution_count": null,
      "metadata": {
        "id": "p4t4P2a-9VBA"
      },
      "outputs": [],
      "source": [
        "history=ebc2.fit(train_generator,\n",
        "                 epochs=epochz,\n",
        "                 steps_per_epoch=s_p_e,\n",
        "                 validation_data=gizi_data,\n",
        "                 callbacks=[checkpoint2,batch_stats_callback]\n",
        "                 )"
      ]
    },
    {
      "cell_type": "code",
      "execution_count": null,
      "metadata": {
        "id": "URYZvet89U1i"
      },
      "outputs": [],
      "source": [
        "history=ebc2.fit(train_generator,\n",
        "                 epochs=epochz,\n",
        "                 steps_per_epoch=s_p_e,\n",
        "                 validation_data=gizi_data,\n",
        "                 callbacks=[checkpoint2,batch_stats_callback]\n",
        "                 )"
      ]
    },
    {
      "cell_type": "code",
      "execution_count": null,
      "metadata": {
        "id": "IVmd6T5-OhOz"
      },
      "outputs": [],
      "source": [
        "gizi_label2=ebc2.predict(gizi_data)"
      ]
    },
    {
      "cell_type": "markdown",
      "metadata": {
        "id": "OdLGsOb49WbH"
      },
      "source": [
        "mark"
      ]
    },
    {
      "cell_type": "code",
      "execution_count": null,
      "metadata": {
        "id": "157xYYJjOmPW"
      },
      "outputs": [],
      "source": [
        "feature_extractor_layer.trainable=False\n",
        "#入力画像ノイズ(rand augmentation)の設定\n",
        "data_augmentation=Sequential([layers.RandomRotation(2.10)])\n",
        "#モデルノイズ（stochastic depth）の設定\n",
        "stochastic_Depth=Sequential([tfa.layers.StochasticDepth(0.35)])\n",
        "\n",
        "#モデルにrand augmentationを適用\n",
        "model2=Sequential([data_augmentation])\n",
        "#モデルにstochastic depthを適用\n",
        "model2=Sequential([stochastic_Depth])\n",
        "\n",
        "\n",
        "\n",
        "model2=Sequential([feature_extractor_layer,\n",
        "                           layers.Dense(train_generator.num_classes,activation='softmax'),\n",
        "                           #layers.Dropout(0.2)\n",
        "                  ])\n",
        "\n"
      ]
    },
    {
      "cell_type": "markdown",
      "metadata": {
        "id": "uyT37cD79Y46"
      },
      "source": [
        "mark"
      ]
    },
    {
      "cell_type": "code",
      "execution_count": null,
      "metadata": {
        "id": "ic2Mzg1JOpH_"
      },
      "outputs": [],
      "source": [
        "#model2\n",
        "model2.compile(optimizer=tf.keras.optimizers.Adam(),\n",
        "              loss='categorical_crossentropy',\n",
        "              metrics=['acc'])\n",
        "model2.summary()\n"
      ]
    },
    {
      "cell_type": "code",
      "execution_count": null,
      "metadata": {
        "id": "i8rZ1QSROqdZ"
      },
      "outputs": [],
      "source": [
        "#model2\n",
        "history=model2.fit(gizi_data,\n",
        "                   epochs=epochz,\n",
        "                   steps_per_epoch=np.ceil(gizi_data.samples/batch_size),\n",
        "                   validation_data=val_generator,\n",
        "                   callbacks=[checkpoint2,batch_stats_callback]\n",
        "                   )\n"
      ]
    },
    {
      "cell_type": "code",
      "execution_count": null,
      "metadata": {
        "id": "sQyKRrnF9bkA"
      },
      "outputs": [],
      "source": [
        "history=model2.fit(gizi_data,\n",
        "                   epochs=epochz,\n",
        "                   steps_per_epoch=np.ceil(gizi_data.samples/batch_size),\n",
        "                   validation_data=val_generator,\n",
        "                   callbacks=[checkpoint2,batch_stats_callback]\n",
        "                   )"
      ]
    },
    {
      "cell_type": "code",
      "execution_count": null,
      "metadata": {
        "id": "zjCHIb9c9bY0"
      },
      "outputs": [],
      "source": [
        "history=model2.fit(gizi_data,\n",
        "                   epochs=epochz,\n",
        "                   steps_per_epoch=np.ceil(gizi_data.samples/batch_size),\n",
        "                   validation_data=val_generator,\n",
        "                   callbacks=[checkpoint2,batch_stats_callback]\n",
        "                   )"
      ]
    },
    {
      "cell_type": "code",
      "execution_count": null,
      "metadata": {
        "id": "hMolHIeg9bLS"
      },
      "outputs": [],
      "source": [
        "history=model2.fit(gizi_data,\n",
        "                   epochs=epochz,\n",
        "                   steps_per_epoch=np.ceil(gizi_data.samples/batch_size),\n",
        "                   validation_data=val_generator,\n",
        "                   callbacks=[checkpoint2,batch_stats_callback]\n",
        "                   )"
      ]
    },
    {
      "cell_type": "code",
      "execution_count": null,
      "metadata": {
        "id": "WQLAg8Ri9a_S"
      },
      "outputs": [],
      "source": [
        "history=model2.fit(gizi_data,\n",
        "                   epochs=epochz,\n",
        "                   steps_per_epoch=np.ceil(gizi_data.samples/batch_size),\n",
        "                   validation_data=val_generator,\n",
        "                   callbacks=[checkpoint2,batch_stats_callback]\n",
        "                   )"
      ]
    },
    {
      "cell_type": "markdown",
      "metadata": {
        "id": "wO-pyy-B4a5J"
      },
      "source": [
        "2"
      ]
    },
    {
      "cell_type": "code",
      "execution_count": null,
      "metadata": {
        "id": "oTaVja0nro8c"
      },
      "outputs": [],
      "source": [
        "history=model2.fit(train_generator,\n",
        "                   epochs=epochz,\n",
        "                   steps_per_epoch=s_p_e,\n",
        "                   validation_data=val_generator,\n",
        "                   callbacks=[checkpoint2,batch_stats_callback]\n",
        "                   )"
      ]
    },
    {
      "cell_type": "code",
      "execution_count": null,
      "metadata": {
        "id": "rk5kn5YL9d2G"
      },
      "outputs": [],
      "source": [
        "history=model2.fit(train_generator,\n",
        "                   epochs=epochz,\n",
        "                   steps_per_epoch=s_p_e,\n",
        "                   validation_data=val_generator,\n",
        "                   callbacks=[checkpoint2,batch_stats_callback]\n",
        "                   )"
      ]
    },
    {
      "cell_type": "code",
      "execution_count": null,
      "metadata": {
        "id": "AlrI-bw49doF"
      },
      "outputs": [],
      "source": [
        "history=model2.fit(train_generator,\n",
        "                   epochs=epochz,\n",
        "                   steps_per_epoch=s_p_e,\n",
        "                   validation_data=val_generator,\n",
        "                   callbacks=[checkpoint2,batch_stats_callback]\n",
        "                   )"
      ]
    },
    {
      "cell_type": "code",
      "execution_count": null,
      "metadata": {
        "id": "zXzvu6Xd9dcE"
      },
      "outputs": [],
      "source": [
        "history=model2.fit(train_generator,\n",
        "                   epochs=epochz,\n",
        "                   steps_per_epoch=s_p_e,\n",
        "                   validation_data=val_generator,\n",
        "                   callbacks=[checkpoint2,batch_stats_callback]\n",
        "                   )"
      ]
    },
    {
      "cell_type": "code",
      "execution_count": null,
      "metadata": {
        "id": "94wx39C09dNe"
      },
      "outputs": [],
      "source": [
        "history=model2.fit(train_generator,\n",
        "                   epochs=epochz,\n",
        "                   steps_per_epoch=s_p_e,\n",
        "                   validation_data=val_generator,\n",
        "                   callbacks=[checkpoint2,batch_stats_callback]\n",
        "                   )"
      ]
    },
    {
      "cell_type": "code",
      "execution_count": null,
      "metadata": {
        "id": "WkeRE4nBOdql"
      },
      "outputs": [],
      "source": [
        "model2.save('/content/drive/MyDrive/result11/model2.h5/')"
      ]
    },
    {
      "cell_type": "markdown",
      "metadata": {
        "id": "fOX28je1eWY3"
      },
      "source": [
        "# model 3"
      ]
    },
    {
      "cell_type": "markdown",
      "metadata": {
        "id": "PKvI-i08OQPz"
      },
      "source": [
        "model3"
      ]
    },
    {
      "cell_type": "code",
      "execution_count": null,
      "metadata": {
        "colab": {
          "base_uri": "https://localhost:8080/"
        },
        "id": "5pHbUKKVpU4u",
        "outputId": "c8ae6e8b-424c-4a78-ecbf-b756a8ee3f0a"
      },
      "outputs": [
        {
          "name": "stdout",
          "output_type": "stream",
          "text": [
            "Epoch 1/3\n",
            "263/263 [==============================] - 1822s 7s/step - loss: 0.4137 - acc: 0.8750\n",
            "Epoch 2/3\n",
            "263/263 [==============================] - 792s 3s/step - loss: 0.4523 - acc: 0.8125\n",
            "Epoch 3/3\n",
            "263/263 [==============================] - 776s 3s/step - loss: 0.5737 - acc: 0.8125\n"
          ]
        },
        {
          "data": {
            "text/plain": [
              "<keras.callbacks.History at 0x7f4c2a2a0dd0>"
            ]
          },
          "execution_count": 18,
          "metadata": {},
          "output_type": "execute_result"
        }
      ],
      "source": [
        "ebc3.fit(train_generator,\n",
        "         epochs=epochz,\n",
        "         steps_per_epoch=s_p_e,\n",
        "         #validation_data=val_generator,\n",
        "         callbacks=[batch_stats_callback],\n",
        "         )"
      ]
    },
    {
      "cell_type": "code",
      "execution_count": null,
      "metadata": {
        "colab": {
          "base_uri": "https://localhost:8080/"
        },
        "id": "ABP_ZLADxsHE",
        "outputId": "fc8e3979-37fd-4133-dc47-538c3320f215"
      },
      "outputs": [
        {
          "name": "stdout",
          "output_type": "stream",
          "text": [
            "Epoch 1/3\n",
            "263/263 [==============================] - 776s 3s/step - loss: 0.3946 - acc: 0.9062\n",
            "Epoch 2/3\n",
            "263/263 [==============================] - 779s 3s/step - loss: 0.4160 - acc: 0.8750\n",
            "Epoch 3/3\n",
            "263/263 [==============================] - 773s 3s/step - loss: 0.3755 - acc: 0.8438\n"
          ]
        },
        {
          "data": {
            "text/plain": [
              "<keras.callbacks.History at 0x7f4c2297bfd0>"
            ]
          },
          "execution_count": 19,
          "metadata": {},
          "output_type": "execute_result"
        }
      ],
      "source": [
        "ebc3.fit(train_generator,\n",
        "         epochs=epochz,\n",
        "         steps_per_epoch=s_p_e,\n",
        "         #validation_data=val_generator,\n",
        "         callbacks=[batch_stats_callback],\n",
        "         )"
      ]
    },
    {
      "cell_type": "code",
      "execution_count": null,
      "metadata": {
        "colab": {
          "base_uri": "https://localhost:8080/"
        },
        "id": "VOeMVmcBxr7m",
        "outputId": "e2cd749e-cb43-4a17-ff62-f80172aff012"
      },
      "outputs": [
        {
          "name": "stdout",
          "output_type": "stream",
          "text": [
            "Epoch 1/3\n",
            "263/263 [==============================] - 774s 3s/step - loss: 0.1617 - acc: 0.9688\n",
            "Epoch 2/3\n",
            "263/263 [==============================] - 779s 3s/step - loss: 0.1775 - acc: 0.9375\n",
            "Epoch 3/3\n",
            "263/263 [==============================] - 798s 3s/step - loss: 0.1674 - acc: 0.9688\n"
          ]
        },
        {
          "data": {
            "text/plain": [
              "<keras.callbacks.History at 0x7f4c3a49d690>"
            ]
          },
          "execution_count": 20,
          "metadata": {},
          "output_type": "execute_result"
        }
      ],
      "source": [
        "ebc3.fit(train_generator,\n",
        "         epochs=epochz,\n",
        "         steps_per_epoch=s_p_e,\n",
        "         #validation_data=val_generator,\n",
        "         callbacks=[batch_stats_callback],\n",
        "         )"
      ]
    },
    {
      "cell_type": "code",
      "execution_count": null,
      "metadata": {
        "colab": {
          "base_uri": "https://localhost:8080/"
        },
        "id": "mCa371pKxrv4",
        "outputId": "a5bdff78-f0c0-44ee-f5d0-8b2e7aabe323"
      },
      "outputs": [
        {
          "name": "stdout",
          "output_type": "stream",
          "text": [
            "Epoch 1/3\n",
            "263/263 [==============================] - 822s 3s/step - loss: 0.1493 - acc: 0.9688\n",
            "Epoch 2/3\n",
            "263/263 [==============================] - 820s 3s/step - loss: 0.3806 - acc: 0.8750\n",
            "Epoch 3/3\n",
            "263/263 [==============================] - 822s 3s/step - loss: 0.1521 - acc: 0.9375\n"
          ]
        },
        {
          "data": {
            "text/plain": [
              "<keras.callbacks.History at 0x7f4c23140550>"
            ]
          },
          "execution_count": 21,
          "metadata": {},
          "output_type": "execute_result"
        }
      ],
      "source": [
        "ebc3.fit(train_generator,\n",
        "         epochs=epochz,\n",
        "         steps_per_epoch=s_p_e,\n",
        "         #validation_data=val_generator,\n",
        "         callbacks=[batch_stats_callback],\n",
        "         )"
      ]
    },
    {
      "cell_type": "code",
      "execution_count": null,
      "metadata": {
        "colab": {
          "base_uri": "https://localhost:8080/"
        },
        "id": "DNgUOSE4xrim",
        "outputId": "dfcde582-5f61-4606-88e9-b794b3924a89"
      },
      "outputs": [
        {
          "name": "stdout",
          "output_type": "stream",
          "text": [
            "Epoch 1/3\n",
            "263/263 [==============================] - 818s 3s/step - loss: 0.1138 - acc: 0.9375\n",
            "Epoch 2/3\n",
            "263/263 [==============================] - 816s 3s/step - loss: 0.2588 - acc: 0.8438\n",
            "Epoch 3/3\n",
            "263/263 [==============================] - 816s 3s/step - loss: 0.1272 - acc: 1.0000\n"
          ]
        },
        {
          "data": {
            "text/plain": [
              "<keras.callbacks.History at 0x7f4c23949650>"
            ]
          },
          "execution_count": 22,
          "metadata": {},
          "output_type": "execute_result"
        }
      ],
      "source": [
        "ebc3.fit(train_generator,\n",
        "         epochs=epochz,\n",
        "         steps_per_epoch=s_p_e,\n",
        "         #validation_data=val_generator,\n",
        "         callbacks=[batch_stats_callback],\n",
        "         )"
      ]
    },
    {
      "cell_type": "markdown",
      "metadata": {
        "id": "FXoGivwo9f2O"
      },
      "source": [
        "mark"
      ]
    },
    {
      "cell_type": "code",
      "execution_count": 18,
      "metadata": {
        "colab": {
          "base_uri": "https://localhost:8080/"
        },
        "id": "FC0OJdAZNlzX",
        "outputId": "2b19be70-94e2-433a-b4cf-4ca5a91a37ea"
      },
      "outputs": [
        {
          "name": "stdout",
          "output_type": "stream",
          "text": [
            "Model: \"sequential_3\"\n",
            "_________________________________________________________________\n",
            " Layer (type)                Output Shape              Param #   \n",
            "=================================================================\n",
            " keras_layer (KerasLayer)    (None, 1280)              207615832 \n",
            "                                                                 \n",
            " dense_3 (Dense)             (None, 4)                 5124      \n",
            "                                                                 \n",
            "=================================================================\n",
            "Total params: 207,620,956\n",
            "Trainable params: 5,124\n",
            "Non-trainable params: 207,615,832\n",
            "_________________________________________________________________\n"
          ]
        }
      ],
      "source": [
        "#上位分類層を接合\n",
        "ebc3=Sequential([feature_extractor_layer,\n",
        "                           layers.Dense(train_generator.num_classes,activation='softmax')])\n",
        "\n",
        "ebc3.summary()\n",
        "\n",
        "ebc3.compile(optimizer=tf.keras.optimizers.Adam(),\n",
        "              loss='categorical_crossentropy',\n",
        "              metrics=['acc'])\n",
        "\n"
      ]
    },
    {
      "cell_type": "markdown",
      "metadata": {
        "id": "DlN8IuygSiz5"
      },
      "source": [
        "教師モデル作成"
      ]
    },
    {
      "cell_type": "code",
      "execution_count": null,
      "metadata": {
        "colab": {
          "base_uri": "https://localhost:8080/"
        },
        "id": "TODUFDzdSR3Q",
        "outputId": "8861d667-eb6f-4e0d-e9cd-2ad677fc3ff8"
      },
      "outputs": [
        {
          "name": "stdout",
          "output_type": "stream",
          "text": [
            "Epoch 1/3\n",
            "263/263 [==============================] - ETA: 0s - loss: 0.6925 - acc: 0.6875 \n",
            "Epoch 1: saving model to /content/drive/MyDrive/result11/model03-01.h5\n",
            "263/263 [==============================] - 10133s 38s/step - loss: 0.6925 - acc: 0.6875 - val_loss: 0.5169 - val_acc: 0.8053\n",
            "Epoch 2/3\n",
            "263/263 [==============================] - ETA: 0s - loss: 0.2176 - acc: 0.9375 \n",
            "Epoch 2: saving model to /content/drive/MyDrive/result11/model03-02.h5\n",
            "263/263 [==============================] - 10072s 38s/step - loss: 0.2176 - acc: 0.9375 - val_loss: 0.4891 - val_acc: 0.8144\n",
            "Epoch 3/3\n",
            "263/263 [==============================] - ETA: 0s - loss: 0.1997 - acc: 0.9062 "
          ]
        }
      ],
      "source": [
        "ebc3.fit(train_generator,\n",
        "         epochs=epochz,\n",
        "         steps_per_epoch=s_p_e,\n",
        "         validation_data=val_generator,\n",
        "         callbacks=[batch_stats_callback,checkpoint3],\n",
        "         )"
      ]
    },
    {
      "cell_type": "code",
      "execution_count": null,
      "metadata": {
        "colab": {
          "base_uri": "https://localhost:8080/"
        },
        "id": "lsIeZrX09mpI",
        "outputId": "ee1919f0-1961-4f29-b413-4a1bb6044c7b"
      },
      "outputs": [
        {
          "name": "stdout",
          "output_type": "stream",
          "text": [
            "Epoch 1/3\n",
            "263/263 [==============================] - ETA: 0s - loss: 0.2319 - acc: 0.9375 \n",
            "Epoch 1: saving model to /content/drive/MyDrive/result11/model03-01.h5\n",
            "263/263 [==============================] - 10606s 40s/step - loss: 0.2319 - acc: 0.9375 - val_loss: 0.5999 - val_acc: 0.7706\n",
            "Epoch 2/3\n",
            "263/263 [==============================] - ETA: 0s - loss: 0.4577 - acc: 0.8125 \n",
            "Epoch 2: saving model to /content/drive/MyDrive/result11/model03-02.h5\n",
            "263/263 [==============================] - 10710s 41s/step - loss: 0.4577 - acc: 0.8125 - val_loss: 0.4931 - val_acc: 0.8153\n",
            "Epoch 3/3\n",
            "263/263 [==============================] - ETA: 0s - loss: 0.2565 - acc: 0.9062 \n",
            "Epoch 3: saving model to /content/drive/MyDrive/result11/model03-03.h5\n",
            "263/263 [==============================] - 10697s 41s/step - loss: 0.2565 - acc: 0.9062 - val_loss: 0.4598 - val_acc: 0.8256\n"
          ]
        },
        {
          "data": {
            "text/plain": [
              "<keras.callbacks.History at 0x7f655f57be50>"
            ]
          },
          "execution_count": 19,
          "metadata": {},
          "output_type": "execute_result"
        }
      ],
      "source": [
        "ebc3.fit(train_generator,\n",
        "         epochs=epochz,\n",
        "         steps_per_epoch=s_p_e,\n",
        "         validation_data=val_generator,\n",
        "         callbacks=[batch_stats_callback,checkpoint3],\n",
        "         )"
      ]
    },
    {
      "cell_type": "code",
      "execution_count": null,
      "metadata": {
        "colab": {
          "base_uri": "https://localhost:8080/"
        },
        "id": "bqov6uY59mah",
        "outputId": "6b705e17-543d-4c42-997a-a10eaa8883bc"
      },
      "outputs": [
        {
          "name": "stdout",
          "output_type": "stream",
          "text": [
            "Epoch 1/3\n",
            "263/263 [==============================] - ETA: 0s - loss: 0.3732 - acc: 0.8750 \n",
            "Epoch 1: saving model to /content/drive/MyDrive/result11/model03-01.h5\n",
            "263/263 [==============================] - 10236s 39s/step - loss: 0.3732 - acc: 0.8750 - val_loss: 0.5480 - val_acc: 0.7906\n",
            "Epoch 2/3\n",
            "263/263 [==============================] - ETA: 0s - loss: 0.2735 - acc: 0.9375 \n",
            "Epoch 2: saving model to /content/drive/MyDrive/result11/model03-02.h5\n",
            "263/263 [==============================] - 10288s 39s/step - loss: 0.2735 - acc: 0.9375 - val_loss: 0.4757 - val_acc: 0.8194\n",
            "Epoch 3/3\n",
            "263/263 [==============================] - ETA: 0s - loss: 0.2295 - acc: 0.9375 \n",
            "Epoch 3: saving model to /content/drive/MyDrive/result11/model03-03.h5\n",
            "263/263 [==============================] - 10278s 39s/step - loss: 0.2295 - acc: 0.9375 - val_loss: 0.5372 - val_acc: 0.8033\n"
          ]
        },
        {
          "data": {
            "text/plain": [
              "<keras.callbacks.History at 0x7f0b66659a90>"
            ]
          },
          "execution_count": 20,
          "metadata": {},
          "output_type": "execute_result"
        }
      ],
      "source": [
        "ebc3.fit(train_generator,\n",
        "         epochs=epochz,\n",
        "         steps_per_epoch=s_p_e,\n",
        "         validation_data=val_generator,\n",
        "         callbacks=[batch_stats_callback,checkpoint3],\n",
        "         )"
      ]
    },
    {
      "cell_type": "code",
      "execution_count": null,
      "metadata": {
        "colab": {
          "base_uri": "https://localhost:8080/"
        },
        "id": "OuLvxSaO9mL9",
        "outputId": "0624e733-6f1d-4b33-9a7f-49c2fa1ea8ed"
      },
      "outputs": [
        {
          "name": "stdout",
          "output_type": "stream",
          "text": [
            "Epoch 1/3\n",
            "263/263 [==============================] - ETA: 0s - loss: 0.4783 - acc: 0.7500 \n",
            "Epoch 1: saving model to /content/drive/MyDrive/result11/model03-01.h5\n",
            "263/263 [==============================] - 10153s 38s/step - loss: 0.4783 - acc: 0.7500 - val_loss: 0.5378 - val_acc: 0.7875\n",
            "Epoch 2/3\n",
            "263/263 [==============================] - ETA: 0s - loss: 0.3639 - acc: 0.8750 \n",
            "Epoch 2: saving model to /content/drive/MyDrive/result11/model03-02.h5\n",
            "263/263 [==============================] - 10183s 39s/step - loss: 0.3639 - acc: 0.8750 - val_loss: 0.4892 - val_acc: 0.8169\n",
            "Epoch 3/3\n",
            "263/263 [==============================] - ETA: 0s - loss: 0.1551 - acc: 0.9688 \n",
            "Epoch 3: saving model to /content/drive/MyDrive/result11/model03-03.h5\n",
            "263/263 [==============================] - 10220s 39s/step - loss: 0.1551 - acc: 0.9688 - val_loss: 0.4864 - val_acc: 0.8167\n"
          ]
        },
        {
          "data": {
            "text/plain": [
              "<keras.callbacks.History at 0x7f43bbc3e880>"
            ]
          },
          "execution_count": 19,
          "metadata": {},
          "output_type": "execute_result"
        }
      ],
      "source": [
        "ebc3.fit(train_generator,\n",
        "         epochs=epochz,\n",
        "         steps_per_epoch=s_p_e,\n",
        "         validation_data=val_generator,\n",
        "         callbacks=[batch_stats_callback,checkpoint3],\n",
        "         )"
      ]
    },
    {
      "cell_type": "code",
      "execution_count": null,
      "metadata": {
        "colab": {
          "base_uri": "https://localhost:8080/"
        },
        "id": "CXHSBsJD9l-b",
        "outputId": "df82fd2d-9bd6-4228-8608-86119d5956aa"
      },
      "outputs": [
        {
          "name": "stdout",
          "output_type": "stream",
          "text": [
            "Epoch 1/3\n",
            "263/263 [==============================] - ETA: 0s - loss: 0.4777 - acc: 0.8438 \n",
            "Epoch 1: saving model to /content/drive/MyDrive/result11/model03-01.h5\n",
            "263/263 [==============================] - 9098s 34s/step - loss: 0.4777 - acc: 0.8438 - val_loss: 0.5398 - val_acc: 0.7917\n",
            "Epoch 2/3\n",
            "263/263 [==============================] - ETA: 0s - loss: 0.3228 - acc: 0.8438 \n",
            "Epoch 2: saving model to /content/drive/MyDrive/result11/model03-02.h5\n",
            "263/263 [==============================] - 9102s 35s/step - loss: 0.3228 - acc: 0.8438 - val_loss: 0.4558 - val_acc: 0.8294\n",
            "Epoch 3/3\n",
            "263/263 [==============================] - ETA: 0s - loss: 0.3232 - acc: 0.8750 \n",
            "Epoch 3: saving model to /content/drive/MyDrive/result11/model03-03.h5\n",
            "263/263 [==============================] - 9315s 35s/step - loss: 0.3232 - acc: 0.8750 - val_loss: 0.6212 - val_acc: 0.7747\n"
          ]
        },
        {
          "data": {
            "text/plain": [
              "<keras.callbacks.History at 0x7f9659e3fe50>"
            ]
          },
          "execution_count": 19,
          "metadata": {},
          "output_type": "execute_result"
        }
      ],
      "source": [
        "ebc3.fit(train_generator,\n",
        "         epochs=epochz,\n",
        "         steps_per_epoch=s_p_e,\n",
        "         validation_data=val_generator,\n",
        "         callbacks=[batch_stats_callback,checkpoint3],\n",
        "         )"
      ]
    },
    {
      "cell_type": "markdown",
      "metadata": {
        "id": "LQw2hoT89kfG"
      },
      "source": [
        "mark"
      ]
    },
    {
      "cell_type": "code",
      "execution_count": 19,
      "metadata": {
        "colab": {
          "base_uri": "https://localhost:8080/"
        },
        "id": "-bHPfAViSyUE",
        "outputId": "2f55b2e1-34b3-4e80-ed51-d2cd425d7031"
      },
      "outputs": [
        {
          "name": "stdout",
          "output_type": "stream",
          "text": [
            "Model: \"sequential_4\"\n",
            "_________________________________________________________________\n",
            " Layer (type)                Output Shape              Param #   \n",
            "=================================================================\n",
            " keras_layer (KerasLayer)    (None, 1280)              207615832 \n",
            "                                                                 \n",
            " dense_4 (Dense)             (None, 4)                 5124      \n",
            "                                                                 \n",
            "=================================================================\n",
            "Total params: 207,620,956\n",
            "Trainable params: 5,124\n",
            "Non-trainable params: 207,615,832\n",
            "_________________________________________________________________\n"
          ]
        }
      ],
      "source": [
        "#上位分類層を接合\n",
        "ebc3=Sequential([feature_extractor_layer,\n",
        "                           layers.Dense(train_generator.num_classes,activation='softmax')])\n",
        "\n",
        "ebc3.summary()\n",
        "\n",
        "ebc3.compile(optimizer=tf.keras.optimizers.Adam(),\n",
        "              loss='categorical_crossentropy',\n",
        "              metrics=['acc'])"
      ]
    },
    {
      "cell_type": "code",
      "execution_count": null,
      "metadata": {
        "colab": {
          "base_uri": "https://localhost:8080/"
        },
        "id": "EniSTvIJrrq6",
        "outputId": "242d50a9-4e8e-446f-cc26-c4a853c33b42"
      },
      "outputs": [
        {
          "name": "stdout",
          "output_type": "stream",
          "text": [
            "Epoch 1/3\n",
            "263/263 [==============================] - ETA: 0s - loss: 0.2463 - acc: 0.9375 \n",
            "Epoch 1: saving model to /content/drive/MyDrive/result11/model03-01.h5\n",
            "263/263 [==============================] - 15094s 57s/step - loss: 0.2463 - acc: 0.9375 - val_loss: 0.4156 - val_acc: 0.8483\n",
            "Epoch 2/3\n",
            "263/263 [==============================] - ETA: 0s - loss: 0.3041 - acc: 0.9062 \n",
            "Epoch 2: saving model to /content/drive/MyDrive/result11/model03-02.h5\n",
            "263/263 [==============================] - 15418s 59s/step - loss: 0.3041 - acc: 0.9062 - val_loss: 0.3397 - val_acc: 0.8773\n",
            "Epoch 3/3\n",
            "263/263 [==============================] - ETA: 0s - loss: 0.1621 - acc: 0.9375 "
          ]
        }
      ],
      "source": [
        "#擬似ラベル作成\n",
        "history=ebc3.fit(train_generator,\n",
        "                 epochs=epochz,\n",
        "                 steps_per_epoch=s_p_e,\n",
        "                 validation_data=gizi_data,\n",
        "                 callbacks=[batch_stats_callback,checkpoint3],\n",
        "                 )"
      ]
    },
    {
      "cell_type": "code",
      "execution_count": null,
      "metadata": {
        "colab": {
          "base_uri": "https://localhost:8080/"
        },
        "id": "FunQsS979pCg",
        "outputId": "8aef15eb-14f0-4c91-80aa-5836483e5c5f"
      },
      "outputs": [
        {
          "name": "stdout",
          "output_type": "stream",
          "text": [
            "Epoch 1/3\n",
            "263/263 [==============================] - ETA: 0s - loss: 0.4549 - acc: 0.8750 \n",
            "Epoch 1: saving model to /content/drive/MyDrive/result11/model03-01.h5\n",
            "263/263 [==============================] - 17663s 67s/step - loss: 0.4549 - acc: 0.8750 - val_loss: 0.4027 - val_acc: 0.8579\n",
            "Epoch 2/3\n",
            "263/263 [==============================] - ETA: 0s - loss: 0.2097 - acc: 0.9688 \n",
            "Epoch 2: saving model to /content/drive/MyDrive/result11/model03-02.h5\n",
            "263/263 [==============================] - 17667s 67s/step - loss: 0.2097 - acc: 0.9688 - val_loss: 0.3556 - val_acc: 0.8741\n",
            "Epoch 3/3\n",
            "263/263 [==============================] - ETA: 0s - loss: 0.3888 - acc: 0.8750 "
          ]
        }
      ],
      "source": [
        "history=ebc3.fit(train_generator,\n",
        "                 epochs=epochz,\n",
        "                 steps_per_epoch=s_p_e,\n",
        "                 validation_data=gizi_data,\n",
        "                 callbacks=[batch_stats_callback,checkpoint3],\n",
        "                 )"
      ]
    },
    {
      "cell_type": "code",
      "execution_count": null,
      "metadata": {
        "colab": {
          "base_uri": "https://localhost:8080/"
        },
        "id": "AIjDZzZx9o2A",
        "outputId": "6b2a7d4a-8cd5-44f5-f48a-56bacf4d4eae"
      },
      "outputs": [
        {
          "name": "stdout",
          "output_type": "stream",
          "text": [
            "Epoch 1/3\n",
            "263/263 [==============================] - ETA: 0s - loss: 0.3555 - acc: 0.8750 \n",
            "Epoch 1: saving model to /content/drive/MyDrive/result11/model03-01.h5\n",
            "263/263 [==============================] - 17339s 66s/step - loss: 0.3555 - acc: 0.8750 - val_loss: 0.3939 - val_acc: 0.8640\n",
            "Epoch 2/3\n",
            "263/263 [==============================] - ETA: 0s - loss: 0.3370 - acc: 0.8438 \n",
            "Epoch 2: saving model to /content/drive/MyDrive/result11/model03-02.h5\n",
            "263/263 [==============================] - 17512s 67s/step - loss: 0.3370 - acc: 0.8438 - val_loss: 0.3376 - val_acc: 0.8819\n",
            "Epoch 3/3\n",
            "263/263 [==============================] - ETA: 0s - loss: 0.2352 - acc: 0.9375 "
          ]
        }
      ],
      "source": [
        "history=ebc3.fit(train_generator,\n",
        "                 epochs=epochz,\n",
        "                 steps_per_epoch=s_p_e,\n",
        "                 validation_data=gizi_data,\n",
        "                 callbacks=[batch_stats_callback,checkpoint3],\n",
        "                 )"
      ]
    },
    {
      "cell_type": "code",
      "execution_count": null,
      "metadata": {
        "colab": {
          "base_uri": "https://localhost:8080/"
        },
        "id": "tlEFKmgN9opQ",
        "outputId": "15a5741d-b6bf-4b03-dc85-08af6e0ac9f4"
      },
      "outputs": [
        {
          "name": "stdout",
          "output_type": "stream",
          "text": [
            "Epoch 1/3\n",
            "263/263 [==============================] - ETA: 0s - loss: 0.3831 - acc: 0.8438 \n",
            "Epoch 1: saving model to /content/drive/MyDrive/result11/model03-01.h5\n",
            "263/263 [==============================] - 16072s 61s/step - loss: 0.3831 - acc: 0.8438 - val_loss: 0.4124 - val_acc: 0.8495\n",
            "Epoch 2/3\n",
            "263/263 [==============================] - ETA: 0s - loss: 0.2724 - acc: 0.9062 \n",
            "Epoch 2: saving model to /content/drive/MyDrive/result11/model03-02.h5\n",
            "263/263 [==============================] - 15932s 61s/step - loss: 0.2724 - acc: 0.9062 - val_loss: 0.3294 - val_acc: 0.8838\n",
            "Epoch 3/3\n",
            "263/263 [==============================] - ETA: 0s - loss: 0.2163 - acc: 0.9062 "
          ]
        }
      ],
      "source": [
        "history=ebc3.fit(train_generator,\n",
        "                 epochs=epochz,\n",
        "                 steps_per_epoch=s_p_e,\n",
        "                 validation_data=gizi_data,\n",
        "                 callbacks=[batch_stats_callback,checkpoint3],\n",
        "                 )"
      ]
    },
    {
      "cell_type": "code",
      "execution_count": null,
      "metadata": {
        "colab": {
          "base_uri": "https://localhost:8080/"
        },
        "id": "9sZ0h8E09ob9",
        "outputId": "7b1961c8-94e4-4905-e0b3-30e2e57b01de"
      },
      "outputs": [
        {
          "name": "stdout",
          "output_type": "stream",
          "text": [
            "Epoch 1/3\n",
            "263/263 [==============================] - ETA: 0s - loss: 0.2432 - acc: 0.9688 \n",
            "Epoch 1: saving model to /content/drive/MyDrive/result11/model03-01.h5\n",
            "263/263 [==============================] - 16194s 62s/step - loss: 0.2432 - acc: 0.9688 - val_loss: 0.3825 - val_acc: 0.8661\n",
            "Epoch 2/3\n",
            "263/263 [==============================] - ETA: 0s - loss: 0.3231 - acc: 0.8750 "
          ]
        }
      ],
      "source": [
        "history=ebc3.fit(train_generator,\n",
        "                 epochs=epochz,\n",
        "                 steps_per_epoch=s_p_e,\n",
        "                 validation_data=gizi_data,\n",
        "                 callbacks=[batch_stats_callback,checkpoint3],\n",
        "                 )"
      ]
    },
    {
      "cell_type": "code",
      "execution_count": null,
      "metadata": {
        "colab": {
          "base_uri": "https://localhost:8080/"
        },
        "id": "uUz4ogOIenWF",
        "outputId": "a9f2b419-c5f1-4a23-979d-a0fb4f32f652"
      },
      "outputs": [
        {
          "name": "stdout",
          "output_type": "stream",
          "text": [
            "375/375 [==============================] - 9999s 27s/step\n"
          ]
        }
      ],
      "source": [
        "gizi_label3=ebc3.predict(gizi_data)"
      ]
    },
    {
      "cell_type": "markdown",
      "metadata": {
        "id": "Fzcgamej9qJE"
      },
      "source": [
        "mark"
      ]
    },
    {
      "cell_type": "code",
      "execution_count": 20,
      "metadata": {
        "id": "mJnPXaXOeuHY"
      },
      "outputs": [],
      "source": [
        "feature_extractor_layer.trainable=False\n",
        "#入力画像ノイズ(rand augmentation)の設定\n",
        "data_augmentation=Sequential([layers.RandomRotation(2.10)])\n",
        "#モデルノイズ（stochastic depth）の設定\n",
        "stochastic_Depth=Sequential([tfa.layers.StochasticDepth(0.35)])\n",
        "\n",
        "#モデルにrand augmentationを適用\n",
        "model3=Sequential([data_augmentation])\n",
        "#モデルにstochastic depthを適用\n",
        "model3=Sequential([stochastic_Depth])\n",
        "\n",
        "model3=Sequential([feature_extractor_layer,\n",
        "                           layers.Dense(train_generator.num_classes,activation='softmax'),\n",
        "                           #layers.Dropout(0.2)\n",
        "                  ])"
      ]
    },
    {
      "cell_type": "markdown",
      "metadata": {
        "id": "IeDWlcPJ9t2U"
      },
      "source": [
        "mark"
      ]
    },
    {
      "cell_type": "code",
      "execution_count": 21,
      "metadata": {
        "colab": {
          "base_uri": "https://localhost:8080/"
        },
        "id": "R48YnIGEOusf",
        "outputId": "19d0cbc1-2b5a-4bb9-fe5a-a98dc1151d4c"
      },
      "outputs": [
        {
          "name": "stdout",
          "output_type": "stream",
          "text": [
            "Model: \"sequential_9\"\n",
            "_________________________________________________________________\n",
            " Layer (type)                Output Shape              Param #   \n",
            "=================================================================\n",
            " keras_layer (KerasLayer)    (None, 1280)              207615832 \n",
            "                                                                 \n",
            " dense_5 (Dense)             (None, 4)                 5124      \n",
            "                                                                 \n",
            "=================================================================\n",
            "Total params: 207,620,956\n",
            "Trainable params: 5,124\n",
            "Non-trainable params: 207,615,832\n",
            "_________________________________________________________________\n"
          ]
        }
      ],
      "source": [
        "#model3\n",
        "model3.compile(optimizer=tf.keras.optimizers.Adam(),\n",
        "              loss='categorical_crossentropy',\n",
        "              metrics=['acc'])\n",
        "model3.summary()"
      ]
    },
    {
      "cell_type": "code",
      "execution_count": null,
      "metadata": {
        "colab": {
          "base_uri": "https://localhost:8080/"
        },
        "id": "PM5XSKWlOu_g",
        "outputId": "3c3143c1-9dbb-4cf6-9bf5-38bbe1069d1b"
      },
      "outputs": [
        {
          "name": "stdout",
          "output_type": "stream",
          "text": [
            "Epoch 1/3\n",
            "375/375 [==============================] - ETA: 0s - loss: 0.3299 - acc: 0.8750 \n",
            "Epoch 1: saving model to /content/drive/MyDrive/result11/model03-01.h5\n",
            "375/375 [==============================] - 12972s 35s/step - loss: 0.3299 - acc: 0.8750 - val_loss: 0.4810 - val_acc: 0.8158\n",
            "Epoch 2/3\n",
            "375/375 [==============================] - ETA: 0s - loss: 0.3182 - acc: 0.8438 \n",
            "Epoch 2: saving model to /content/drive/MyDrive/result11/model03-02.h5\n",
            "375/375 [==============================] - 13059s 35s/step - loss: 0.3182 - acc: 0.8438 - val_loss: 0.3783 - val_acc: 0.8578\n",
            "Epoch 3/3\n",
            "375/375 [==============================] - ETA: 0s - loss: 0.1659 - acc: 0.9688 \n",
            "Epoch 3: saving model to /content/drive/MyDrive/result11/model03-03.h5\n",
            "375/375 [==============================] - 13198s 35s/step - loss: 0.1659 - acc: 0.9688 - val_loss: 0.3018 - val_acc: 0.8922\n"
          ]
        }
      ],
      "source": [
        "#model3\n",
        "history=model3.fit(gizi_data,\n",
        "                   epochs=epochz,\n",
        "                   steps_per_epoch=np.ceil(gizi_data.samples/batch_size),\n",
        "                   validation_data=val_generator,\n",
        "                   callbacks=[checkpoint3,batch_stats_callback]\n",
        "                   )"
      ]
    },
    {
      "cell_type": "code",
      "execution_count": null,
      "metadata": {
        "colab": {
          "base_uri": "https://localhost:8080/"
        },
        "id": "GuxUl02u9xIf",
        "outputId": "9f045fbd-2857-4b16-9327-215b1096a9b5"
      },
      "outputs": [
        {
          "name": "stdout",
          "output_type": "stream",
          "text": [
            "Epoch 1/3\n",
            "375/375 [==============================] - ETA: 0s - loss: 0.3126 - acc: 0.8750 \n",
            "Epoch 1: saving model to /content/drive/MyDrive/result11/model03-01.h5\n",
            "375/375 [==============================] - 13344s 35s/step - loss: 0.3126 - acc: 0.8750 - val_loss: 0.4373 - val_acc: 0.8281\n",
            "Epoch 2/3\n",
            "375/375 [==============================] - ETA: 0s - loss: 0.2121 - acc: 0.9062 \n",
            "Epoch 2: saving model to /content/drive/MyDrive/result11/model03-02.h5\n",
            "375/375 [==============================] - 13399s 36s/step - loss: 0.2121 - acc: 0.9062 - val_loss: 0.3354 - val_acc: 0.8753\n",
            "Epoch 3/3\n",
            "375/375 [==============================] - ETA: 0s - loss: 0.0914 - acc: 1.0000 \n",
            "Epoch 3: saving model to /content/drive/MyDrive/result11/model03-03.h5\n",
            "375/375 [==============================] - 13364s 36s/step - loss: 0.0914 - acc: 1.0000 - val_loss: 0.3260 - val_acc: 0.8708\n"
          ]
        }
      ],
      "source": [
        "history=model3.fit(gizi_data,\n",
        "                   epochs=epochz,\n",
        "                   steps_per_epoch=np.ceil(gizi_data.samples/batch_size),\n",
        "                   validation_data=val_generator,\n",
        "                   callbacks=[checkpoint3,batch_stats_callback]\n",
        "                   )"
      ]
    },
    {
      "cell_type": "code",
      "execution_count": null,
      "metadata": {
        "colab": {
          "base_uri": "https://localhost:8080/"
        },
        "id": "8jwOaa4c9w7-",
        "outputId": "9c473be6-1407-41ca-f90b-d33342eaf8dd"
      },
      "outputs": [
        {
          "name": "stdout",
          "output_type": "stream",
          "text": [
            "Epoch 1/3\n",
            "375/375 [==============================] - ETA: 0s - loss: 0.4830 - acc: 0.8750 \n",
            "Epoch 1: saving model to /content/drive/MyDrive/result11/model03-01.h5\n",
            "375/375 [==============================] - 12903s 34s/step - loss: 0.4830 - acc: 0.8750 - val_loss: 0.3824 - val_acc: 0.8586\n",
            "Epoch 2/3\n",
            "375/375 [==============================] - ETA: 0s - loss: 0.1879 - acc: 0.9688 "
          ]
        }
      ],
      "source": [
        "history=model3.fit(gizi_data,\n",
        "                   epochs=epochz,\n",
        "                   steps_per_epoch=np.ceil(gizi_data.samples/batch_size),\n",
        "                   validation_data=val_generator,\n",
        "                   callbacks=[checkpoint3,batch_stats_callback]\n",
        "                   )"
      ]
    },
    {
      "cell_type": "code",
      "execution_count": null,
      "metadata": {
        "colab": {
          "base_uri": "https://localhost:8080/"
        },
        "id": "wo_2I2Na9wvv",
        "outputId": "41994fff-33d9-448f-91f0-e5792ef9da58"
      },
      "outputs": [
        {
          "name": "stdout",
          "output_type": "stream",
          "text": [
            "Epoch 1/3\n",
            "375/375 [==============================] - ETA: 0s - loss: 0.1904 - acc: 0.9375 \n",
            "Epoch 1: saving model to /content/drive/MyDrive/result11/model03-01.h5\n",
            "375/375 [==============================] - 8659s 23s/step - loss: 0.1904 - acc: 0.9375 - val_loss: 0.3994 - val_acc: 0.8533\n",
            "Epoch 2/3\n",
            "375/375 [==============================] - ETA: 0s - loss: 0.3278 - acc: 0.8438 \n",
            "Epoch 2: saving model to /content/drive/MyDrive/result11/model03-02.h5\n",
            "375/375 [==============================] - 8626s 23s/step - loss: 0.3278 - acc: 0.8438 - val_loss: 0.3842 - val_acc: 0.8589\n",
            "Epoch 3/3\n",
            "374/375 [============================>.] - ETA: 18s - loss: 0.3554 - acc: 0.8438"
          ]
        }
      ],
      "source": [
        "history=model3.fit(gizi_data,\n",
        "                   epochs=epochz,\n",
        "                   steps_per_epoch=np.ceil(gizi_data.samples/batch_size),\n",
        "                   validation_data=val_generator,\n",
        "                   callbacks=[checkpoint3,batch_stats_callback]\n",
        "                   )"
      ]
    },
    {
      "cell_type": "code",
      "execution_count": null,
      "metadata": {
        "colab": {
          "base_uri": "https://localhost:8080/"
        },
        "id": "C-Lqmsxk9whq",
        "outputId": "d4a1bba1-b0b0-440f-8ac1-eb3171b760c2"
      },
      "outputs": [
        {
          "name": "stdout",
          "output_type": "stream",
          "text": [
            "Epoch 1/3\n",
            "375/375 [==============================] - ETA: 0s - loss: 0.4397 - acc: 0.7812 \n",
            "Epoch 1: saving model to /content/drive/MyDrive/result11/model03-01.h5\n",
            "375/375 [==============================] - 13213s 35s/step - loss: 0.4397 - acc: 0.7812 - val_loss: 0.3992 - val_acc: 0.8550\n",
            "Epoch 2/3\n",
            "375/375 [==============================] - ETA: 0s - loss: 0.1282 - acc: 1.0000 \n",
            "Epoch 2: saving model to /content/drive/MyDrive/result11/model03-02.h5\n",
            "375/375 [==============================] - 13440s 36s/step - loss: 0.1282 - acc: 1.0000 - val_loss: 0.3354 - val_acc: 0.8803\n",
            "Epoch 3/3\n",
            "375/375 [==============================] - ETA: 0s - loss: 0.3605 - acc: 0.8438 \n",
            "Epoch 3: saving model to /content/drive/MyDrive/result11/model03-03.h5\n",
            "375/375 [==============================] - 13305s 35s/step - loss: 0.3605 - acc: 0.8438 - val_loss: 0.3051 - val_acc: 0.8906\n"
          ]
        }
      ],
      "source": [
        "history=model3.fit(gizi_data,\n",
        "                   epochs=epochz,\n",
        "                   steps_per_epoch=np.ceil(gizi_data.samples/batch_size),\n",
        "                   validation_data=val_generator,\n",
        "                   callbacks=[checkpoint3,batch_stats_callback]\n",
        "                   )"
      ]
    },
    {
      "cell_type": "markdown",
      "metadata": {
        "id": "hexq4yjv4mZ5"
      },
      "source": [
        "3"
      ]
    },
    {
      "cell_type": "code",
      "execution_count": null,
      "metadata": {
        "colab": {
          "base_uri": "https://localhost:8080/"
        },
        "id": "7Wcj-H-Q4rdV",
        "outputId": "d749a701-5c18-4a63-dec8-4af236f5a149"
      },
      "outputs": [
        {
          "name": "stdout",
          "output_type": "stream",
          "text": [
            "Epoch 1/3\n",
            "263/263 [==============================] - ETA: 0s - loss: 0.3940 - acc: 0.8750 \n",
            "Epoch 1: saving model to /content/drive/MyDrive/result11/model03-01.h5\n",
            "263/263 [==============================] - 10059s 38s/step - loss: 0.3940 - acc: 0.8750 - val_loss: 0.5151 - val_acc: 0.7992\n",
            "Epoch 2/3\n",
            "263/263 [==============================] - ETA: 0s - loss: 0.2473 - acc: 0.9062 \n",
            "Epoch 2: saving model to /content/drive/MyDrive/result11/model03-02.h5\n",
            "263/263 [==============================] - 10222s 39s/step - loss: 0.2473 - acc: 0.9062 - val_loss: 0.5056 - val_acc: 0.8056\n",
            "Epoch 3/3\n",
            "263/263 [==============================] - ETA: 0s - loss: 0.1412 - acc: 0.9688 \n",
            "Epoch 3: saving model to /content/drive/MyDrive/result11/model03-03.h5\n",
            "263/263 [==============================] - 10283s 39s/step - loss: 0.1412 - acc: 0.9688 - val_loss: 0.4605 - val_acc: 0.8286\n"
          ]
        }
      ],
      "source": [
        "history=model3.fit(train_generator,\n",
        "                   epochs=epochz,\n",
        "                   steps_per_epoch=s_p_e,\n",
        "                   validation_data=val_generator,\n",
        "                   callbacks=[batch_stats_callback,checkpoint3]\n",
        "                   )"
      ]
    },
    {
      "cell_type": "code",
      "execution_count": null,
      "metadata": {
        "colab": {
          "base_uri": "https://localhost:8080/"
        },
        "id": "7udinO1g9zXN",
        "outputId": "cd45e36f-c325-419d-c94f-7ff47fb1c078"
      },
      "outputs": [
        {
          "name": "stdout",
          "output_type": "stream",
          "text": [
            "Epoch 1/2\n",
            "263/263 [==============================] - ETA: 0s - loss: 0.3700 - acc: 0.8125 \n",
            "Epoch 1: saving model to /content/drive/MyDrive/result11/model03-01.h5\n",
            "263/263 [==============================] - 9959s 38s/step - loss: 0.3700 - acc: 0.8125 - val_loss: 0.5035 - val_acc: 0.8156\n",
            "Epoch 2/2\n",
            "263/263 [==============================] - ETA: 0s - loss: 0.2804 - acc: 0.9062 \n",
            "Epoch 2: saving model to /content/drive/MyDrive/result11/model03-02.h5\n",
            "263/263 [==============================] - 10092s 38s/step - loss: 0.2804 - acc: 0.9062 - val_loss: 0.4839 - val_acc: 0.8144\n"
          ]
        }
      ],
      "source": [
        "history=model3.fit(train_generator,\n",
        "                   epochs=2,\n",
        "                   steps_per_epoch=s_p_e,\n",
        "                   validation_data=val_generator,\n",
        "                   callbacks=[batch_stats_callback,checkpoint3]\n",
        "                   )"
      ]
    },
    {
      "cell_type": "code",
      "execution_count": null,
      "metadata": {
        "colab": {
          "base_uri": "https://localhost:8080/"
        },
        "id": "OQ5RfUFg9zLe",
        "outputId": "daa81301-5359-4f1c-9adc-da4db0d49c2d"
      },
      "outputs": [
        {
          "name": "stdout",
          "output_type": "stream",
          "text": [
            "Epoch 1/2\n",
            "263/263 [==============================] - ETA: 0s - loss: 0.3036 - acc: 0.8438 \n",
            "Epoch 1: saving model to /content/drive/MyDrive/result11/model03-01.h5\n",
            "263/263 [==============================] - 10087s 38s/step - loss: 0.3036 - acc: 0.8438 - val_loss: 0.5864 - val_acc: 0.7733\n",
            "Epoch 2/2\n",
            "263/263 [==============================] - ETA: 0s - loss: 0.4611 - acc: 0.8750 \n",
            "Epoch 2: saving model to /content/drive/MyDrive/result11/model03-02.h5\n",
            "263/263 [==============================] - 10281s 39s/step - loss: 0.4611 - acc: 0.8750 - val_loss: 0.5020 - val_acc: 0.8072\n"
          ]
        }
      ],
      "source": [
        "history=model3.fit(train_generator,\n",
        "                   epochs=2,\n",
        "                   steps_per_epoch=s_p_e,\n",
        "                   validation_data=val_generator,\n",
        "                   callbacks=[batch_stats_callback,checkpoint3]\n",
        "                   )"
      ]
    },
    {
      "cell_type": "code",
      "execution_count": null,
      "metadata": {
        "colab": {
          "base_uri": "https://localhost:8080/"
        },
        "id": "qBRLDcQK9y84",
        "outputId": "d94d0dd9-b081-4377-cbc8-9543e9aa02ab"
      },
      "outputs": [
        {
          "name": "stdout",
          "output_type": "stream",
          "text": [
            "Epoch 1/2\n",
            "263/263 [==============================] - ETA: 0s - loss: 0.3113 - acc: 0.9062 \n",
            "Epoch 1: saving model to /content/drive/MyDrive/result11/model03-01.h5\n",
            "263/263 [==============================] - 8973s 34s/step - loss: 0.3113 - acc: 0.9062 - val_loss: 0.6167 - val_acc: 0.7581\n",
            "Epoch 2/2\n",
            "263/263 [==============================] - ETA: 0s - loss: 0.3526 - acc: 0.8438 \n",
            "Epoch 2: saving model to /content/drive/MyDrive/result11/model03-02.h5\n",
            "263/263 [==============================] - 9752s 37s/step - loss: 0.3526 - acc: 0.8438 - val_loss: 0.4752 - val_acc: 0.8164\n"
          ]
        }
      ],
      "source": [
        "history=model3.fit(train_generator,\n",
        "                   epochs=2,\n",
        "                   steps_per_epoch=s_p_e,\n",
        "                   validation_data=val_generator,\n",
        "                   callbacks=[batch_stats_callback,checkpoint3]\n",
        "                   )"
      ]
    },
    {
      "cell_type": "code",
      "execution_count": null,
      "metadata": {
        "colab": {
          "base_uri": "https://localhost:8080/"
        },
        "id": "jh3bjzVP9yv3",
        "outputId": "9287706f-8f3c-476a-8115-6326cd645c41"
      },
      "outputs": [
        {
          "name": "stdout",
          "output_type": "stream",
          "text": [
            "Epoch 1/2\n",
            "263/263 [==============================] - ETA: 0s - loss: 0.1146 - acc: 1.0000 \n",
            "Epoch 1: saving model to /content/drive/MyDrive/result11/model03-01.h5\n",
            "263/263 [==============================] - 10023s 38s/step - loss: 0.1146 - acc: 1.0000 - val_loss: 0.5580 - val_acc: 0.7900\n",
            "Epoch 2/2\n",
            "263/263 [==============================] - ETA: 0s - loss: 0.2580 - acc: 0.9375 \n",
            "Epoch 2: saving model to /content/drive/MyDrive/result11/model03-02.h5\n",
            "263/263 [==============================] - 10711s 41s/step - loss: 0.2580 - acc: 0.9375 - val_loss: 0.4656 - val_acc: 0.8264\n"
          ]
        }
      ],
      "source": [
        "history=model3.fit(train_generator,\n",
        "                   epochs=2,\n",
        "                   steps_per_epoch=s_p_e,\n",
        "                   validation_data=val_generator,\n",
        "                   callbacks=[batch_stats_callback,checkpoint3]\n",
        "                   )"
      ]
    },
    {
      "cell_type": "code",
      "execution_count": null,
      "metadata": {
        "colab": {
          "background_save": true,
          "base_uri": "https://localhost:8080/"
        },
        "id": "S4jfmKIlPRp1",
        "outputId": "471be39d-a24a-416c-b162-124d5ec7cf45"
      },
      "outputs": [
        {
          "name": "stdout",
          "output_type": "stream",
          "text": [
            "Epoch 1/2\n",
            "263/263 [==============================] - ETA: 0s - loss: 0.2610 - acc: 0.9375 \n",
            "Epoch 1: saving model to /content/drive/MyDrive/result11/model03-01.h5\n",
            "263/263 [==============================] - 10167s 39s/step - loss: 0.2610 - acc: 0.9375 - val_loss: 0.5002 - val_acc: 0.8117\n",
            "Epoch 2/2\n",
            "263/263 [==============================] - ETA: 0s - loss: 0.4704 - acc: 0.8438 \n",
            "Epoch 2: saving model to /content/drive/MyDrive/result11/model03-02.h5\n",
            "263/263 [==============================] - 10476s 40s/step - loss: 0.4704 - acc: 0.8438 - val_loss: 0.4686 - val_acc: 0.8261\n"
          ]
        }
      ],
      "source": [
        "history=model3.fit(train_generator,\n",
        "                   epochs=2,\n",
        "                   steps_per_epoch=s_p_e,\n",
        "                   validation_data=val_generator,\n",
        "                   callbacks=[batch_stats_callback,checkpoint3]\n",
        "                   )"
      ]
    },
    {
      "cell_type": "code",
      "execution_count": 22,
      "metadata": {
        "colab": {
          "base_uri": "https://localhost:8080/"
        },
        "id": "1q0ZoOsVPRc0",
        "outputId": "2d84e20b-ec33-4ee7-c100-f7b994ffd759"
      },
      "outputs": [
        {
          "name": "stdout",
          "output_type": "stream",
          "text": [
            "Epoch 1/2\n",
            "263/263 [==============================] - ETA: 0s - loss: 0.2620 - acc: 0.9062 \n",
            "Epoch 1: saving model to /content/drive/MyDrive/result11/model03-01.h5\n",
            "263/263 [==============================] - 10049s 38s/step - loss: 0.2620 - acc: 0.9062 - val_loss: 0.5188 - val_acc: 0.8086\n",
            "Epoch 2/2\n",
            "263/263 [==============================] - ETA: 0s - loss: 0.2067 - acc: 0.9375 \n",
            "Epoch 2: saving model to /content/drive/MyDrive/result11/model03-02.h5\n",
            "263/263 [==============================] - 10013s 38s/step - loss: 0.2067 - acc: 0.9375 - val_loss: 0.5008 - val_acc: 0.8169\n"
          ]
        }
      ],
      "source": [
        "history=model3.fit(train_generator,\n",
        "                   epochs=2,\n",
        "                   steps_per_epoch=s_p_e,\n",
        "                   validation_data=val_generator,\n",
        "                   callbacks=[batch_stats_callback,checkpoint3]\n",
        "                   )"
      ]
    },
    {
      "cell_type": "code",
      "execution_count": 23,
      "metadata": {
        "colab": {
          "base_uri": "https://localhost:8080/"
        },
        "id": "YFcL0kU1qHAP",
        "outputId": "181bc8fb-d82e-4cda-ca96-6bd09efae449"
      },
      "outputs": [
        {
          "name": "stderr",
          "output_type": "stream",
          "text": [
            "WARNING:absl:Found untraced functions such as restored_function_body, restored_function_body, restored_function_body, restored_function_body, restored_function_body while saving (showing 5 of 1594). These functions will not be directly callable after loading.\n"
          ]
        }
      ],
      "source": [
        "#モデル保存\n",
        "model3.save('/content/drive/MyDrive/result11/model3.h5/')"
      ]
    },
    {
      "cell_type": "markdown",
      "metadata": {
        "id": "9MSAXXfbeObd"
      },
      "source": [
        "# VotingClassifier"
      ]
    },
    {
      "cell_type": "markdown",
      "metadata": {
        "id": "o8g1Y8pZF-Bf"
      },
      "source": [
        "Accuracy for each model"
      ]
    },
    {
      "cell_type": "code",
      "execution_count": null,
      "metadata": {
        "id": "XvwsHsw6NnzE"
      },
      "outputs": [],
      "source": [
        "#content google drive\n",
        "from google.colab import drive\n",
        "drive.mount('/content/drive', force_remount=True)"
      ]
    },
    {
      "cell_type": "code",
      "execution_count": null,
      "metadata": {
        "id": "z1jDy1hIOyZa"
      },
      "outputs": [],
      "source": [
        "from tensorflow import keras\n",
        "from tensorflow.keras.preprocessing.image import ImageDataGenerator"
      ]
    },
    {
      "cell_type": "code",
      "execution_count": null,
      "metadata": {
        "id": "BEAwV4afO04J"
      },
      "outputs": [],
      "source": [
        "model1 = keras.models.load_model('/content/drive/MyDrive/result11/model1.h5/')\n",
        "model2 = keras.models.load_model('/content/drive/MyDrive/result11/model2.h5/')\n",
        "model3 = keras.models.load_model('/content/drive/MyDrive/result11/model3.h5/')"
      ]
    },
    {
      "cell_type": "code",
      "execution_count": null,
      "metadata": {
        "id": "scuq19CoO_YT"
      },
      "outputs": [],
      "source": [
        "train_datagenerator = ImageDataGenerator(rescale = 1.0/255,\n",
        "                                        shear_range = 0.2,\n",
        "                                        zoom_range = 0.5,\n",
        "                                        horizontal_flip = True,\n",
        "                                        rotation_range=10,\n",
        "                                        width_shift_range=0.2,\n",
        "                                        brightness_range=[0.2,1.2]\n",
        "                                        )\n",
        "test_datagenerator = ImageDataGenerator(rescale = 1.0/255)\n",
        "\n",
        "training_set = train_datagenerator.flow_from_directory('/content/drive/MyDrive/data/train/',\n",
        "                                                    target_size = (224,224),\n",
        "                                                    batch_size = 32,\n",
        "                                                    class_mode = 'categorical')\n",
        "\n",
        "class_dict = training_set.class_indices\n",
        "print(class_dict)\n",
        "\n",
        "li = list(class_dict.keys())\n",
        "print(li)\n",
        "\n",
        "valid_set = test_datagenerator.flow_from_directory('/content/drive/MyDrive/data/test',\n",
        "                                                  target_size = (512,512),\n",
        "                                                    batch_size = 32,\n",
        "                                                    class_mode = 'categorical')\n",
        "\n",
        "# valid_set\n",
        "x_test, y_test = valid_set.next() "
      ]
    },
    {
      "cell_type": "code",
      "execution_count": null,
      "metadata": {
        "id": "okjB_mcYPFTd"
      },
      "outputs": [],
      "source": [
        "# predicting an image\n",
        "import matplotlib.pyplot as plt\n",
        "from keras.preprocessing import image\n",
        "import numpy as np\n",
        "\n",
        "class votingClassifer:\n",
        "    'votingClassifer class'\n",
        "\n",
        "\n",
        "    def __init__(self, estimators,mode=\"hard\",weight=None,show_info=\"percent\"):\n",
        "        \n",
        "        if mode not in [\"hard\",\"soft\"]:\n",
        "            raise Exception(\"the mode should be 'hard' or 'soft'\")\n",
        "            \n",
        "        self.estimators=estimators\n",
        "        self.mode=mode\n",
        "        self.weight=weight\n",
        "        self.show_info=show_info  \n",
        "            \n",
        "    def predict(self,x_test):        \n",
        "        if self.mode==\"hard\":\n",
        "            return self.votingClassifer_hard(self.estimators, x_test, show_info=self.show_info)\n",
        "        else:\n",
        "            return self.votingClassifer_soft(self.estimators, x_test, weight=self.weight, show_info=self.show_info)\n",
        "\n",
        "    def getNumberDiff(self, index_classes, n):  \n",
        "        \n",
        "        for x in index_classes:\n",
        "            if index_class_prefer != x:\n",
        "                return x    \n",
        "    \n",
        "    def getNumberElse(self, index_classes, n):\n",
        "\n",
        "        indices = [i for i, value in enumerate(index_classes) if value != n]\n",
        "        counts = np.bincount(indices)\n",
        "        ind=np.argmax(counts)\n",
        "        n1=(indices == ind).sum()\n",
        " \n",
        "                \n",
        "        return n1\n",
        "    \n",
        "    # hard voting\n",
        "    def votingClassifer_hard(self,estimators,x_test,show_info='percent'):\n",
        "        \n",
        "        if show_info not in [\"info\",\"percent\",\"nothing\"]:\n",
        "            raise Exception(\"the attribut 'show_info' should be 'info' or 'percent','nothing'\")            \n",
        "            \n",
        "        \n",
        "        cpt=0\n",
        "        index_classes_glob, class_names_glob, probs_glob=[],[],[]\n",
        "        N=len(x_test)\n",
        "        for x in x_test:\n",
        "            index_classes, class_names, probs=[],[],[]\n",
        "            for model in estimators:\n",
        "                img = np.expand_dims(x, axis=0)\n",
        "                # make a prediction\n",
        "                y_prob = model.predict(img)[0]\n",
        "                probabilty = y_prob.flatten()\n",
        "                max_prob = probabilty.max()\n",
        "                y_classes = y_prob.argmax(axis=-1)\n",
        "                index_class, class_name, prob = y_classes,li[y_classes],max_prob\n",
        "                index_classes.append(index_class)\n",
        "                class_names.append(class_name)\n",
        "                probs.append(prob)\n",
        "            index_classes, class_names, probs = np.array(index_classes), np.array(class_names), np.array(probs)    \n",
        "            counts = np.bincount(index_classes)\n",
        "            index_class_prefer=np.argmax(counts)\n",
        " \n",
        "            n1=(index_classes == index_class_prefer).sum()\n",
        "    \n",
        "            if n1 == 1:\n",
        "                print(\"\\n Each estimator predict a different class\")\n",
        "                prob = probs.max()\n",
        "                indice = [i for i, value in enumerate(probs) if value == prob][0]\n",
        "                class_name = class_names[indice]\n",
        "\n",
        "                \n",
        "            elif n1 == len(estimators)/2 and len(estimators)/2 == self.getNumberElse(index_classes, index_class_prefer):\n",
        "                \n",
        "                print(\"\\n the half-estimators predict a class and the other estimators predict a different class\")\n",
        "                \n",
        "                indices1 = [i for i, value in enumerate(index_classes) if value == index_class_prefer]\n",
        "                sum2=0\n",
        "                for ind in indices1:\n",
        "                    sum2+=probs[ind]\n",
        "                \n",
        "                prob1=sum2/len(indices1)\n",
        "                \n",
        "                n2=self.getNumberDiff(index_classes, index_class_prefer)      \n",
        "                \n",
        "                indices2 = [i for i, value in enumerate(index_classes) if value == n2]\n",
        "                sum2=0\n",
        "                for ind in indices2:\n",
        "                    sum2+=probs[ind]\n",
        "                \n",
        "                prob2=sum2/len(indices2)\n",
        "                \n",
        "                if prob1 < prob2:\n",
        "                    prob=prob2\n",
        "                    indice = [i for i, value in enumerate(index_classes) if value == n2][0]\n",
        "                    class_name = class_names[indice]\n",
        "                    \n",
        "                else:\n",
        "                    prob=prob1\n",
        "                    indice = [i for i, value in enumerate(index_classes) if value == index_class_prefer][0]\n",
        "                    class_name = class_names[indice]\n",
        "                \n",
        "            else:\n",
        "                \n",
        "                sum1=0\n",
        "                nbr=0\n",
        "                for i, index in zip(range(len(probs)),index_classes):\n",
        "                    if index_class_prefer== index:\n",
        "                        sum1+=probs[i]\n",
        "                        nbr+=1\n",
        "                        \n",
        "                prob=sum1/nbr\n",
        "                indice = index_class_prefer\n",
        "                class_name = li[index_class_prefer]\n",
        "\n",
        "            \n",
        "            if show_info==\"info\":\n",
        "                cpt+=1\n",
        "                print(\"\\rpercent: {:.2f}%, li[{}]:{} --> {}\".format(cpt*100/N,index_class_prefer, li[index_class_prefer], prob), end='')   \n",
        "            elif show_info==\"percent\":\n",
        "                cpt+=1\n",
        "                print(\"\\rpercent: {:.2f}%\".format(cpt*100/N), end='')\n",
        "          \n",
        "                \n",
        "            index_classes_glob.append(indice)\n",
        "            class_names_glob.append(class_name)\n",
        "            probs_glob.append(prob)\n",
        "\n",
        "        return np.array(index_classes_glob), np.array(class_names_glob), np.array(probs_glob) \n",
        "    \n",
        "   # soft voting \n",
        "    def votingClassifer_soft(self, estimators, x_test, weight=None, show_info=\"percent\"):\n",
        "        \n",
        "        if show_info not in [\"info\",\"percent\",\"nothing\"]:\n",
        "            raise Exception(\"the attribut 'show_info' should be 'info' or 'percent','nothing'\")  \n",
        "\n",
        "        if weight is None :\n",
        "            weight=np.ones(len(estimators))\n",
        "\n",
        "        if len(weight) != len(estimators):\n",
        "            raise Exception(\"number of models and wheight should be equals\")    \n",
        "\n",
        "        cpt=0 \n",
        "        # get number of classes \n",
        "        x = image.img_to_array(x_test[0])\n",
        "        x = np.expand_dims(x, axis=0)\n",
        "        y_prob = estimators[0].predict(x) \n",
        "        num_classes =  y_prob.shape[1]\n",
        "\n",
        "        Tab=np.zeros(num_classes)# num_classes\n",
        "        index_classes_glob, class_names_glob, probs_glob=[],[],[]\n",
        "        N=len(x_test)\n",
        "        for x in x_test:\n",
        "            index_classes, class_names, probs= [], [], []\n",
        "            for model in estimators:\n",
        "                img = np.expand_dims(x, axis=0)\n",
        "                # make a prediction\n",
        "                y_prob = model.predict(img)[0]\n",
        "                idxs = np.argsort(y_prob)\n",
        "                # loop over the indexes of the high confidence class labels\n",
        "                for (index, value) in enumerate(idxs):\n",
        "                    # build the label and draw the label on the image\n",
        "                    #label = \"{}) {}[{}]: {:.2f}%\".format(index,li[value],value, y_prob[value] * 100)\n",
        "                    #print(label)\n",
        "                    Tab[value]=y_prob[value]\n",
        "\n",
        "                probs.append(Tab)\n",
        "\n",
        "            probs=np.array(probs) # probs.shape: (3, 38)\n",
        "\n",
        "            proba=[]   \n",
        "\n",
        "            div=sum(weight)\n",
        "            for i in range(len(probs[0])):\n",
        "                s=0\n",
        "                for j in range(len(weight)):\n",
        "                    s+= probs[j][i] * weight[j] \n",
        "                s=s/div\n",
        "                proba.append(s)\n",
        "\n",
        "            proba=np.array(proba)\n",
        "            max_prob=max(proba)\n",
        "\n",
        "            indices=[i for i, value in enumerate(proba) if value == max_prob]\n",
        "\n",
        "            index_class, class_name, prob=indices[0],li[indices[0]],max_prob \n",
        "\n",
        "            index_classes_glob.append(index_class)\n",
        "            class_names_glob.append(class_name)\n",
        "            probs_glob.append(prob) \n",
        "\n",
        "            if show_info==\"info\":\n",
        "                cpt+=1\n",
        "                print(\"percent: {:.2f}%, li[{}]:{} --> {}%\".format(cpt*100/N,index_class, li[index_class], prob))   \n",
        "            elif show_info==\"percent\":\n",
        "                cpt+=1\n",
        "                print(\"\\rpercent: {:.2f}%\".format(cpt*100/N), end='')\n",
        "\n",
        "\n",
        "\n",
        "        return np.array(index_classes_glob), np.array(class_names_glob), np.array(probs_glob)  "
      ]
    },
    {
      "cell_type": "code",
      "execution_count": null,
      "metadata": {
        "id": "0sDMxq6CPJ9m"
      },
      "outputs": [],
      "source": [
        "from sklearn.base import is_classifier, is_regressor\n",
        "models_names=['model1','model2','model3']\n",
        "print(\"model name\\t estimator name\\t is_regressor\\t is_classifier\")    \n",
        "for estimator , model_name in zip([model1,model2,model3],models_names):\n",
        "        print(\"{}\\t   {}     \\t {}      \\t {}\".format(model_name,estimator.__class__.__name__,\n",
        "                                              is_regressor(estimator),\n",
        "                                              is_classifier(estimator)\n",
        "                                              ))"
      ]
    },
    {
      "cell_type": "code",
      "execution_count": null,
      "metadata": {
        "id": "Rkv7dtYRhtCl"
      },
      "outputs": [],
      "source": [
        "from sklearn.metrics import accuracy_score\n",
        "from sklearn.metrics import precision_score\n",
        "from sklearn.metrics import recall_score\n",
        "from sklearn.metrics import classification_report\n",
        "import numpy as np\n",
        "models=[model1,model2,model3]\n",
        "model_names=[\"model1\",\"model2\",'model3']\n",
        "for model,model_name in zip(models,model_names):\n",
        "            \n",
        "    y_prob = model.predict(x_test)\n",
        "    y_pred1 = y_prob.argmax(axis=-1)\n",
        "    y_test1=np.argmax(y_test, axis=1)\n",
        "    # accuracy\n",
        "    print(model_name+\" accuracy: \",accuracy_score(y_test1,y_pred1))\n",
        "    del model , y_pred1, y_test1\n",
        "    #Precision\n",
        "    #print('Precision:', precision_score(y_test,y_pred1))\n",
        "    #Recall\n",
        "    #print('Recall:', recall_score(y_test1,y_pred1))\n",
        "    #F-measure\n",
        "    #print(\"Classification report\")\n",
        "    #print(classification_report(y_test1, y_pred1))"
      ]
    },
    {
      "cell_type": "code",
      "execution_count": null,
      "metadata": {
        "id": "RNwvATGkF39x"
      },
      "outputs": [],
      "source": [
        "# valid_set\n",
        "x_test, y_test = valid_set.next() \n",
        "\n",
        "#VotingClassifier(hard)\n",
        "estimators = [model1,model2,model3]\n",
        "vc=votingClassifer(estimators=estimators,mode=\"hard\",show_info=\"percent\")\n",
        "index_classes, class_names, probs=vc.predict(x_test)"
      ]
    },
    {
      "cell_type": "markdown",
      "metadata": {
        "id": "1SQTEoB5GNaJ"
      },
      "source": [
        "accuracy"
      ]
    },
    {
      "cell_type": "code",
      "execution_count": null,
      "metadata": {
        "id": "o43-_QmgGLtR"
      },
      "outputs": [],
      "source": [
        "# inverse_to_categorical inverser format binary to format indexation\n",
        "# datagenerator use the methode to_categorical for labelsation to frmat binary \n",
        "# the method inverce of to_categorical is argmax\n",
        "import numpy as np\n",
        "y_test1=np.argmax(y_test, axis=1)\n",
        "y_pred1=index_classes\n",
        "\n",
        "# accuracy\n",
        "from sklearn.metrics import accuracy_score\n",
        "print(\"votingClassifer(hard) accuracy : \",accuracy_score(y_test1,y_pred1))"
      ]
    }
  ],
  "metadata": {
    "colab": {
      "collapsed_sections": [
        "I0ocllpeekcI",
        "HlrZWDL0eg--",
        "lIAbUZEUebtt",
        "9MSAXXfbeObd"
      ],
      "provenance": []
    },
    "gpuClass": "standard",
    "kernelspec": {
      "display_name": "Python 3",
      "language": "python",
      "name": "python3"
    },
    "language_info": {
      "name": "python",
      "version": "3.9.6 (default, Oct 18 2022, 12:41:40) \n[Clang 14.0.0 (clang-1400.0.29.202)]"
    },
    "vscode": {
      "interpreter": {
        "hash": "31f2aee4e71d21fbe5cf8b01ff0e069b9275f58929596ceb00d14d90e3e16cd6"
      }
    }
  },
  "nbformat": 4,
  "nbformat_minor": 0
}
