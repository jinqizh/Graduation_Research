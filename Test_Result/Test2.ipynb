{
  "cells": [
    {
      "cell_type": "code",
      "execution_count": null,
      "metadata": {},
      "outputs": [],
      "source": [
        "'''\n",
        "Train data 2100 ,Test data 900 & Val  data 1000\n",
        "epochs 5\n",
        "Used EfficientNet series models\n",
        "Ensemble Accuracy 56.3%\n",
        "'''"
      ]
    },
    {
      "cell_type": "code",
      "execution_count": null,
      "metadata": {
        "colab": {
          "base_uri": "https://localhost:8080/"
        },
        "id": "tnJk85hmR70d",
        "outputId": "af15b8d3-bdff-4e86-c526-38cf8ae2f80f"
      },
      "outputs": [
        {
          "name": "stdout",
          "output_type": "stream",
          "text": [
            "Mounted at /content/drive\n"
          ]
        }
      ],
      "source": [
        "#content google drive\n",
        "from google.colab import drive\n",
        "drive.mount('/content/drive', force_remount=True)"
      ]
    },
    {
      "cell_type": "code",
      "execution_count": null,
      "metadata": {
        "colab": {
          "base_uri": "https://localhost:8080/"
        },
        "id": "CTG8dFriSOiT",
        "outputId": "73d255b8-938d-4cf8-e457-73a6e2a706f6"
      },
      "outputs": [
        {
          "name": "stdout",
          "output_type": "stream",
          "text": [
            "Looking in indexes: https://pypi.org/simple, https://us-python.pkg.dev/colab-wheels/public/simple/\n",
            "Collecting tensorflow-addons\n",
            "  Downloading tensorflow_addons-0.18.0-cp37-cp37m-manylinux_2_17_x86_64.manylinux2014_x86_64.whl (1.1 MB)\n",
            "\u001b[K     |████████████████████████████████| 1.1 MB 16.8 MB/s \n",
            "\u001b[?25hRequirement already satisfied: packaging in /usr/local/lib/python3.7/dist-packages (from tensorflow-addons) (21.3)\n",
            "Requirement already satisfied: typeguard>=2.7 in /usr/local/lib/python3.7/dist-packages (from tensorflow-addons) (2.7.1)\n",
            "Requirement already satisfied: pyparsing!=3.0.5,>=2.0.2 in /usr/local/lib/python3.7/dist-packages (from packaging->tensorflow-addons) (3.0.9)\n",
            "Installing collected packages: tensorflow-addons\n",
            "Successfully installed tensorflow-addons-0.18.0\n",
            "Colab only includes TensorFlow 2.x; %tensorflow_version has no effect.\n"
          ]
        }
      ],
      "source": [
        "import tensorflow as tf\n",
        "import os\n",
        "import cv2\n",
        "import numpy as np\n",
        "import matplotlib.pyplot as plt\n",
        "from tensorflow import keras\n",
        "from tensorflow.keras import layers\n",
        "from keras.models import Sequential\n",
        "from keras.layers import Dense,Dropout,Activation,Flatten\n",
        "from sklearn.utils import shuffle\n",
        "from tensorflow.keras.optimizers import SGD\n",
        "import tensorflow_hub as hub\n",
        "from tensorflow.keras.callbacks import ModelCheckpoint\n",
        "from tensorflow.keras.preprocessing.image import ImageDataGenerator\n",
        "!pip install tensorflow-addons\n",
        "import tensorflow_addons as tfa\n",
        "from tensorflow.keras.models import Model\n",
        "from sklearn.metrics import accuracy_score\n",
        "import glob\n",
        "#select tensorflow's version\n",
        "%tensorflow_version 2.x"
      ]
    },
    {
      "cell_type": "code",
      "execution_count": null,
      "metadata": {
        "id": "1bZK4by3e9Qs"
      },
      "outputs": [],
      "source": [
        "# HDF5フォーマットでモデルを保存するために必要\n",
        "!pip install -q pyyaml h5py  "
      ]
    },
    {
      "cell_type": "code",
      "execution_count": null,
      "metadata": {
        "id": "-u7NWirASBBr"
      },
      "outputs": [],
      "source": [
        "image_generator=ImageDataGenerator(\n",
        "    rescale=1./255,\n",
        "    validation_split=0.3\n",
        "    )"
      ]
    },
    {
      "cell_type": "code",
      "execution_count": null,
      "metadata": {
        "colab": {
          "base_uri": "https://localhost:8080/"
        },
        "id": "36g10nTmSNdR",
        "outputId": "26a37515-5970-45a1-f3bf-ac62519c0dbf"
      },
      "outputs": [
        {
          "name": "stdout",
          "output_type": "stream",
          "text": [
            "Found 8471 images belonging to 4 classes.\n",
            "Found 3630 images belonging to 4 classes.\n"
          ]
        }
      ],
      "source": [
        "#各データセットのディレクトリを選択し、全画像をリサイズする。\n",
        "#ディレクトリへのバスを受け取り、拡張・正規化したデータバッチを生成する。\n",
        "batch_size=32\n",
        "\n",
        "train_generator = image_generator.flow_from_directory(\n",
        "    '/content/drive/MyDrive/data/train',\n",
        "    target_size=(224, 224),\n",
        "    #class_mode='binary',\n",
        "    batch_size=batch_size,\n",
        "    subset='training',\n",
        ")\n",
        "\n",
        "val_generator = image_generator.flow_from_directory(\n",
        "    '/content/drive/MyDrive/data/train',\n",
        "    target_size=(224, 224),\n",
        "    #class_mode='binary',\n",
        "    batch_size=batch_size,\n",
        "    subset='validation'\n",
        ")"
      ]
    },
    {
      "cell_type": "code",
      "execution_count": null,
      "metadata": {
        "colab": {
          "base_uri": "https://localhost:8080/"
        },
        "id": "izbvZz6-SZ79",
        "outputId": "0b0b3010-54a4-48da-fd3c-ce7b4ae7db4e"
      },
      "outputs": [
        {
          "data": {
            "text/plain": [
              "(224, 224, 3)"
            ]
          },
          "execution_count": 7,
          "metadata": {},
          "output_type": "execute_result"
        }
      ],
      "source": [
        "# train 画像データ\n",
        "train_generator.image_shape"
      ]
    },
    {
      "cell_type": "code",
      "execution_count": null,
      "metadata": {
        "colab": {
          "base_uri": "https://localhost:8080/"
        },
        "id": "dsliqXqBSbpV",
        "outputId": "82592a2d-3626-40bf-9346-77cad850357f"
      },
      "outputs": [
        {
          "data": {
            "text/plain": [
              "{'CNV_train': 0, 'DME_train': 1, 'DRUSEN_train': 2, 'NORMAL_train': 3}"
            ]
          },
          "execution_count": 8,
          "metadata": {},
          "output_type": "execute_result"
        }
      ],
      "source": [
        "# train ラベル\n",
        "train_generator.class_indices"
      ]
    },
    {
      "cell_type": "code",
      "execution_count": null,
      "metadata": {
        "colab": {
          "base_uri": "https://localhost:8080/"
        },
        "id": "GIoCITenSkCD",
        "outputId": "d977ca27-4b03-4eb1-ed4e-166955f3947e"
      },
      "outputs": [
        {
          "data": {
            "text/plain": [
              "array([0, 0, 0, ..., 3, 3, 3], dtype=int32)"
            ]
          },
          "execution_count": 9,
          "metadata": {},
          "output_type": "execute_result"
        }
      ],
      "source": [
        "# train 全てのラベル\n",
        "train_generator.classes"
      ]
    },
    {
      "cell_type": "code",
      "execution_count": null,
      "metadata": {
        "colab": {
          "base_uri": "https://localhost:8080/",
          "height": 806
        },
        "id": "8RVONldMSj8W",
        "outputId": "8171d36d-9bdf-4705-d867-2b59f8ed7c56"
      },
      "outputs": [
        {
          "name": "stdout",
          "output_type": "stream",
          "text": [
            "[[0. 0. 1. 0.]\n",
            " [0. 0. 0. 1.]\n",
            " [1. 0. 0. 0.]\n",
            " [0. 0. 1. 0.]\n",
            " [1. 0. 0. 0.]\n",
            " [0. 0. 1. 0.]\n",
            " [0. 0. 1. 0.]\n",
            " [0. 0. 1. 0.]\n",
            " [0. 1. 0. 0.]\n",
            " [0. 0. 0. 1.]\n",
            " [0. 0. 0. 1.]\n",
            " [0. 1. 0. 0.]\n",
            " [0. 0. 1. 0.]\n",
            " [1. 0. 0. 0.]\n",
            " [0. 0. 0. 1.]\n",
            " [0. 1. 0. 0.]\n",
            " [0. 0. 1. 0.]\n",
            " [0. 1. 0. 0.]\n",
            " [0. 1. 0. 0.]\n",
            " [1. 0. 0. 0.]\n",
            " [1. 0. 0. 0.]\n",
            " [1. 0. 0. 0.]\n",
            " [0. 1. 0. 0.]\n",
            " [0. 0. 1. 0.]\n",
            " [0. 0. 0. 1.]\n",
            " [1. 0. 0. 0.]\n",
            " [0. 1. 0. 0.]\n",
            " [0. 0. 1. 0.]\n",
            " [0. 0. 1. 0.]\n",
            " [0. 0. 0. 1.]\n",
            " [0. 0. 1. 0.]\n",
            " [0. 0. 0. 1.]]\n"
          ]
        },
        {
          "data": {
            "image/png": "[encoded data removed]",
            "text/plain": [
              "<Figure size 1080x1080 with 5 Axes>"
            ]
          },
          "metadata": {
            "needs_background": "light"
          },
          "output_type": "display_data"
        }
      ],
      "source": [
        "training_images, training_labels = next(train_generator)\n",
        "\n",
        "def plotImages(images_arr):\n",
        "    fig, axes = plt.subplots(1, 5, figsize=(15,15))\n",
        "    axes = axes.flatten()\n",
        "    for img, ax in zip( images_arr, axes):\n",
        "        ax.imshow(img)\n",
        "        ax.axis('off')\n",
        "    plt.tight_layout()\n",
        "    plt.show()\n",
        "\n",
        "print(training_labels)\n",
        "plotImages(training_images[:5])"
      ]
    },
    {
      "cell_type": "code",
      "execution_count": null,
      "metadata": {
        "colab": {
          "base_uri": "https://localhost:8080/"
        },
        "id": "PUBh5ImcVeet",
        "outputId": "17fa66f7-09b0-4a14-b751-01e91559419a"
      },
      "outputs": [
        {
          "name": "stdout",
          "output_type": "stream",
          "text": [
            "Model: \"sequential\"\n",
            "_________________________________________________________________\n",
            " Layer (type)                Output Shape              Param #   \n",
            "=================================================================\n",
            " keras_layer (KerasLayer)    (None, 1280)              207615832 \n",
            "                                                                 \n",
            " dense (Dense)               (None, 4)                 5124      \n",
            "                                                                 \n",
            "=================================================================\n",
            "Total params: 207,620,956\n",
            "Trainable params: 5,124\n",
            "Non-trainable params: 207,615,832\n",
            "_________________________________________________________________\n"
          ]
        }
      ],
      "source": [
        "#使用するモデルの選択（特徴抽出器/分類器）_ efficientnetv2\n",
        "feature_extractor_url=\"https://tfhub.dev/google/imagenet/efficientnet_v2_imagenet21k_xl/feature_vector/2\"\n",
        "\n",
        "#入力画像サイズを決定する(モデルに適したサイズを設定)\n",
        "feature_extractor_layer=hub.KerasLayer(feature_extractor_url,input_shape=(512,512,3))\n",
        "\n",
        "#学習済み重みを固定する\n",
        "feature_extractor_layer.trainable=False\n",
        "\n",
        "#上位の分類層を接合する\n",
        "ebc1=Sequential([feature_extractor_layer,layers.Dense(train_generator.num_classes,activation='softmax')])\n",
        "#sigmoid SparseCategoricalCrossentropy\n",
        "\n",
        "#モデルの概要を確認する\n",
        "ebc1.summary()\n",
        "\n",
        "ebc1.compile(optimizer=tf.keras.optimizers.Adam(),\n",
        "              loss='categorical_crossentropy',\n",
        "              metrics=['accuracy'])"
      ]
    },
    {
      "cell_type": "code",
      "execution_count": null,
      "metadata": {
        "id": "7R7Z2bgdajHT"
      },
      "outputs": [],
      "source": [
        "#モデル設定\n",
        "MODEL_DIR='/content/drive/MyDrive/result6'\n",
        "if not os.path.exists(MODEL_DIR):\n",
        "  os.makedirs(MODEL_DIR)\n",
        "\n",
        "checkpoint=tf.keras.callbacks.ModelCheckpoint(filepath=os.path.join(MODEL_DIR,\"model-{epoch:02d}.h5\"),\n",
        "                                              monitor='val_loss',\n",
        "                                              mode='min',\n",
        "                                              save_weights_only=True,\n",
        "                                              verbose=1\n",
        "                                              )\n",
        "#filepath:モデルファイルを保存する場所を選択\n",
        "#monitor:監視するメトリック名\n",
        "#mode:ファイルを上書きするかどうか\n",
        "#save_weights_only:モデルのウェイトのみを保存する\n",
        "#verbose:1、冗長モード    "
      ]
    },
    {
      "cell_type": "code",
      "execution_count": null,
      "metadata": {
        "id": "w0EcwmuLj4Hw"
      },
      "outputs": [],
      "source": [
        "checkpoint1=tf.keras.callbacks.ModelCheckpoint(filepath=os.path.join(MODEL_DIR,\"model1-{epoch:02d}.h5\"),\n",
        "                                              monitor='val_loss',\n",
        "                                              mode='min',\n",
        "                                              save_weights_only=True,\n",
        "                                              verbose=1\n",
        "                                              )"
      ]
    },
    {
      "cell_type": "code",
      "execution_count": null,
      "metadata": {
        "id": "dcJGhUU1j62w"
      },
      "outputs": [],
      "source": [
        "checkpoint2=tf.keras.callbacks.ModelCheckpoint(filepath=os.path.join(MODEL_DIR,\"model2-{epoch:02d}.h5\"),\n",
        "                                              monitor='val_loss',\n",
        "                                              mode='min',\n",
        "                                              save_weights_only=True,\n",
        "                                              verbose=1\n",
        "                                              )"
      ]
    },
    {
      "cell_type": "code",
      "execution_count": null,
      "metadata": {
        "id": "_QbpWP-Gj8Vz"
      },
      "outputs": [],
      "source": [
        "checkpoint3=tf.keras.callbacks.ModelCheckpoint(filepath=os.path.join(MODEL_DIR,\"model3-{epoch:02d}.h5\"),\n",
        "                                              monitor='val_loss',\n",
        "                                              mode='min',\n",
        "                                              save_weights_only=True,\n",
        "                                              verbose=1\n",
        "                                              )"
      ]
    },
    {
      "cell_type": "code",
      "execution_count": null,
      "metadata": {
        "id": "O3O8hOzxbBbb"
      },
      "outputs": [],
      "source": [
        "#訓練プロセスの可視化\n",
        "#カスタムコールバックを作成して、すべてのエポックでのトレーニングの進行状況を視覚化します\n",
        "class CollectBatchStats(tf.keras.callbacks.Callback):\n",
        "  def __init__(self):\n",
        "    self.batch_losses=[]\n",
        "    self.batch_acc=[]\n",
        "    \n",
        "  def on_train_batch_end(self,batch,logs=1e-12):\n",
        "    self.batch_losses.append(logs['loss'])\n",
        "    self.batch_acc.append(logs['accuracy'])\n",
        "    self.model.reset_metrics()"
      ]
    },
    {
      "cell_type": "code",
      "execution_count": null,
      "metadata": {
        "colab": {
          "base_uri": "https://localhost:8080/"
        },
        "id": "E4MOr9xadVYO",
        "outputId": "2d62cd78-a636-4d16-9cd7-391bd959db91"
      },
      "outputs": [
        {
          "name": "stdout",
          "output_type": "stream",
          "text": [
            "Found 4010 images belonging to 4 classes.\n",
            "Found 968 images belonging to 4 classes.\n",
            "Found 12101 images belonging to 4 classes.\n"
          ]
        }
      ],
      "source": [
        "#形状設定\n",
        "test_data=image_generator.flow_from_directory('/content/drive/MyDrive/data/test',target_size=(224,224))\n",
        "val_data=image_generator.flow_from_directory('/content/drive/MyDrive/data/val',target_size=(224,224))\n",
        "gizi_data=image_generator.flow_from_directory('/content/drive/MyDrive/data/train',target_size=(224,224))"
      ]
    },
    {
      "cell_type": "code",
      "execution_count": null,
      "metadata": {
        "colab": {
          "base_uri": "https://localhost:8080/"
        },
        "id": "unsA6xYldaNV",
        "outputId": "6b561adb-200b-4f4b-846d-fbf94698e561"
      },
      "outputs": [
        {
          "name": "stdout",
          "output_type": "stream",
          "text": [
            "Image batch shape: (32, 224, 224, 3)\n",
            "Label batch shape: (32, 4)\n",
            "Image batch shape: (32, 224, 224, 3)\n",
            "Label batch shape: (32, 4)\n",
            "Image batch shape: (32, 224, 224, 3)\n",
            "Label batch shape: (32, 4)\n",
            "Image batch shape: (32, 224, 224, 3)\n",
            "Label batch shape: (32, 4)\n"
          ]
        }
      ],
      "source": [
        "#各データセットの画像バッチ形状と、ラベルのバッチ形状を表示する\n",
        "for image_test_batch,label_test_batch in test_data:\n",
        "  print(\"Image batch shape:\",image_test_batch.shape)\n",
        "  print(\"Label batch shape:\",label_test_batch.shape)\n",
        "  break\n",
        "\n",
        "for image_test_batch,label_test_batch in train_generator:\n",
        "  print(\"Image batch shape:\",image_test_batch.shape)\n",
        "  print(\"Label batch shape:\",label_test_batch.shape)\n",
        "  break\n",
        "\n",
        "for image_test_batch,label_test_batch in val_generator:\n",
        "  print(\"Image batch shape:\",image_test_batch.shape)\n",
        "  print(\"Label batch shape:\",label_test_batch.shape)\n",
        "  break\n",
        "\n",
        "for image_test_batch,label_test_batch in gizi_data:\n",
        "  print(\"Image batch shape:\",image_test_batch.shape)\n",
        "  print(\"Label batch shape:\",label_test_batch.shape)\n",
        "  break"
      ]
    },
    {
      "cell_type": "code",
      "execution_count": null,
      "metadata": {
        "colab": {
          "base_uri": "https://localhost:8080/",
          "height": 240
        },
        "id": "rQcpBFAfawy3",
        "outputId": "834d771c-f799-4af6-9dff-f90d9afa35fd"
      },
      "outputs": [
        {
          "ename": "NameError",
          "evalue": "ignored",
          "output_type": "error",
          "traceback": [
            "\u001b[0;31m---------------------------------------------------------------------------\u001b[0m",
            "\u001b[0;31mNameError\u001b[0m                                 Traceback (most recent call last)",
            "\u001b[0;32m<ipython-input-3-84e95ef4f99c>\u001b[0m in \u001b[0;36m<module>\u001b[0;34m\u001b[0m\n\u001b[0;32m----> 1\u001b[0;31m \u001b[0mbatch_stats_callback\u001b[0m\u001b[0;34m=\u001b[0m\u001b[0mCollectBatchStats\u001b[0m\u001b[0;34m(\u001b[0m\u001b[0;34m)\u001b[0m\u001b[0;34m\u001b[0m\u001b[0;34m\u001b[0m\u001b[0m\n\u001b[0m\u001b[1;32m      2\u001b[0m \u001b[0mbatch_size\u001b[0m\u001b[0;34m=\u001b[0m\u001b[0;36m32\u001b[0m\u001b[0;34m\u001b[0m\u001b[0;34m\u001b[0m\u001b[0m\n\u001b[1;32m      3\u001b[0m \u001b[0mepochz\u001b[0m\u001b[0;34m=\u001b[0m\u001b[0;36m3\u001b[0m\u001b[0;34m\u001b[0m\u001b[0;34m\u001b[0m\u001b[0m\n\u001b[1;32m      4\u001b[0m \u001b[0mepoch\u001b[0m\u001b[0;34m=\u001b[0m\u001b[0;36m5\u001b[0m\u001b[0;34m\u001b[0m\u001b[0;34m\u001b[0m\u001b[0m\n\u001b[1;32m      5\u001b[0m \u001b[0;31m#steps_per_epoch\u001b[0m\u001b[0;34m\u001b[0m\u001b[0;34m\u001b[0m\u001b[0;34m\u001b[0m\u001b[0m\n",
            "\u001b[0;31mNameError\u001b[0m: name 'CollectBatchStats' is not defined"
          ]
        }
      ],
      "source": [
        "batch_stats_callback=CollectBatchStats()\n",
        "batch_size=32\n",
        "epochz=3\n",
        "epoch=5\n",
        "#steps_per_epoch\n",
        "s_p_e=np.ceil(train_generator.samples/batch_size)"
      ]
    },
    {
      "cell_type": "markdown",
      "metadata": {
        "id": "tg4uqGVCfDnN"
      },
      "source": [
        "model1"
      ]
    },
    {
      "cell_type": "code",
      "execution_count": null,
      "metadata": {
        "colab": {
          "base_uri": "https://localhost:8080/"
        },
        "id": "EIFVYqBGbHVS",
        "outputId": "58d2a81c-5665-4082-de8d-e919332092b6"
      },
      "outputs": [
        {
          "name": "stdout",
          "output_type": "stream",
          "text": [
            "Epoch 1/3\n",
            "265/265 [==============================] - ETA: 0s - loss: 0.6450 - accuracy: 0.7607\n",
            "Epoch 1: saving model to /content/drive/MyDrive/result6/model-01.h5\n",
            "265/265 [==============================] - 3116s 12s/step - loss: 0.6450 - accuracy: 0.7607 - val_loss: 0.6152 - val_accuracy: 0.7592\n",
            "Epoch 2/3\n",
            "265/265 [==============================] - ETA: 0s - loss: 0.3243 - accuracy: 0.8906\n",
            "Epoch 2: saving model to /content/drive/MyDrive/result6/model-02.h5\n",
            "265/265 [==============================] - 229s 863ms/step - loss: 0.3243 - accuracy: 0.8906 - val_loss: 0.4692 - val_accuracy: 0.8187\n",
            "Epoch 3/3\n",
            "265/265 [==============================] - ETA: 0s - loss: 0.2818 - accuracy: 0.9043\n",
            "Epoch 3: saving model to /content/drive/MyDrive/result6/model-03.h5\n",
            "265/265 [==============================] - 224s 846ms/step - loss: 0.2818 - accuracy: 0.9043 - val_loss: 0.5375 - val_accuracy: 0.7970\n"
          ]
        },
        {
          "data": {
            "text/plain": [
              "<keras.callbacks.History at 0x7efd093a8ad0>"
            ]
          },
          "execution_count": 17,
          "metadata": {},
          "output_type": "execute_result"
        }
      ],
      "source": [
        "ebc1.fit(         train_generator,\n",
        "                  epochs=epochz,\n",
        "                  steps_per_epoch=s_p_e,\n",
        "                  validation_data=val_generator,\n",
        "                  callbacks=[checkpoint1,batch_stats_callback],\n",
        "                  )"
      ]
    },
    {
      "cell_type": "code",
      "execution_count": null,
      "metadata": {
        "colab": {
          "base_uri": "https://localhost:8080/"
        },
        "id": "8H-eawg7bfgs",
        "outputId": "6b782180-0b95-4552-c2ab-d309376cb628"
      },
      "outputs": [
        {
          "name": "stdout",
          "output_type": "stream",
          "text": [
            "Model: \"sequential_1\"\n",
            "_________________________________________________________________\n",
            " Layer (type)                Output Shape              Param #   \n",
            "=================================================================\n",
            " keras_layer (KerasLayer)    (None, 1280)              207615832 \n",
            "                                                                 \n",
            " dense_1 (Dense)             (None, 4)                 5124      \n",
            "                                                                 \n",
            "=================================================================\n",
            "Total params: 207,620,956\n",
            "Trainable params: 5,124\n",
            "Non-trainable params: 207,615,832\n",
            "_________________________________________________________________\n"
          ]
        }
      ],
      "source": [
        "#上位分類層を接合\n",
        "ebc1=Sequential([feature_extractor_layer,\n",
        "                           layers.Dense(train_generator.num_classes,activation='softmax')])\n",
        "\n",
        "ebc1.summary()\n",
        "\n",
        "ebc1.compile(optimizer=tf.keras.optimizers.Adam(),\n",
        "              loss='categorical_crossentropy',\n",
        "              metrics=['accuracy'])"
      ]
    },
    {
      "cell_type": "code",
      "execution_count": null,
      "metadata": {
        "colab": {
          "base_uri": "https://localhost:8080/"
        },
        "id": "ExsflwbadI3s",
        "outputId": "4d0832ad-b5ef-464a-9d13-de206723d3cc"
      },
      "outputs": [
        {
          "name": "stdout",
          "output_type": "stream",
          "text": [
            "Epoch 1/3\n",
            "265/265 [==============================] - ETA: 0s - loss: 0.3191 - accuracy: 0.9062\n",
            "Epoch 1: saving model to /content/drive/MyDrive/result6/model-01.h5\n",
            "265/265 [==============================] - 416s 2s/step - loss: 0.3191 - accuracy: 0.9062 - val_loss: 0.3673 - val_accuracy: 0.8646\n",
            "Epoch 2/3\n",
            "265/265 [==============================] - ETA: 0s - loss: 0.6324 - accuracy: 0.8125\n",
            "Epoch 2: saving model to /content/drive/MyDrive/result6/model-02.h5\n",
            "265/265 [==============================] - 410s 2s/step - loss: 0.6324 - accuracy: 0.8125 - val_loss: 0.3014 - val_accuracy: 0.8950\n",
            "Epoch 3/3\n",
            "265/265 [==============================] - ETA: 0s - loss: 0.2661 - accuracy: 0.9062\n",
            "Epoch 3: saving model to /content/drive/MyDrive/result6/model-03.h5\n",
            "265/265 [==============================] - 409s 2s/step - loss: 0.2661 - accuracy: 0.9062 - val_loss: 0.3263 - val_accuracy: 0.8827\n"
          ]
        }
      ],
      "source": [
        "#擬似ラベル作成\n",
        "history=ebc1.fit(train_generator,\n",
        "                  epochs=epochz,\n",
        "                  steps_per_epoch=s_p_e,\n",
        "                  validation_data=gizi_data,\n",
        "                  callbacks=[checkpoint1,batch_stats_callback]\n",
        "                  )\n",
        "\n"
      ]
    },
    {
      "cell_type": "code",
      "execution_count": null,
      "metadata": {
        "colab": {
          "base_uri": "https://localhost:8080/"
        },
        "id": "sUpv6HdwyT9D",
        "outputId": "0e51e130-3044-44f4-f2f1-b6b177df2535"
      },
      "outputs": [
        {
          "name": "stdout",
          "output_type": "stream",
          "text": [
            "379/379 [==============================] - 214s 555ms/step\n"
          ]
        }
      ],
      "source": [
        "#疑似ラベルの予測\n",
        "gizi_label1=ebc1.predict(gizi_data)"
      ]
    },
    {
      "cell_type": "code",
      "execution_count": null,
      "metadata": {
        "id": "1QkqUgnBdpTe"
      },
      "outputs": [],
      "source": [
        "feature_extractor_layer.trainable=False\n",
        "#入力画像ノイズ(rand augmentation)の設定\n",
        "data_augmentation=Sequential([layers.RandomRotation(2.10)])\n",
        "#モデルノイズ（stochastic depth）の設定\n",
        "stochastic_Depth=Sequential([tfa.layers.StochasticDepth(0.35)])\n",
        "\n",
        "#モデルにrand augmentationを適用\n",
        "model1=Sequential([data_augmentation])\n",
        "#モデルにstochastic depthを適用\n",
        "model1=Sequential([stochastic_Depth])\n",
        "\n",
        "#モデルノイズ（dropout）の設定と適用\n",
        "model1=Sequential([feature_extractor_layer,\n",
        "                           layers.Dense(train_generator.num_classes,activation='softmax'),\n",
        "                           #layers.Dropout(0.3)sigmoid softmax\n",
        "                  ])"
      ]
    },
    {
      "cell_type": "code",
      "execution_count": null,
      "metadata": {
        "colab": {
          "base_uri": "https://localhost:8080/"
        },
        "id": "fUfGHjgdd2L9",
        "outputId": "1e08a44e-dacd-4412-d507-9edf031ac2df"
      },
      "outputs": [
        {
          "name": "stdout",
          "output_type": "stream",
          "text": [
            "Model: \"sequential_6\"\n",
            "_________________________________________________________________\n",
            " Layer (type)                Output Shape              Param #   \n",
            "=================================================================\n",
            " keras_layer (KerasLayer)    (None, 1280)              207615832 \n",
            "                                                                 \n",
            " dense_2 (Dense)             (None, 4)                 5124      \n",
            "                                                                 \n",
            "=================================================================\n",
            "Total params: 207,620,956\n",
            "Trainable params: 5,124\n",
            "Non-trainable params: 207,615,832\n",
            "_________________________________________________________________\n"
          ]
        }
      ],
      "source": [
        "#model1\n",
        "model1.compile(optimizer=tf.keras.optimizers.Adam(),\n",
        "              loss='categorical_crossentropy',\n",
        "              metrics=['accuracy'])\n",
        "model1.summary()"
      ]
    },
    {
      "cell_type": "code",
      "execution_count": null,
      "metadata": {
        "colab": {
          "base_uri": "https://localhost:8080/"
        },
        "id": "DlKl2Q4fejgx",
        "outputId": "97ff364f-d88e-43d8-b67e-eed7b6cb6d66"
      },
      "outputs": [
        {
          "name": "stdout",
          "output_type": "stream",
          "text": [
            "Epoch 1/3\n",
            "379/379 [==============================] - 291s 742ms/step - loss: 0.5422 - accuracy: 0.7958 - val_loss: 0.3974 - val_accuracy: 0.8609\n",
            "Epoch 2/3\n",
            "379/379 [==============================] - 277s 730ms/step - loss: 0.3287 - accuracy: 0.8820 - val_loss: 0.3340 - val_accuracy: 0.8774\n",
            "Epoch 3/3\n",
            "379/379 [==============================] - 277s 732ms/step - loss: 0.2852 - accuracy: 0.8984 - val_loss: 0.3080 - val_accuracy: 0.8843\n"
          ]
        }
      ],
      "source": [
        "#model1\n",
        "history=model1.fit(gizi_data,\n",
        "                  epochs=epochz,\n",
        "                  steps_per_epoch=np.ceil(gizi_data.samples/batch_size),\n",
        "                  validation_data=val_generator,\n",
        "                  #callbacks=[checkpoint1,batch_stats_callback]\n",
        "                  )"
      ]
    },
    {
      "cell_type": "code",
      "execution_count": null,
      "metadata": {
        "colab": {
          "base_uri": "https://localhost:8080/"
        },
        "id": "Pe9Kpxvd-pJb",
        "outputId": "44dbb5eb-32ec-4129-89b7-6752c457caa9"
      },
      "outputs": [
        {
          "name": "stdout",
          "output_type": "stream",
          "text": [
            "Model: \"sequential_7\"\n",
            "_________________________________________________________________\n",
            " Layer (type)                Output Shape              Param #   \n",
            "=================================================================\n",
            " keras_layer (KerasLayer)    (None, 1280)              207615832 \n",
            "                                                                 \n",
            " dense_3 (Dense)             (None, 4)                 5124      \n",
            "                                                                 \n",
            "=================================================================\n",
            "Total params: 207,620,956\n",
            "Trainable params: 5,124\n",
            "Non-trainable params: 207,615,832\n",
            "_________________________________________________________________\n"
          ]
        }
      ],
      "source": [
        "#上位分類層を接合\n",
        "model1=Sequential([feature_extractor_layer,\n",
        "                           layers.Dense(train_generator.num_classes,activation='softmax')])\n",
        "\n",
        "model1.summary()\n",
        "\n",
        "model1.compile(optimizer=tf.keras.optimizers.Adam(),\n",
        "              loss='categorical_crossentropy',\n",
        "              metrics=['accuracy'])\n",
        "\n"
      ]
    },
    {
      "cell_type": "code",
      "execution_count": null,
      "metadata": {
        "colab": {
          "base_uri": "https://localhost:8080/"
        },
        "id": "rmXXXNsNes8a",
        "outputId": "ce1b224b-5351-4344-bf5a-d1ba27019197"
      },
      "outputs": [
        {
          "name": "stdout",
          "output_type": "stream",
          "text": [
            "Epoch 1/5\n",
            "265/265 [==============================] - ETA: 0s - loss: 0.6966 - accuracy: 0.8125\n",
            "Epoch 1: saving model to /content/drive/MyDrive/result6/model-01.h5\n",
            "265/265 [==============================] - 281s 1s/step - loss: 0.6966 - accuracy: 0.8125 - val_loss: 0.5360 - val_accuracy: 0.8030\n",
            "Epoch 2/5\n",
            "265/265 [==============================] - ETA: 0s - loss: 0.2126 - accuracy: 0.9375\n",
            "Epoch 2: saving model to /content/drive/MyDrive/result6/model-02.h5\n",
            "265/265 [==============================] - 252s 951ms/step - loss: 0.2126 - accuracy: 0.9375 - val_loss: 0.4963 - val_accuracy: 0.8129\n",
            "Epoch 3/5\n",
            "265/265 [==============================] - ETA: 0s - loss: 0.1398 - accuracy: 0.9688\n",
            "Epoch 3: saving model to /content/drive/MyDrive/result6/model-03.h5\n",
            "265/265 [==============================] - 254s 959ms/step - loss: 0.1398 - accuracy: 0.9688 - val_loss: 0.4747 - val_accuracy: 0.8256\n",
            "Epoch 4/5\n",
            "265/265 [==============================] - ETA: 0s - loss: 0.1394 - accuracy: 0.9375\n",
            "Epoch 4: saving model to /content/drive/MyDrive/result6/model-04.h5\n",
            "265/265 [==============================] - 224s 847ms/step - loss: 0.1394 - accuracy: 0.9375 - val_loss: 0.5265 - val_accuracy: 0.8085\n",
            "Epoch 5/5\n",
            "265/265 [==============================] - ETA: 0s - loss: 0.1359 - accuracy: 0.9062\n",
            "Epoch 5: saving model to /content/drive/MyDrive/result6/model-05.h5\n",
            "265/265 [==============================] - 225s 850ms/step - loss: 0.1359 - accuracy: 0.9062 - val_loss: 0.4767 - val_accuracy: 0.8245\n"
          ]
        }
      ],
      "source": [
        "history=model1.fit(train_generator,\n",
        "                  epochs=epoch,\n",
        "                  steps_per_epoch=s_p_e,\n",
        "                  validation_data=val_generator,\n",
        "                  callbacks=[checkpoint1,batch_stats_callback]\n",
        "                  )\n",
        "\n",
        "#y_prob = model1.predict(val_data)\n",
        "#y_pred1 = y_prob.argmax(axis=-1)\n",
        "#y_test1=np.argmax(y_test, axis=1)\n",
        "# accuracy\n",
        "#print(model1+\" accuracy: \",accuracy_score(y_test1,y_pred1))\n",
        "#del model1 , y_pred1, y_test1"
      ]
    },
    {
      "cell_type": "code",
      "execution_count": null,
      "metadata": {
        "colab": {
          "base_uri": "https://localhost:8080/"
        },
        "id": "IM0mGT9ofAkr",
        "outputId": "60282c1e-7fe8-42f8-d6df-c37152d7cf22"
      },
      "outputs": [
        {
          "name": "stderr",
          "output_type": "stream",
          "text": [
            "WARNING:absl:Found untraced functions such as restored_function_body, restored_function_body, restored_function_body, restored_function_body, restored_function_body while saving (showing 5 of 1594). These functions will not be directly callable after loading.\n"
          ]
        }
      ],
      "source": [
        "model1.save('/content/drive/MyDrive/result6/model1.h5/')"
      ]
    },
    {
      "cell_type": "markdown",
      "metadata": {
        "id": "Ymv_gMTXfA--"
      },
      "source": [
        "model2"
      ]
    },
    {
      "cell_type": "code",
      "execution_count": null,
      "metadata": {
        "colab": {
          "base_uri": "https://localhost:8080/"
        },
        "id": "3vlMAU0efJzj",
        "outputId": "3a765713-5267-4857-d7cd-b094960c72d9"
      },
      "outputs": [
        {
          "name": "stdout",
          "output_type": "stream",
          "text": [
            "Model: \"sequential_8\"\n",
            "_________________________________________________________________\n",
            " Layer (type)                Output Shape              Param #   \n",
            "=================================================================\n",
            " keras_layer_1 (KerasLayer)  (None, 1280)              6575232   \n",
            "                                                                 \n",
            " dense_4 (Dense)             (None, 4)                 5124      \n",
            "                                                                 \n",
            "=================================================================\n",
            "Total params: 6,580,356\n",
            "Trainable params: 5,124\n",
            "Non-trainable params: 6,575,232\n",
            "_________________________________________________________________\n"
          ]
        }
      ],
      "source": [
        "#使用するモデルの選択（特徴抽出器/分類器）_ efficientnetb1\n",
        "feature_extractor_url_b1=\"https://tfhub.dev/google/efficientnet/b1/feature-vector/1\"\n",
        "\n",
        "#入力画像サイズを決定する(モデルに適したサイズを設定)\n",
        "feature_extractor_layer_b1=hub.KerasLayer(feature_extractor_url_b1,input_shape=(512,512,3))\n",
        "\n",
        "#学習済み重みを固定する\n",
        "feature_extractor_layer_b1.trainable=False\n",
        "\n",
        "#上位の分類層を接合する\n",
        "ebc2=Sequential([feature_extractor_layer_b1,layers.Dense(train_generator.num_classes,activation='softmax')])\n",
        "\n",
        "#モデルの概要を確認する\n",
        "ebc2.summary()\n",
        "\n",
        "ebc2.compile(optimizer=tf.keras.optimizers.Adam(),\n",
        "              loss='categorical_crossentropy',\n",
        "              metrics=['accuracy'])"
      ]
    },
    {
      "cell_type": "code",
      "execution_count": null,
      "metadata": {
        "colab": {
          "base_uri": "https://localhost:8080/"
        },
        "id": "8DYE2xIWfGC8",
        "outputId": "f21410a8-98f1-4eea-f6bd-c382c4640b7c"
      },
      "outputs": [
        {
          "name": "stdout",
          "output_type": "stream",
          "text": [
            "Epoch 1/3\n",
            "265/265 [==============================] - ETA: 0s - loss: 0.6977 - accuracy: 0.7566\n",
            "Epoch 1: saving model to /content/drive/MyDrive/result6/model-01.h5\n",
            "265/265 [==============================] - 1417s 5s/step - loss: 0.6977 - accuracy: 0.7566 - val_loss: 0.6693 - val_accuracy: 0.7616\n",
            "Epoch 2/3\n",
            "265/265 [==============================] - ETA: 0s - loss: 0.4249 - accuracy: 0.8626\n",
            "Epoch 2: saving model to /content/drive/MyDrive/result6/model-02.h5\n",
            "265/265 [==============================] - 101s 382ms/step - loss: 0.4249 - accuracy: 0.8626 - val_loss: 0.6176 - val_accuracy: 0.7756\n",
            "Epoch 3/3\n",
            "265/265 [==============================] - ETA: 0s - loss: 0.3542 - accuracy: 0.8864\n",
            "Epoch 3: saving model to /content/drive/MyDrive/result6/model-03.h5\n",
            "265/265 [==============================] - 99s 375ms/step - loss: 0.3542 - accuracy: 0.8864 - val_loss: 0.5953 - val_accuracy: 0.7873\n"
          ]
        },
        {
          "data": {
            "text/plain": [
              "<keras.callbacks.History at 0x7efa99ecffd0>"
            ]
          },
          "execution_count": 29,
          "metadata": {},
          "output_type": "execute_result"
        }
      ],
      "source": [
        "ebc2.fit(         train_generator,\n",
        "                  epochs=epochz,\n",
        "                  steps_per_epoch=s_p_e,\n",
        "                  validation_data=test_data,\n",
        "                  callbacks=[checkpoint2,batch_stats_callback],\n",
        "                  )"
      ]
    },
    {
      "cell_type": "code",
      "execution_count": null,
      "metadata": {
        "colab": {
          "base_uri": "https://localhost:8080/"
        },
        "id": "f2IAMyNUfmQ7",
        "outputId": "3bc66a53-e454-4e86-9d92-2d1817ed1e14"
      },
      "outputs": [
        {
          "name": "stdout",
          "output_type": "stream",
          "text": [
            "Model: \"sequential_9\"\n",
            "_________________________________________________________________\n",
            " Layer (type)                Output Shape              Param #   \n",
            "=================================================================\n",
            " keras_layer (KerasLayer)    (None, 1280)              207615832 \n",
            "                                                                 \n",
            " dense_5 (Dense)             (None, 4)                 5124      \n",
            "                                                                 \n",
            "=================================================================\n",
            "Total params: 207,620,956\n",
            "Trainable params: 5,124\n",
            "Non-trainable params: 207,615,832\n",
            "_________________________________________________________________\n"
          ]
        }
      ],
      "source": [
        "#上位分類層を接合\n",
        "ebc2=Sequential([feature_extractor_layer,\n",
        "                           layers.Dense(train_generator.num_classes,activation='softmax')])\n",
        "\n",
        "ebc2.summary()\n",
        "\n",
        "ebc2.compile(optimizer=tf.keras.optimizers.Adam(),\n",
        "              loss='categorical_crossentropy',\n",
        "              metrics=['accuracy'])"
      ]
    },
    {
      "cell_type": "code",
      "execution_count": null,
      "metadata": {
        "colab": {
          "base_uri": "https://localhost:8080/"
        },
        "id": "qh-jmmOkgFB2",
        "outputId": "3ff8a386-d0c6-4bb0-a16a-af03492c885a"
      },
      "outputs": [
        {
          "name": "stdout",
          "output_type": "stream",
          "text": [
            "Epoch 1/3\n",
            "265/265 [==============================] - 371s 1s/step - loss: 0.5410 - accuracy: 0.7936 - val_loss: 0.3896 - val_accuracy: 0.8550\n",
            "Epoch 2/3\n",
            "265/265 [==============================] - 360s 1s/step - loss: 0.3146 - accuracy: 0.8909 - val_loss: 0.3211 - val_accuracy: 0.8868\n",
            "Epoch 3/3\n",
            "265/265 [==============================] - 360s 1s/step - loss: 0.2674 - accuracy: 0.9030 - val_loss: 0.3031 - val_accuracy: 0.8903\n"
          ]
        }
      ],
      "source": [
        "#擬似ラベル作成\n",
        "history=ebc2.fit(train_generator,\n",
        "                  epochs=epochz,\n",
        "                  steps_per_epoch=s_p_e,\n",
        "                  validation_data=gizi_data,\n",
        "                  #callbacks=[checkpoint2,batch_stats_callback]\n",
        "                  )\n",
        "\n"
      ]
    },
    {
      "cell_type": "code",
      "execution_count": null,
      "metadata": {
        "colab": {
          "base_uri": "https://localhost:8080/"
        },
        "id": "cPWCAvC1ykrX",
        "outputId": "c8e7fbd6-06a6-4db3-f700-72381184c9d3"
      },
      "outputs": [
        {
          "name": "stdout",
          "output_type": "stream",
          "text": [
            "379/379 [==============================] - 214s 554ms/step\n"
          ]
        }
      ],
      "source": [
        "gizi_label2=ebc2.predict(gizi_data)"
      ]
    },
    {
      "cell_type": "code",
      "execution_count": null,
      "metadata": {
        "id": "ApSto5QPgM0S"
      },
      "outputs": [],
      "source": [
        "feature_extractor_layer.trainable=False\n",
        "#入力画像ノイズ(rand augmentation)の設定\n",
        "data_augmentation=Sequential([layers.RandomRotation(2.10)])\n",
        "#モデルノイズ（stochastic depth）の設定\n",
        "stochastic_Depth=Sequential([tfa.layers.StochasticDepth(0.35)])\n",
        "\n",
        "#モデルにrand augmentationを適用\n",
        "model2=Sequential([data_augmentation])\n",
        "#モデルにstochastic depthを適用\n",
        "model2=Sequential([stochastic_Depth])\n",
        "\n",
        "model2=Sequential([feature_extractor_layer,\n",
        "                           layers.Dense(train_generator.num_classes,activation='softmax'),\n",
        "                           #layers.Dropout(0.3)\n",
        "                  ])"
      ]
    },
    {
      "cell_type": "code",
      "execution_count": null,
      "metadata": {
        "colab": {
          "base_uri": "https://localhost:8080/"
        },
        "id": "tmjeHx72gYrh",
        "outputId": "995346a7-9527-4e1f-94c2-0122dc58aee1"
      },
      "outputs": [
        {
          "name": "stdout",
          "output_type": "stream",
          "text": [
            "Model: \"sequential_14\"\n",
            "_________________________________________________________________\n",
            " Layer (type)                Output Shape              Param #   \n",
            "=================================================================\n",
            " keras_layer (KerasLayer)    (None, 1280)              207615832 \n",
            "                                                                 \n",
            " dense_6 (Dense)             (None, 4)                 5124      \n",
            "                                                                 \n",
            "=================================================================\n",
            "Total params: 207,620,956\n",
            "Trainable params: 5,124\n",
            "Non-trainable params: 207,615,832\n",
            "_________________________________________________________________\n"
          ]
        }
      ],
      "source": [
        "#model2\n",
        "model2.compile(optimizer=tf.keras.optimizers.Adam(),\n",
        "              loss='categorical_crossentropy',\n",
        "              metrics=['accuracy'])\n",
        "model2.summary()\n"
      ]
    },
    {
      "cell_type": "code",
      "execution_count": null,
      "metadata": {
        "colab": {
          "base_uri": "https://localhost:8080/"
        },
        "id": "mjmuOGRQgYl9",
        "outputId": "88b5baf5-54f6-4cdf-b6dc-18f6a9d4d794"
      },
      "outputs": [
        {
          "name": "stdout",
          "output_type": "stream",
          "text": [
            "Epoch 1/3\n",
            "379/379 [==============================] - 292s 742ms/step - loss: 0.5172 - accuracy: 0.8075 - val_loss: 0.3882 - val_accuracy: 0.8612\n",
            "Epoch 2/3\n",
            "379/379 [==============================] - 276s 728ms/step - loss: 0.3377 - accuracy: 0.8818 - val_loss: 0.3241 - val_accuracy: 0.8865\n",
            "Epoch 3/3\n",
            "379/379 [==============================] - 276s 729ms/step - loss: 0.2869 - accuracy: 0.8991 - val_loss: 0.2896 - val_accuracy: 0.8983\n"
          ]
        }
      ],
      "source": [
        "#model2\n",
        "history=model2.fit(gizi_data,\n",
        "                  epochs=epochz,\n",
        "                  steps_per_epoch=np.ceil(gizi_data.samples/batch_size),\n",
        "                  validation_data=val_generator,\n",
        "                  #callbacks=[checkpoint2,batch_stats_callback]\n",
        "                  )\n"
      ]
    },
    {
      "cell_type": "code",
      "execution_count": null,
      "metadata": {
        "colab": {
          "base_uri": "https://localhost:8080/"
        },
        "id": "4RgDzpbygwUb",
        "outputId": "dfd313f4-cc2c-47c8-b21a-64a9c1e0839e"
      },
      "outputs": [
        {
          "name": "stdout",
          "output_type": "stream",
          "text": [
            "Epoch 1/5\n",
            "265/265 [==============================] - ETA: 0s - loss: 0.1609 - accuracy: 0.9375\n",
            "Epoch 1: saving model to /content/drive/MyDrive/result6/model-01.h5\n",
            "265/265 [==============================] - 221s 833ms/step - loss: 0.1609 - accuracy: 0.9375 - val_loss: 0.3362 - val_accuracy: 0.8711\n",
            "Epoch 2/5\n",
            "265/265 [==============================] - ETA: 0s - loss: 0.2078 - accuracy: 0.9062\n",
            "Epoch 2: saving model to /content/drive/MyDrive/result6/model-02.h5\n",
            "265/265 [==============================] - 220s 832ms/step - loss: 0.2078 - accuracy: 0.9062 - val_loss: 0.3563 - val_accuracy: 0.8634\n",
            "Epoch 3/5\n",
            "265/265 [==============================] - ETA: 0s - loss: 0.1053 - accuracy: 1.0000\n",
            "Epoch 3: saving model to /content/drive/MyDrive/result6/model-03.h5\n",
            "265/265 [==============================] - 220s 829ms/step - loss: 0.1053 - accuracy: 1.0000 - val_loss: 0.3518 - val_accuracy: 0.8658\n",
            "Epoch 4/5\n",
            "265/265 [==============================] - ETA: 0s - loss: 0.1934 - accuracy: 0.9375\n",
            "Epoch 4: saving model to /content/drive/MyDrive/result6/model-04.h5\n",
            "265/265 [==============================] - 273s 1s/step - loss: 0.1934 - accuracy: 0.9375 - val_loss: 0.4085 - val_accuracy: 0.8474\n",
            "Epoch 5/5\n",
            "265/265 [==============================] - ETA: 0s - loss: 0.4958 - accuracy: 0.8750\n",
            "Epoch 5: saving model to /content/drive/MyDrive/result6/model-05.h5\n",
            "265/265 [==============================] - 269s 1s/step - loss: 0.4958 - accuracy: 0.8750 - val_loss: 0.3648 - val_accuracy: 0.8592\n"
          ]
        }
      ],
      "source": [
        "history=model2.fit(train_generator,\n",
        "                  epochs=epoch,\n",
        "                  steps_per_epoch=s_p_e,\n",
        "                  validation_data=val_generator,\n",
        "                  callbacks=[checkpoint2,batch_stats_callback]\n",
        "                  )"
      ]
    },
    {
      "cell_type": "code",
      "execution_count": null,
      "metadata": {
        "colab": {
          "base_uri": "https://localhost:8080/"
        },
        "id": "4_5TJHBGg6vF",
        "outputId": "8cb5e396-0864-4cb5-90df-605e6a088590"
      },
      "outputs": [
        {
          "name": "stderr",
          "output_type": "stream",
          "text": [
            "WARNING:absl:Found untraced functions such as restored_function_body, restored_function_body, restored_function_body, restored_function_body, restored_function_body while saving (showing 5 of 1594). These functions will not be directly callable after loading.\n"
          ]
        }
      ],
      "source": [
        "model2.save('/content/drive/MyDrive/result6/model2.h5/')"
      ]
    },
    {
      "cell_type": "markdown",
      "metadata": {
        "id": "7x6AzGR8fUEV"
      },
      "source": [
        "model3"
      ]
    },
    {
      "cell_type": "code",
      "execution_count": null,
      "metadata": {
        "colab": {
          "base_uri": "https://localhost:8080/"
        },
        "id": "sJO2EqHufTlX",
        "outputId": "697b18dd-2c69-4636-ba39-10f0c27e58af"
      },
      "outputs": [
        {
          "name": "stdout",
          "output_type": "stream",
          "text": [
            "Model: \"sequential_15\"\n",
            "_________________________________________________________________\n",
            " Layer (type)                Output Shape              Param #   \n",
            "=================================================================\n",
            " keras_layer_2 (KerasLayer)  (None, 1408)              7768562   \n",
            "                                                                 \n",
            " dense_7 (Dense)             (None, 4)                 5636      \n",
            "                                                                 \n",
            "=================================================================\n",
            "Total params: 7,774,198\n",
            "Trainable params: 5,636\n",
            "Non-trainable params: 7,768,562\n",
            "_________________________________________________________________\n"
          ]
        }
      ],
      "source": [
        "#使用するモデルの選択（特徴抽出器/分類器）_ efficientnetb2\n",
        "feature_extractor_url_b2=\"https://tfhub.dev/google/efficientnet/b2/feature-vector/1\"\n",
        "\n",
        "#入力画像サイズを決定する(モデルに適したサイズを設定)\n",
        "feature_extractor_layer_b2=hub.KerasLayer(feature_extractor_url_b2,input_shape=(512,512,3))\n",
        "\n",
        "#学習済み重みを固定する\n",
        "feature_extractor_layer_b2.trainable=False\n",
        "\n",
        "#上位の分類層を接合する\n",
        "ebc3=Sequential([feature_extractor_layer_b2,layers.Dense(train_generator.num_classes,activation='softmax')])\n",
        "\n",
        "#モデルの概要を確認する\n",
        "ebc3.summary()\n",
        "\n",
        "ebc3.compile(optimizer=tf.keras.optimizers.Adam(),\n",
        "              loss='categorical_crossentropy',\n",
        "              metrics=['accuracy'])"
      ]
    },
    {
      "cell_type": "code",
      "execution_count": null,
      "metadata": {
        "colab": {
          "base_uri": "https://localhost:8080/"
        },
        "id": "nfbM5hWkhlm2",
        "outputId": "a38967d0-2153-44f2-ceed-182ac2bf26e6"
      },
      "outputs": [
        {
          "name": "stdout",
          "output_type": "stream",
          "text": [
            "Epoch 1/3\n",
            "265/265 [==============================] - ETA: 0s - loss: 0.6645 - accuracy: 0.7588\n",
            "Epoch 1: saving model to /content/drive/MyDrive/result6/model-01.h5\n",
            "265/265 [==============================] - 152s 553ms/step - loss: 0.6645 - accuracy: 0.7588 - val_loss: 0.6259 - val_accuracy: 0.7675\n",
            "Epoch 2/3\n",
            "265/265 [==============================] - ETA: 0s - loss: 0.4219 - accuracy: 0.8631\n",
            "Epoch 2: saving model to /content/drive/MyDrive/result6/model-02.h5\n",
            "265/265 [==============================] - 116s 439ms/step - loss: 0.4219 - accuracy: 0.8631 - val_loss: 0.5657 - val_accuracy: 0.7769\n",
            "Epoch 3/3\n",
            "265/265 [==============================] - ETA: 0s - loss: 0.3580 - accuracy: 0.8842\n",
            "Epoch 3: saving model to /content/drive/MyDrive/result6/model-03.h5\n",
            "265/265 [==============================] - 104s 395ms/step - loss: 0.3580 - accuracy: 0.8842 - val_loss: 0.5517 - val_accuracy: 0.7840\n"
          ]
        },
        {
          "data": {
            "text/plain": [
              "<keras.callbacks.History at 0x7efa872c8dd0>"
            ]
          },
          "execution_count": 39,
          "metadata": {},
          "output_type": "execute_result"
        }
      ],
      "source": [
        "ebc3.fit(         train_generator,\n",
        "                  epochs=epochz,\n",
        "                  steps_per_epoch=s_p_e,\n",
        "                  validation_data=val_generator,\n",
        "                  callbacks=[checkpoint3,batch_stats_callback],\n",
        "                  )"
      ]
    },
    {
      "cell_type": "code",
      "execution_count": null,
      "metadata": {
        "colab": {
          "base_uri": "https://localhost:8080/"
        },
        "id": "WdVgOM_ahsUB",
        "outputId": "0c84d2f4-c41c-44d6-cf50-5c806631787e"
      },
      "outputs": [
        {
          "name": "stdout",
          "output_type": "stream",
          "text": [
            "Model: \"sequential_16\"\n",
            "_________________________________________________________________\n",
            " Layer (type)                Output Shape              Param #   \n",
            "=================================================================\n",
            " keras_layer (KerasLayer)    (None, 1280)              207615832 \n",
            "                                                                 \n",
            " dense_8 (Dense)             (None, 4)                 5124      \n",
            "                                                                 \n",
            "=================================================================\n",
            "Total params: 207,620,956\n",
            "Trainable params: 5,124\n",
            "Non-trainable params: 207,615,832\n",
            "_________________________________________________________________\n"
          ]
        }
      ],
      "source": [
        "#上位分類層を接合\n",
        "ebc3=Sequential([feature_extractor_layer,\n",
        "                           layers.Dense(train_generator.num_classes,activation='softmax')])\n",
        "\n",
        "ebc3.summary()\n",
        "\n",
        "ebc3.compile(optimizer=tf.keras.optimizers.Adam(),\n",
        "              loss='categorical_crossentropy',\n",
        "              metrics=['accuracy'])\n",
        "\n"
      ]
    },
    {
      "cell_type": "code",
      "execution_count": null,
      "metadata": {
        "colab": {
          "base_uri": "https://localhost:8080/"
        },
        "id": "vJYg16DwhyIa",
        "outputId": "5ebcaad3-1abd-4772-d6db-510a4b172751"
      },
      "outputs": [
        {
          "name": "stdout",
          "output_type": "stream",
          "text": [
            "Epoch 1/3\n",
            "265/265 [==============================] - 373s 1s/step - loss: 0.5849 - accuracy: 0.7856 - val_loss: 0.3929 - val_accuracy: 0.8641\n",
            "Epoch 2/3\n",
            "265/265 [==============================] - 360s 1s/step - loss: 0.3197 - accuracy: 0.8896 - val_loss: 0.3418 - val_accuracy: 0.8779\n",
            "Epoch 3/3\n",
            "265/265 [==============================] - 360s 1s/step - loss: 0.2666 - accuracy: 0.9087 - val_loss: 0.3055 - val_accuracy: 0.8932\n"
          ]
        }
      ],
      "source": [
        "#擬似ラベル作成\n",
        "history=ebc3.fit(train_generator,\n",
        "                  epochs=epochz,\n",
        "                  steps_per_epoch=s_p_e,\n",
        "                  validation_data=gizi_data,\n",
        "                  #callbacks=[checkpoint3,batch_stats_callback]\n",
        "                  )\n",
        "\n"
      ]
    },
    {
      "cell_type": "code",
      "execution_count": null,
      "metadata": {
        "colab": {
          "base_uri": "https://localhost:8080/"
        },
        "id": "aWjdreD5yilA",
        "outputId": "e35eff23-ce6b-4a16-85aa-de5eb3d549d6"
      },
      "outputs": [
        {
          "name": "stdout",
          "output_type": "stream",
          "text": [
            "379/379 [==============================] - 213s 553ms/step\n"
          ]
        }
      ],
      "source": [
        "gizi_label3=ebc3.predict(gizi_data)"
      ]
    },
    {
      "cell_type": "code",
      "execution_count": null,
      "metadata": {
        "id": "lhQAdyR_h6-1"
      },
      "outputs": [],
      "source": [
        "feature_extractor_layer.trainable=False\n",
        "#入力画像ノイズ(rand augmentation)の設定\n",
        "data_augmentation=Sequential([layers.RandomRotation(2.10)])\n",
        "#モデルノイズ（stochastic depth）の設定\n",
        "stochastic_Depth=Sequential([tfa.layers.StochasticDepth(0.35)])\n",
        "\n",
        "#モデルにrand augmentationを適用\n",
        "model3=Sequential([data_augmentation])\n",
        "#モデルにstochastic depthを適用\n",
        "model3=Sequential([stochastic_Depth])\n",
        "\n",
        "model3=Sequential([feature_extractor_layer,\n",
        "                           layers.Dense(train_generator.num_classes,activation='softmax'),\n",
        "                           #layers.Dropout(0.3)\n",
        "                  ])"
      ]
    },
    {
      "cell_type": "code",
      "execution_count": null,
      "metadata": {
        "colab": {
          "base_uri": "https://localhost:8080/"
        },
        "id": "svqA1k3ViCrj",
        "outputId": "ec0804a4-116a-4420-faf2-00cffe433bb0"
      },
      "outputs": [
        {
          "name": "stdout",
          "output_type": "stream",
          "text": [
            "Model: \"sequential_21\"\n",
            "_________________________________________________________________\n",
            " Layer (type)                Output Shape              Param #   \n",
            "=================================================================\n",
            " keras_layer (KerasLayer)    (None, 1280)              207615832 \n",
            "                                                                 \n",
            " dense_9 (Dense)             (None, 4)                 5124      \n",
            "                                                                 \n",
            "=================================================================\n",
            "Total params: 207,620,956\n",
            "Trainable params: 5,124\n",
            "Non-trainable params: 207,615,832\n",
            "_________________________________________________________________\n"
          ]
        }
      ],
      "source": [
        "#model3\n",
        "model3.compile(optimizer=tf.keras.optimizers.Adam(),\n",
        "              loss='categorical_crossentropy',\n",
        "              metrics=['accuracy'])\n",
        "model3.summary()"
      ]
    },
    {
      "cell_type": "code",
      "execution_count": null,
      "metadata": {
        "colab": {
          "base_uri": "https://localhost:8080/"
        },
        "id": "cZ17MngpiGJ8",
        "outputId": "697c9eae-a6c9-458c-fb34-5244621c2aec"
      },
      "outputs": [
        {
          "name": "stdout",
          "output_type": "stream",
          "text": [
            "Epoch 1/3\n",
            "379/379 [==============================] - 291s 746ms/step - loss: 0.5356 - accuracy: 0.7989 - val_loss: 0.3965 - val_accuracy: 0.8556\n",
            "Epoch 2/3\n",
            "379/379 [==============================] - 276s 728ms/step - loss: 0.3365 - accuracy: 0.8807 - val_loss: 0.3066 - val_accuracy: 0.8898\n",
            "Epoch 3/3\n",
            "379/379 [==============================] - 276s 728ms/step - loss: 0.2875 - accuracy: 0.8957 - val_loss: 0.3297 - val_accuracy: 0.8730\n"
          ]
        }
      ],
      "source": [
        "#model3\n",
        "history=model3.fit(gizi_data,\n",
        "                  epochs=epochz,\n",
        "                  steps_per_epoch=np.ceil(gizi_data.samples/batch_size),\n",
        "                  validation_data=val_generator,\n",
        "                  #callbacks=[checkpoint3,batch_stats_callback]\n",
        "                  )"
      ]
    },
    {
      "cell_type": "code",
      "execution_count": null,
      "metadata": {
        "colab": {
          "base_uri": "https://localhost:8080/"
        },
        "id": "pYv8f9esiMIO",
        "outputId": "07434cb9-e8d8-4bc5-ad56-76637e0c3de3"
      },
      "outputs": [
        {
          "name": "stdout",
          "output_type": "stream",
          "text": [
            "Epoch 1/5\n",
            "265/265 [==============================] - ETA: 0s - loss: 0.4178 - accuracy: 0.8750\n",
            "Epoch 1: saving model to /content/drive/MyDrive/result6/model-01.h5\n",
            "265/265 [==============================] - 221s 834ms/step - loss: 0.4178 - accuracy: 0.8750 - val_loss: 0.4037 - val_accuracy: 0.8438\n",
            "Epoch 2/5\n",
            "265/265 [==============================] - ETA: 0s - loss: 0.0705 - accuracy: 1.0000\n",
            "Epoch 2: saving model to /content/drive/MyDrive/result6/model-02.h5\n",
            "265/265 [==============================] - 221s 834ms/step - loss: 0.0705 - accuracy: 1.0000 - val_loss: 0.3827 - val_accuracy: 0.8545\n",
            "Epoch 3/5\n",
            "265/265 [==============================] - ETA: 0s - loss: 0.2014 - accuracy: 0.9062\n",
            "Epoch 3: saving model to /content/drive/MyDrive/result6/model-03.h5\n",
            "265/265 [==============================] - 221s 832ms/step - loss: 0.2014 - accuracy: 0.9062 - val_loss: 0.4284 - val_accuracy: 0.8383\n",
            "Epoch 4/5\n",
            "265/265 [==============================] - ETA: 0s - loss: 0.1113 - accuracy: 0.9688\n",
            "Epoch 4: saving model to /content/drive/MyDrive/result6/model-04.h5\n",
            "265/265 [==============================] - 275s 1s/step - loss: 0.1113 - accuracy: 0.9688 - val_loss: 0.3693 - val_accuracy: 0.8559\n",
            "Epoch 5/5\n",
            "265/265 [==============================] - ETA: 0s - loss: 0.3838 - accuracy: 0.8438\n",
            "Epoch 5: saving model to /content/drive/MyDrive/result6/model-05.h5\n",
            "265/265 [==============================] - 280s 1s/step - loss: 0.3838 - accuracy: 0.8438 - val_loss: 0.4055 - val_accuracy: 0.8457\n"
          ]
        }
      ],
      "source": [
        "history=model3.fit(train_generator,\n",
        "                  epochs=epoch,\n",
        "                  steps_per_epoch=s_p_e,\n",
        "                  validation_data=val_generator,\n",
        "                  callbacks=[checkpoint3,batch_stats_callback]\n",
        "                  )"
      ]
    },
    {
      "cell_type": "code",
      "execution_count": null,
      "metadata": {
        "colab": {
          "base_uri": "https://localhost:8080/"
        },
        "id": "CqfxUsKwiS8b",
        "outputId": "c8f2c927-5b75-41d6-af81-8d01c23686f2"
      },
      "outputs": [
        {
          "name": "stderr",
          "output_type": "stream",
          "text": [
            "WARNING:absl:Found untraced functions such as restored_function_body, restored_function_body, restored_function_body, restored_function_body, restored_function_body while saving (showing 5 of 1594). These functions will not be directly callable after loading.\n"
          ]
        }
      ],
      "source": [
        "#モデル保存\n",
        "model3.save('/content/drive/MyDrive/result6/model3.h5/')"
      ]
    },
    {
      "cell_type": "markdown",
      "metadata": {
        "id": "Pk1J5jG0i1IL"
      },
      "source": [
        "ensemble"
      ]
    },
    {
      "cell_type": "code",
      "execution_count": null,
      "metadata": {
        "id": "7MMM0drSihqF"
      },
      "outputs": [],
      "source": [
        "from tensorflow import keras"
      ]
    },
    {
      "cell_type": "code",
      "execution_count": null,
      "metadata": {
        "id": "KpQ8CyJSii5R"
      },
      "outputs": [],
      "source": [
        "model1 = keras.models.load_model('/content/drive/MyDrive/result6/model1.h5/')\n",
        "model2 = keras.models.load_model('/content/drive/MyDrive/result6/model2.h5/')\n",
        "model3 = keras.models.load_model('/content/drive/MyDrive/result6/model3.h5/')"
      ]
    },
    {
      "cell_type": "code",
      "execution_count": null,
      "metadata": {
        "id": "lLPQoyTbjI5D"
      },
      "outputs": [],
      "source": [
        "train_datagenerator = ImageDataGenerator(rescale = 1.0/255,\n",
        "                                        shear_range = 0.2,\n",
        "                                        zoom_range = 0.5,\n",
        "                                        horizontal_flip = True,\n",
        "                                        rotation_range=10,\n",
        "                                        width_shift_range=0.2,\n",
        "                                        brightness_range=[0.2,1.2]\n",
        "                                        )"
      ]
    },
    {
      "cell_type": "code",
      "execution_count": null,
      "metadata": {
        "colab": {
          "base_uri": "https://localhost:8080/"
        },
        "id": "ZSY6h6qXkNN9",
        "outputId": "b92ccc77-f942-4c63-cc8c-43c1f9874a1a"
      },
      "outputs": [
        {
          "name": "stdout",
          "output_type": "stream",
          "text": [
            "Found 12101 images belonging to 4 classes.\n"
          ]
        }
      ],
      "source": [
        "training_set = train_datagenerator.flow_from_directory('/content/drive/MyDrive/data/train/',\n",
        "                                                    target_size = (224,224),\n",
        "                                                    batch_size = 32,\n",
        "                                                    class_mode = 'categorical')"
      ]
    },
    {
      "cell_type": "code",
      "execution_count": null,
      "metadata": {
        "colab": {
          "base_uri": "https://localhost:8080/"
        },
        "id": "XNyJ0VdBi3gB",
        "outputId": "1c1f9fef-5909-4c3e-c30c-86a44b3c1e40"
      },
      "outputs": [
        {
          "name": "stdout",
          "output_type": "stream",
          "text": [
            "Found 4010 images belonging to 4 classes.\n"
          ]
        }
      ],
      "source": [
        "test_datagenerator = ImageDataGenerator(rescale = 1.0/255)\n",
        "valid_set = test_datagenerator.flow_from_directory('/content/drive/MyDrive/data/test',\n",
        "                                                  target_size = (512,512),\n",
        "                                                    batch_size = 32,\n",
        "                                                    class_mode = 'categorical')\n",
        "\n",
        "# valid_set\n",
        "x_test, y_test = valid_set.next() "
      ]
    },
    {
      "cell_type": "code",
      "execution_count": null,
      "metadata": {
        "colab": {
          "base_uri": "https://localhost:8080/"
        },
        "id": "vOdveMfOi9Ob",
        "outputId": "6bcc49d6-c352-49be-a996-91290e5beaf5"
      },
      "outputs": [
        {
          "name": "stdout",
          "output_type": "stream",
          "text": [
            "{'CNV_train': 0, 'DME_train': 1, 'DRUSEN_train': 2, 'NORMAL_train': 3}\n",
            "['CNV_train', 'DME_train', 'DRUSEN_train', 'NORMAL_train']\n"
          ]
        }
      ],
      "source": [
        "class_dict = training_set.class_indices\n",
        "print(class_dict)\n",
        "\n",
        "li = list(class_dict.keys())\n",
        "print(li)"
      ]
    },
    {
      "cell_type": "code",
      "execution_count": null,
      "metadata": {
        "id": "Hgcf4Pezi3_Q"
      },
      "outputs": [],
      "source": [
        "# predicting an image\n",
        "import matplotlib.pyplot as plt\n",
        "from keras.preprocessing import image\n",
        "import numpy as np\n",
        "\n",
        "class votingClassifer:\n",
        "    'votingClassifer class'\n",
        "\n",
        "\n",
        "    def __init__(self, estimators,mode=\"hard\",weight=None,show_info=\"percent\"):\n",
        "        \n",
        "        if mode not in [\"hard\",\"soft\"]:\n",
        "            raise Exception(\"the mode should be 'hard' or 'soft'\")\n",
        "            \n",
        "        self.estimators=estimators\n",
        "        self.mode=mode\n",
        "        self.weight=weight\n",
        "        self.show_info=show_info  \n",
        "            \n",
        "    def predict(self,x_test):        \n",
        "        if self.mode==\"hard\":\n",
        "            return self.votingClassifer_hard(self.estimators, x_test, show_info=self.show_info)\n",
        "        else:\n",
        "            return self.votingClassifer_soft(self.estimators, x_test, weight=self.weight, show_info=self.show_info)\n",
        "\n",
        "    def getNumberDiff(self, index_classes, n):  \n",
        "        \n",
        "        for x in index_classes:\n",
        "            if index_class_prefer != x:\n",
        "                return x    \n",
        "    \n",
        "    def getNumberElse(self, index_classes, n):\n",
        "\n",
        "        indices = [i for i, value in enumerate(index_classes) if value != n]\n",
        "        counts = np.bincount(indices)\n",
        "        ind=np.argmax(counts)\n",
        "        n1=(indices == ind).sum()\n",
        " \n",
        "                \n",
        "        return n1\n",
        "    \n",
        "    # hard voting\n",
        "    def votingClassifer_hard(self,estimators,x_test,show_info='percent'):\n",
        "        \n",
        "        if show_info not in [\"info\",\"percent\",\"nothing\"]:\n",
        "            raise Exception(\"the attribut 'show_info' should be 'info' or 'percent','nothing'\")            \n",
        "            \n",
        "        \n",
        "        cpt=0\n",
        "        index_classes_glob, class_names_glob, probs_glob=[],[],[]\n",
        "        N=len(x_test)\n",
        "        for x in x_test:\n",
        "            index_classes, class_names, probs=[],[],[]\n",
        "            for model in estimators:\n",
        "                img = np.expand_dims(x, axis=0)\n",
        "                # make a prediction\n",
        "                y_prob = model.predict(img)[0]\n",
        "                probabilty = y_prob.flatten()\n",
        "                max_prob = probabilty.max()\n",
        "                y_classes = y_prob.argmax(axis=-1)\n",
        "                index_class, class_name, prob = y_classes,li[y_classes],max_prob\n",
        "                index_classes.append(index_class)\n",
        "                class_names.append(class_name)\n",
        "                probs.append(prob)\n",
        "            index_classes, class_names, probs = np.array(index_classes), np.array(class_names), np.array(probs)    \n",
        "            counts = np.bincount(index_classes)\n",
        "            index_class_prefer=np.argmax(counts)\n",
        " \n",
        "            n1=(index_classes == index_class_prefer).sum()\n",
        "    \n",
        "            if n1 == 1:\n",
        "                print(\"\\n Each estimator predict a different class\")\n",
        "                prob = probs.max()\n",
        "                indice = [i for i, value in enumerate(probs) if value == prob][0]\n",
        "                class_name = class_names[indice]\n",
        "\n",
        "                \n",
        "            elif n1 == len(estimators)/2 and len(estimators)/2 == self.getNumberElse(index_classes, index_class_prefer):\n",
        "                \n",
        "                print(\"\\n the half-estimators predict a class and the other estimators predict a different class\")\n",
        "                \n",
        "                indices1 = [i for i, value in enumerate(index_classes) if value == index_class_prefer]\n",
        "                sum2=0\n",
        "                for ind in indices1:\n",
        "                    sum2+=probs[ind]\n",
        "                \n",
        "                prob1=sum2/len(indices1)\n",
        "                \n",
        "                n2=self.getNumberDiff(index_classes, index_class_prefer)      \n",
        "                \n",
        "                indices2 = [i for i, value in enumerate(index_classes) if value == n2]\n",
        "                sum2=0\n",
        "                for ind in indices2:\n",
        "                    sum2+=probs[ind]\n",
        "                \n",
        "                prob2=sum2/len(indices2)\n",
        "                \n",
        "                if prob1 < prob2:\n",
        "                    prob=prob2\n",
        "                    indice = [i for i, value in enumerate(index_classes) if value == n2][0]\n",
        "                    class_name = class_names[indice]\n",
        "                    \n",
        "                else:\n",
        "                    prob=prob1\n",
        "                    indice = [i for i, value in enumerate(index_classes) if value == index_class_prefer][0]\n",
        "                    class_name = class_names[indice]\n",
        "                \n",
        "            else:\n",
        "                \n",
        "                sum1=0\n",
        "                nbr=0\n",
        "                for i, index in zip(range(len(probs)),index_classes):\n",
        "                    if index_class_prefer== index:\n",
        "                        sum1+=probs[i]\n",
        "                        nbr+=1\n",
        "                        \n",
        "                prob=sum1/nbr\n",
        "                indice = index_class_prefer\n",
        "                class_name = li[index_class_prefer]\n",
        "\n",
        "            \n",
        "            if show_info==\"info\":\n",
        "                cpt+=1\n",
        "                print(\"\\rpercent: {:.2f}%, li[{}]:{} --> {}\".format(cpt*100/N,index_class_prefer, li[index_class_prefer], prob), end='')   \n",
        "            elif show_info==\"percent\":\n",
        "                cpt+=1\n",
        "                print(\"\\rpercent: {:.2f}%\".format(cpt*100/N), end='')\n",
        "          \n",
        "                \n",
        "            index_classes_glob.append(indice)\n",
        "            class_names_glob.append(class_name)\n",
        "            probs_glob.append(prob)\n",
        "\n",
        "        return np.array(index_classes_glob), np.array(class_names_glob), np.array(probs_glob) \n",
        "    \n",
        "   # soft voting \n",
        "    def votingClassifer_soft(self, estimators, x_test, weight=None, show_info=\"percent\"):\n",
        "        \n",
        "        if show_info not in [\"info\",\"percent\",\"nothing\"]:\n",
        "            raise Exception(\"the attribut 'show_info' should be 'info' or 'percent','nothing'\")  \n",
        "\n",
        "        if weight is None :\n",
        "            weight=np.ones(len(estimators))\n",
        "\n",
        "        if len(weight) != len(estimators):\n",
        "            raise Exception(\"number of models and wheight should be equals\")    \n",
        "\n",
        "        cpt=0 \n",
        "        # get number of classes \n",
        "        x = image.img_to_array(x_test[0])\n",
        "        x = np.expand_dims(x, axis=0)\n",
        "        y_prob = estimators[0].predict(x) \n",
        "        num_classes =  y_prob.shape[1]\n",
        "\n",
        "        Tab=np.zeros(num_classes)# num_classes\n",
        "        index_classes_glob, class_names_glob, probs_glob=[],[],[]\n",
        "        N=len(x_test)\n",
        "        for x in x_test:\n",
        "            index_classes, class_names, probs= [], [], []\n",
        "            for model in estimators:\n",
        "                img = np.expand_dims(x, axis=0)\n",
        "                # make a prediction\n",
        "                y_prob = model.predict(img)[0]\n",
        "                idxs = np.argsort(y_prob)\n",
        "                # loop over the indexes of the high confidence class labels\n",
        "                for (index, value) in enumerate(idxs):\n",
        "                    # build the label and draw the label on the image\n",
        "                    #label = \"{}) {}[{}]: {:.2f}%\".format(index,li[value],value, y_prob[value] * 100)\n",
        "                    #print(label)\n",
        "                    Tab[value]=y_prob[value]\n",
        "\n",
        "                probs.append(Tab)\n",
        "\n",
        "            probs=np.array(probs) # probs.shape: (3, 38)\n",
        "\n",
        "            proba=[]   \n",
        "\n",
        "            div=sum(weight)\n",
        "            for i in range(len(probs[0])):\n",
        "                s=0\n",
        "                for j in range(len(weight)):\n",
        "                    s+= probs[j][i] * weight[j] \n",
        "                s=s/div\n",
        "                proba.append(s)\n",
        "\n",
        "            proba=np.array(proba)\n",
        "            max_prob=max(proba)\n",
        "\n",
        "            indices=[i for i, value in enumerate(proba) if value == max_prob]\n",
        "\n",
        "            index_class, class_name, prob=indices[0],li[indices[0]],max_prob \n",
        "\n",
        "            index_classes_glob.append(index_class)\n",
        "            class_names_glob.append(class_name)\n",
        "            probs_glob.append(prob) \n",
        "\n",
        "            if show_info==\"info\":\n",
        "                cpt+=1\n",
        "                print(\"percent: {:.2f}%, li[{}]:{} --> {}%\".format(cpt*100/N,index_class, li[index_class], prob))   \n",
        "            elif show_info==\"percent\":\n",
        "                cpt+=1\n",
        "                print(\"\\rpercent: {:.2f}%\".format(cpt*100/N), end='')\n",
        "\n",
        "\n",
        "\n",
        "        return np.array(index_classes_glob), np.array(class_names_glob), np.array(probs_glob)  "
      ]
    },
    {
      "cell_type": "code",
      "execution_count": null,
      "metadata": {
        "colab": {
          "base_uri": "https://localhost:8080/"
        },
        "id": "2IV_7T9uikEy",
        "outputId": "4bf077ad-802b-487a-dbcf-06035c223c4c"
      },
      "outputs": [
        {
          "name": "stdout",
          "output_type": "stream",
          "text": [
            "model name\t estimator name\t is_regressor\t is_classifier\n",
            "model1\t   Sequential     \t False      \t False\n",
            "model2\t   Sequential     \t False      \t False\n",
            "model3\t   Sequential     \t False      \t False\n"
          ]
        }
      ],
      "source": [
        "from sklearn.base import is_classifier, is_regressor\n",
        "models_names=['model1','model2','model3']\n",
        "print(\"model name\\t estimator name\\t is_regressor\\t is_classifier\")    \n",
        "for estimator , model_name in zip([model1,model2,model3],models_names):\n",
        "        print(\"{}\\t   {}     \\t {}      \\t {}\".format(model_name,estimator.__class__.__name__,\n",
        "                                              is_regressor(estimator),\n",
        "                                              is_classifier(estimator)\n",
        "                                              ))"
      ]
    },
    {
      "cell_type": "code",
      "execution_count": null,
      "metadata": {
        "colab": {
          "base_uri": "https://localhost:8080/"
        },
        "id": "rPKZPUkIilbf",
        "outputId": "99eb9ade-7c2c-4a81-d6a4-b09f746e6ac5"
      },
      "outputs": [
        {
          "name": "stdout",
          "output_type": "stream",
          "text": [
            "1/1 [==============================] - 17s 17s/step\n",
            "model1 accuracy:  0.4375\n",
            "1/1 [==============================] - 6s 6s/step\n",
            "model2 accuracy:  0.4375\n",
            "1/1 [==============================] - 6s 6s/step\n",
            "model3 accuracy:  0.4375\n"
          ]
        }
      ],
      "source": [
        "from sklearn.metrics import accuracy_score\n",
        "from sklearn.metrics import precision_score\n",
        "from sklearn.metrics import recall_score\n",
        "from sklearn.metrics import classification_report\n",
        "import numpy as np\n",
        "models=[model1,model2,model3]\n",
        "model_names=[\"model1\",\"model2\",'model3']\n",
        "for model,model_name in zip(models,model_names):\n",
        "            \n",
        "    y_prob = model.predict(x_test)\n",
        "    y_pred1 = y_prob.argmax(axis=-1)\n",
        "    y_test1=np.argmax(y_test, axis=1)\n",
        "    # accuracy\n",
        "    print(model_name+\" accuracy: \",accuracy_score(y_test1,y_pred1))\n",
        "    del model , y_pred1, y_test1\n",
        "    #Precision\n",
        "    #print('Precision:', precision_score(y_test,y_pred1))\n",
        "    #Recall\n",
        "    #print('Recall:', recall_score(y_test1,y_pred1))\n",
        "    #F-measure\n",
        "    #print(\"Classification report\")\n",
        "    #print(classification_report(y_test1, y_pred1))"
      ]
    },
    {
      "cell_type": "code",
      "execution_count": null,
      "metadata": {
        "colab": {
          "base_uri": "https://localhost:8080/"
        },
        "id": "ziMNYWA8im4_",
        "outputId": "30b42dcb-8c8f-4585-80d6-2dfd1d8d2399"
      },
      "outputs": [
        {
          "name": "stdout",
          "output_type": "stream",
          "text": [
            "1/1 [==============================] - 5s 5s/step\n"
          ]
        },
        {
          "name": "stderr",
          "output_type": "stream",
          "text": [
            "WARNING:tensorflow:5 out of the last 5 calls to <function Model.make_predict_function.<locals>.predict_function at 0x7f7306446830> triggered tf.function retracing. Tracing is expensive and the excessive number of tracings could be due to (1) creating @tf.function repeatedly in a loop, (2) passing tensors with different shapes, (3) passing Python objects instead of tensors. For (1), please define your @tf.function outside of the loop. For (2), @tf.function has reduce_retracing=True option that can avoid unnecessary retracing. For (3), please refer to https://www.tensorflow.org/guide/function#controlling_retracing and https://www.tensorflow.org/api_docs/python/tf/function for  more details.\n"
          ]
        },
        {
          "name": "stdout",
          "output_type": "stream",
          "text": [
            "1/1 [==============================] - 4s 4s/step\n"
          ]
        },
        {
          "name": "stderr",
          "output_type": "stream",
          "text": [
            "WARNING:tensorflow:6 out of the last 6 calls to <function Model.make_predict_function.<locals>.predict_function at 0x7f7306557c20> triggered tf.function retracing. Tracing is expensive and the excessive number of tracings could be due to (1) creating @tf.function repeatedly in a loop, (2) passing tensors with different shapes, (3) passing Python objects instead of tensors. For (1), please define your @tf.function outside of the loop. For (2), @tf.function has reduce_retracing=True option that can avoid unnecessary retracing. For (3), please refer to https://www.tensorflow.org/guide/function#controlling_retracing and https://www.tensorflow.org/api_docs/python/tf/function for  more details.\n"
          ]
        },
        {
          "name": "stdout",
          "output_type": "stream",
          "text": [
            "1/1 [==============================] - 4s 4s/step\n",
            "1/1 [==============================] - 0s 91ms/step\n",
            "1/1 [==============================] - 0s 88ms/step\n",
            "1/1 [==============================] - 0s 92ms/step\n",
            "1/1 [==============================] - 0s 88ms/step\n",
            "1/1 [==============================] - 0s 94ms/step\n",
            "1/1 [==============================] - 0s 88ms/step\n",
            "1/1 [==============================] - 0s 90ms/step\n",
            "1/1 [==============================] - 0s 87ms/step\n",
            "1/1 [==============================] - 0s 96ms/step\n",
            "1/1 [==============================] - 0s 89ms/step\n",
            "1/1 [==============================] - 0s 91ms/step\n",
            "1/1 [==============================] - 0s 92ms/step\n",
            "1/1 [==============================] - 0s 93ms/step\n",
            "1/1 [==============================] - 0s 88ms/step\n",
            "1/1 [==============================] - 0s 90ms/step\n",
            "1/1 [==============================] - 0s 87ms/step\n",
            "1/1 [==============================] - 0s 88ms/step\n",
            "1/1 [==============================] - 0s 89ms/step\n",
            "1/1 [==============================] - 0s 88ms/step\n",
            "1/1 [==============================] - 0s 89ms/step\n",
            "1/1 [==============================] - 0s 91ms/step\n",
            "1/1 [==============================] - 0s 88ms/step\n",
            "1/1 [==============================] - 0s 88ms/step\n",
            "1/1 [==============================] - 0s 88ms/step\n",
            "1/1 [==============================] - 0s 88ms/step\n",
            "1/1 [==============================] - 0s 89ms/step\n",
            "1/1 [==============================] - 0s 87ms/step\n",
            "1/1 [==============================] - 0s 90ms/step\n",
            "1/1 [==============================] - 0s 89ms/step\n",
            "1/1 [==============================] - 0s 92ms/step\n",
            "1/1 [==============================] - 0s 89ms/step\n",
            "1/1 [==============================] - 0s 89ms/step\n",
            "1/1 [==============================] - 0s 89ms/step\n",
            "1/1 [==============================] - 0s 90ms/step\n",
            "1/1 [==============================] - 0s 89ms/step\n",
            "1/1 [==============================] - 0s 92ms/step\n",
            "1/1 [==============================] - 0s 89ms/step\n",
            "1/1 [==============================] - 0s 88ms/step\n",
            "1/1 [==============================] - 0s 88ms/step\n",
            "1/1 [==============================] - 0s 89ms/step\n",
            "1/1 [==============================] - 0s 92ms/step\n",
            "1/1 [==============================] - 0s 91ms/step\n",
            "1/1 [==============================] - 0s 90ms/step\n",
            "1/1 [==============================] - 0s 88ms/step\n",
            "1/1 [==============================] - 0s 92ms/step\n",
            "1/1 [==============================] - 0s 92ms/step\n",
            "1/1 [==============================] - 0s 97ms/step\n",
            "1/1 [==============================] - 0s 89ms/step\n",
            "1/1 [==============================] - 0s 87ms/step\n",
            "1/1 [==============================] - 0s 90ms/step\n",
            "1/1 [==============================] - 0s 89ms/step\n",
            "1/1 [==============================] - 0s 92ms/step\n",
            "1/1 [==============================] - 0s 90ms/step\n",
            "1/1 [==============================] - 0s 89ms/step\n",
            "1/1 [==============================] - 0s 92ms/step\n",
            "1/1 [==============================] - 0s 91ms/step\n",
            "1/1 [==============================] - 0s 90ms/step\n",
            "1/1 [==============================] - 0s 89ms/step\n",
            "1/1 [==============================] - 0s 89ms/step\n",
            "1/1 [==============================] - 0s 92ms/step\n",
            "1/1 [==============================] - 0s 88ms/step\n",
            "1/1 [==============================] - 0s 87ms/step\n",
            "1/1 [==============================] - 0s 90ms/step\n",
            "1/1 [==============================] - 0s 88ms/step\n",
            "1/1 [==============================] - 0s 89ms/step\n",
            "1/1 [==============================] - 0s 88ms/step\n",
            "1/1 [==============================] - 0s 89ms/step\n",
            "1/1 [==============================] - 0s 89ms/step\n",
            "1/1 [==============================] - 0s 90ms/step\n",
            "1/1 [==============================] - 0s 92ms/step\n",
            "1/1 [==============================] - 0s 90ms/step\n",
            "1/1 [==============================] - 0s 87ms/step\n",
            "1/1 [==============================] - 0s 90ms/step\n",
            "1/1 [==============================] - 0s 88ms/step\n",
            "1/1 [==============================] - 0s 89ms/step\n",
            "1/1 [==============================] - 0s 90ms/step\n",
            "1/1 [==============================] - 0s 85ms/step\n",
            "1/1 [==============================] - 0s 88ms/step\n",
            "1/1 [==============================] - 0s 88ms/step\n",
            "1/1 [==============================] - 0s 87ms/step\n",
            "1/1 [==============================] - 0s 88ms/step\n",
            "1/1 [==============================] - 0s 90ms/step\n",
            "1/1 [==============================] - 0s 89ms/step\n",
            "1/1 [==============================] - 0s 87ms/step\n",
            "1/1 [==============================] - 0s 88ms/step\n",
            "1/1 [==============================] - 0s 88ms/step\n",
            "1/1 [==============================] - 0s 88ms/step\n",
            "1/1 [==============================] - 0s 96ms/step\n",
            "1/1 [==============================] - 0s 89ms/step\n",
            "1/1 [==============================] - 0s 89ms/step\n",
            "1/1 [==============================] - 0s 88ms/step\n",
            "1/1 [==============================] - 0s 90ms/step\n",
            "1/1 [==============================] - 0s 90ms/step\n",
            "percent: 100.00%"
          ]
        }
      ],
      "source": [
        "# valid_set\n",
        "x_test, y_test = valid_set.next() \n",
        "\n",
        "#VotingClassifier(hard)\n",
        "estimators = [model1,model2,model3]\n",
        "vc=votingClassifer(estimators=estimators,mode=\"hard\",show_info=\"percent\")\n",
        "index_classes, class_names, probs=vc.predict(x_test)"
      ]
    },
    {
      "cell_type": "code",
      "execution_count": null,
      "metadata": {
        "colab": {
          "base_uri": "https://localhost:8080/"
        },
        "id": "iiNnA-rbioVL",
        "outputId": "cf9edea6-3cd0-405d-8aa5-1c1b4ff06344"
      },
      "outputs": [
        {
          "name": "stdout",
          "output_type": "stream",
          "text": [
            "votingClassifer(hard) accuracy :  0.5625\n"
          ]
        }
      ],
      "source": [
        "# inverse_to_categorical inverser format binary to format indexation\n",
        "# datagenerator use the methode to_categorical for labelsation to frmat binary \n",
        "# the method inverce of to_categorical is argmax\n",
        "import numpy as np\n",
        "y_test1=np.argmax(y_test, axis=1)\n",
        "y_pred1=index_classes\n",
        "\n",
        "# accuracy\n",
        "from sklearn.metrics import accuracy_score\n",
        "print(\"votingClassifer(hard) accuracy : \",accuracy_score(y_test1,y_pred1))"
      ]
    }
  ],
  "metadata": {
    "accelerator": "GPU",
    "colab": {
      "collapsed_sections": [],
      "provenance": []
    },
    "gpuClass": "standard",
    "kernelspec": {
      "display_name": "Python 3.9.6 64-bit",
      "language": "python",
      "name": "python3"
    },
    "language_info": {
      "name": "python",
      "version": "3.9.6"
    },
    "vscode": {
      "interpreter": {
        "hash": "31f2aee4e71d21fbe5cf8b01ff0e069b9275f58929596ceb00d14d90e3e16cd6"
      }
    }
  },
  "nbformat": 4,
  "nbformat_minor": 0
}
