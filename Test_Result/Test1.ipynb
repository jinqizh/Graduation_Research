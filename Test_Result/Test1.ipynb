{
  "cells": [
    {
      "cell_type": "code",
      "execution_count": null,
      "metadata": {
        "colab": {
          "base_uri": "https://localhost:8080/"
        },
        "id": "fSgJPIygoWoa",
        "outputId": "81f77b9b-61c1-43c4-97e0-38c7b31edafc"
      },
      "outputs": [
        {
          "output_type": "stream",
          "name": "stdout",
          "text": [
            "Mounted at /content/drive\n"
          ]
        }
      ],
      "source": [
        "#content google drive\n",
        "from google.colab import drive\n",
        "drive.mount('/content/drive', force_remount=True)"
      ]
    },
    {
      "cell_type": "code",
      "execution_count": null,
      "metadata": {
        "colab": {
          "base_uri": "https://localhost:8080/"
        },
        "id": "DIVXZQNXolHB",
        "outputId": "6c174efb-f079-46db-c9bb-f5fd9ad1ca6e"
      },
      "outputs": [
        {
          "output_type": "stream",
          "name": "stdout",
          "text": [
            "Looking in indexes: https://pypi.org/simple, https://us-python.pkg.dev/colab-wheels/public/simple/\n",
            "Collecting tensorflow-addons\n",
            "  Downloading tensorflow_addons-0.18.0-cp37-cp37m-manylinux_2_17_x86_64.manylinux2014_x86_64.whl (1.1 MB)\n",
            "\u001b[K     |████████████████████████████████| 1.1 MB 29.4 MB/s \n",
            "\u001b[?25hRequirement already satisfied: typeguard>=2.7 in /usr/local/lib/python3.7/dist-packages (from tensorflow-addons) (2.7.1)\n",
            "Requirement already satisfied: packaging in /usr/local/lib/python3.7/dist-packages (from tensorflow-addons) (21.3)\n",
            "Requirement already satisfied: pyparsing!=3.0.5,>=2.0.2 in /usr/local/lib/python3.7/dist-packages (from packaging->tensorflow-addons) (3.0.9)\n",
            "Installing collected packages: tensorflow-addons\n",
            "Successfully installed tensorflow-addons-0.18.0\n",
            "Colab only includes TensorFlow 2.x; %tensorflow_version has no effect.\n"
          ]
        }
      ],
      "source": [
        "import tensorflow as tf\n",
        "import os\n",
        "import cv2\n",
        "import numpy as np\n",
        "import matplotlib.pyplot as plt\n",
        "from tensorflow import keras\n",
        "from tensorflow.keras import layers\n",
        "from keras.models import Sequential\n",
        "from keras.layers import Dense,Dropout,Activation,Flatten\n",
        "from sklearn.utils import shuffle\n",
        "from tensorflow.keras.optimizers import SGD\n",
        "import tensorflow_hub as hub\n",
        "from tensorflow.keras.callbacks import ModelCheckpoint\n",
        "from tensorflow.keras.preprocessing.image import ImageDataGenerator\n",
        "!pip install tensorflow-addons\n",
        "import tensorflow_addons as tfa\n",
        "from tensorflow.keras.models import Model\n",
        "from sklearn.metrics import accuracy_score\n",
        "import glob\n",
        "#select tensorflow's version\n",
        "%tensorflow_version 2.x"
      ]
    },
    {
      "cell_type": "code",
      "execution_count": null,
      "metadata": {
        "id": "bvClfecYos9i"
      },
      "outputs": [],
      "source": [
        "#形状設定\n",
        "IMAGE_SHAPE=(224,224)\n",
        "\n",
        "#リアルタイムにデータ拡張しながら，テンソル画像データのバッチを生成する。(1/255 メモリ消費の削減)\n",
        "image_generator=ImageDataGenerator(\n",
        "    rescale=1./255,\n",
        "    )"
      ]
    },
    {
      "cell_type": "code",
      "execution_count": null,
      "metadata": {
        "colab": {
          "base_uri": "https://localhost:8080/"
        },
        "id": "K3ZIpVmaounj",
        "outputId": "d0b7e07b-b66d-477c-d9ab-c77d88f2362b"
      },
      "outputs": [
        {
          "output_type": "stream",
          "name": "stdout",
          "text": [
            "Found 12000 images belonging to 4 classes.\n",
            "Found 968 images belonging to 4 classes.\n",
            "Found 12000 images belonging to 4 classes.\n",
            "Found 4000 images belonging to 4 classes.\n"
          ]
        }
      ],
      "source": [
        "#各データセットのディレクトリを選択し、全画像をリサイズする。\n",
        "#ディレクトリへのバスを受け取り、拡張・正規化したデータバッチを生成する。\n",
        "train_data=image_generator.flow_from_directory('/content/drive/MyDrive/data/train',target_size=IMAGE_SHAPE)\n",
        "test_data=image_generator.flow_from_directory('/content/drive/MyDrive/data/test',target_size=IMAGE_SHAPE)\n",
        "gizi_data=image_generator.flow_from_directory('/content/drive/MyDrive/data/train',target_size=IMAGE_SHAPE)\n",
        "val_data=image_generator.flow_from_directory('/content/drive/MyDrive/data/val',target_size=IMAGE_SHAPE)"
      ]
    },
    {
      "cell_type": "code",
      "execution_count": null,
      "metadata": {
        "colab": {
          "base_uri": "https://localhost:8080/"
        },
        "id": "-OrDzGSDovq9",
        "outputId": "b93f6274-defc-43cd-fabe-16baf7772b1c"
      },
      "outputs": [
        {
          "output_type": "stream",
          "name": "stdout",
          "text": [
            "Image batch shape: (32, 224, 224, 3)\n",
            "Label batch shape: (32, 4)\n",
            "Image batch shape: (32, 224, 224, 3)\n",
            "Label batch shape: (32, 4)\n",
            "Image batch shape: (32, 224, 224, 3)\n",
            "Label batch shape: (32, 4)\n"
          ]
        }
      ],
      "source": [
        "#各データセットの画像バッチ形状と、ラベルのバッチ形状を表示する\n",
        "#擬似データはラベル付けない\n",
        "for image_train_batch,label_train_batch in train_data:\n",
        "  print(\"Image batch shape:\",image_train_batch.shape)\n",
        "  print(\"Label batch shape:\",label_train_batch.shape)\n",
        "  break\n",
        "\n",
        "for image_val_batch,label_val_batch in val_data:\n",
        "  print(\"Image batch shape:\",image_val_batch.shape)\n",
        "  print(\"Label batch shape:\",label_val_batch.shape)\n",
        "  break\n",
        "\n",
        "for image_test_batch,label_test_batch in test_data:\n",
        "  print(\"Image batch shape:\",image_test_batch.shape)\n",
        "  print(\"Label batch shape:\",label_test_batch.shape)\n",
        "  break"
      ]
    },
    {
      "cell_type": "code",
      "execution_count": null,
      "metadata": {
        "id": "UPgeTIw2pf6o"
      },
      "outputs": [],
      "source": [
        "#モデル設定\n",
        "MODEL_DIR='/content/drive/MyDrive/result'\n",
        "if not os.path.exists(MODEL_DIR):\n",
        "  os.makedirs(MODEL_DIR)\n",
        "\n",
        "checkpoint=tf.keras.callbacks.ModelCheckpoint(filepath=os.path.join(MODEL_DIR,\"model-{epoch:02d}.h5\"),\n",
        "                                              monitor='val_loss',\n",
        "                                              mode='min',\n",
        "                                              save_weights_only=True,\n",
        "                                              verbose=1\n",
        "                                              )\n",
        "#filepath:モデルファイルを保存する場所を選択\n",
        "#monitor:監視するメトリック名\n",
        "#mode:ファイルを上書きするかどうか\n",
        "#save_weights_only:モデルのウェイトのみを保存する\n",
        "#verbose:1、冗長モード                                             "
      ]
    },
    {
      "cell_type": "code",
      "source": [
        "checkpoint1=tf.keras.callbacks.ModelCheckpoint(filepath=os.path.join(MODEL_DIR,\"model01-{epoch:02d}.h5\"),\n",
        "                                              monitor='val_loss',\n",
        "                                              mode='min',\n",
        "                                              save_weights_only=True,\n",
        "                                              verbose=1\n",
        "                                              )"
      ],
      "metadata": {
        "id": "QXIeqEhTCj5A"
      },
      "execution_count": null,
      "outputs": []
    },
    {
      "cell_type": "code",
      "source": [
        "checkpoint2=tf.keras.callbacks.ModelCheckpoint(filepath=os.path.join(MODEL_DIR,\"model02-{epoch:02d}.h5\"),\n",
        "                                              monitor='val_loss',\n",
        "                                              mode='min',\n",
        "                                              save_weights_only=True,\n",
        "                                              verbose=1\n",
        "                                              )"
        
      ],
      "metadata": {
        "id": "0_Ww4iCvCkZC"
      },
      "execution_count": null,
      "outputs": []
    },
    {
      "cell_type": "code",
      "source": [
        "checkpoint3=tf.keras.callbacks.ModelCheckpoint(filepath=os.path.join(MODEL_DIR,\"model03-{epoch:02d}.h5\"),\n",
        "                                              monitor='val_loss',\n",
        "                                              mode='min',\n",
        "                                              save_weights_only=True,\n",
        "                                              verbose=1\n",
        "                                              )"
      ],
      "metadata": {
        "id": "22CqXB5kCkzV"
      },
      "execution_count": null,
      "outputs": []
    },
    {
      "cell_type": "code",
      "execution_count": null,
      "metadata": {
        "id": "bRdlrRenphMd"
      },
      "outputs": [],
      "source": [
        "#訓練プロセスの可視化\n",
        "#カスタムコールバックを作成して、すべてのエポックでのトレーニングの進行状況を視覚化します\n",
        "class CollectBatchStats(tf.keras.callbacks.Callback):\n",
        "  def __init__(self):\n",
        "    self.batch_losses=[]\n",
        "    self.batch_acc=[]\n",
        "    \n",
        "  def on_train_batch_end(self,batch,logs=1e-12):\n",
        "    self.batch_losses.append(logs['loss'])\n",
        "    self.batch_acc.append(logs['acc'])\n",
        "    self.model.reset_metrics()"
      ]
    },
    {
      "cell_type": "code",
      "execution_count": null,
      "metadata": {
        "colab": {
          "base_uri": "https://localhost:8080/"
        },
        "id": "1F0LHIN3ow_E",
        "outputId": "37fbd0ee-6d7d-4ff7-e54d-6defe5f902f1"
      },
      "outputs": [
        {
          "output_type": "stream",
          "name": "stdout",
          "text": [
            "Model: \"sequential\"\n",
            "_________________________________________________________________\n",
            " Layer (type)                Output Shape              Param #   \n",
            "=================================================================\n",
            " keras_layer (KerasLayer)    (None, 1280)              207615832 \n",
            "                                                                 \n",
            " dense (Dense)               (None, 4)                 5124      \n",
            "                                                                 \n",
            "=================================================================\n",
            "Total params: 207,620,956\n",
            "Trainable params: 5,124\n",
            "Non-trainable params: 207,615,832\n",
            "_________________________________________________________________\n"
          ]
        }
      ],
      "source": [
        "#使用するモデルの選択（特徴抽出器/分類器）_ efficientnetv2\n",
        "feature_extractor_url=\"https://tfhub.dev/google/imagenet/efficientnet_v2_imagenet21k_xl/feature_vector/2\"\n",
        "\n",
        "#入力画像サイズを決定する(モデルに適したサイズを設定)\n",
        "feature_extractor_layer=hub.KerasLayer(feature_extractor_url,input_shape=(512,512,3))\n",
        "\n",
        "#学習済み重みを固定する\n",
        "feature_extractor_layer.trainable=False\n",
        "\n",
        "#上位の分類層を接合する\n",
        "ebc1=Sequential([feature_extractor_layer,layers.Dense(train_data.num_classes,activation='softmax')])\n",
        "\n",
        "#モデルの概要を確認する\n",
        "ebc1.summary()\n",
        "\n",
        "ebc1.compile(optimizer=tf.keras.optimizers.Adam(),\n",
        "              loss='categorical_crossentropy',\n",
        "              metrics=['acc'])"
      ]
    },
    {
      "cell_type": "code",
      "execution_count": null,
      "metadata": {
        "colab": {
          "base_uri": "https://localhost:8080/"
        },
        "id": "hxJIuI4EoyHN",
        "outputId": "b129bba4-7354-4d06-a482-12c70da12d80"
      },
      "outputs": [
        {
          "output_type": "stream",
          "name": "stdout",
          "text": [
            "Model: \"sequential_1\"\n",
            "_________________________________________________________________\n",
            " Layer (type)                Output Shape              Param #   \n",
            "=================================================================\n",
            " keras_layer_1 (KerasLayer)  (None, 1280)              6575232   \n",
            "                                                                 \n",
            " dense_1 (Dense)             (None, 4)                 5124      \n",
            "                                                                 \n",
            "=================================================================\n",
            "Total params: 6,580,356\n",
            "Trainable params: 5,124\n",
            "Non-trainable params: 6,575,232\n",
            "_________________________________________________________________\n"
          ]
        }
      ],
      "source": [
        "#使用するモデルの選択（特徴抽出器/分類器）_ efficientnetb1\n",
        "feature_extractor_url_b1=\"https://tfhub.dev/google/efficientnet/b1/feature-vector/1\"\n",
        "\n",
        "#入力画像サイズを決定する(モデルに適したサイズを設定)\n",
        "feature_extractor_layer_b1=hub.KerasLayer(feature_extractor_url_b1,input_shape=(512,512,3))\n",
        "\n",
        "#学習済み重みを固定する\n",
        "feature_extractor_layer_b1.trainable=False\n",
        "\n",
        "#上位の分類層を接合する\n",
        "ebc2=Sequential([feature_extractor_layer_b1,layers.Dense(train_data.num_classes,activation='softmax')])\n",
        "\n",
        "#モデルの概要を確認する\n",
        "ebc2.summary()\n",
        "\n",
        "ebc2.compile(optimizer=tf.keras.optimizers.Adam(),\n",
        "              loss='categorical_crossentropy',\n",
        "              metrics=['acc'])"
      ]
    },
    {
      "cell_type": "code",
      "execution_count": null,
      "metadata": {
        "colab": {
          "base_uri": "https://localhost:8080/"
        },
        "id": "QzQ38ggvozNg",
        "outputId": "1f11b79e-9417-4214-d816-1e42bd0fac8a"
      },
      "outputs": [
        {
          "output_type": "stream",
          "name": "stdout",
          "text": [
            "Model: \"sequential_3\"\n",
            "_________________________________________________________________\n",
            " Layer (type)                Output Shape              Param #   \n",
            "=================================================================\n",
            " keras_layer_3 (KerasLayer)  (None, 1408)              7768562   \n",
            "                                                                 \n",
            " dense_3 (Dense)             (None, 4)                 5636      \n",
            "                                                                 \n",
            "=================================================================\n",
            "Total params: 7,774,198\n",
            "Trainable params: 5,636\n",
            "Non-trainable params: 7,768,562\n",
            "_________________________________________________________________\n"
          ]
        }
      ],
      "source": [
        "#使用するモデルの選択（特徴抽出器/分類器）_ efficientnetb2\n",
        "feature_extractor_url_b2=\"https://tfhub.dev/google/efficientnet/b2/feature-vector/1\"\n",
        "\n",
        "#入力画像サイズを決定する(モデルに適したサイズを設定)\n",
        "feature_extractor_layer_b2=hub.KerasLayer(feature_extractor_url_b2,input_shape=(512,512,3))\n",
        "\n",
        "#学習済み重みを固定する\n",
        "feature_extractor_layer_b2.trainable=False\n",
        "\n",
        "#上位の分類層を接合する\n",
        "ebc3=Sequential([feature_extractor_layer_b2,layers.Dense(train_data.num_classes,activation='softmax')])\n",
        "\n",
        "#モデルの概要を確認する\n",
        "ebc3.summary()\n",
        "\n",
        "ebc3.compile(optimizer=tf.keras.optimizers.Adam(),\n",
        "              loss='categorical_crossentropy',\n",
        "              metrics=['acc'])"
      ]
    },
    {
      "cell_type": "code",
      "execution_count": null,
      "metadata": {
        "id": "9L4VRdFJCZzU"
      },
      "outputs": [],
      "source": [
        "train_datagenerator = ImageDataGenerator(rescale = 1.0/255,\n",
        "                                        shear_range = 0.2,\n",
        "                                        zoom_range = 0.5,\n",
        "                                        horizontal_flip = True,\n",
        "                                        rotation_range=10,\n",
        "                                        width_shift_range=0.2,\n",
        "                                        brightness_range=[0.2,1.2]\n",
        "                                        )\n",
        "test_datagenerator = ImageDataGenerator(rescale = 1.0/255)"
      ]
    },
    {
      "cell_type": "code",
      "execution_count": null,
      "metadata": {
        "colab": {
          "base_uri": "https://localhost:8080/"
        },
        "id": "9vrYqW-DCeIo",
        "outputId": "e265cd5f-7075-4de8-a07a-20a2c063644b"
      },
      "outputs": [
        {
          "output_type": "stream",
          "name": "stdout",
          "text": [
            "Found 12000 images belonging to 4 classes.\n"
          ]
        }
      ],
      "source": [
        "training_set = train_datagenerator.flow_from_directory('/content/drive/MyDrive/data/train/',\n",
        "                                                    target_size = (224,224),\n",
        "                                                    batch_size = 32,\n",
        "                                                    class_mode = 'categorical')"
      ]
    },
    {
      "cell_type": "code",
      "execution_count": null,
      "metadata": {
        "colab": {
          "base_uri": "https://localhost:8080/"
        },
        "id": "qssxlQynCjEh",
        "outputId": "761eb8bc-3aad-4013-8b80-437a7baae42d"
      },
      "outputs": [
        {
          "output_type": "stream",
          "name": "stdout",
          "text": [
            "{'CNV_train': 0, 'DME_train': 1, 'DRUSEN_train': 2, 'NORMAL_train': 3}\n",
            "['CNV_train', 'DME_train', 'DRUSEN_train', 'NORMAL_train']\n"
          ]
        }
      ],
      "source": [
        "class_dict = training_set.class_indices\n",
        "print(class_dict)\n",
        "\n",
        "li = list(class_dict.keys())\n",
        "print(li)"
      ]
    },
    {
      "cell_type": "code",
      "execution_count": null,
      "metadata": {
        "id": "QnXO9sdiCrxD"
      },
      "outputs": [],
      "source": [
        "# predicting an image\n",
        "import matplotlib.pyplot as plt\n",
        "from keras.preprocessing import image\n",
        "import numpy as np\n",
        "\n",
        "class votingClassifer:\n",
        "    'votingClassifer class'\n",
        "\n",
        "\n",
        "    def __init__(self, estimators,mode=\"hard\",weight=None,show_info=\"percent\"):\n",
        "        \n",
        "        if mode not in [\"hard\",\"soft\"]:\n",
        "            raise Exception(\"the mode should be 'hard' or 'soft'\")\n",
        "            \n",
        "        self.estimators=estimators\n",
        "        self.mode=mode\n",
        "        self.weight=weight\n",
        "        self.show_info=show_info  \n",
        "            \n",
        "    def predict(self,x_test):        \n",
        "        if self.mode==\"hard\":\n",
        "            return self.votingClassifer_hard(self.estimators, x_test, show_info=self.show_info)\n",
        "        else:\n",
        "            return self.votingClassifer_soft(self.estimators, x_test, weight=self.weight, show_info=self.show_info)\n",
        "\n",
        "    def getNumberDiff(self, index_classes, n):  \n",
        "        \n",
        "        for x in index_classes:\n",
        "            if index_class_prefer != x:\n",
        "                return x    \n",
        "    \n",
        "    def getNumberElse(self, index_classes, n):\n",
        "\n",
        "        indices = [i for i, value in enumerate(index_classes) if value != n]\n",
        "        counts = np.bincount(indices)\n",
        "        ind=np.argmax(counts)\n",
        "        n1=(indices == ind).sum()\n",
        " \n",
        "                \n",
        "        return n1\n",
        "    \n",
        "    # hard voting\n",
        "    def votingClassifer_hard(self,estimators,x_test,show_info='percent'):\n",
        "        \n",
        "        if show_info not in [\"info\",\"percent\",\"nothing\"]:\n",
        "            raise Exception(\"the attribut 'show_info' should be 'info' or 'percent','nothing'\")            \n",
        "            \n",
        "        \n",
        "        cpt=0\n",
        "        index_classes_glob, class_names_glob, probs_glob=[],[],[]\n",
        "        N=len(x_test)\n",
        "        for x in x_test:\n",
        "            index_classes, class_names, probs=[],[],[]\n",
        "            for model in estimators:\n",
        "                img = np.expand_dims(x, axis=0)\n",
        "                # make a prediction\n",
        "                y_prob = model.predict(img)[0]\n",
        "                probabilty = y_prob.flatten()\n",
        "                max_prob = probabilty.max()\n",
        "                y_classes = y_prob.argmax(axis=-1)\n",
        "                index_class, class_name, prob = y_classes,li[y_classes],max_prob\n",
        "                index_classes.append(index_class)\n",
        "                class_names.append(class_name)\n",
        "                probs.append(prob)\n",
        "            index_classes, class_names, probs = np.array(index_classes), np.array(class_names), np.array(probs)    \n",
        "            counts = np.bincount(index_classes)\n",
        "            index_class_prefer=np.argmax(counts)\n",
        " \n",
        "            n1=(index_classes == index_class_prefer).sum()\n",
        "    \n",
        "            if n1 == 1:\n",
        "                print(\"\\n Each estimator predict a different class\")\n",
        "                prob = probs.max()\n",
        "                indice = [i for i, value in enumerate(probs) if value == prob][0]\n",
        "                class_name = class_names[indice]\n",
        "\n",
        "                \n",
        "            elif n1 == len(estimators)/2 and len(estimators)/2 == self.getNumberElse(index_classes, index_class_prefer):\n",
        "                \n",
        "                print(\"\\n the half-estimators predict a class and the other estimators predict a different class\")\n",
        "                \n",
        "                indices1 = [i for i, value in enumerate(index_classes) if value == index_class_prefer]\n",
        "                sum2=0\n",
        "                for ind in indices1:\n",
        "                    sum2+=probs[ind]\n",
        "                \n",
        "                prob1=sum2/len(indices1)\n",
        "                \n",
        "                n2=self.getNumberDiff(index_classes, index_class_prefer)      \n",
        "                \n",
        "                indices2 = [i for i, value in enumerate(index_classes) if value == n2]\n",
        "                sum2=0\n",
        "                for ind in indices2:\n",
        "                    sum2+=probs[ind]\n",
        "                \n",
        "                prob2=sum2/len(indices2)\n",
        "                \n",
        "                if prob1 < prob2:\n",
        "                    prob=prob2\n",
        "                    indice = [i for i, value in enumerate(index_classes) if value == n2][0]\n",
        "                    class_name = class_names[indice]\n",
        "                    \n",
        "                else:\n",
        "                    prob=prob1\n",
        "                    indice = [i for i, value in enumerate(index_classes) if value == index_class_prefer][0]\n",
        "                    class_name = class_names[indice]\n",
        "                \n",
        "            else:\n",
        "                \n",
        "                sum1=0\n",
        "                nbr=0\n",
        "                for i, index in zip(range(len(probs)),index_classes):\n",
        "                    if index_class_prefer== index:\n",
        "                        sum1+=probs[i]\n",
        "                        nbr+=1\n",
        "                        \n",
        "                prob=sum1/nbr\n",
        "                indice = index_class_prefer\n",
        "                class_name = li[index_class_prefer]\n",
        "\n",
        "            \n",
        "            if show_info==\"info\":\n",
        "                cpt+=1\n",
        "                print(\"\\rpercent: {:.2f}%, li[{}]:{} --> {}\".format(cpt*100/N,index_class_prefer, li[index_class_prefer], prob), end='')   \n",
        "            elif show_info==\"percent\":\n",
        "                cpt+=1\n",
        "                print(\"\\rpercent: {:.2f}%\".format(cpt*100/N), end='')\n",
        "          \n",
        "                \n",
        "            index_classes_glob.append(indice)\n",
        "            class_names_glob.append(class_name)\n",
        "            probs_glob.append(prob)\n",
        "\n",
        "        return np.array(index_classes_glob), np.array(class_names_glob), np.array(probs_glob) \n",
        "    \n",
        "   # soft voting \n",
        "    def votingClassifer_soft(self, estimators, x_test, weight=None, show_info=\"percent\"):\n",
        "        \n",
        "        if show_info not in [\"info\",\"percent\",\"nothing\"]:\n",
        "            raise Exception(\"the attribut 'show_info' should be 'info' or 'percent','nothing'\")  \n",
        "\n",
        "        if weight is None :\n",
        "            weight=np.ones(len(estimators))\n",
        "\n",
        "        if len(weight) != len(estimators):\n",
        "            raise Exception(\"number of models and wheight should be equals\")    \n",
        "\n",
        "        cpt=0 \n",
        "        # get number of classes \n",
        "        x = image.img_to_array(x_test[0])\n",
        "        x = np.expand_dims(x, axis=0)\n",
        "        y_prob = estimators[0].predict(x) \n",
        "        num_classes =  y_prob.shape[1]\n",
        "\n",
        "        Tab=np.zeros(num_classes)# num_classes\n",
        "        index_classes_glob, class_names_glob, probs_glob=[],[],[]\n",
        "        N=len(x_test)\n",
        "        for x in x_test:\n",
        "            index_classes, class_names, probs= [], [], []\n",
        "            for model in estimators:\n",
        "                img = np.expand_dims(x, axis=0)\n",
        "                # make a prediction\n",
        "                y_prob = model.predict(img)[0]\n",
        "                idxs = np.argsort(y_prob)\n",
        "                # loop over the indexes of the high confidence class labels\n",
        "                for (index, value) in enumerate(idxs):\n",
        "                    # build the label and draw the label on the image\n",
        "                    #label = \"{}) {}[{}]: {:.2f}%\".format(index,li[value],value, y_prob[value] * 100)\n",
        "                    #print(label)\n",
        "                    Tab[value]=y_prob[value]\n",
        "\n",
        "                probs.append(Tab)\n",
        "\n",
        "            probs=np.array(probs) # probs.shape: (3, 38)\n",
        "\n",
        "            proba=[]   \n",
        "\n",
        "            div=sum(weight)\n",
        "            for i in range(len(probs[0])):\n",
        "                s=0\n",
        "                for j in range(len(weight)):\n",
        "                    s+= probs[j][i] * weight[j] \n",
        "                s=s/div\n",
        "                proba.append(s)\n",
        "\n",
        "            proba=np.array(proba)\n",
        "            max_prob=max(proba)\n",
        "\n",
        "            indices=[i for i, value in enumerate(proba) if value == max_prob]\n",
        "\n",
        "            index_class, class_name, prob=indices[0],li[indices[0]],max_prob \n",
        "\n",
        "            index_classes_glob.append(index_class)\n",
        "            class_names_glob.append(class_name)\n",
        "            probs_glob.append(prob) \n",
        "\n",
        "            if show_info==\"info\":\n",
        "                cpt+=1\n",
        "                print(\"percent: {:.2f}%, li[{}]:{} --> {}%\".format(cpt*100/N,index_class, li[index_class], prob))   \n",
        "            elif show_info==\"percent\":\n",
        "                cpt+=1\n",
        "                print(\"\\rpercent: {:.2f}%\".format(cpt*100/N), end='')\n",
        "\n",
        "\n",
        "\n",
        "        return np.array(index_classes_glob), np.array(class_names_glob), np.array(probs_glob)  "
      ]
    },
    {
      "cell_type": "code",
      "execution_count": null,
      "metadata": {
        "colab": {
          "base_uri": "https://localhost:8080/"
        },
        "id": "XiBIK8DcCv5n",
        "outputId": "f75dda82-79bc-4aa8-a820-f4e428876e90"
      },
      "outputs": [
        {
          "output_type": "stream",
          "name": "stdout",
          "text": [
            "Found 968 images belonging to 4 classes.\n"
          ]
        }
      ],
      "source": [
        "valid_set = test_datagenerator.flow_from_directory('/content/drive/MyDrive/data/test',\n",
        "                                                  target_size = (512,512),\n",
        "                                                    batch_size = 32,\n",
        "                                                    class_mode = 'categorical')\n",
        "\n",
        "# valid_set\n",
        "x_test, y_test = valid_set.next() "
      ]
    },
    {
      "cell_type": "code",
      "execution_count": null,
      "metadata": {
        "id": "BdJfbdK8W35b"
      },
      "outputs": [],
      "source": [
        "batch_stats_callback=CollectBatchStats()\n",
        "batch_size=32\n",
        "epochz=5\n",
        "epoch=5\n",
        "#steps_per_epoch\n",
        "s_p_e=np.ceil(train_data.samples/batch_size)"
      ]
    },
    {
      "cell_type": "code",
      "execution_count": null,
      "metadata": {
        "id": "C3je8e7Tqyry"
      },
      "outputs": [],
      "source": []
    },
    {
      "cell_type": "markdown",
      "metadata": {
        "id": "NTrXHXfPqzJe"
      },
      "source": [
        "model1"
      ]
    },
    {
      "cell_type": "code",
      "execution_count": null,
      "metadata": {
        "colab": {
          "base_uri": "https://localhost:8080/"
        },
        "id": "oYMAPr_wpPn_",
        "outputId": "eb0983d4-175e-4960-a73f-2b27836d89f6"
      },
      "outputs": [
        {
          "output_type": "stream",
          "name": "stdout",
          "text": [
            "Epoch 1/5\n",
            "379/379 [==============================] - ETA: 0s - loss: 0.6528 - acc: 0.7689\n",
            "Epoch 1: saving model to /content/drive/MyDrive/result/model01-01.h5\n",
            "379/379 [==============================] - 3202s 8s/step - loss: 0.6528 - acc: 0.7689\n",
            "Epoch 2/5\n",
            "379/379 [==============================] - ETA: 0s - loss: 0.4167 - acc: 0.8616\n",
            "Epoch 2: saving model to /content/drive/MyDrive/result/model01-02.h5\n",
            "379/379 [==============================] - 59s 155ms/step - loss: 0.4167 - acc: 0.8616\n",
            "Epoch 3/5\n",
            "379/379 [==============================] - ETA: 0s - loss: 0.3579 - acc: 0.8787\n",
            "Epoch 3: saving model to /content/drive/MyDrive/result/model01-03.h5\n",
            "379/379 [==============================] - 58s 154ms/step - loss: 0.3579 - acc: 0.8787\n",
            "Epoch 4/5\n",
            "379/379 [==============================] - ETA: 0s - loss: 0.3271 - acc: 0.8918\n",
            "Epoch 4: saving model to /content/drive/MyDrive/result/model01-04.h5\n",
            "379/379 [==============================] - 58s 154ms/step - loss: 0.3271 - acc: 0.8918\n",
            "Epoch 5/5\n",
            "379/379 [==============================] - ETA: 0s - loss: 0.3044 - acc: 0.8988\n",
            "Epoch 5: saving model to /content/drive/MyDrive/result/model01-05.h5\n",
            "379/379 [==============================] - 58s 153ms/step - loss: 0.3044 - acc: 0.8988\n"
          ]
        },
        {
          "output_type": "execute_result",
          "data": {
            "text/plain": [
              "<keras.callbacks.History at 0x7f69b469ac90>"
            ]
          },
          "metadata": {},
          "execution_count": 22
        }
      ],
      "source": [
        "ebc1.fit(         train_data,\n",
        "                  epochs=epochz,\n",
        "                  steps_per_epoch=s_p_e,\n",
        "                  #validation_data=test_data,\n",
        "                  callbacks=[checkpoint1],\n",
        "                  )"
      ]
    },
    {
      "cell_type": "code",
      "execution_count": null,
      "metadata": {
        "colab": {
          "base_uri": "https://localhost:8080/"
        },
        "id": "xCg_kIo-Nkn3",
        "outputId": "1a0473b6-5026-46b1-f961-77b45df87f8c"
      },
      "outputs": [
        {
          "output_type": "stream",
          "name": "stdout",
          "text": [
            "Model: \"sequential_4\"\n",
            "_________________________________________________________________\n",
            " Layer (type)                Output Shape              Param #   \n",
            "=================================================================\n",
            " keras_layer (KerasLayer)    (None, 1280)              207615832 \n",
            "                                                                 \n",
            " dense_4 (Dense)             (None, 4)                 5124      \n",
            "                                                                 \n",
            "=================================================================\n",
            "Total params: 207,620,956\n",
            "Trainable params: 5,124\n",
            "Non-trainable params: 207,615,832\n",
            "_________________________________________________________________\n"
          ]
        }
      ],
      "source": [
        "#上位分類層を接合\n",
        "ebc1=Sequential([feature_extractor_layer,\n",
        "                           layers.Dense(train_data.num_classes,activation='softmax')])\n",
        "\n",
        "ebc1.summary()\n",
        "\n",
        "ebc1.compile(optimizer=tf.keras.optimizers.Adam(),\n",
        "              loss='categorical_crossentropy',\n",
        "              metrics=['acc'])\n",
        "\n"
      ]
    },
    {
      "cell_type": "code",
      "execution_count": null,
      "metadata": {
        "id": "WKL-CQd7sshd",
        "colab": {
          "base_uri": "https://localhost:8080/"
        },
        "outputId": "fd06123f-dc67-4219-c943-92175cbcfca8"
      },
      "outputs": [
        {
          "output_type": "stream",
          "name": "stdout",
          "text": [
            "Epoch 1/5\n",
            "379/379 [==============================] - ETA: 0s - loss: 0.2880 - acc: 0.9688\n",
            "Epoch 1: saving model to /content/drive/MyDrive/result/model01-01.h5\n",
            "379/379 [==============================] - 160s 338ms/step - loss: 0.2880 - acc: 0.9688 - val_loss: 0.3546 - val_acc: 0.8787\n",
            "Epoch 2/5\n",
            "379/379 [==============================] - ETA: 0s - loss: 0.1423 - acc: 1.0000\n",
            "Epoch 2: saving model to /content/drive/MyDrive/result/model01-02.h5\n",
            "379/379 [==============================] - 122s 321ms/step - loss: 0.1423 - acc: 1.0000 - val_loss: 0.2830 - val_acc: 0.8986\n",
            "Epoch 3/5\n",
            "379/379 [==============================] - ETA: 0s - loss: 0.4181 - acc: 0.8125\n",
            "Epoch 3: saving model to /content/drive/MyDrive/result/model01-03.h5\n",
            "379/379 [==============================] - 123s 324ms/step - loss: 0.4181 - acc: 0.8125 - val_loss: 0.2586 - val_acc: 0.9086\n",
            "Epoch 4/5\n",
            "379/379 [==============================] - ETA: 0s - loss: 0.1299 - acc: 0.9688\n",
            "Epoch 4: saving model to /content/drive/MyDrive/result/model01-04.h5\n",
            "379/379 [==============================] - 123s 325ms/step - loss: 0.1299 - acc: 0.9688 - val_loss: 0.2857 - val_acc: 0.8956\n",
            "Epoch 5/5\n",
            "379/379 [==============================] - ETA: 0s - loss: 0.2094 - acc: 0.9375\n",
            "Epoch 5: saving model to /content/drive/MyDrive/result/model01-05.h5\n",
            "379/379 [==============================] - 123s 325ms/step - loss: 0.2094 - acc: 0.9375 - val_loss: 0.2270 - val_acc: 0.9222\n"
          ]
        }
      ],
      "source": [
        "#擬似ラベル作成\n",
        "history=ebc1.fit(train_data,\n",
        "                  epochs=epochz,\n",
        "                  steps_per_epoch=s_p_e,\n",
        "                  validation_data=gizi_data,\n",
        "                  callbacks=[checkpoint1,batch_stats_callback]\n",
        "                  )"
      ]
    },
    {
      "cell_type": "code",
      "execution_count": null,
      "metadata": {
        "colab": {
          "base_uri": "https://localhost:8080/"
        },
        "id": "7Pj9bX04OEBi",
        "outputId": "80a5f387-d0ed-40b8-d4f4-495bf51dae63"
      },
      "outputs": [
        {
          "output_type": "stream",
          "name": "stdout",
          "text": [
            "379/379 [==============================] - 65s 156ms/step\n"
          ]
        }
      ],
      "source": [
        "#疑似ラベルの予測\n",
        "gizi_label1=ebc1.predict(gizi_data)"
      ]
    },
    {
      "cell_type": "code",
      "execution_count": null,
      "metadata": {
        "id": "kouowLzUOFP4"
      },
      "outputs": [],
      "source": [
        "feature_extractor_layer.trainable=False\n",
        "#入力画像ノイズ(rand augmentation)の設定\n",
        "data_augmentation=Sequential([layers.RandomRotation(2.10)])\n",
        "#モデルノイズ（stochastic depth）の設定\n",
        "stochastic_Depth=Sequential([tfa.layers.StochasticDepth(0.35)])\n",
        "\n",
        "#モデルにrand augmentationを適用\n",
        "model1=Sequential([data_augmentation])\n",
        "#モデルにstochastic depthを適用\n",
        "model1=Sequential([stochastic_Depth])\n",
        "\n",
        "#モデルノイズ（dropout）の設定と適用\n",
        "model1=Sequential([feature_extractor_layer,\n",
        "                           layers.Dense(train_data.num_classes,activation='softmax'),\n",
        "                           #layers.Dropout(0.2)\n",
        "                           \n",
        "                  ])"
      ]
    },
    {
      "cell_type": "code",
      "execution_count": null,
      "metadata": {
        "colab": {
          "base_uri": "https://localhost:8080/"
        },
        "id": "byBJbPE9OWq_",
        "outputId": "687cdf1a-3ae3-49ce-89d9-0e9c79d601dd"
      },
      "outputs": [
        {
          "output_type": "stream",
          "name": "stdout",
          "text": [
            "Model: \"sequential_9\"\n",
            "_________________________________________________________________\n",
            " Layer (type)                Output Shape              Param #   \n",
            "=================================================================\n",
            " keras_layer (KerasLayer)    (None, 1280)              207615832 \n",
            "                                                                 \n",
            " dense_5 (Dense)             (None, 4)                 5124      \n",
            "                                                                 \n",
            "=================================================================\n",
            "Total params: 207,620,956\n",
            "Trainable params: 5,124\n",
            "Non-trainable params: 207,615,832\n",
            "_________________________________________________________________\n"
          ]
        }
      ],
      "source": [
        "#model1\n",
        "model1.compile(optimizer=tf.keras.optimizers.Adam(),\n",
        "              loss='categorical_crossentropy',\n",
        "              metrics=['acc'])\n",
        "model1.summary()\n"
      ]
    },
    {
      "cell_type": "code",
      "execution_count": null,
      "metadata": {
        "colab": {
          "base_uri": "https://localhost:8080/"
        },
        "id": "ZIdU673iOaU2",
        "outputId": "94a0868d-06ac-494e-f099-596f0209fb6c"
      },
      "outputs": [
        {
          "output_type": "stream",
          "name": "stdout",
          "text": [
            "Epoch 1/5\n",
            "379/379 [==============================] - ETA: 0s - loss: 0.2900 - acc: 0.9375\n",
            "Epoch 1: saving model to /content/drive/MyDrive/result/model01-01.h5\n",
            "379/379 [==============================] - 340s 872ms/step - loss: 0.2900 - acc: 0.9375 - val_loss: 0.2919 - val_acc: 0.8915\n",
            "Epoch 2/5\n",
            "379/379 [==============================] - ETA: 0s - loss: 0.2490 - acc: 0.9375\n",
            "Epoch 2: saving model to /content/drive/MyDrive/result/model01-02.h5\n",
            "379/379 [==============================] - 74s 196ms/step - loss: 0.2490 - acc: 0.9375 - val_loss: 0.1520 - val_acc: 0.9638\n",
            "Epoch 3/5\n",
            "379/379 [==============================] - ETA: 0s - loss: 0.4060 - acc: 0.7812\n",
            "Epoch 3: saving model to /content/drive/MyDrive/result/model01-03.h5\n",
            "379/379 [==============================] - 74s 194ms/step - loss: 0.4060 - acc: 0.7812 - val_loss: 0.1476 - val_acc: 0.9566\n",
            "Epoch 4/5\n",
            "379/379 [==============================] - ETA: 0s - loss: 0.3091 - acc: 0.8438\n",
            "Epoch 4: saving model to /content/drive/MyDrive/result/model01-04.h5\n",
            "379/379 [==============================] - 75s 198ms/step - loss: 0.3091 - acc: 0.8438 - val_loss: 0.2068 - val_acc: 0.9174\n",
            "Epoch 5/5\n",
            "379/379 [==============================] - ETA: 0s - loss: 0.1481 - acc: 0.9375\n",
            "Epoch 5: saving model to /content/drive/MyDrive/result/model01-05.h5\n",
            "379/379 [==============================] - 74s 193ms/step - loss: 0.1481 - acc: 0.9375 - val_loss: 0.1223 - val_acc: 0.9638\n"
          ]
        }
      ],
      "source": [
        "#model1\n",
        "history=model1.fit(gizi_data,\n",
        "                  epochs=epochz,\n",
        "                  steps_per_epoch=np.ceil(gizi_data.samples/batch_size),\n",
        "                  validation_data=test_data,\n",
        "                  callbacks=[checkpoint1,batch_stats_callback]\n",
        "                  )"
      ]
    },
    {
      "cell_type": "code",
      "execution_count": null,
      "metadata": {
        "colab": {
          "base_uri": "https://localhost:8080/"
        },
        "id": "4WWrbzGdrZQR",
        "outputId": "75bc0412-3e2e-4a9d-f3dd-d5d9f0fe55cf"
      },
      "outputs": [
        {
          "output_type": "stream",
          "name": "stdout",
          "text": [
            "Epoch 1/5\n",
            "379/379 [==============================] - ETA: 0s - loss: 0.4050 - acc: 0.8125\n",
            "Epoch 1: saving model to /content/drive/MyDrive/result/model01-01.h5\n",
            "379/379 [==============================] - 73s 193ms/step - loss: 0.4050 - acc: 0.8125 - val_loss: 0.1378 - val_acc: 0.9514\n",
            "Epoch 2/5\n",
            "379/379 [==============================] - ETA: 0s - loss: 0.1209 - acc: 0.9688\n",
            "Epoch 2: saving model to /content/drive/MyDrive/result/model01-02.h5\n",
            "379/379 [==============================] - 75s 198ms/step - loss: 0.1209 - acc: 0.9688 - val_loss: 0.1106 - val_acc: 0.9700\n",
            "Epoch 3/5\n",
            "379/379 [==============================] - ETA: 0s - loss: 0.5866 - acc: 0.8125\n",
            "Epoch 3: saving model to /content/drive/MyDrive/result/model01-03.h5\n",
            "379/379 [==============================] - 73s 193ms/step - loss: 0.5866 - acc: 0.8125 - val_loss: 0.1241 - val_acc: 0.9597\n",
            "Epoch 4/5\n",
            "379/379 [==============================] - ETA: 0s - loss: 0.2217 - acc: 0.9062\n",
            "Epoch 4: saving model to /content/drive/MyDrive/result/model01-04.h5\n",
            "379/379 [==============================] - 73s 191ms/step - loss: 0.2217 - acc: 0.9062 - val_loss: 0.1383 - val_acc: 0.9566\n",
            "Epoch 5/5\n",
            "379/379 [==============================] - ETA: 0s - loss: 0.2157 - acc: 0.9062\n",
            "Epoch 5: saving model to /content/drive/MyDrive/result/model01-05.h5\n",
            "379/379 [==============================] - 73s 192ms/step - loss: 0.2157 - acc: 0.9062 - val_loss: 0.1361 - val_acc: 0.9545\n"
          ]
        }
      ],
      "source": [
        "history=model1.fit(train_data,\n",
        "                  epochs=epoch,\n",
        "                  steps_per_epoch=s_p_e,\n",
        "                  validation_data=test_data,\n",
        "                  callbacks=[checkpoint1,batch_stats_callback]\n",
        "                  )\n",
        "\n",
        "#y_prob = model1.predict(val_data)\n",
        "#y_pred1 = y_prob.argmax(axis=-1)\n",
        "#y_test1=np.argmax(y_test, axis=1)\n",
        "# accuracy\n",
        "#print(model1+\" accuracy: \",accuracy_score(y_test1,y_pred1))\n",
        "#del model1 , y_pred1, y_test1"
      ]
    },
    {
      "cell_type": "code",
      "execution_count": null,
      "metadata": {
        "id": "g8Vl7vR6IoIA"
      },
      "outputs": [],
      "source": [
        "#files = glob.glob(\"/content/drive/MyDrive/data1/val/val_CNV/*.jpeg\")\n",
        "\n",
        "\n",
        "#plt.figure(figsize=(20, 20))\n",
        "#for n in range(len(files)):\n",
        "#    plt.subplot( 2, len(files), n+1)\n",
        "#    plt.title(model1.predict(/content/drive/MyDrive/data1/val/val_CNV))\n",
        "#    image = cv2.imread(files[n])\n",
        "#    plt.imshow(image)"
      ]
    },
    {
      "cell_type": "code",
      "execution_count": null,
      "metadata": {
        "id": "IQPogx330RQS"
      },
      "outputs": [],
      "source": []
    },
    {
      "cell_type": "code",
      "execution_count": null,
      "metadata": {
        "id": "9mJsbqrfewjW"
      },
      "outputs": [],
      "source": [
        "#print(model1.predict(val_data))"
      ]
    },
    {
      "cell_type": "code",
      "execution_count": null,
      "metadata": {
        "id": "ckOn-cbrOkLK"
      },
      "outputs": [],
      "source": [
        "# HDF5フォーマットでモデルを保存するために必要\n",
        "!pip install -q pyyaml h5py  "
      ]
    },
    {
      "cell_type": "code",
      "execution_count": null,
      "metadata": {
        "id": "RekH5DbcOgl0",
        "colab": {
          "base_uri": "https://localhost:8080/"
        },
        "outputId": "50f622e8-9aac-471a-a06e-a697f211eab4"
      },
      "outputs": [
        {
          "output_type": "stream",
          "name": "stderr",
          "text": [
            "WARNING:absl:Found untraced functions such as restored_function_body, restored_function_body, restored_function_body, restored_function_body, restored_function_body while saving (showing 5 of 1594). These functions will not be directly callable after loading.\n"
          ]
        }
      ],
      "source": [
        "model1.save('/content/drive/MyDrive/result/model1.h5/')"
      ]
    },
    {
      "cell_type": "markdown",
      "metadata": {
        "id": "v9USPnLMOIY8"
      },
      "source": [
        "model2"
      ]
    },
    {
      "cell_type": "code",
      "execution_count": null,
      "metadata": {
        "id": "JjdlcbD3pSVa",
        "colab": {
          "base_uri": "https://localhost:8080/"
        },
        "outputId": "d01f5cc1-56bc-4367-9900-337936d59cf0"
      },
      "outputs": [
        {
          "output_type": "stream",
          "name": "stdout",
          "text": [
            "Epoch 1/5\n",
            "379/379 [==============================] - ETA: 0s - loss: 0.6567 - acc: 0.7646\n",
            "Epoch 1: saving model to /content/drive/MyDrive/result/model02-01.h5\n",
            "379/379 [==============================] - 65s 158ms/step - loss: 0.6567 - acc: 0.7646\n",
            "Epoch 2/5\n",
            "379/379 [==============================] - ETA: 0s - loss: 0.4194 - acc: 0.8581\n",
            "Epoch 2: saving model to /content/drive/MyDrive/result/model02-02.h5\n",
            "379/379 [==============================] - 60s 158ms/step - loss: 0.4194 - acc: 0.8581\n",
            "Epoch 3/5\n",
            "379/379 [==============================] - ETA: 0s - loss: 0.3603 - acc: 0.8784\n",
            "Epoch 3: saving model to /content/drive/MyDrive/result/model02-03.h5\n",
            "379/379 [==============================] - 59s 155ms/step - loss: 0.3603 - acc: 0.8784\n",
            "Epoch 4/5\n",
            "379/379 [==============================] - ETA: 0s - loss: 0.3269 - acc: 0.8888\n",
            "Epoch 4: saving model to /content/drive/MyDrive/result/model02-04.h5\n",
            "379/379 [==============================] - 59s 155ms/step - loss: 0.3269 - acc: 0.8888\n",
            "Epoch 5/5\n",
            "379/379 [==============================] - ETA: 0s - loss: 0.3069 - acc: 0.8961\n",
            "Epoch 5: saving model to /content/drive/MyDrive/result/model02-05.h5\n",
            "379/379 [==============================] - 59s 155ms/step - loss: 0.3069 - acc: 0.8961\n"
          ]
        },
        {
          "output_type": "execute_result",
          "data": {
            "text/plain": [
              "<keras.callbacks.History at 0x7f6830c0d610>"
            ]
          },
          "metadata": {},
          "execution_count": 34
        }
      ],
      "source": [
        "ebc2.fit(         train_data,\n",
        "                  epochs=epochz,\n",
        "                  steps_per_epoch=s_p_e,\n",
        "                  #validation_data=test_data,\n",
        "                  callbacks=[checkpoint2],\n",
        "                  )"
      ]
    },
    {
      "cell_type": "code",
      "execution_count": null,
      "metadata": {
        "id": "y1XNehJENlRQ",
        "colab": {
          "base_uri": "https://localhost:8080/"
        },
        "outputId": "82b494c1-e394-4735-aa78-e001d7c3e45b"
      },
      "outputs": [
        {
          "output_type": "stream",
          "name": "stdout",
          "text": [
            "Model: \"sequential_10\"\n",
            "_________________________________________________________________\n",
            " Layer (type)                Output Shape              Param #   \n",
            "=================================================================\n",
            " keras_layer (KerasLayer)    (None, 1280)              207615832 \n",
            "                                                                 \n",
            " dense_6 (Dense)             (None, 4)                 5124      \n",
            "                                                                 \n",
            "=================================================================\n",
            "Total params: 207,620,956\n",
            "Trainable params: 5,124\n",
            "Non-trainable params: 207,615,832\n",
            "_________________________________________________________________\n"
          ]
        }
      ],
      "source": [
        "#上位分類層を接合\n",
        "ebc2=Sequential([feature_extractor_layer,\n",
        "                           layers.Dense(train_data.num_classes,activation='softmax')])\n",
        "\n",
        "ebc2.summary()\n",
        "\n",
        "ebc2.compile(optimizer=tf.keras.optimizers.Adam(),\n",
        "              loss='categorical_crossentropy',\n",
        "              metrics=['acc'])"
      ]
    },
    {
      "cell_type": "code",
      "execution_count": null,
      "metadata": {
        "id": "4XMqb4oprnLb",
        "colab": {
          "base_uri": "https://localhost:8080/"
        },
        "outputId": "1629a05e-a599-487e-bec9-6f12828ef278"
      },
      "outputs": [
        {
          "output_type": "stream",
          "name": "stdout",
          "text": [
            "Epoch 1/5\n",
            "379/379 [==============================] - ETA: 0s - loss: 0.3313 - acc: 0.9062\n",
            "Epoch 1: saving model to /content/drive/MyDrive/result/model02-01.h5\n",
            "379/379 [==============================] - 139s 340ms/step - loss: 0.3313 - acc: 0.9062 - val_loss: 0.3747 - val_acc: 0.8629\n",
            "Epoch 2/5\n",
            "379/379 [==============================] - ETA: 0s - loss: 0.2877 - acc: 0.8750\n",
            "Epoch 2: saving model to /content/drive/MyDrive/result/model02-02.h5\n",
            "379/379 [==============================] - 123s 325ms/step - loss: 0.2877 - acc: 0.8750 - val_loss: 0.3271 - val_acc: 0.8841\n",
            "Epoch 3/5\n",
            "379/379 [==============================] - ETA: 0s - loss: 0.3429 - acc: 0.8750\n",
            "Epoch 3: saving model to /content/drive/MyDrive/result/model02-03.h5\n",
            "379/379 [==============================] - 123s 325ms/step - loss: 0.3429 - acc: 0.8750 - val_loss: 0.2694 - val_acc: 0.9044\n",
            "Epoch 4/5\n",
            "379/379 [==============================] - ETA: 0s - loss: 0.1270 - acc: 0.9375\n",
            "Epoch 4: saving model to /content/drive/MyDrive/result/model02-04.h5\n",
            "379/379 [==============================] - 124s 326ms/step - loss: 0.1270 - acc: 0.9375 - val_loss: 0.2265 - val_acc: 0.9212\n",
            "Epoch 5/5\n",
            "379/379 [==============================] - ETA: 0s - loss: 0.1858 - acc: 0.9688\n",
            "Epoch 5: saving model to /content/drive/MyDrive/result/model02-05.h5\n",
            "379/379 [==============================] - 123s 325ms/step - loss: 0.1858 - acc: 0.9688 - val_loss: 0.2501 - val_acc: 0.9094\n"
          ]
        }
      ],
      "source": [
        "#擬似ラベル作成\n",
        "history=ebc2.fit(train_data,\n",
        "                  epochs=epochz,\n",
        "                  steps_per_epoch=s_p_e,\n",
        "                  validation_data=gizi_data,\n",
        "                  callbacks=[checkpoint2,batch_stats_callback]\n",
        "                  )"
      ]
    },
    {
      "cell_type": "code",
      "execution_count": null,
      "metadata": {
        "id": "IVmd6T5-OhOz",
        "colab": {
          "base_uri": "https://localhost:8080/"
        },
        "outputId": "95860d75-f684-48cf-aabb-a1785ab7483d"
      },
      "outputs": [
        {
          "output_type": "stream",
          "name": "stdout",
          "text": [
            "379/379 [==============================] - 65s 156ms/step\n"
          ]
        }
      ],
      "source": [
        "gizi_label2=ebc2.predict(gizi_data)"
      ]
    },
    {
      "cell_type": "code",
      "execution_count": null,
      "metadata": {
        "id": "157xYYJjOmPW"
      },
      "outputs": [],
      "source": [
        "feature_extractor_layer.trainable=False\n",
        "#入力画像ノイズ(rand augmentation)の設定\n",
        "data_augmentation=Sequential([layers.RandomRotation(2.10)])\n",
        "#モデルノイズ（stochastic depth）の設定\n",
        "stochastic_Depth=Sequential([tfa.layers.StochasticDepth(0.35)])\n",
        "\n",
        "#モデルにrand augmentationを適用\n",
        "model2=Sequential([data_augmentation])\n",
        "#モデルにstochastic depthを適用\n",
        "model2=Sequential([stochastic_Depth])\n",
        "\n",
        "\n",
        "\n",
        "model2=Sequential([feature_extractor_layer,\n",
        "                           layers.Dense(train_data.num_classes,activation='softmax'),\n",
        "                           #layers.Dropout(0.2)\n",
        "                  ])\n",
        "\n"
      ]
    },
    {
      "cell_type": "code",
      "execution_count": null,
      "metadata": {
        "id": "ic2Mzg1JOpH_",
        "colab": {
          "base_uri": "https://localhost:8080/"
        },
        "outputId": "287c0aab-9d5a-4fb5-8f55-4ae61c232981"
      },
      "outputs": [
        {
          "output_type": "stream",
          "name": "stdout",
          "text": [
            "Model: \"sequential_15\"\n",
            "_________________________________________________________________\n",
            " Layer (type)                Output Shape              Param #   \n",
            "=================================================================\n",
            " keras_layer (KerasLayer)    (None, 1280)              207615832 \n",
            "                                                                 \n",
            " dense_7 (Dense)             (None, 4)                 5124      \n",
            "                                                                 \n",
            "=================================================================\n",
            "Total params: 207,620,956\n",
            "Trainable params: 5,124\n",
            "Non-trainable params: 207,615,832\n",
            "_________________________________________________________________\n"
          ]
        }
      ],
      "source": [
        "#model2\n",
        "model2.compile(optimizer=tf.keras.optimizers.Adam(),\n",
        "              loss='categorical_crossentropy',\n",
        "              metrics=['acc'])\n",
        "model2.summary()\n"
      ]
    },
    {
      "cell_type": "code",
      "execution_count": null,
      "metadata": {
        "id": "i8rZ1QSROqdZ",
        "colab": {
          "base_uri": "https://localhost:8080/"
        },
        "outputId": "a61750e0-fa86-4075-a180-12b87ba6c9fc"
      },
      "outputs": [
        {
          "output_type": "stream",
          "name": "stdout",
          "text": [
            "Epoch 1/5\n",
            "379/379 [==============================] - ETA: 0s - loss: 0.5029 - acc: 0.7812\n",
            "Epoch 1: saving model to /content/drive/MyDrive/result/model02-01.h5\n",
            "379/379 [==============================] - 92s 207ms/step - loss: 0.5029 - acc: 0.7812 - val_loss: 0.2233 - val_acc: 0.9349\n",
            "Epoch 2/5\n",
            "379/379 [==============================] - ETA: 0s - loss: 0.3397 - acc: 0.7500\n",
            "Epoch 2: saving model to /content/drive/MyDrive/result/model02-02.h5\n",
            "379/379 [==============================] - 75s 195ms/step - loss: 0.3397 - acc: 0.7500 - val_loss: 0.1937 - val_acc: 0.9360\n",
            "Epoch 3/5\n",
            "379/379 [==============================] - ETA: 0s - loss: 0.2921 - acc: 0.8750\n",
            "Epoch 3: saving model to /content/drive/MyDrive/result/model02-03.h5\n",
            "379/379 [==============================] - 76s 199ms/step - loss: 0.2921 - acc: 0.8750 - val_loss: 0.1685 - val_acc: 0.9442\n",
            "Epoch 4/5\n",
            "379/379 [==============================] - ETA: 0s - loss: 0.2369 - acc: 0.9062\n",
            "Epoch 4: saving model to /content/drive/MyDrive/result/model02-04.h5\n",
            "379/379 [==============================] - 73s 192ms/step - loss: 0.2369 - acc: 0.9062 - val_loss: 0.1275 - val_acc: 0.9597\n",
            "Epoch 5/5\n",
            "379/379 [==============================] - ETA: 0s - loss: 0.1763 - acc: 0.9375\n",
            "Epoch 5: saving model to /content/drive/MyDrive/result/model02-05.h5\n",
            "379/379 [==============================] - 74s 195ms/step - loss: 0.1763 - acc: 0.9375 - val_loss: 0.1184 - val_acc: 0.9680\n"
          ]
        }
      ],
      "source": [
        "#model2\n",
        "history=model2.fit(gizi_data,\n",
        "                  epochs=epochz,\n",
        "                  steps_per_epoch=np.ceil(gizi_data.samples/batch_size),\n",
        "                  validation_data=test_data,\n",
        "                  callbacks=[checkpoint2,batch_stats_callback]\n",
        "                  )\n"
      ]
    },
    {
      "cell_type": "code",
      "execution_count": null,
      "metadata": {
        "id": "oTaVja0nro8c",
        "colab": {
          "base_uri": "https://localhost:8080/"
        },
        "outputId": "bef5e3cb-db63-467f-cadf-c79131ddec48"
      },
      "outputs": [
        {
          "output_type": "stream",
          "name": "stdout",
          "text": [
            "Epoch 1/5\n",
            "379/379 [==============================] - ETA: 0s - loss: 0.1317 - acc: 0.9375\n",
            "Epoch 1: saving model to /content/drive/MyDrive/result/model02-01.h5\n",
            "379/379 [==============================] - 73s 192ms/step - loss: 0.1317 - acc: 0.9375 - val_loss: 0.1344 - val_acc: 0.9535\n",
            "Epoch 2/5\n",
            "379/379 [==============================] - ETA: 0s - loss: 0.0685 - acc: 1.0000\n",
            "Epoch 2: saving model to /content/drive/MyDrive/result/model02-02.h5\n",
            "379/379 [==============================] - 72s 191ms/step - loss: 0.0685 - acc: 1.0000 - val_loss: 0.1304 - val_acc: 0.9535\n",
            "Epoch 3/5\n",
            "379/379 [==============================] - ETA: 0s - loss: 0.0749 - acc: 1.0000\n",
            "Epoch 3: saving model to /content/drive/MyDrive/result/model02-03.h5\n",
            "379/379 [==============================] - 73s 194ms/step - loss: 0.0749 - acc: 1.0000 - val_loss: 0.1276 - val_acc: 0.9566\n",
            "Epoch 4/5\n",
            "379/379 [==============================] - ETA: 0s - loss: 0.2375 - acc: 0.9062\n",
            "Epoch 4: saving model to /content/drive/MyDrive/result/model02-04.h5\n",
            "379/379 [==============================] - 72s 189ms/step - loss: 0.2375 - acc: 0.9062 - val_loss: 0.1177 - val_acc: 0.9628\n",
            "Epoch 5/5\n",
            "379/379 [==============================] - ETA: 0s - loss: 0.1889 - acc: 0.9062\n",
            "Epoch 5: saving model to /content/drive/MyDrive/result/model02-05.h5\n",
            "379/379 [==============================] - 73s 192ms/step - loss: 0.1889 - acc: 0.9062 - val_loss: 0.1147 - val_acc: 0.9628\n"
          ]
        }
      ],
      "source": [
        "history=model2.fit(train_data,\n",
        "                  epochs=epoch,\n",
        "                  steps_per_epoch=s_p_e,\n",
        "                  validation_data=test_data,\n",
        "                  callbacks=[checkpoint2,batch_stats_callback]\n",
        "                  )"
      ]
    },
    {
      "cell_type": "code",
      "execution_count": null,
      "metadata": {
        "id": "XZN39gqXr_SZ"
      },
      "outputs": [],
      "source": [
        "#print(model2.predict(val_data))"
      ]
    },
    {
      "cell_type": "code",
      "execution_count": null,
      "metadata": {
        "id": "WkeRE4nBOdql",
        "colab": {
          "base_uri": "https://localhost:8080/"
        },
        "outputId": "d7250c03-32e2-4f2a-d6e2-4ffab153f6b0"
      },
      "outputs": [
        {
          "output_type": "stream",
          "name": "stderr",
          "text": [
            "WARNING:absl:Found untraced functions such as restored_function_body, restored_function_body, restored_function_body, restored_function_body, restored_function_body while saving (showing 5 of 1594). These functions will not be directly callable after loading.\n"
          ]
        }
      ],
      "source": [
        "model2.save('/content/drive/MyDrive/result/model2.h5/')"
      ]
    },
    {
      "cell_type": "markdown",
      "metadata": {
        "id": "PKvI-i08OQPz"
      },
      "source": [
        "model3"
      ]
    },
    {
      "cell_type": "code",
      "execution_count": null,
      "metadata": {
        "id": "5pHbUKKVpU4u",
        "colab": {
          "base_uri": "https://localhost:8080/"
        },
        "outputId": "ed2e8f0b-0630-415d-a4ff-4b0885068041"
      },
      "outputs": [
        {
          "output_type": "stream",
          "name": "stdout",
          "text": [
            "Epoch 1/5\n",
            "379/379 [==============================] - ETA: 0s - loss: 0.6262 - acc: 0.7700\n",
            "Epoch 1: saving model to /content/drive/MyDrive/result/model03-01.h5\n",
            "379/379 [==============================] - 64s 156ms/step - loss: 0.6262 - acc: 0.7700\n",
            "Epoch 2/5\n",
            "379/379 [==============================] - ETA: 0s - loss: 0.4178 - acc: 0.8564\n",
            "Epoch 2: saving model to /content/drive/MyDrive/result/model03-02.h5\n",
            "379/379 [==============================] - 59s 155ms/step - loss: 0.4178 - acc: 0.8564\n",
            "Epoch 3/5\n",
            "379/379 [==============================] - ETA: 0s - loss: 0.3658 - acc: 0.8731\n",
            "Epoch 3: saving model to /content/drive/MyDrive/result/model03-03.h5\n",
            "379/379 [==============================] - 59s 156ms/step - loss: 0.3658 - acc: 0.8731\n",
            "Epoch 4/5\n",
            "379/379 [==============================] - ETA: 0s - loss: 0.3339 - acc: 0.8856\n",
            "Epoch 4: saving model to /content/drive/MyDrive/result/model03-04.h5\n",
            "379/379 [==============================] - 59s 155ms/step - loss: 0.3339 - acc: 0.8856\n",
            "Epoch 5/5\n",
            "379/379 [==============================] - ETA: 0s - loss: 0.3121 - acc: 0.8919\n",
            "Epoch 5: saving model to /content/drive/MyDrive/result/model03-05.h5\n",
            "379/379 [==============================] - 59s 155ms/step - loss: 0.3121 - acc: 0.8919\n"
          ]
        },
        {
          "output_type": "execute_result",
          "data": {
            "text/plain": [
              "<keras.callbacks.History at 0x7f68be86f590>"
            ]
          },
          "metadata": {},
          "execution_count": 44
        }
      ],
      "source": [
        "ebc3.fit(         train_data,\n",
        "                  epochs=epochz,\n",
        "                  steps_per_epoch=s_p_e,\n",
        "                  #validation_data=test_data,\n",
        "                  callbacks=[checkpoint3],\n",
        "                  )"
      ]
    },
    {
      "cell_type": "code",
      "execution_count": null,
      "metadata": {
        "id": "FC0OJdAZNlzX",
        "colab": {
          "base_uri": "https://localhost:8080/"
        },
        "outputId": "4df70255-d276-4f2c-f991-c8221762b79f"
      },
      "outputs": [
        {
          "output_type": "stream",
          "name": "stdout",
          "text": [
            "Model: \"sequential_16\"\n",
            "_________________________________________________________________\n",
            " Layer (type)                Output Shape              Param #   \n",
            "=================================================================\n",
            " keras_layer (KerasLayer)    (None, 1280)              207615832 \n",
            "                                                                 \n",
            " dense_8 (Dense)             (None, 4)                 5124      \n",
            "                                                                 \n",
            "=================================================================\n",
            "Total params: 207,620,956\n",
            "Trainable params: 5,124\n",
            "Non-trainable params: 207,615,832\n",
            "_________________________________________________________________\n"
          ]
        }
      ],
      "source": [
        "#上位分類層を接合\n",
        "ebc3=Sequential([feature_extractor_layer,\n",
        "                           layers.Dense(train_data.num_classes,activation='softmax')])\n",
        "\n",
        "ebc3.summary()\n",
        "\n",
        "ebc3.compile(optimizer=tf.keras.optimizers.Adam(),\n",
        "              loss='categorical_crossentropy',\n",
        "              metrics=['acc'])\n",
        "\n"
      ]
    },
    {
      "cell_type": "code",
      "execution_count": null,
      "metadata": {
        "id": "EniSTvIJrrq6",
        "colab": {
          "base_uri": "https://localhost:8080/"
        },
        "outputId": "d7fe85a3-d687-4d13-fbb8-f5f43e2e1735"
      },
      "outputs": [
        {
          "output_type": "stream",
          "name": "stdout",
          "text": [
            "Epoch 1/5\n",
            "379/379 [==============================] - ETA: 0s - loss: 0.2546 - acc: 0.9375\n",
            "Epoch 1: saving model to /content/drive/MyDrive/result/model03-01.h5\n",
            "379/379 [==============================] - 138s 338ms/step - loss: 0.2546 - acc: 0.9375 - val_loss: 0.3962 - val_acc: 0.8618\n",
            "Epoch 2/5\n",
            "379/379 [==============================] - ETA: 0s - loss: 0.1696 - acc: 1.0000\n",
            "Epoch 2: saving model to /content/drive/MyDrive/result/model03-02.h5\n",
            "379/379 [==============================] - 122s 322ms/step - loss: 0.1696 - acc: 1.0000 - val_loss: 0.2838 - val_acc: 0.9017\n",
            "Epoch 3/5\n",
            "379/379 [==============================] - ETA: 0s - loss: 0.2705 - acc: 0.8750\n",
            "Epoch 3: saving model to /content/drive/MyDrive/result/model03-03.h5\n",
            "379/379 [==============================] - 123s 325ms/step - loss: 0.2705 - acc: 0.8750 - val_loss: 0.2737 - val_acc: 0.9059\n",
            "Epoch 4/5\n",
            "379/379 [==============================] - ETA: 0s - loss: 0.4655 - acc: 0.7812\n",
            "Epoch 4: saving model to /content/drive/MyDrive/result/model03-04.h5\n",
            "379/379 [==============================] - 123s 324ms/step - loss: 0.4655 - acc: 0.7812 - val_loss: 0.2293 - val_acc: 0.9206\n",
            "Epoch 5/5\n",
            "379/379 [==============================] - ETA: 0s - loss: 0.4915 - acc: 0.8438\n",
            "Epoch 5: saving model to /content/drive/MyDrive/result/model03-05.h5\n",
            "379/379 [==============================] - 124s 326ms/step - loss: 0.4915 - acc: 0.8438 - val_loss: 0.2834 - val_acc: 0.8948\n"
          ]
        }
      ],
      "source": [
        "#擬似ラベル作成\n",
        "history=ebc3.fit(train_data,\n",
        "                  epochs=epochz,\n",
        "                  steps_per_epoch=s_p_e,\n",
        "                  validation_data=gizi_data,\n",
        "                  callbacks=[checkpoint3,batch_stats_callback]\n",
        "                  )"
      ]
    },
    {
      "cell_type": "code",
      "execution_count": null,
      "metadata": {
        "id": "uUz4ogOIenWF",
        "colab": {
          "base_uri": "https://localhost:8080/"
        },
        "outputId": "4b6e3ce7-90ad-4e4d-eeb9-da9dd21eab33"
      },
      "outputs": [
        {
          "output_type": "stream",
          "name": "stdout",
          "text": [
            "379/379 [==============================] - 65s 158ms/step\n"
          ]
        }
      ],
      "source": [
        "gizi_label3=ebc3.predict(gizi_data)"
      ]
    },
    {
      "cell_type": "code",
      "execution_count": null,
      "metadata": {
        "id": "mJnPXaXOeuHY"
      },
      "outputs": [],
      "source": [
        "feature_extractor_layer.trainable=False\n",
        "#入力画像ノイズ(rand augmentation)の設定\n",
        "data_augmentation=Sequential([layers.RandomRotation(2.10)])\n",
        "#モデルノイズ（stochastic depth）の設定\n",
        "stochastic_Depth=Sequential([tfa.layers.StochasticDepth(0.35)])\n",
        "\n",
        "#モデルにrand augmentationを適用\n",
        "model3=Sequential([data_augmentation])\n",
        "#モデルにstochastic depthを適用\n",
        "model3=Sequential([stochastic_Depth])\n",
        "\n",
        "model3=Sequential([feature_extractor_layer,\n",
        "                           layers.Dense(train_data.num_classes,activation='softmax'),\n",
        "                           #layers.Dropout(0.2)\n",
        "                  ])"
      ]
    },
    {
      "cell_type": "code",
      "execution_count": null,
      "metadata": {
        "id": "R48YnIGEOusf",
        "colab": {
          "base_uri": "https://localhost:8080/"
        },
        "outputId": "07eb9051-d02d-40fc-aa00-fbf651522fe6"
      },
      "outputs": [
        {
          "output_type": "stream",
          "name": "stdout",
          "text": [
            "Model: \"sequential_21\"\n",
            "_________________________________________________________________\n",
            " Layer (type)                Output Shape              Param #   \n",
            "=================================================================\n",
            " keras_layer (KerasLayer)    (None, 1280)              207615832 \n",
            "                                                                 \n",
            " dense_9 (Dense)             (None, 4)                 5124      \n",
            "                                                                 \n",
            "=================================================================\n",
            "Total params: 207,620,956\n",
            "Trainable params: 5,124\n",
            "Non-trainable params: 207,615,832\n",
            "_________________________________________________________________\n"
          ]
        }
      ],
      "source": [
        "#model3\n",
        "model3.compile(optimizer=tf.keras.optimizers.Adam(),\n",
        "              loss='categorical_crossentropy',\n",
        "              metrics=['acc'])\n",
        "model3.summary()"
      ]
    },
    {
      "cell_type": "code",
      "execution_count": null,
      "metadata": {
        "id": "PM5XSKWlOu_g",
        "colab": {
          "base_uri": "https://localhost:8080/"
        },
        "outputId": "b238bd60-d402-4ac0-a8f3-6e2995d7fc0e"
      },
      "outputs": [
        {
          "output_type": "stream",
          "name": "stdout",
          "text": [
            "Epoch 1/5\n",
            "379/379 [==============================] - ETA: 0s - loss: 0.3114 - acc: 0.9062\n",
            "Epoch 1: saving model to /content/drive/MyDrive/result/model03-01.h5\n",
            "379/379 [==============================] - 92s 207ms/step - loss: 0.3114 - acc: 0.9062 - val_loss: 0.1759 - val_acc: 0.9514\n",
            "Epoch 2/5\n",
            "379/379 [==============================] - ETA: 0s - loss: 0.4112 - acc: 0.8125\n",
            "Epoch 2: saving model to /content/drive/MyDrive/result/model03-02.h5\n",
            "379/379 [==============================] - 73s 192ms/step - loss: 0.4112 - acc: 0.8125 - val_loss: 0.1905 - val_acc: 0.9318\n",
            "Epoch 3/5\n",
            "379/379 [==============================] - ETA: 0s - loss: 0.3126 - acc: 0.9375\n",
            "Epoch 3: saving model to /content/drive/MyDrive/result/model03-03.h5\n",
            "379/379 [==============================] - 73s 191ms/step - loss: 0.3126 - acc: 0.9375 - val_loss: 0.1672 - val_acc: 0.9525\n",
            "Epoch 4/5\n",
            "379/379 [==============================] - ETA: 0s - loss: 0.0973 - acc: 1.0000\n",
            "Epoch 4: saving model to /content/drive/MyDrive/result/model03-04.h5\n",
            "379/379 [==============================] - 74s 194ms/step - loss: 0.0973 - acc: 1.0000 - val_loss: 0.1308 - val_acc: 0.9607\n",
            "Epoch 5/5\n",
            "379/379 [==============================] - ETA: 0s - loss: 0.2426 - acc: 0.9062\n",
            "Epoch 5: saving model to /content/drive/MyDrive/result/model03-05.h5\n",
            "379/379 [==============================] - 73s 192ms/step - loss: 0.2426 - acc: 0.9062 - val_loss: 0.1186 - val_acc: 0.9576\n"
          ]
        }
      ],
      "source": [
        "#model3\n",
        "history=model3.fit(gizi_data,\n",
        "                  epochs=epochz,\n",
        "                  steps_per_epoch=np.ceil(gizi_data.samples/batch_size),\n",
        "                  validation_data=test_data,\n",
        "                  callbacks=[checkpoint3,batch_stats_callback]\n",
        "                  )"
      ]
    },
    {
      "cell_type": "code",
      "execution_count": null,
      "metadata": {
        "id": "b5AhkAtJruBc",
        "colab": {
          "base_uri": "https://localhost:8080/"
        },
        "outputId": "643a99c0-4bd6-433a-b0d1-9b76415563a0"
      },
      "outputs": [
        {
          "output_type": "stream",
          "name": "stdout",
          "text": [
            "Epoch 1/5\n",
            "379/379 [==============================] - ETA: 0s - loss: 0.2990 - acc: 0.8750\n",
            "Epoch 1: saving model to /content/drive/MyDrive/result/model03-01.h5\n",
            "379/379 [==============================] - 73s 192ms/step - loss: 0.2990 - acc: 0.8750 - val_loss: 0.1570 - val_acc: 0.9463\n",
            "Epoch 2/5\n",
            "379/379 [==============================] - ETA: 0s - loss: 0.2564 - acc: 0.9062\n",
            "Epoch 2: saving model to /content/drive/MyDrive/result/model03-02.h5\n",
            "379/379 [==============================] - 73s 193ms/step - loss: 0.2564 - acc: 0.9062 - val_loss: 0.1534 - val_acc: 0.9432\n",
            "Epoch 3/5\n",
            "379/379 [==============================] - ETA: 0s - loss: 0.2716 - acc: 0.8750\n",
            "Epoch 3: saving model to /content/drive/MyDrive/result/model03-03.h5\n",
            "379/379 [==============================] - 73s 193ms/step - loss: 0.2716 - acc: 0.8750 - val_loss: 0.1328 - val_acc: 0.9556\n",
            "Epoch 4/5\n",
            "379/379 [==============================] - ETA: 0s - loss: 0.4518 - acc: 0.7812\n",
            "Epoch 4: saving model to /content/drive/MyDrive/result/model03-04.h5\n",
            "379/379 [==============================] - 75s 194ms/step - loss: 0.4518 - acc: 0.7812 - val_loss: 0.1476 - val_acc: 0.9452\n",
            "Epoch 5/5\n",
            "379/379 [==============================] - ETA: 0s - loss: 0.1530 - acc: 0.8750\n",
            "Epoch 5: saving model to /content/drive/MyDrive/result/model03-05.h5\n",
            "379/379 [==============================] - 75s 197ms/step - loss: 0.1530 - acc: 0.8750 - val_loss: 0.1831 - val_acc: 0.9267\n"
          ]
        }
      ],
      "source": [
        "history=model3.fit(train_data,\n",
        "                  epochs=epoch,\n",
        "                  steps_per_epoch=s_p_e,\n",
        "                  validation_data=test_data,\n",
        "                  callbacks=[checkpoint3,batch_stats_callback]\n",
        "                  )"
      ]
    },
    {
      "cell_type": "code",
      "execution_count": null,
      "metadata": {
        "id": "Rd7U6V8lV1Uk"
      },
      "outputs": [],
      "source": [
        "#print(model3.predict(val_data))"
      ]
    },
    {
      "cell_type": "code",
      "execution_count": null,
      "metadata": {
        "id": "YFcL0kU1qHAP",
        "colab": {
          "base_uri": "https://localhost:8080/"
        },
        "outputId": "5904b168-368f-4bdb-96de-529ca166a83c"
      },
      "outputs": [
        {
          "output_type": "stream",
          "name": "stderr",
          "text": [
            "WARNING:absl:Found untraced functions such as restored_function_body, restored_function_body, restored_function_body, restored_function_body, restored_function_body while saving (showing 5 of 1594). These functions will not be directly callable after loading.\n"
          ]
        }
      ],
      "source": [
        "#モデル保存\n",
        "model3.save('/content/drive/MyDrive/result/model3.h5/')"
      ]
    },
    {
      "cell_type": "markdown",
      "metadata": {
        "id": "o8g1Y8pZF-Bf"
      },
      "source": [
        "Accuracy for each model"
      ]
    },
    {
      "cell_type": "code",
      "execution_count": null,
      "metadata": {
        "id": "z1jDy1hIOyZa"
      },
      "outputs": [],
      "source": [
        "from tensorflow import keras"
      ]
    },
    {
      "cell_type": "code",
      "execution_count": null,
      "metadata": {
        "id": "BEAwV4afO04J"
      },
      "outputs": [],
      "source": [
        "model1 = keras.models.load_model('/content/drive/MyDrive/result4/model1.h5/')\n",
        "model2 = keras.models.load_model('/content/drive/MyDrive/result4/model2.h5/')\n",
        "model3 = keras.models.load_model('/content/drive/MyDrive/result4/model3.h5/')"
      ]
    },
    {
      "cell_type": "code",
      "execution_count": null,
      "metadata": {
        "id": "0sDMxq6CPJ9m",
        "colab": {
          "base_uri": "https://localhost:8080/"
        },
        "outputId": "05af8e12-bf42-46e7-ee50-a6f5e7b31d0f"
      },
      "outputs": [
        {
          "output_type": "stream",
          "name": "stdout",
          "text": [
            "model name\t estimator name\t is_regressor\t is_classifier\n",
            "model1\t   Sequential     \t False      \t False\n",
            "model2\t   Sequential     \t False      \t False\n",
            "model3\t   Sequential     \t False      \t False\n"
          ]
        }
      ],
      "source": [
        "from sklearn.base import is_classifier, is_regressor\n",
        "models_names=['model1','model2','model3']\n",
        "print(\"model name\\t estimator name\\t is_regressor\\t is_classifier\")    \n",
        "for estimator , model_name in zip([model1,model2,model3],models_names):\n",
        "        print(\"{}\\t   {}     \\t {}      \\t {}\".format(model_name,estimator.__class__.__name__,\n",
        "                                              is_regressor(estimator),\n",
        "                                              is_classifier(estimator)\n",
        "                                              ))"
      ]
    },
    {
      "cell_type": "code",
      "source": [
        "from sklearn.metrics import accuracy_score\n",
        "from sklearn.metrics import precision_score\n",
        "from sklearn.metrics import recall_score\n",
        "from sklearn.metrics import classification_report\n",
        "import numpy as np\n",
        "models=[model1,model2,model3]\n",
        "model_names=[\"model1\",\"model2\",'model3']\n",
        "for model,model_name in zip(models,model_names):\n",
        "            \n",
        "    y_prob = model.predict(x_test)\n",
        "    y_pred1 = y_prob.argmax(axis=-1)\n",
        "    y_test1=np.argmax(y_test, axis=1)\n",
        "    # accuracy\n",
        "    print(model_name+\" accuracy: \",accuracy_score(y_test1,y_pred1))\n",
        "    del model , y_pred1, y_test1\n",
        "    #Precision\n",
        "    #print('Precision:', precision_score(y_test,y_pred1))\n",
        "    #Recall\n",
        "    #print('Recall:', recall_score(y_test1,y_pred1))\n",
        "    #F-measure\n",
        "    #print(\"Classification report\")\n",
        "    #print(classification_report(y_test1, y_pred1))"
      ],
      "metadata": {
        "colab": {
          "base_uri": "https://localhost:8080/"
        },
        "id": "Rkv7dtYRhtCl",
        "outputId": "c2e22039-39c8-44d6-9d2d-5ebc996d1783"
      },
      "execution_count": null,
      "outputs": [
        {
          "output_type": "stream",
          "name": "stdout",
          "text": [
            "1/1 [==============================] - 18s 18s/step\n",
            "model1 accuracy:  0.71875\n",
            "1/1 [==============================] - 6s 6s/step\n",
            "model2 accuracy:  0.71875\n",
            "1/1 [==============================] - 6s 6s/step\n",
            "model3 accuracy:  0.625\n"
          ]
        }
      ]
    },
    {
      "cell_type": "code",
      "execution_count": null,
      "metadata": {
        "id": "RNwvATGkF39x",
        "colab": {
          "base_uri": "https://localhost:8080/"
        },
        "outputId": "8a3ebd93-a02e-47e1-9574-005a28200720"
      },
      "outputs": [
        {
          "output_type": "stream",
          "name": "stdout",
          "text": [
            "1/1 [==============================] - 0s 145ms/step\n",
            "1/1 [==============================] - 0s 106ms/step\n",
            "1/1 [==============================] - 0s 93ms/step\n",
            "1/1 [==============================] - 0s 93ms/step\n",
            "1/1 [==============================] - 0s 97ms/step\n",
            "1/1 [==============================] - 0s 93ms/step\n",
            "1/1 [==============================] - 0s 94ms/step\n",
            "1/1 [==============================] - 0s 93ms/step\n",
            "1/1 [==============================] - 0s 94ms/step\n",
            "1/1 [==============================] - 0s 94ms/step\n",
            "1/1 [==============================] - 0s 92ms/step\n",
            "1/1 [==============================] - 0s 92ms/step\n",
            "1/1 [==============================] - 0s 95ms/step\n",
            "1/1 [==============================] - 0s 93ms/step\n",
            "1/1 [==============================] - 0s 92ms/step\n",
            "1/1 [==============================] - 0s 95ms/step\n",
            "1/1 [==============================] - 0s 90ms/step\n",
            "1/1 [==============================] - 0s 93ms/step\n",
            "1/1 [==============================] - 0s 94ms/step\n",
            "1/1 [==============================] - 0s 97ms/step\n",
            "1/1 [==============================] - 0s 94ms/step\n",
            "1/1 [==============================] - 0s 93ms/step\n",
            "1/1 [==============================] - 0s 93ms/step\n",
            "1/1 [==============================] - 0s 94ms/step\n",
            "1/1 [==============================] - 0s 91ms/step\n",
            "1/1 [==============================] - 0s 92ms/step\n",
            "1/1 [==============================] - 0s 94ms/step\n",
            "1/1 [==============================] - 0s 93ms/step\n",
            "1/1 [==============================] - 0s 91ms/step\n",
            "1/1 [==============================] - 0s 92ms/step\n",
            "1/1 [==============================] - 0s 92ms/step\n",
            "1/1 [==============================] - 0s 98ms/step\n",
            "1/1 [==============================] - 0s 103ms/step\n",
            "1/1 [==============================] - 0s 94ms/step\n",
            "1/1 [==============================] - 0s 96ms/step\n",
            "1/1 [==============================] - 0s 94ms/step\n",
            "1/1 [==============================] - 0s 94ms/step\n",
            "1/1 [==============================] - 0s 97ms/step\n",
            "1/1 [==============================] - 0s 96ms/step\n",
            "1/1 [==============================] - 0s 96ms/step\n",
            "1/1 [==============================] - 0s 97ms/step\n",
            "1/1 [==============================] - 0s 97ms/step\n",
            "1/1 [==============================] - 0s 92ms/step\n",
            "1/1 [==============================] - 0s 98ms/step\n",
            "1/1 [==============================] - 0s 91ms/step\n",
            "1/1 [==============================] - 0s 92ms/step\n",
            "1/1 [==============================] - 0s 98ms/step\n",
            "1/1 [==============================] - 0s 94ms/step\n",
            "1/1 [==============================] - 0s 92ms/step\n",
            "1/1 [==============================] - 0s 96ms/step\n",
            "1/1 [==============================] - 0s 94ms/step\n",
            "1/1 [==============================] - 0s 96ms/step\n",
            "1/1 [==============================] - 0s 93ms/step\n",
            "1/1 [==============================] - 0s 97ms/step\n",
            "1/1 [==============================] - 0s 96ms/step\n",
            "1/1 [==============================] - 0s 93ms/step\n",
            "1/1 [==============================] - 0s 94ms/step\n",
            "1/1 [==============================] - 0s 92ms/step\n",
            "1/1 [==============================] - 0s 92ms/step\n",
            "1/1 [==============================] - 0s 95ms/step\n",
            "1/1 [==============================] - 0s 97ms/step\n",
            "1/1 [==============================] - 0s 99ms/step\n",
            "1/1 [==============================] - 0s 94ms/step\n",
            "1/1 [==============================] - 0s 94ms/step\n",
            "1/1 [==============================] - 0s 96ms/step\n",
            "1/1 [==============================] - 0s 94ms/step\n",
            "1/1 [==============================] - 0s 96ms/step\n",
            "1/1 [==============================] - 0s 97ms/step\n",
            "1/1 [==============================] - 0s 97ms/step\n",
            "1/1 [==============================] - 0s 94ms/step\n",
            "1/1 [==============================] - 0s 98ms/step\n",
            "1/1 [==============================] - 0s 93ms/step\n",
            "1/1 [==============================] - 0s 94ms/step\n",
            "1/1 [==============================] - 0s 93ms/step\n",
            "1/1 [==============================] - 0s 94ms/step\n",
            "1/1 [==============================] - 0s 94ms/step\n",
            "1/1 [==============================] - 0s 96ms/step\n",
            "1/1 [==============================] - 0s 93ms/step\n",
            "1/1 [==============================] - 0s 94ms/step\n",
            "1/1 [==============================] - 0s 93ms/step\n",
            "1/1 [==============================] - 0s 94ms/step\n",
            "1/1 [==============================] - 0s 94ms/step\n",
            "1/1 [==============================] - 0s 94ms/step\n",
            "1/1 [==============================] - 0s 97ms/step\n",
            "1/1 [==============================] - 0s 91ms/step\n",
            "1/1 [==============================] - 0s 94ms/step\n",
            "1/1 [==============================] - 0s 93ms/step\n",
            "1/1 [==============================] - 0s 95ms/step\n",
            "1/1 [==============================] - 0s 96ms/step\n",
            "1/1 [==============================] - 0s 97ms/step\n",
            "1/1 [==============================] - 0s 92ms/step\n",
            "1/1 [==============================] - 0s 92ms/step\n",
            "1/1 [==============================] - 0s 92ms/step\n",
            "1/1 [==============================] - 0s 94ms/step\n",
            "1/1 [==============================] - 0s 102ms/step\n",
            "1/1 [==============================] - 0s 93ms/step\n",
            "percent: 100.00%"
          ]
        }
      ],
      "source": [
        "# valid_set\n",
        "x_test, y_test = valid_set.next() \n",
        "\n",
        "#VotingClassifier(hard)\n",
        "estimators = [model1,model2,model3]\n",
        "vc=votingClassifer(estimators=estimators,mode=\"hard\",show_info=\"percent\")\n",
        "index_classes, class_names, probs=vc.predict(x_test)"
      ]
    },
    {
      "cell_type": "markdown",
      "metadata": {
        "id": "1SQTEoB5GNaJ"
      },
      "source": [
        "accuracy"
      ]
    },
    {
      "cell_type": "code",
      "execution_count": null,
      "metadata": {
        "id": "o43-_QmgGLtR",
        "colab": {
          "base_uri": "https://localhost:8080/"
        },
        "outputId": "8eace3e0-e8a8-4495-a27b-6e5d8c91f43a"
      },
      "outputs": [
        {
          "output_type": "stream",
          "name": "stdout",
          "text": [
            "votingClassifer(hard) accuracy :  0.78125\n"
          ]
        }
      ],
      "source": [
        "# inverse_to_categorical inverser format binary to format indexation\n",
        "# datagenerator use the methode to_categorical for labelsation to frmat binary \n",
        "# the method inverce of to_categorical is argmax\n",
        "import numpy as np\n",
        "y_test1=np.argmax(y_test, axis=1)\n",
        "y_pred1=index_classes\n",
        "\n",
        "# accuracy\n",
        "from sklearn.metrics import accuracy_score\n",
        "print(\"votingClassifer(hard) accuracy : \",accuracy_score(y_test1,y_pred1))"
      ]
    }
  ],
  "metadata": {
    "colab": {
      "collapsed_sections": [],
      "provenance": []
    },
    "kernelspec": {
      "display_name": "Python 3",
      "name": "python3"
    },
    "language_info": {
      "name": "python"
    },
    "accelerator": "GPU",
    "gpuClass": "standard"
  },
  "nbformat": 4,
  "nbformat_minor": 0
}
