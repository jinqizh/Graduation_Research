{
  "cells": [
    {
      "cell_type": "code",
      "execution_count": null,
      "metadata": {},
      "outputs": [],
      "source": [
        "'''\n",
        "Train data 350 ,Test data 150 \n",
        "epochs 25\n",
        "Used EfficientNet series models\n",
        "'''"
      ]
    },
    {
      "cell_type": "code",
      "execution_count": 1,
      "metadata": {
        "colab": {
          "base_uri": "https://localhost:8080/"
        },
        "id": "fSgJPIygoWoa",
        "outputId": "4f51cd17-ac93-4158-f99c-ee802dcedecd"
      },
      "outputs": [
        {
          "name": "stdout",
          "output_type": "stream",
          "text": [
            "Mounted at /content/drive\n"
          ]
        }
      ],
      "source": [
        "#content google drive\n",
        "from google.colab import drive\n",
        "drive.mount('/content/drive', force_remount=True)"
      ]
    },
    {
      "cell_type": "code",
      "execution_count": 2,
      "metadata": {
        "colab": {
          "base_uri": "https://localhost:8080/"
        },
        "id": "DIVXZQNXolHB",
        "outputId": "3e1d7338-26a4-4a3f-c59d-54843a92611b"
      },
      "outputs": [
        {
          "name": "stdout",
          "output_type": "stream",
          "text": [
            "Looking in indexes: https://pypi.org/simple, https://us-python.pkg.dev/colab-wheels/public/simple/\n",
            "Collecting tensorflow-addons\n",
            "  Downloading tensorflow_addons-0.18.0-cp37-cp37m-manylinux_2_17_x86_64.manylinux2014_x86_64.whl (1.1 MB)\n",
            "\u001b[K     |████████████████████████████████| 1.1 MB 35.3 MB/s \n",
            "\u001b[?25hRequirement already satisfied: typeguard>=2.7 in /usr/local/lib/python3.7/dist-packages (from tensorflow-addons) (2.7.1)\n",
            "Requirement already satisfied: packaging in /usr/local/lib/python3.7/dist-packages (from tensorflow-addons) (21.3)\n",
            "Requirement already satisfied: pyparsing!=3.0.5,>=2.0.2 in /usr/local/lib/python3.7/dist-packages (from packaging->tensorflow-addons) (3.0.9)\n",
            "Installing collected packages: tensorflow-addons\n",
            "Successfully installed tensorflow-addons-0.18.0\n",
            "Colab only includes TensorFlow 2.x; %tensorflow_version has no effect.\n"
          ]
        }
      ],
      "source": [
        "import tensorflow as tf\n",
        "import os\n",
        "import cv2\n",
        "import numpy as np\n",
        "import matplotlib.pyplot as plt\n",
        "from tensorflow import keras\n",
        "from tensorflow.keras import layers\n",
        "from keras.models import Sequential\n",
        "from keras.layers import Dense,Dropout,Activation,Flatten\n",
        "from sklearn.utils import shuffle\n",
        "from tensorflow.keras.optimizers import SGD\n",
        "import tensorflow_hub as hub\n",
        "from tensorflow.keras.callbacks import ModelCheckpoint\n",
        "from tensorflow.keras.preprocessing.image import ImageDataGenerator\n",
        "!pip install tensorflow-addons\n",
        "import tensorflow_addons as tfa\n",
        "from tensorflow.keras.models import Model\n",
        "from sklearn.metrics import accuracy_score\n",
        "import glob\n",
        "#select tensorflow's version\n",
        "%tensorflow_version 2.x"
      ]
    },
    {
      "cell_type": "code",
      "execution_count": 3,
      "metadata": {
        "id": "bvClfecYos9i"
      },
      "outputs": [],
      "source": [
        "#形状設定\n",
        "IMAGE_SHAPE=(224,224)\n",
        "\n",
        "#リアルタイムにデータ拡張しながら，テンソル画像データのバッチを生成する。(1/255 メモリ消費の削減)\n",
        "image_generator=ImageDataGenerator(\n",
        "    rescale=1./255,\n",
        "    validation_split=0.3\n",
        "    )"
      ]
    },
    {
      "cell_type": "code",
      "execution_count": 4,
      "metadata": {
        "id": "Zce07hR94Ufr"
      },
      "outputs": [],
      "source": [
        "# HDF5フォーマットでモデルを保存するために必要\n",
        "!pip install -q pyyaml h5py  "
      ]
    },
    {
      "cell_type": "code",
      "execution_count": 5,
      "metadata": {
        "colab": {
          "base_uri": "https://localhost:8080/"
        },
        "id": "GIQVT06K4YCO",
        "outputId": "e87c9ca2-1717-4f4a-f595-5a231757d84c"
      },
      "outputs": [
        {
          "name": "stdout",
          "output_type": "stream",
          "text": [
            "Found 1400 images belonging to 4 classes.\n",
            "Found 600 images belonging to 4 classes.\n"
          ]
        }
      ],
      "source": [
        "#各データセットのディレクトリを選択し、全画像をリサイズする。\n",
        "#ディレクトリへのバスを受け取り、拡張・正規化したデータバッチを生成する。\n",
        "batch_size=32\n",
        "\n",
        "train_generator = image_generator.flow_from_directory(\n",
        "    '/content/drive/MyDrive/data1/train',\n",
        "    target_size=(224, 224),\n",
        "    #class_mode='binary',\n",
        "    batch_size=batch_size,\n",
        "    subset='training',\n",
        ")\n",
        "\n",
        "val_generator = image_generator.flow_from_directory(\n",
        "    '/content/drive/MyDrive/data1/train',\n",
        "    target_size=(224, 224),\n",
        "    #class_mode='binary',\n",
        "    batch_size=batch_size,\n",
        "    subset='validation'\n",
        ")"
      ]
    },
    {
      "cell_type": "code",
      "execution_count": 6,
      "metadata": {
        "colab": {
          "base_uri": "https://localhost:8080/"
        },
        "id": "K3ZIpVmaounj",
        "outputId": "420f12ed-6aa6-4687-b649-63b9368de23d"
      },
      "outputs": [
        {
          "name": "stdout",
          "output_type": "stream",
          "text": [
            "Found 100 images belonging to 4 classes.\n",
            "Found 2000 images belonging to 4 classes.\n",
            "Found 48 images belonging to 4 classes.\n"
          ]
        }
      ],
      "source": [
        "#各データセットのディレクトリを選択し、全画像をリサイズする。\n",
        "#ディレクトリへのバスを受け取り、拡張・正規化したデータバッチを生成する。\n",
        "#train_data=image_generator.flow_from_directory('/content/drive/MyDrive/data/train',target_size=IMAGE_SHAPE)\n",
        "test_data=image_generator.flow_from_directory('/content/drive/MyDrive/data1/test',target_size=IMAGE_SHAPE)\n",
        "gizi_data=image_generator.flow_from_directory('/content/drive/MyDrive/data1/train',target_size=IMAGE_SHAPE)\n",
        "val_data=image_generator.flow_from_directory('/content/drive/MyDrive/data1/val',target_size=IMAGE_SHAPE)"
      ]
    },
    {
      "cell_type": "code",
      "execution_count": 7,
      "metadata": {
        "colab": {
          "base_uri": "https://localhost:8080/"
        },
        "id": "-OrDzGSDovq9",
        "outputId": "4dcdec5a-87c9-4c15-c720-82d481d91d21"
      },
      "outputs": [
        {
          "name": "stdout",
          "output_type": "stream",
          "text": [
            "Image batch shape: (32, 224, 224, 3)\n",
            "Label batch shape: (32, 4)\n",
            "Image batch shape: (32, 224, 224, 3)\n",
            "Label batch shape: (32, 4)\n",
            "Image batch shape: (32, 224, 224, 3)\n",
            "Label batch shape: (32, 4)\n",
            "Image batch shape: (32, 224, 224, 3)\n",
            "Label batch shape: (32, 4)\n"
          ]
        }
      ],
      "source": [
        "#各データセットの画像バッチ形状と、ラベルのバッチ形状を表示する\n",
        "#擬似データはラベル付けない\n",
        "for image_train_batch,label_train_batch in train_generator:\n",
        "  print(\"Image batch shape:\",image_train_batch.shape)\n",
        "  print(\"Label batch shape:\",label_train_batch.shape)\n",
        "  break\n",
        "\n",
        "for image_train_batch,label_train_batch in train_generator:\n",
        "  print(\"Image batch shape:\",image_train_batch.shape)\n",
        "  print(\"Label batch shape:\",label_train_batch.shape)\n",
        "  break\n",
        "\n",
        "for image_val_batch,label_val_batch in val_data:\n",
        "  print(\"Image batch shape:\",image_val_batch.shape)\n",
        "  print(\"Label batch shape:\",label_val_batch.shape)\n",
        "  break\n",
        "\n",
        "for image_test_batch,label_test_batch in test_data:\n",
        "  print(\"Image batch shape:\",image_test_batch.shape)\n",
        "  print(\"Label batch shape:\",label_test_batch.shape)\n",
        "  break"
      ]
    },
    {
      "cell_type": "code",
      "execution_count": 8,
      "metadata": {
        "id": "UPgeTIw2pf6o"
      },
      "outputs": [],
      "source": [
        "#モデル設定\n",
        "MODEL_DIR='/content/drive/MyDrive/result11'\n",
        "if not os.path.exists(MODEL_DIR):\n",
        "  os.makedirs(MODEL_DIR)\n",
        "\n",
        "checkpoint=tf.keras.callbacks.ModelCheckpoint(filepath=os.path.join(MODEL_DIR,\"model-{epoch:02d}.h5\"),\n",
        "                                              monitor='val_loss',\n",
        "                                              mode='min',\n",
        "                                              save_weights_only=True,\n",
        "                                              verbose=1\n",
        "                                              )\n",
        "#filepath:モデルファイルを保存する場所を選択\n",
        "#monitor:監視するメトリック名\n",
        "#mode:ファイルを上書きするかどうか\n",
        "#save_weights_only:モデルのウェイトのみを保存する\n",
        "#verbose:1、冗長モード                                             "
      ]
    },
    {
      "cell_type": "code",
      "execution_count": 9,
      "metadata": {
        "id": "QXIeqEhTCj5A"
      },
      "outputs": [],
      "source": [
        "checkpoint1=tf.keras.callbacks.ModelCheckpoint(filepath=os.path.join(MODEL_DIR,\"model01-{epoch:02d}.h5\"),\n",
        "                                              monitor='val_loss',\n",
        "                                              mode='min',\n",
        "                                              save_weights_only=True,\n",
        "                                              verbose=1\n",
        "                                              )"
      ]
    },
    {
      "cell_type": "code",
      "execution_count": 10,
      "metadata": {
        "id": "0_Ww4iCvCkZC"
      },
      "outputs": [],
      "source": [
        "checkpoint2=tf.keras.callbacks.ModelCheckpoint(filepath=os.path.join(MODEL_DIR,\"model02-{epoch:02d}.h5\"),\n",
        "                                              monitor='val_loss',\n",
        "                                              mode='min',\n",
        "                                              save_weights_only=True,\n",
        "                                              verbose=1\n",
        "                                              )"
      ]
    },
    {
      "cell_type": "code",
      "execution_count": 11,
      "metadata": {
        "id": "22CqXB5kCkzV"
      },
      "outputs": [],
      "source": [
        "checkpoint3=tf.keras.callbacks.ModelCheckpoint(filepath=os.path.join(MODEL_DIR,\"model03-{epoch:02d}.h5\"),\n",
        "                                              monitor='val_loss',\n",
        "                                              mode='min',\n",
        "                                              save_weights_only=True,\n",
        "                                              verbose=1\n",
        "                                              )"
      ]
    },
    {
      "cell_type": "code",
      "execution_count": 12,
      "metadata": {
        "id": "bRdlrRenphMd"
      },
      "outputs": [],
      "source": [
        "#訓練プロセスの可視化\n",
        "#カスタムコールバックを作成して、すべてのエポックでのトレーニングの進行状況を視覚化します\n",
        "class CollectBatchStats(tf.keras.callbacks.Callback):\n",
        "  def __init__(self):\n",
        "    self.batch_losses=[]\n",
        "    self.batch_acc=[]\n",
        "    \n",
        "  def on_train_batch_end(self,batch,logs=1e-12):\n",
        "    self.batch_losses.append(logs['loss'])\n",
        "    self.batch_acc.append(logs['acc'])\n",
        "    self.model.reset_metrics()"
      ]
    },
    {
      "cell_type": "code",
      "execution_count": 13,
      "metadata": {
        "colab": {
          "base_uri": "https://localhost:8080/"
        },
        "id": "1F0LHIN3ow_E",
        "outputId": "466bcc63-2de9-4ba3-8d3b-428f14cc298f"
      },
      "outputs": [
        {
          "name": "stdout",
          "output_type": "stream",
          "text": [
            "Model: \"sequential\"\n",
            "_________________________________________________________________\n",
            " Layer (type)                Output Shape              Param #   \n",
            "=================================================================\n",
            " keras_layer (KerasLayer)    (None, 1280)              207615832 \n",
            "                                                                 \n",
            " dense (Dense)               (None, 4)                 5124      \n",
            "                                                                 \n",
            "=================================================================\n",
            "Total params: 207,620,956\n",
            "Trainable params: 5,124\n",
            "Non-trainable params: 207,615,832\n",
            "_________________________________________________________________\n"
          ]
        }
      ],
      "source": [
        "#使用するモデルの選択（特徴抽出器/分類器）_ efficientnetv2\n",
        "feature_extractor_url=\"https://tfhub.dev/google/imagenet/efficientnet_v2_imagenet21k_xl/feature_vector/2\"\n",
        "\n",
        "#入力画像サイズを決定する(モデルに適したサイズを設定)\n",
        "feature_extractor_layer=hub.KerasLayer(feature_extractor_url,input_shape=(512,512,3))\n",
        "\n",
        "#学習済み重みを固定する\n",
        "feature_extractor_layer.trainable=False\n",
        "\n",
        "#上位の分類層を接合する\n",
        "ebc1=Sequential([feature_extractor_layer,layers.Dense(train_generator.num_classes,activation='softmax')])\n",
        "\n",
        "#モデルの概要を確認する\n",
        "ebc1.summary()\n",
        "\n",
        "ebc1.compile(optimizer=tf.keras.optimizers.Adam(),\n",
        "              loss='categorical_crossentropy',\n",
        "              metrics=['acc'])"
      ]
    },
    {
      "cell_type": "code",
      "execution_count": 14,
      "metadata": {
        "colab": {
          "base_uri": "https://localhost:8080/"
        },
        "id": "hxJIuI4EoyHN",
        "outputId": "b8da033a-2126-4cec-f770-83c01f6203a1"
      },
      "outputs": [
        {
          "name": "stdout",
          "output_type": "stream",
          "text": [
            "Model: \"sequential_1\"\n",
            "_________________________________________________________________\n",
            " Layer (type)                Output Shape              Param #   \n",
            "=================================================================\n",
            " keras_layer_1 (KerasLayer)  (None, 1280)              6575232   \n",
            "                                                                 \n",
            " dense_1 (Dense)             (None, 4)                 5124      \n",
            "                                                                 \n",
            "=================================================================\n",
            "Total params: 6,580,356\n",
            "Trainable params: 5,124\n",
            "Non-trainable params: 6,575,232\n",
            "_________________________________________________________________\n"
          ]
        }
      ],
      "source": [
        "#使用するモデルの選択（特徴抽出器/分類器）_ efficientnetb1\n",
        "feature_extractor_url_b1=\"https://tfhub.dev/google/efficientnet/b1/feature-vector/1\"\n",
        "\n",
        "#入力画像サイズを決定する(モデルに適したサイズを設定)\n",
        "feature_extractor_layer_b1=hub.KerasLayer(feature_extractor_url_b1,input_shape=(512,512,3))\n",
        "\n",
        "#学習済み重みを固定する\n",
        "feature_extractor_layer_b1.trainable=False\n",
        "\n",
        "#上位の分類層を接合する\n",
        "ebc2=Sequential([feature_extractor_layer_b1,layers.Dense(train_generator.num_classes,activation='softmax')])\n",
        "\n",
        "#モデルの概要を確認する\n",
        "ebc2.summary()\n",
        "\n",
        "ebc2.compile(optimizer=tf.keras.optimizers.Adam(),\n",
        "              loss='categorical_crossentropy',\n",
        "              metrics=['acc'])"
      ]
    },
    {
      "cell_type": "code",
      "execution_count": 15,
      "metadata": {
        "colab": {
          "base_uri": "https://localhost:8080/"
        },
        "id": "QzQ38ggvozNg",
        "outputId": "afc0e8c0-947d-4aa5-dcb8-560e5e499724"
      },
      "outputs": [
        {
          "name": "stdout",
          "output_type": "stream",
          "text": [
            "Model: \"sequential_2\"\n",
            "_________________________________________________________________\n",
            " Layer (type)                Output Shape              Param #   \n",
            "=================================================================\n",
            " keras_layer_2 (KerasLayer)  (None, 1408)              7768562   \n",
            "                                                                 \n",
            " dense_2 (Dense)             (None, 4)                 5636      \n",
            "                                                                 \n",
            "=================================================================\n",
            "Total params: 7,774,198\n",
            "Trainable params: 5,636\n",
            "Non-trainable params: 7,768,562\n",
            "_________________________________________________________________\n"
          ]
        }
      ],
      "source": [
        "#使用するモデルの選択（特徴抽出器/分類器）_ efficientnetb2\n",
        "feature_extractor_url_b2=\"https://tfhub.dev/google/efficientnet/b2/feature-vector/1\"\n",
        "\n",
        "#入力画像サイズを決定する(モデルに適したサイズを設定)\n",
        "feature_extractor_layer_b2=hub.KerasLayer(feature_extractor_url_b2,input_shape=(512,512,3))\n",
        "\n",
        "#学習済み重みを固定する\n",
        "feature_extractor_layer_b2.trainable=False\n",
        "\n",
        "#上位の分類層を接合する\n",
        "ebc3=Sequential([feature_extractor_layer_b2,layers.Dense(train_generator.num_classes,activation='softmax')])\n",
        "\n",
        "#モデルの概要を確認する\n",
        "ebc3.summary()\n",
        "\n",
        "ebc3.compile(optimizer=tf.keras.optimizers.Adam(),\n",
        "              loss='categorical_crossentropy',\n",
        "              metrics=['acc'])"
      ]
    },
    {
      "cell_type": "code",
      "execution_count": 16,
      "metadata": {
        "id": "BdJfbdK8W35b"
      },
      "outputs": [],
      "source": [
        "batch_stats_callback=CollectBatchStats()\n",
        "batch_size=32\n",
        "epochz=25\n",
        "epoch=10\n",
        "#steps_per_epoch\n",
        "s_p_e=np.ceil(train_generator.samples/batch_size)"
      ]
    },
    {
      "cell_type": "code",
      "execution_count": 16,
      "metadata": {
        "id": "C3je8e7Tqyry"
      },
      "outputs": [],
      "source": []
    },
    {
      "cell_type": "code",
      "execution_count": null,
      "metadata": {
        "id": "0mDfTI1U93k4"
      },
      "outputs": [],
      "source": []
    },
    {
      "cell_type": "markdown",
      "metadata": {
        "id": "NTrXHXfPqzJe"
      },
      "source": [
        "model1"
      ]
    },
    {
      "cell_type": "code",
      "execution_count": null,
      "metadata": {
        "colab": {
          "base_uri": "https://localhost:8080/"
        },
        "id": "IyPSUnmW5NEw",
        "outputId": "cc4b3b98-ea77-4c0a-ee04-9f90ca32b888"
      },
      "outputs": [
        {
          "name": "stdout",
          "output_type": "stream",
          "text": [
            "Epoch 1/25\n",
            "44/44 [==============================] - 1248s 27s/step - loss: 0.3338 - acc: 0.9062\n",
            "Epoch 2/25\n",
            "44/44 [==============================] - 1191s 27s/step - loss: 0.1357 - acc: 0.9688\n",
            "Epoch 3/25\n",
            "44/44 [==============================] - 1199s 27s/step - loss: 0.2017 - acc: 0.9375\n",
            "Epoch 4/25\n",
            "44/44 [==============================] - 1215s 28s/step - loss: 0.1053 - acc: 1.0000\n",
            "Epoch 5/25\n",
            "44/44 [==============================] - 1219s 28s/step - loss: 0.0734 - acc: 1.0000\n",
            "Epoch 6/25\n",
            "44/44 [==============================] - 1217s 28s/step - loss: 0.1701 - acc: 0.9375\n",
            "Epoch 7/25\n",
            "44/44 [==============================] - 1216s 28s/step - loss: 0.1037 - acc: 0.9688\n",
            "Epoch 8/25\n",
            "44/44 [==============================] - 1201s 27s/step - loss: 0.1646 - acc: 0.9688\n",
            "Epoch 9/25\n",
            "44/44 [==============================] - 1192s 27s/step - loss: 0.0446 - acc: 1.0000\n",
            "Epoch 10/25\n",
            "44/44 [==============================] - 1192s 27s/step - loss: 0.1317 - acc: 0.9688\n",
            "Epoch 11/25\n",
            "44/44 [==============================] - 1196s 27s/step - loss: 0.0462 - acc: 1.0000\n",
            "Epoch 12/25\n",
            "44/44 [==============================] - 1196s 27s/step - loss: 0.0697 - acc: 1.0000\n",
            "Epoch 13/25\n",
            "44/44 [==============================] - 1189s 27s/step - loss: 0.0295 - acc: 1.0000\n",
            "Epoch 14/25\n",
            "44/44 [==============================] - 1191s 27s/step - loss: 0.0860 - acc: 0.9688\n",
            "Epoch 15/25\n",
            "44/44 [==============================] - 1197s 27s/step - loss: 0.0167 - acc: 1.0000\n",
            "Epoch 16/25\n",
            "44/44 [==============================] - 1196s 27s/step - loss: 0.0378 - acc: 1.0000\n",
            "Epoch 17/25\n",
            "44/44 [==============================] - 1193s 27s/step - loss: 0.1384 - acc: 0.9375\n",
            "Epoch 18/25\n",
            "44/44 [==============================] - 1193s 27s/step - loss: 0.0377 - acc: 1.0000\n",
            "Epoch 19/25\n",
            "44/44 [==============================] - 1191s 27s/step - loss: 0.0319 - acc: 1.0000\n",
            "Epoch 20/25\n",
            "44/44 [==============================] - 1188s 27s/step - loss: 0.0217 - acc: 1.0000\n",
            "Epoch 21/25\n",
            "44/44 [==============================] - 1186s 27s/step - loss: 0.0240 - acc: 1.0000\n",
            "Epoch 22/25\n",
            "44/44 [==============================] - 1185s 27s/step - loss: 0.0549 - acc: 1.0000\n",
            "Epoch 23/25\n",
            "44/44 [==============================] - 1183s 27s/step - loss: 0.0193 - acc: 1.0000\n",
            "Epoch 24/25\n",
            "44/44 [==============================] - 1183s 27s/step - loss: 0.0342 - acc: 1.0000\n",
            "Epoch 25/25\n",
            "44/44 [==============================] - 1183s 27s/step - loss: 0.0177 - acc: 1.0000\n"
          ]
        },
        {
          "data": {
            "text/plain": [
              "<keras.callbacks.History at 0x7f4c2c616b50>"
            ]
          },
          "execution_count": 17,
          "metadata": {},
          "output_type": "execute_result"
        }
      ],
      "source": [
        "ebc1.fit(train_generator,\n",
        "         epochs=epochz,\n",
        "         steps_per_epoch=s_p_e,\n",
        "         #validation_data=val_generator,\n",
        "         callbacks=[batch_stats_callback],\n",
        "         )"
      ]
    },
    {
      "cell_type": "markdown",
      "metadata": {
        "id": "TksWwnETUNlo"
      },
      "source": [
        "教師モデル学習"
      ]
    },
    {
      "cell_type": "code",
      "execution_count": 18,
      "metadata": {
        "colab": {
          "base_uri": "https://localhost:8080/"
        },
        "id": "OiAchV3f5bT9",
        "outputId": "44058883-a10a-4a8a-863d-b5b328c15103"
      },
      "outputs": [
        {
          "name": "stdout",
          "output_type": "stream",
          "text": [
            "Model: \"sequential_3\"\n",
            "_________________________________________________________________\n",
            " Layer (type)                Output Shape              Param #   \n",
            "=================================================================\n",
            " keras_layer (KerasLayer)    (None, 1280)              207615832 \n",
            "                                                                 \n",
            " dense_3 (Dense)             (None, 4)                 5124      \n",
            "                                                                 \n",
            "=================================================================\n",
            "Total params: 207,620,956\n",
            "Trainable params: 5,124\n",
            "Non-trainable params: 207,615,832\n",
            "_________________________________________________________________\n"
          ]
        }
      ],
      "source": [
        "#上位分類層を接合\n",
        "ebc1=Sequential([feature_extractor_layer,\n",
        "                           layers.Dense(train_generator.num_classes,activation='softmax')])\n",
        "\n",
        "ebc1.summary()\n",
        "\n",
        "ebc1.compile(optimizer=tf.keras.optimizers.Adam(),\n",
        "              loss='categorical_crossentropy',\n",
        "              metrics=['acc'])"
      ]
    },
    {
      "cell_type": "code",
      "execution_count": null,
      "metadata": {
        "colab": {
          "base_uri": "https://localhost:8080/"
        },
        "id": "oYMAPr_wpPn_",
        "outputId": "cb13c901-ba11-413f-f61e-a71927eaeeb7"
      },
      "outputs": [
        {
          "name": "stdout",
          "output_type": "stream",
          "text": [
            "Epoch 1/25\n",
            "44/44 [==============================] - ETA: 0s - loss: 0.5296 - acc: 0.8125 \n",
            "Epoch 1: saving model to /content/drive/MyDrive/result11/model01-01.h5\n",
            "44/44 [==============================] - 1766s 40s/step - loss: 0.5296 - acc: 0.8125 - val_loss: 0.7923 - val_acc: 0.6633\n",
            "Epoch 2/25\n",
            "44/44 [==============================] - ETA: 0s - loss: 0.1519 - acc: 0.9688 \n",
            "Epoch 2: saving model to /content/drive/MyDrive/result11/model01-02.h5\n",
            "44/44 [==============================] - 1780s 41s/step - loss: 0.1519 - acc: 0.9688 - val_loss: 0.6317 - val_acc: 0.7617\n",
            "Epoch 3/25\n",
            "44/44 [==============================] - ETA: 0s - loss: 0.2626 - acc: 0.9062 \n",
            "Epoch 3: saving model to /content/drive/MyDrive/result11/model01-03.h5\n",
            "44/44 [==============================] - 1742s 40s/step - loss: 0.2626 - acc: 0.9062 - val_loss: 0.5495 - val_acc: 0.7933\n",
            "Epoch 4/25\n",
            "44/44 [==============================] - ETA: 0s - loss: 0.0692 - acc: 1.0000 \n",
            "Epoch 4: saving model to /content/drive/MyDrive/result11/model01-04.h5\n",
            "44/44 [==============================] - 1828s 42s/step - loss: 0.0692 - acc: 1.0000 - val_loss: 0.5461 - val_acc: 0.7933\n",
            "Epoch 5/25\n",
            "44/44 [==============================] - ETA: 0s - loss: 0.1597 - acc: 0.9688 \n",
            "Epoch 5: saving model to /content/drive/MyDrive/result11/model01-05.h5\n",
            "44/44 [==============================] - 1800s 41s/step - loss: 0.1597 - acc: 0.9688 - val_loss: 0.5791 - val_acc: 0.7917\n",
            "Epoch 6/25\n",
            "44/44 [==============================] - ETA: 0s - loss: 0.1965 - acc: 0.9062 \n",
            "Epoch 6: saving model to /content/drive/MyDrive/result11/model01-06.h5\n",
            "44/44 [==============================] - 1829s 42s/step - loss: 0.1965 - acc: 0.9062 - val_loss: 0.5142 - val_acc: 0.8067\n",
            "Epoch 7/25\n",
            "44/44 [==============================] - ETA: 0s - loss: 0.1592 - acc: 0.9688 \n",
            "Epoch 7: saving model to /content/drive/MyDrive/result11/model01-07.h5\n",
            "44/44 [==============================] - 1688s 39s/step - loss: 0.1592 - acc: 0.9688 - val_loss: 0.4512 - val_acc: 0.8283\n",
            "Epoch 8/25\n",
            "44/44 [==============================] - ETA: 0s - loss: 0.1040 - acc: 1.0000 \n",
            "Epoch 8: saving model to /content/drive/MyDrive/result11/model01-08.h5\n",
            "44/44 [==============================] - 1720s 39s/step - loss: 0.1040 - acc: 1.0000 - val_loss: 0.5154 - val_acc: 0.8267\n",
            "Epoch 9/25\n",
            "44/44 [==============================] - ETA: 0s - loss: 0.1769 - acc: 0.9062 \n",
            "Epoch 9: saving model to /content/drive/MyDrive/result11/model01-09.h5\n",
            "44/44 [==============================] - 1773s 41s/step - loss: 0.1769 - acc: 0.9062 - val_loss: 0.4819 - val_acc: 0.8150\n",
            "Epoch 10/25\n",
            "44/44 [==============================] - ETA: 0s - loss: 0.0912 - acc: 1.0000 \n",
            "Epoch 10: saving model to /content/drive/MyDrive/result11/model01-10.h5\n",
            "44/44 [==============================] - 1696s 39s/step - loss: 0.0912 - acc: 1.0000 - val_loss: 0.4263 - val_acc: 0.8450\n",
            "Epoch 11/25\n",
            "44/44 [==============================] - ETA: 0s - loss: 0.0829 - acc: 1.0000 \n",
            "Epoch 11: saving model to /content/drive/MyDrive/result11/model01-11.h5\n",
            "44/44 [==============================] - 1760s 40s/step - loss: 0.0829 - acc: 1.0000 - val_loss: 0.4119 - val_acc: 0.8483\n",
            "Epoch 12/25\n",
            "44/44 [==============================] - ETA: 0s - loss: 0.0518 - acc: 1.0000 \n",
            "Epoch 12: saving model to /content/drive/MyDrive/result11/model01-12.h5\n",
            "44/44 [==============================] - 1691s 39s/step - loss: 0.0518 - acc: 1.0000 - val_loss: 0.4794 - val_acc: 0.8250\n",
            "Epoch 13/25\n",
            "44/44 [==============================] - ETA: 0s - loss: 0.1654 - acc: 0.9688 \n",
            "Epoch 13: saving model to /content/drive/MyDrive/result11/model01-13.h5\n",
            "44/44 [==============================] - 1762s 40s/step - loss: 0.1654 - acc: 0.9688 - val_loss: 0.4245 - val_acc: 0.8533\n",
            "Epoch 14/25\n",
            "44/44 [==============================] - ETA: 0s - loss: 0.0811 - acc: 0.9688 \n",
            "Epoch 14: saving model to /content/drive/MyDrive/result11/model01-14.h5\n",
            "44/44 [==============================] - 1767s 40s/step - loss: 0.0811 - acc: 0.9688 - val_loss: 0.4418 - val_acc: 0.8267\n",
            "Epoch 15/25\n",
            "44/44 [==============================] - ETA: 0s - loss: 0.0846 - acc: 0.9688 \n",
            "Epoch 15: saving model to /content/drive/MyDrive/result11/model01-15.h5\n",
            "44/44 [==============================] - 1756s 40s/step - loss: 0.0846 - acc: 0.9688 - val_loss: 0.4943 - val_acc: 0.8400\n",
            "Epoch 16/25\n",
            "44/44 [==============================] - ETA: 0s - loss: 0.1070 - acc: 0.9688 \n",
            "Epoch 16: saving model to /content/drive/MyDrive/result11/model01-16.h5\n",
            "44/44 [==============================] - 1781s 41s/step - loss: 0.1070 - acc: 0.9688 - val_loss: 0.4081 - val_acc: 0.8500\n",
            "Epoch 17/25\n",
            "44/44 [==============================] - ETA: 0s - loss: 0.0500 - acc: 1.0000 \n",
            "Epoch 17: saving model to /content/drive/MyDrive/result11/model01-17.h5\n",
            "44/44 [==============================] - 1692s 39s/step - loss: 0.0500 - acc: 1.0000 - val_loss: 0.4512 - val_acc: 0.8333\n",
            "Epoch 18/25\n",
            "44/44 [==============================] - ETA: 0s - loss: 0.0258 - acc: 1.0000 \n",
            "Epoch 18: saving model to /content/drive/MyDrive/result11/model01-18.h5\n",
            "44/44 [==============================] - 1689s 39s/step - loss: 0.0258 - acc: 1.0000 - val_loss: 0.5354 - val_acc: 0.8150\n",
            "Epoch 19/25\n",
            "44/44 [==============================] - ETA: 0s - loss: 0.0260 - acc: 1.0000 \n",
            "Epoch 19: saving model to /content/drive/MyDrive/result11/model01-19.h5\n",
            "44/44 [==============================] - 1701s 39s/step - loss: 0.0260 - acc: 1.0000 - val_loss: 0.4573 - val_acc: 0.8367\n",
            "Epoch 20/25\n",
            "44/44 [==============================] - ETA: 0s - loss: 0.0946 - acc: 0.9688 \n",
            "Epoch 20: saving model to /content/drive/MyDrive/result11/model01-20.h5\n",
            "44/44 [==============================] - 1711s 39s/step - loss: 0.0946 - acc: 0.9688 - val_loss: 0.4161 - val_acc: 0.8550\n",
            "Epoch 21/25\n",
            "44/44 [==============================] - ETA: 0s - loss: 0.0315 - acc: 1.0000 \n",
            "Epoch 21: saving model to /content/drive/MyDrive/result11/model01-21.h5\n",
            "44/44 [==============================] - 1776s 40s/step - loss: 0.0315 - acc: 1.0000 - val_loss: 0.4169 - val_acc: 0.8383\n",
            "Epoch 22/25\n",
            "44/44 [==============================] - ETA: 0s - loss: 0.0327 - acc: 1.0000 \n",
            "Epoch 22: saving model to /content/drive/MyDrive/result11/model01-22.h5\n",
            "44/44 [==============================] - 1782s 41s/step - loss: 0.0327 - acc: 1.0000 - val_loss: 0.4741 - val_acc: 0.8350\n",
            "Epoch 23/25\n",
            "44/44 [==============================] - ETA: 0s - loss: 0.0332 - acc: 1.0000 \n",
            "Epoch 23: saving model to /content/drive/MyDrive/result11/model01-23.h5\n",
            "44/44 [==============================] - 1693s 39s/step - loss: 0.0332 - acc: 1.0000 - val_loss: 0.4516 - val_acc: 0.8450\n",
            "Epoch 24/25\n",
            "44/44 [==============================] - ETA: 0s - loss: 0.0468 - acc: 1.0000 \n",
            "Epoch 24: saving model to /content/drive/MyDrive/result11/model01-24.h5\n",
            "44/44 [==============================] - 1690s 39s/step - loss: 0.0468 - acc: 1.0000 - val_loss: 0.4514 - val_acc: 0.8233\n",
            "Epoch 25/25\n",
            "44/44 [==============================] - ETA: 0s - loss: 0.0240 - acc: 1.0000 \n",
            "Epoch 25: saving model to /content/drive/MyDrive/result11/model01-25.h5\n",
            "44/44 [==============================] - 1690s 39s/step - loss: 0.0240 - acc: 1.0000 - val_loss: 0.4505 - val_acc: 0.8383\n"
          ]
        },
        {
          "data": {
            "text/plain": [
              "<keras.callbacks.History at 0x7f4c20933110>"
            ]
          },
          "execution_count": 19,
          "metadata": {},
          "output_type": "execute_result"
        }
      ],
      "source": [
        "ebc1.fit(train_generator,\n",
        "         epochs=epochz,\n",
        "         steps_per_epoch=s_p_e,\n",
        "         validation_data=val_generator,\n",
        "         callbacks=[checkpoint1,batch_stats_callback],\n",
        "         )"
      ]
    },
    {
      "cell_type": "code",
      "execution_count": 19,
      "metadata": {
        "colab": {
          "base_uri": "https://localhost:8080/"
        },
        "id": "xCg_kIo-Nkn3",
        "outputId": "c9461dda-8009-4242-f231-80747caf40e0"
      },
      "outputs": [
        {
          "name": "stdout",
          "output_type": "stream",
          "text": [
            "Model: \"sequential_4\"\n",
            "_________________________________________________________________\n",
            " Layer (type)                Output Shape              Param #   \n",
            "=================================================================\n",
            " keras_layer (KerasLayer)    (None, 1280)              207615832 \n",
            "                                                                 \n",
            " dense_4 (Dense)             (None, 4)                 5124      \n",
            "                                                                 \n",
            "=================================================================\n",
            "Total params: 207,620,956\n",
            "Trainable params: 5,124\n",
            "Non-trainable params: 207,615,832\n",
            "_________________________________________________________________\n"
          ]
        }
      ],
      "source": [
        "#上位分類層を接合\n",
        "ebc1=Sequential([feature_extractor_layer,\n",
        "                           layers.Dense(train_generator.num_classes,activation='softmax')])\n",
        "\n",
        "ebc1.summary()\n",
        "\n",
        "ebc1.compile(optimizer=tf.keras.optimizers.Adam(),\n",
        "              loss='categorical_crossentropy',\n",
        "              metrics=['acc'])\n",
        "\n"
      ]
    },
    {
      "cell_type": "code",
      "execution_count": 19,
      "metadata": {
        "colab": {
          "base_uri": "https://localhost:8080/"
        },
        "id": "WKL-CQd7sshd",
        "outputId": "679d8cbc-fe30-4f81-b162-413f33b522d6"
      },
      "outputs": [
        {
          "name": "stdout",
          "output_type": "stream",
          "text": [
            "Epoch 1/25\n",
            "44/44 [==============================] - ETA: 0s - loss: 0.4640 - acc: 0.8438 \n",
            "Epoch 1: saving model to /content/drive/MyDrive/result11/model01-01.h5\n",
            "44/44 [==============================] - 1882s 43s/step - loss: 0.4640 - acc: 0.8438 - val_loss: 0.5271 - val_acc: 0.8080\n",
            "Epoch 2/25\n",
            "44/44 [==============================] - ETA: 0s - loss: 0.2164 - acc: 0.9688 \n",
            "Epoch 2: saving model to /content/drive/MyDrive/result11/model01-02.h5\n",
            "44/44 [==============================] - 1938s 45s/step - loss: 0.2164 - acc: 0.9688 - val_loss: 0.3651 - val_acc: 0.8850\n",
            "Epoch 3/25\n",
            "44/44 [==============================] - ETA: 0s - loss: 0.3255 - acc: 0.9688 \n",
            "Epoch 3: saving model to /content/drive/MyDrive/result11/model01-03.h5\n",
            "44/44 [==============================] - 1982s 46s/step - loss: 0.3255 - acc: 0.9688 - val_loss: 0.3278 - val_acc: 0.8915\n",
            "Epoch 4/25\n",
            "44/44 [==============================] - ETA: 0s - loss: 0.5127 - acc: 0.8125 \n",
            "Epoch 4: saving model to /content/drive/MyDrive/result11/model01-04.h5\n",
            "44/44 [==============================] - 2043s 47s/step - loss: 0.5127 - acc: 0.8125 - val_loss: 0.2805 - val_acc: 0.9045\n",
            "Epoch 5/25\n",
            "44/44 [==============================] - ETA: 0s - loss: 0.0759 - acc: 0.9688 \n",
            "Epoch 5: saving model to /content/drive/MyDrive/result11/model01-05.h5\n",
            "44/44 [==============================] - 1969s 45s/step - loss: 0.0759 - acc: 0.9688 - val_loss: 0.2595 - val_acc: 0.9110\n",
            "Epoch 6/25\n",
            "44/44 [==============================] - ETA: 0s - loss: 0.1901 - acc: 0.9062 \n",
            "Epoch 6: saving model to /content/drive/MyDrive/result11/model01-06.h5\n",
            "44/44 [==============================] - 2008s 46s/step - loss: 0.1901 - acc: 0.9062 - val_loss: 0.2616 - val_acc: 0.9125\n",
            "Epoch 7/25\n",
            "44/44 [==============================] - ETA: 0s - loss: 0.2210 - acc: 0.9375 \n",
            "Epoch 7: saving model to /content/drive/MyDrive/result11/model01-07.h5\n",
            "44/44 [==============================] - 2058s 47s/step - loss: 0.2210 - acc: 0.9375 - val_loss: 0.2193 - val_acc: 0.9255\n",
            "Epoch 8/25\n",
            "44/44 [==============================] - ETA: 0s - loss: 0.0863 - acc: 0.9688 \n",
            "Epoch 8: saving model to /content/drive/MyDrive/result11/model01-08.h5\n",
            "44/44 [==============================] - 1999s 46s/step - loss: 0.0863 - acc: 0.9688 - val_loss: 0.2197 - val_acc: 0.9225\n",
            "Epoch 9/25\n",
            "44/44 [==============================] - ETA: 0s - loss: 0.1250 - acc: 0.9375 \n",
            "Epoch 9: saving model to /content/drive/MyDrive/result11/model01-09.h5\n",
            "44/44 [==============================] - 1980s 46s/step - loss: 0.1250 - acc: 0.9375 - val_loss: 0.2056 - val_acc: 0.9295\n",
            "Epoch 10/25\n",
            "44/44 [==============================] - ETA: 0s - loss: 0.2346 - acc: 0.9375 \n",
            "Epoch 10: saving model to /content/drive/MyDrive/result11/model01-10.h5\n",
            "44/44 [==============================] - 2013s 46s/step - loss: 0.2346 - acc: 0.9375 - val_loss: 0.1949 - val_acc: 0.9340\n",
            "Epoch 11/25\n",
            "44/44 [==============================] - ETA: 0s - loss: 0.0848 - acc: 1.0000 \n",
            "Epoch 11: saving model to /content/drive/MyDrive/result11/model01-11.h5\n",
            "44/44 [==============================] - 1970s 45s/step - loss: 0.0848 - acc: 1.0000 - val_loss: 0.2223 - val_acc: 0.9215\n",
            "Epoch 12/25\n",
            "44/44 [==============================] - ETA: 0s - loss: 0.1179 - acc: 0.9688 \n",
            "Epoch 12: saving model to /content/drive/MyDrive/result11/model01-12.h5\n",
            "44/44 [==============================] - 1984s 46s/step - loss: 0.1179 - acc: 0.9688 - val_loss: 0.1770 - val_acc: 0.9380\n",
            "Epoch 13/25\n",
            "44/44 [==============================] - ETA: 0s - loss: 0.0518 - acc: 1.0000 \n",
            "Epoch 13: saving model to /content/drive/MyDrive/result11/model01-13.h5\n",
            "44/44 [==============================] - 2031s 47s/step - loss: 0.0518 - acc: 1.0000 - val_loss: 0.1782 - val_acc: 0.9400\n",
            "Epoch 14/25\n",
            "44/44 [==============================] - ETA: 0s - loss: 0.1160 - acc: 0.9688 \n",
            "Epoch 14: saving model to /content/drive/MyDrive/result11/model01-14.h5\n",
            "44/44 [==============================] - 1953s 45s/step - loss: 0.1160 - acc: 0.9688 - val_loss: 0.2020 - val_acc: 0.9295\n",
            "Epoch 15/25\n",
            "44/44 [==============================] - ETA: 0s - loss: 0.0244 - acc: 1.0000 \n",
            "Epoch 15: saving model to /content/drive/MyDrive/result11/model01-15.h5\n",
            "44/44 [==============================] - 1924s 44s/step - loss: 0.0244 - acc: 1.0000 - val_loss: 0.1763 - val_acc: 0.9375\n",
            "Epoch 16/25\n",
            "44/44 [==============================] - ETA: 0s - loss: 0.0551 - acc: 1.0000 \n",
            "Epoch 16: saving model to /content/drive/MyDrive/result11/model01-16.h5\n",
            "44/44 [==============================] - 2080s 48s/step - loss: 0.0551 - acc: 1.0000 - val_loss: 0.1952 - val_acc: 0.9300\n",
            "Epoch 17/25\n",
            "44/44 [==============================] - ETA: 0s - loss: 0.0414 - acc: 1.0000 \n",
            "Epoch 17: saving model to /content/drive/MyDrive/result11/model01-17.h5\n",
            "44/44 [==============================] - 1896s 44s/step - loss: 0.0414 - acc: 1.0000 - val_loss: 0.1592 - val_acc: 0.9485\n",
            "Epoch 18/25\n",
            "44/44 [==============================] - ETA: 0s - loss: 0.0184 - acc: 1.0000 \n",
            "Epoch 18: saving model to /content/drive/MyDrive/result11/model01-18.h5\n",
            "44/44 [==============================] - 2001s 46s/step - loss: 0.0184 - acc: 1.0000 - val_loss: 0.1607 - val_acc: 0.9505\n",
            "Epoch 19/25\n",
            "44/44 [==============================] - ETA: 0s - loss: 0.0252 - acc: 1.0000 \n",
            "Epoch 19: saving model to /content/drive/MyDrive/result11/model01-19.h5\n",
            "44/44 [==============================] - 2001s 46s/step - loss: 0.0252 - acc: 1.0000 - val_loss: 0.1759 - val_acc: 0.9385\n",
            "Epoch 20/25\n",
            "44/44 [==============================] - ETA: 0s - loss: 0.0467 - acc: 0.9688 \n",
            "Epoch 20: saving model to /content/drive/MyDrive/result11/model01-20.h5\n",
            "44/44 [==============================] - 1987s 46s/step - loss: 0.0467 - acc: 0.9688 - val_loss: 0.1610 - val_acc: 0.9400\n",
            "Epoch 21/25\n",
            "44/44 [==============================] - ETA: 0s - loss: 0.0390 - acc: 1.0000 \n",
            "Epoch 21: saving model to /content/drive/MyDrive/result11/model01-21.h5\n",
            "44/44 [==============================] - 1972s 45s/step - loss: 0.0390 - acc: 1.0000 - val_loss: 0.1640 - val_acc: 0.9445\n",
            "Epoch 22/25\n",
            "44/44 [==============================] - ETA: 0s - loss: 0.0942 - acc: 0.9688 \n",
            "Epoch 22: saving model to /content/drive/MyDrive/result11/model01-22.h5\n",
            "44/44 [==============================] - 1990s 46s/step - loss: 0.0942 - acc: 0.9688 - val_loss: 0.1777 - val_acc: 0.9385\n",
            "Epoch 23/25\n",
            "44/44 [==============================] - ETA: 0s - loss: 0.0252 - acc: 1.0000 \n",
            "Epoch 23: saving model to /content/drive/MyDrive/result11/model01-23.h5\n",
            "44/44 [==============================] - 1938s 45s/step - loss: 0.0252 - acc: 1.0000 - val_loss: 0.1581 - val_acc: 0.9480\n",
            "Epoch 24/25\n",
            "44/44 [==============================] - ETA: 0s - loss: 0.0166 - acc: 1.0000 \n",
            "Epoch 24: saving model to /content/drive/MyDrive/result11/model01-24.h5\n",
            "44/44 [==============================] - 2008s 46s/step - loss: 0.0166 - acc: 1.0000 - val_loss: 0.1536 - val_acc: 0.9430\n",
            "Epoch 25/25\n",
            "44/44 [==============================] - ETA: 0s - loss: 0.0195 - acc: 1.0000 \n",
            "Epoch 25: saving model to /content/drive/MyDrive/result11/model01-25.h5\n",
            "44/44 [==============================] - 2069s 48s/step - loss: 0.0195 - acc: 1.0000 - val_loss: 0.1805 - val_acc: 0.9395\n"
          ]
        }
      ],
      "source": [
        "#擬似ラベル作成\n",
        "history=ebc1.fit(train_generator,\n",
        "                  epochs=epochz,\n",
        "                  steps_per_epoch=s_p_e,\n",
        "                  validation_data=gizi_data,\n",
        "                  callbacks=[checkpoint1,batch_stats_callback]\n",
        "                  )"
      ]
    },
    {
      "cell_type": "code",
      "execution_count": 20,
      "metadata": {
        "colab": {
          "base_uri": "https://localhost:8080/"
        },
        "id": "7Pj9bX04OEBi",
        "outputId": "05e165ce-ad0f-464b-efcb-718dee00116f"
      },
      "outputs": [
        {
          "name": "stdout",
          "output_type": "stream",
          "text": [
            "63/63 [==============================] - 1161s 18s/step\n"
          ]
        }
      ],
      "source": [
        "#疑似ラベルの予測\n",
        "gizi_label1=ebc1.predict(gizi_data)"
      ]
    },
    {
      "cell_type": "code",
      "execution_count": 20,
      "metadata": {
        "id": "kouowLzUOFP4"
      },
      "outputs": [],
      "source": [
        "feature_extractor_layer.trainable=False\n",
        "#入力画像ノイズ(rand augmentation)の設定\n",
        "data_augmentation=Sequential([layers.RandomRotation(2.10)])\n",
        "#モデルノイズ（stochastic depth）の設定\n",
        "stochastic_Depth=Sequential([tfa.layers.StochasticDepth(0.35)])\n",
        "\n",
        "#モデルにrand augmentationを適用\n",
        "model1=Sequential([data_augmentation])\n",
        "#モデルにstochastic depthを適用\n",
        "model1=Sequential([stochastic_Depth])\n",
        "\n",
        "#モデルノイズ（dropout）の設定と適用\n",
        "model1=Sequential([feature_extractor_layer,\n",
        "                           layers.Dense(train_generator.num_classes,activation='softmax'),\n",
        "                           #layers.Dropout(0.2)\n",
        "                           \n",
        "                  ])"
      ]
    },
    {
      "cell_type": "code",
      "execution_count": 21,
      "metadata": {
        "colab": {
          "base_uri": "https://localhost:8080/"
        },
        "id": "byBJbPE9OWq_",
        "outputId": "7ec08068-024e-44bc-b21d-ca62e3ee12ab"
      },
      "outputs": [
        {
          "name": "stdout",
          "output_type": "stream",
          "text": [
            "Model: \"sequential_9\"\n",
            "_________________________________________________________________\n",
            " Layer (type)                Output Shape              Param #   \n",
            "=================================================================\n",
            " keras_layer (KerasLayer)    (None, 1280)              207615832 \n",
            "                                                                 \n",
            " dense_5 (Dense)             (None, 4)                 5124      \n",
            "                                                                 \n",
            "=================================================================\n",
            "Total params: 207,620,956\n",
            "Trainable params: 5,124\n",
            "Non-trainable params: 207,615,832\n",
            "_________________________________________________________________\n"
          ]
        }
      ],
      "source": [
        "#model1\n",
        "model1.compile(optimizer=tf.keras.optimizers.Adam(),\n",
        "              loss='categorical_crossentropy',\n",
        "              metrics=['acc'])\n",
        "model1.summary()\n"
      ]
    },
    {
      "cell_type": "code",
      "execution_count": 21,
      "metadata": {
        "colab": {
          "base_uri": "https://localhost:8080/"
        },
        "id": "ZIdU673iOaU2",
        "outputId": "6b70bbc9-b99d-4102-8b13-21cb373a4105"
      },
      "outputs": [
        {
          "name": "stdout",
          "output_type": "stream",
          "text": [
            "Epoch 1/25\n",
            "63/63 [==============================] - ETA: 0s - loss: 0.3183 - acc: 0.9062 \n",
            "Epoch 1: saving model to /content/drive/MyDrive/result11/model01-01.h5\n",
            "63/63 [==============================] - 2462s 38s/step - loss: 0.3183 - acc: 0.9062 - val_loss: 0.3795 - val_acc: 0.8667\n",
            "Epoch 2/25\n",
            "63/63 [==============================] - ETA: 0s - loss: 0.3995 - acc: 0.8438 \n",
            "Epoch 2: saving model to /content/drive/MyDrive/result11/model01-02.h5\n",
            "63/63 [==============================] - 2437s 39s/step - loss: 0.3995 - acc: 0.8438 - val_loss: 0.2570 - val_acc: 0.9217\n",
            "Epoch 3/25\n",
            "63/63 [==============================] - ETA: 0s - loss: 0.0805 - acc: 1.0000 \n",
            "Epoch 3: saving model to /content/drive/MyDrive/result11/model01-03.h5\n",
            "63/63 [==============================] - 2826s 45s/step - loss: 0.0805 - acc: 1.0000 - val_loss: 0.2142 - val_acc: 0.9417\n",
            "Epoch 4/25\n",
            "63/63 [==============================] - ETA: 0s - loss: 0.1481 - acc: 0.9375 \n",
            "Epoch 4: saving model to /content/drive/MyDrive/result11/model01-04.h5\n",
            "63/63 [==============================] - 2607s 41s/step - loss: 0.1481 - acc: 0.9375 - val_loss: 0.1684 - val_acc: 0.9567\n",
            "Epoch 5/25\n",
            "63/63 [==============================] - ETA: 0s - loss: 0.1970 - acc: 0.9062 \n",
            "Epoch 5: saving model to /content/drive/MyDrive/result11/model01-05.h5\n",
            "63/63 [==============================] - 2338s 37s/step - loss: 0.1970 - acc: 0.9062 - val_loss: 0.1480 - val_acc: 0.9650\n",
            "Epoch 6/25\n",
            "63/63 [==============================] - ETA: 0s - loss: 0.1209 - acc: 0.9688 \n",
            "Epoch 6: saving model to /content/drive/MyDrive/result11/model01-06.h5\n",
            "63/63 [==============================] - 2293s 37s/step - loss: 0.1209 - acc: 0.9688 - val_loss: 0.1436 - val_acc: 0.9633\n",
            "Epoch 7/25\n",
            "63/63 [==============================] - ETA: 0s - loss: 0.2538 - acc: 0.8750 \n",
            "Epoch 7: saving model to /content/drive/MyDrive/result11/model01-07.h5\n",
            "63/63 [==============================] - 2286s 36s/step - loss: 0.2538 - acc: 0.8750 - val_loss: 0.1265 - val_acc: 0.9683\n",
            "Epoch 8/25\n",
            "63/63 [==============================] - ETA: 0s - loss: 0.1767 - acc: 0.9688 \n",
            "Epoch 8: saving model to /content/drive/MyDrive/result11/model01-08.h5\n",
            "63/63 [==============================] - 2315s 37s/step - loss: 0.1767 - acc: 0.9688 - val_loss: 0.1067 - val_acc: 0.9767\n",
            "Epoch 9/25\n",
            "63/63 [==============================] - ETA: 0s - loss: 0.0963 - acc: 1.0000 \n",
            "Epoch 9: saving model to /content/drive/MyDrive/result11/model01-09.h5\n",
            "63/63 [==============================] - 2444s 39s/step - loss: 0.0963 - acc: 1.0000 - val_loss: 0.0920 - val_acc: 0.9817\n",
            "Epoch 10/25\n",
            "63/63 [==============================] - ETA: 0s - loss: 0.0530 - acc: 1.0000 \n",
            "Epoch 10: saving model to /content/drive/MyDrive/result11/model01-10.h5\n",
            "63/63 [==============================] - 2500s 40s/step - loss: 0.0530 - acc: 1.0000 - val_loss: 0.0968 - val_acc: 0.9850\n",
            "Epoch 11/25\n",
            "63/63 [==============================] - ETA: 0s - loss: 0.0375 - acc: 1.0000 \n",
            "Epoch 11: saving model to /content/drive/MyDrive/result11/model01-11.h5\n",
            "63/63 [==============================] - 2314s 37s/step - loss: 0.0375 - acc: 1.0000 - val_loss: 0.0762 - val_acc: 0.9933\n",
            "Epoch 12/25\n",
            "63/63 [==============================] - ETA: 0s - loss: 0.0232 - acc: 1.0000 \n",
            "Epoch 12: saving model to /content/drive/MyDrive/result11/model01-12.h5\n",
            "63/63 [==============================] - 2297s 37s/step - loss: 0.0232 - acc: 1.0000 - val_loss: 0.0749 - val_acc: 0.9883\n",
            "Epoch 13/25\n",
            "63/63 [==============================] - ETA: 0s - loss: 0.0836 - acc: 1.0000 \n",
            "Epoch 13: saving model to /content/drive/MyDrive/result11/model01-13.h5\n",
            "63/63 [==============================] - 2492s 40s/step - loss: 0.0836 - acc: 1.0000 - val_loss: 0.0664 - val_acc: 0.9933\n",
            "Epoch 14/25\n",
            "63/63 [==============================] - ETA: 0s - loss: 0.1035 - acc: 0.9688 \n",
            "Epoch 14: saving model to /content/drive/MyDrive/result11/model01-14.h5\n",
            "63/63 [==============================] - 2468s 39s/step - loss: 0.1035 - acc: 0.9688 - val_loss: 0.0620 - val_acc: 0.9933\n",
            "Epoch 15/25\n",
            "63/63 [==============================] - ETA: 0s - loss: 0.0154 - acc: 1.0000 \n",
            "Epoch 15: saving model to /content/drive/MyDrive/result11/model01-15.h5\n",
            "63/63 [==============================] - 2447s 39s/step - loss: 0.0154 - acc: 1.0000 - val_loss: 0.0696 - val_acc: 0.9867\n",
            "Epoch 16/25\n",
            "63/63 [==============================] - ETA: 0s - loss: 0.0203 - acc: 1.0000 \n",
            "Epoch 16: saving model to /content/drive/MyDrive/result11/model01-16.h5\n",
            "63/63 [==============================] - 2472s 39s/step - loss: 0.0203 - acc: 1.0000 - val_loss: 0.0653 - val_acc: 0.9883\n",
            "Epoch 17/25\n",
            "63/63 [==============================] - ETA: 0s - loss: 0.0313 - acc: 1.0000 \n",
            "Epoch 17: saving model to /content/drive/MyDrive/result11/model01-17.h5\n",
            "63/63 [==============================] - 2529s 40s/step - loss: 0.0313 - acc: 1.0000 - val_loss: 0.0624 - val_acc: 0.9883\n",
            "Epoch 18/25\n",
            "63/63 [==============================] - ETA: 0s - loss: 0.0194 - acc: 1.0000 \n",
            "Epoch 18: saving model to /content/drive/MyDrive/result11/model01-18.h5\n",
            "63/63 [==============================] - 2436s 39s/step - loss: 0.0194 - acc: 1.0000 - val_loss: 0.0695 - val_acc: 0.9850\n",
            "Epoch 19/25\n",
            "63/63 [==============================] - ETA: 0s - loss: 0.0432 - acc: 1.0000 \n",
            "Epoch 19: saving model to /content/drive/MyDrive/result11/model01-19.h5\n",
            "63/63 [==============================] - 2441s 39s/step - loss: 0.0432 - acc: 1.0000 - val_loss: 0.0482 - val_acc: 0.9967\n",
            "Epoch 20/25\n",
            "63/63 [==============================] - ETA: 0s - loss: 0.0707 - acc: 1.0000 \n",
            "Epoch 20: saving model to /content/drive/MyDrive/result11/model01-20.h5\n",
            "63/63 [==============================] - 2665s 42s/step - loss: 0.0707 - acc: 1.0000 - val_loss: 0.0458 - val_acc: 0.9967\n",
            "Epoch 21/25\n",
            "63/63 [==============================] - ETA: 0s - loss: 0.0175 - acc: 1.0000 \n",
            "Epoch 21: saving model to /content/drive/MyDrive/result11/model01-21.h5\n",
            "63/63 [==============================] - 2492s 40s/step - loss: 0.0175 - acc: 1.0000 - val_loss: 0.0477 - val_acc: 0.9933\n",
            "Epoch 22/25\n",
            "63/63 [==============================] - ETA: 0s - loss: 0.0268 - acc: 1.0000 \n",
            "Epoch 22: saving model to /content/drive/MyDrive/result11/model01-22.h5\n",
            "63/63 [==============================] - 2470s 39s/step - loss: 0.0268 - acc: 1.0000 - val_loss: 0.0424 - val_acc: 0.9967\n",
            "Epoch 23/25\n",
            "63/63 [==============================] - ETA: 0s - loss: 0.0250 - acc: 1.0000 \n",
            "Epoch 23: saving model to /content/drive/MyDrive/result11/model01-23.h5\n",
            "63/63 [==============================] - 2295s 37s/step - loss: 0.0250 - acc: 1.0000 - val_loss: 0.0381 - val_acc: 0.9983\n",
            "Epoch 24/25\n",
            "63/63 [==============================] - ETA: 0s - loss: 0.0274 - acc: 1.0000 \n",
            "Epoch 24: saving model to /content/drive/MyDrive/result11/model01-24.h5\n",
            "63/63 [==============================] - 2350s 37s/step - loss: 0.0274 - acc: 1.0000 - val_loss: 0.0372 - val_acc: 0.9967\n",
            "Epoch 25/25\n",
            "63/63 [==============================] - ETA: 0s - loss: 0.0349 - acc: 1.0000 \n",
            "Epoch 25: saving model to /content/drive/MyDrive/result11/model01-25.h5\n",
            "63/63 [==============================] - 2348s 37s/step - loss: 0.0349 - acc: 1.0000 - val_loss: 0.0320 - val_acc: 0.9967\n"
          ]
        }
      ],
      "source": [
        "#model1\n",
        "history=model1.fit(gizi_data,\n",
        "                  epochs=epochz,\n",
        "                  steps_per_epoch=np.ceil(gizi_data.samples/batch_size),\n",
        "                  validation_data=val_generator,\n",
        "                  callbacks=[checkpoint1,batch_stats_callback]\n",
        "                  )"
      ]
    },
    {
      "cell_type": "markdown",
      "metadata": {
        "id": "1wh8HdG_4BNY"
      },
      "source": [
        "1"
      ]
    },
    {
      "cell_type": "code",
      "execution_count": 22,
      "metadata": {
        "colab": {
          "base_uri": "https://localhost:8080/"
        },
        "id": "4WWrbzGdrZQR",
        "outputId": "5f292632-2f42-4450-e1e8-39746a3697a0"
      },
      "outputs": [
        {
          "name": "stdout",
          "output_type": "stream",
          "text": [
            "Epoch 1/15\n",
            "44/44 [==============================] - ETA: 0s - loss: 0.5578 - acc: 0.6875 \n",
            "Epoch 1: saving model to /content/drive/MyDrive/result11/model01-01.h5\n",
            "44/44 [==============================] - 1839s 41s/step - loss: 0.5578 - acc: 0.6875 - val_loss: 0.7695 - val_acc: 0.7100\n",
            "Epoch 2/15\n",
            "44/44 [==============================] - ETA: 0s - loss: 0.3567 - acc: 0.9062 \n",
            "Epoch 2: saving model to /content/drive/MyDrive/result11/model01-02.h5\n",
            "44/44 [==============================] - 1772s 41s/step - loss: 0.3567 - acc: 0.9062 - val_loss: 0.5893 - val_acc: 0.7683\n",
            "Epoch 3/15\n",
            "44/44 [==============================] - ETA: 0s - loss: 0.2613 - acc: 0.8438 \n",
            "Epoch 3: saving model to /content/drive/MyDrive/result11/model01-03.h5\n",
            "44/44 [==============================] - 1812s 41s/step - loss: 0.2613 - acc: 0.8438 - val_loss: 0.5929 - val_acc: 0.7633\n",
            "Epoch 4/15\n",
            "44/44 [==============================] - ETA: 0s - loss: 0.1271 - acc: 0.9688 \n",
            "Epoch 4: saving model to /content/drive/MyDrive/result11/model01-04.h5\n",
            "44/44 [==============================] - 1836s 42s/step - loss: 0.1271 - acc: 0.9688 - val_loss: 0.5373 - val_acc: 0.8000\n",
            "Epoch 5/15\n",
            "44/44 [==============================] - ETA: 0s - loss: 0.0886 - acc: 1.0000 \n",
            "Epoch 5: saving model to /content/drive/MyDrive/result11/model01-05.h5\n",
            "44/44 [==============================] - 1781s 41s/step - loss: 0.0886 - acc: 1.0000 - val_loss: 0.5501 - val_acc: 0.7733\n",
            "Epoch 6/15\n",
            "44/44 [==============================] - ETA: 0s - loss: 0.1386 - acc: 0.9688 \n",
            "Epoch 6: saving model to /content/drive/MyDrive/result11/model01-06.h5\n",
            "44/44 [==============================] - 1820s 42s/step - loss: 0.1386 - acc: 0.9688 - val_loss: 0.4785 - val_acc: 0.8017\n",
            "Epoch 7/15\n",
            "44/44 [==============================] - ETA: 0s - loss: 0.0841 - acc: 0.9688 \n",
            "Epoch 7: saving model to /content/drive/MyDrive/result11/model01-07.h5\n",
            "44/44 [==============================] - 1828s 42s/step - loss: 0.0841 - acc: 0.9688 - val_loss: 0.5024 - val_acc: 0.8217\n",
            "Epoch 8/15\n",
            "44/44 [==============================] - ETA: 0s - loss: 0.1016 - acc: 0.9688 \n",
            "Epoch 8: saving model to /content/drive/MyDrive/result11/model01-08.h5\n",
            "44/44 [==============================] - 1860s 42s/step - loss: 0.1016 - acc: 0.9688 - val_loss: 0.4958 - val_acc: 0.8100\n",
            "Epoch 9/15\n",
            "44/44 [==============================] - ETA: 0s - loss: 0.2665 - acc: 0.9688 \n",
            "Epoch 9: saving model to /content/drive/MyDrive/result11/model01-09.h5\n",
            "44/44 [==============================] - 1862s 42s/step - loss: 0.2665 - acc: 0.9688 - val_loss: 0.4688 - val_acc: 0.8167\n",
            "Epoch 10/15\n",
            "44/44 [==============================] - ETA: 0s - loss: 0.1470 - acc: 0.9375 \n",
            "Epoch 10: saving model to /content/drive/MyDrive/result11/model01-10.h5\n",
            "44/44 [==============================] - 1866s 43s/step - loss: 0.1470 - acc: 0.9375 - val_loss: 0.4905 - val_acc: 0.7983\n",
            "Epoch 11/15\n",
            "44/44 [==============================] - ETA: 0s - loss: 0.0720 - acc: 0.9688 \n",
            "Epoch 11: saving model to /content/drive/MyDrive/result11/model01-11.h5\n",
            "44/44 [==============================] - 1867s 43s/step - loss: 0.0720 - acc: 0.9688 - val_loss: 0.4492 - val_acc: 0.8333\n",
            "Epoch 12/15\n",
            "44/44 [==============================] - ETA: 0s - loss: 0.1751 - acc: 0.9688 \n",
            "Epoch 12: saving model to /content/drive/MyDrive/result11/model01-12.h5\n",
            "44/44 [==============================] - 1863s 43s/step - loss: 0.1751 - acc: 0.9688 - val_loss: 0.4550 - val_acc: 0.8433\n",
            "Epoch 13/15\n",
            "44/44 [==============================] - ETA: 0s - loss: 0.0374 - acc: 1.0000 \n",
            "Epoch 13: saving model to /content/drive/MyDrive/result11/model01-13.h5\n",
            "44/44 [==============================] - 1849s 42s/step - loss: 0.0374 - acc: 1.0000 - val_loss: 0.4950 - val_acc: 0.8233\n",
            "Epoch 14/15\n",
            "44/44 [==============================] - ETA: 0s - loss: 0.0995 - acc: 0.9688 \n",
            "Epoch 14: saving model to /content/drive/MyDrive/result11/model01-14.h5\n",
            "44/44 [==============================] - 1801s 41s/step - loss: 0.0995 - acc: 0.9688 - val_loss: 0.5272 - val_acc: 0.8083\n",
            "Epoch 15/15\n",
            "44/44 [==============================] - ETA: 0s - loss: 0.0438 - acc: 1.0000 \n",
            "Epoch 15: saving model to /content/drive/MyDrive/result11/model01-15.h5\n",
            "44/44 [==============================] - 1860s 43s/step - loss: 0.0438 - acc: 1.0000 - val_loss: 0.4908 - val_acc: 0.8117\n"
          ]
        }
      ],
      "source": [
        "history=model1.fit(train_generator,\n",
        "                   epochs=15,\n",
        "                   steps_per_epoch=s_p_e,\n",
        "                   validation_data=val_generator,\n",
        "                   callbacks=[checkpoint1,batch_stats_callback]\n",
        "                   )\n",
        "\n",
        "#y_prob = model1.predict(val_data)\n",
        "#y_pred1 = y_prob.argmax(axis=-1)\n",
        "#y_test1=np.argmax(y_test, axis=1)\n",
        "# accuracy\n",
        "#print(model1+\" accuracy: \",accuracy_score(y_test1,y_pred1))\n",
        "#del model1 , y_pred1, y_test1"
      ]
    },
    {
      "cell_type": "code",
      "execution_count": 23,
      "metadata": {
        "colab": {
          "base_uri": "https://localhost:8080/"
        },
        "id": "vFKi4TdngK5a",
        "outputId": "90f56eda-2fa4-4c1a-9ecd-c55e845cd293"
      },
      "outputs": [
        {
          "name": "stdout",
          "output_type": "stream",
          "text": [
            "Epoch 1/10\n",
            "44/44 [==============================] - ETA: 0s - loss: 0.0937 - acc: 0.9688 \n",
            "Epoch 1: saving model to /content/drive/MyDrive/result11/model01-01.h5\n",
            "44/44 [==============================] - 1885s 43s/step - loss: 0.0937 - acc: 0.9688 - val_loss: 0.4897 - val_acc: 0.8217\n",
            "Epoch 2/10\n",
            "44/44 [==============================] - ETA: 0s - loss: 0.0599 - acc: 0.9688 \n",
            "Epoch 2: saving model to /content/drive/MyDrive/result11/model01-02.h5\n",
            "44/44 [==============================] - 1866s 43s/step - loss: 0.0599 - acc: 0.9688 - val_loss: 0.4528 - val_acc: 0.8150\n",
            "Epoch 3/10\n",
            "44/44 [==============================] - ETA: 0s - loss: 0.0382 - acc: 1.0000 \n",
            "Epoch 3: saving model to /content/drive/MyDrive/result11/model01-03.h5\n",
            "44/44 [==============================] - 1879s 43s/step - loss: 0.0382 - acc: 1.0000 - val_loss: 0.4311 - val_acc: 0.8267\n",
            "Epoch 4/10\n",
            "44/44 [==============================] - ETA: 0s - loss: 0.0578 - acc: 0.9688 \n",
            "Epoch 4: saving model to /content/drive/MyDrive/result11/model01-04.h5\n",
            "44/44 [==============================] - 1881s 43s/step - loss: 0.0578 - acc: 0.9688 - val_loss: 0.5293 - val_acc: 0.8083\n",
            "Epoch 5/10\n",
            "44/44 [==============================] - ETA: 0s - loss: 0.0273 - acc: 1.0000 \n",
            "Epoch 5: saving model to /content/drive/MyDrive/result11/model01-05.h5\n",
            "44/44 [==============================] - 1872s 43s/step - loss: 0.0273 - acc: 1.0000 - val_loss: 0.4609 - val_acc: 0.8367\n",
            "Epoch 6/10\n",
            "44/44 [==============================] - ETA: 0s - loss: 0.0224 - acc: 1.0000 \n",
            "Epoch 6: saving model to /content/drive/MyDrive/result11/model01-06.h5\n",
            "44/44 [==============================] - 1865s 43s/step - loss: 0.0224 - acc: 1.0000 - val_loss: 0.4735 - val_acc: 0.8183\n",
            "Epoch 7/10\n",
            "44/44 [==============================] - ETA: 0s - loss: 0.0355 - acc: 1.0000 \n",
            "Epoch 7: saving model to /content/drive/MyDrive/result11/model01-07.h5\n",
            "44/44 [==============================] - 1896s 43s/step - loss: 0.0355 - acc: 1.0000 - val_loss: 0.4421 - val_acc: 0.8333\n",
            "Epoch 8/10\n",
            "44/44 [==============================] - ETA: 0s - loss: 0.0457 - acc: 1.0000 \n",
            "Epoch 8: saving model to /content/drive/MyDrive/result11/model01-08.h5\n",
            "44/44 [==============================] - 1885s 43s/step - loss: 0.0457 - acc: 1.0000 - val_loss: 0.4906 - val_acc: 0.8167\n",
            "Epoch 9/10\n",
            "44/44 [==============================] - ETA: 0s - loss: 0.0172 - acc: 1.0000 \n",
            "Epoch 9: saving model to /content/drive/MyDrive/result11/model01-09.h5\n",
            "44/44 [==============================] - 1889s 43s/step - loss: 0.0172 - acc: 1.0000 - val_loss: 0.4567 - val_acc: 0.8283\n",
            "Epoch 10/10\n",
            "44/44 [==============================] - ETA: 0s - loss: 0.0156 - acc: 1.0000 \n",
            "Epoch 10: saving model to /content/drive/MyDrive/result11/model01-10.h5\n",
            "44/44 [==============================] - 1876s 43s/step - loss: 0.0156 - acc: 1.0000 - val_loss: 0.4665 - val_acc: 0.8233\n"
          ]
        }
      ],
      "source": [
        "history=model1.fit(train_generator,\n",
        "                   epochs=10,\n",
        "                   steps_per_epoch=s_p_e,\n",
        "                   validation_data=val_generator,\n",
        "                   callbacks=[checkpoint1,batch_stats_callback]\n",
        "                   )"
      ]
    },
    {
      "cell_type": "code",
      "execution_count": 24,
      "metadata": {
        "id": "ckOn-cbrOkLK"
      },
      "outputs": [],
      "source": [
        "# HDF5フォーマットでモデルを保存するために必要\n",
        "!pip install -q pyyaml h5py  "
      ]
    },
    {
      "cell_type": "code",
      "execution_count": 25,
      "metadata": {
        "colab": {
          "base_uri": "https://localhost:8080/"
        },
        "id": "RekH5DbcOgl0",
        "outputId": "d55a30ed-ea89-4338-922c-b705953988a2"
      },
      "outputs": [
        {
          "name": "stderr",
          "output_type": "stream",
          "text": [
            "WARNING:absl:Found untraced functions such as restored_function_body, restored_function_body, restored_function_body, restored_function_body, restored_function_body while saving (showing 5 of 1594). These functions will not be directly callable after loading.\n"
          ]
        }
      ],
      "source": [
        "model1.save('/content/drive/MyDrive/result11/model1.h5/')"
      ]
    },
    {
      "cell_type": "code",
      "execution_count": null,
      "metadata": {
        "id": "Ptdqut3-Zhe3"
      },
      "outputs": [],
      "source": []
    },
    {
      "cell_type": "markdown",
      "metadata": {
        "id": "v9USPnLMOIY8"
      },
      "source": [
        "model2"
      ]
    },
    {
      "cell_type": "code",
      "execution_count": 26,
      "metadata": {
        "colab": {
          "base_uri": "https://localhost:8080/"
        },
        "id": "JjdlcbD3pSVa",
        "outputId": "d11fabe1-a84b-4d63-ebc1-22edc284e27b"
      },
      "outputs": [
        {
          "name": "stdout",
          "output_type": "stream",
          "text": [
            "Epoch 1/25\n",
            "44/44 [==============================] - 151s 3s/step - loss: 0.6115 - acc: 0.8125\n",
            "Epoch 2/25\n",
            "44/44 [==============================] - 132s 3s/step - loss: 0.4387 - acc: 0.8750\n",
            "Epoch 3/25\n",
            "44/44 [==============================] - 127s 3s/step - loss: 0.2415 - acc: 0.9688\n",
            "Epoch 4/25\n",
            "44/44 [==============================] - 133s 3s/step - loss: 0.2311 - acc: 0.9688\n",
            "Epoch 5/25\n",
            "44/44 [==============================] - 130s 3s/step - loss: 0.2239 - acc: 0.9688\n",
            "Epoch 6/25\n",
            "44/44 [==============================] - 131s 3s/step - loss: 0.4294 - acc: 0.9375\n",
            "Epoch 7/25\n",
            "44/44 [==============================] - 132s 3s/step - loss: 0.2926 - acc: 0.8438\n",
            "Epoch 8/25\n",
            "44/44 [==============================] - 130s 3s/step - loss: 0.2514 - acc: 0.8750\n",
            "Epoch 9/25\n",
            "44/44 [==============================] - 137s 3s/step - loss: 0.1813 - acc: 0.9688\n",
            "Epoch 10/25\n",
            "44/44 [==============================] - 133s 3s/step - loss: 0.1829 - acc: 0.9375\n",
            "Epoch 11/25\n",
            "44/44 [==============================] - 128s 3s/step - loss: 0.1253 - acc: 0.9688\n",
            "Epoch 12/25\n",
            "44/44 [==============================] - 132s 3s/step - loss: 0.1740 - acc: 0.9375\n",
            "Epoch 13/25\n",
            "44/44 [==============================] - 127s 3s/step - loss: 0.2202 - acc: 0.9375\n",
            "Epoch 14/25\n",
            "44/44 [==============================] - 126s 3s/step - loss: 0.1392 - acc: 0.9375\n",
            "Epoch 15/25\n",
            "44/44 [==============================] - 126s 3s/step - loss: 0.3179 - acc: 0.8750\n",
            "Epoch 16/25\n",
            "44/44 [==============================] - 129s 3s/step - loss: 0.0900 - acc: 1.0000\n",
            "Epoch 17/25\n",
            "44/44 [==============================] - 132s 3s/step - loss: 0.1489 - acc: 0.9688\n",
            "Epoch 18/25\n",
            "44/44 [==============================] - 132s 3s/step - loss: 0.0853 - acc: 1.0000\n",
            "Epoch 19/25\n",
            "44/44 [==============================] - 131s 3s/step - loss: 0.1044 - acc: 0.9688\n",
            "Epoch 20/25\n",
            "44/44 [==============================] - 134s 3s/step - loss: 0.0872 - acc: 1.0000\n",
            "Epoch 21/25\n",
            "44/44 [==============================] - 132s 3s/step - loss: 0.2144 - acc: 0.9375\n",
            "Epoch 22/25\n",
            "44/44 [==============================] - 131s 3s/step - loss: 0.0849 - acc: 1.0000\n",
            "Epoch 23/25\n",
            "44/44 [==============================] - 129s 3s/step - loss: 0.1065 - acc: 0.9375\n",
            "Epoch 24/25\n",
            "44/44 [==============================] - 129s 3s/step - loss: 0.1363 - acc: 0.9375\n",
            "Epoch 25/25\n",
            "44/44 [==============================] - 130s 3s/step - loss: 0.0553 - acc: 1.0000\n"
          ]
        },
        {
          "data": {
            "text/plain": [
              "<keras.callbacks.History at 0x7f913fe6c550>"
            ]
          },
          "execution_count": 26,
          "metadata": {},
          "output_type": "execute_result"
        }
      ],
      "source": [
        "ebc2.fit(train_generator,\n",
        "         epochs=epochz,\n",
        "         steps_per_epoch=s_p_e,\n",
        "         #validation_data=val_generator,\n",
        "         callbacks=[batch_stats_callback],\n",
        "         )"
      ]
    },
    {
      "cell_type": "markdown",
      "metadata": {
        "id": "KXngMj2A6x20"
      },
      "source": [
        "教師モデル学習"
      ]
    },
    {
      "cell_type": "code",
      "execution_count": 17,
      "metadata": {
        "colab": {
          "base_uri": "https://localhost:8080/"
        },
        "id": "y1XNehJENlRQ",
        "outputId": "b76b228f-058a-4f89-f8e2-059226ba72f8"
      },
      "outputs": [
        {
          "name": "stdout",
          "output_type": "stream",
          "text": [
            "Model: \"sequential_3\"\n",
            "_________________________________________________________________\n",
            " Layer (type)                Output Shape              Param #   \n",
            "=================================================================\n",
            " keras_layer (KerasLayer)    (None, 1280)              207615832 \n",
            "                                                                 \n",
            " dense_3 (Dense)             (None, 4)                 5124      \n",
            "                                                                 \n",
            "=================================================================\n",
            "Total params: 207,620,956\n",
            "Trainable params: 5,124\n",
            "Non-trainable params: 207,615,832\n",
            "_________________________________________________________________\n"
          ]
        }
      ],
      "source": [
        "#上位分類層を接合\n",
        "ebc2=Sequential([feature_extractor_layer,\n",
        "                           layers.Dense(train_generator.num_classes,activation='softmax')])\n",
        "\n",
        "ebc2.summary()\n",
        "\n",
        "ebc2.compile(optimizer=tf.keras.optimizers.Adam(),\n",
        "              loss='categorical_crossentropy',\n",
        "              metrics=['acc'])"
      ]
    },
    {
      "cell_type": "code",
      "execution_count": 18,
      "metadata": {
        "colab": {
          "base_uri": "https://localhost:8080/"
        },
        "id": "zp5Gkdim6ope",
        "outputId": "78253a7c-7a47-45df-8ea4-217e6337b517"
      },
      "outputs": [
        {
          "name": "stdout",
          "output_type": "stream",
          "text": [
            "Epoch 1/25\n",
            "44/44 [==============================] - ETA: 0s - loss: 0.5132 - acc: 0.7500 \n",
            "Epoch 1: saving model to /content/drive/MyDrive/result11/model02-01.h5\n",
            "44/44 [==============================] - 1213s 27s/step - loss: 0.5132 - acc: 0.7500 - val_loss: 0.7484 - val_acc: 0.7150\n",
            "Epoch 2/25\n",
            "44/44 [==============================] - ETA: 0s - loss: 0.1623 - acc: 0.9688 \n",
            "Epoch 2: saving model to /content/drive/MyDrive/result11/model02-02.h5\n",
            "44/44 [==============================] - 1195s 27s/step - loss: 0.1623 - acc: 0.9688 - val_loss: 0.6366 - val_acc: 0.7867\n",
            "Epoch 3/25\n",
            "44/44 [==============================] - ETA: 0s - loss: 0.1560 - acc: 0.9688 \n",
            "Epoch 3: saving model to /content/drive/MyDrive/result11/model02-03.h5\n",
            "44/44 [==============================] - 1221s 28s/step - loss: 0.1560 - acc: 0.9688 - val_loss: 0.5256 - val_acc: 0.7983\n",
            "Epoch 4/25\n",
            "44/44 [==============================] - ETA: 0s - loss: 0.3024 - acc: 0.9062 \n",
            "Epoch 4: saving model to /content/drive/MyDrive/result11/model02-04.h5\n",
            "44/44 [==============================] - 1213s 28s/step - loss: 0.3024 - acc: 0.9062 - val_loss: 0.5442 - val_acc: 0.8050\n",
            "Epoch 5/25\n",
            "44/44 [==============================] - ETA: 0s - loss: 0.2022 - acc: 0.9375 \n",
            "Epoch 5: saving model to /content/drive/MyDrive/result11/model02-05.h5\n",
            "44/44 [==============================] - 1231s 28s/step - loss: 0.2022 - acc: 0.9375 - val_loss: 0.4687 - val_acc: 0.8350\n",
            "Epoch 6/25\n",
            "44/44 [==============================] - ETA: 0s - loss: 0.1055 - acc: 0.9688 \n",
            "Epoch 6: saving model to /content/drive/MyDrive/result11/model02-06.h5\n",
            "44/44 [==============================] - 1282s 29s/step - loss: 0.1055 - acc: 0.9688 - val_loss: 0.4833 - val_acc: 0.8283\n",
            "Epoch 7/25\n",
            "44/44 [==============================] - ETA: 0s - loss: 0.0538 - acc: 1.0000 \n",
            "Epoch 7: saving model to /content/drive/MyDrive/result11/model02-07.h5\n",
            "44/44 [==============================] - 1243s 28s/step - loss: 0.0538 - acc: 1.0000 - val_loss: 0.5377 - val_acc: 0.8100\n",
            "Epoch 8/25\n",
            "44/44 [==============================] - ETA: 0s - loss: 0.0837 - acc: 0.9688 \n",
            "Epoch 8: saving model to /content/drive/MyDrive/result11/model02-08.h5\n",
            "44/44 [==============================] - 1250s 28s/step - loss: 0.0837 - acc: 0.9688 - val_loss: 0.4642 - val_acc: 0.8383\n",
            "Epoch 9/25\n",
            "44/44 [==============================] - ETA: 0s - loss: 0.0575 - acc: 1.0000 \n",
            "Epoch 9: saving model to /content/drive/MyDrive/result11/model02-09.h5\n",
            "44/44 [==============================] - 1239s 28s/step - loss: 0.0575 - acc: 1.0000 - val_loss: 0.4724 - val_acc: 0.8300\n",
            "Epoch 10/25\n",
            "44/44 [==============================] - ETA: 0s - loss: 0.0819 - acc: 1.0000 \n",
            "Epoch 10: saving model to /content/drive/MyDrive/result11/model02-10.h5\n",
            "44/44 [==============================] - 1230s 28s/step - loss: 0.0819 - acc: 1.0000 - val_loss: 0.4238 - val_acc: 0.8467\n",
            "Epoch 11/25\n",
            "44/44 [==============================] - ETA: 0s - loss: 0.1025 - acc: 0.9688 \n",
            "Epoch 11: saving model to /content/drive/MyDrive/result11/model02-11.h5\n",
            "44/44 [==============================] - 1362s 31s/step - loss: 0.1025 - acc: 0.9688 - val_loss: 0.5003 - val_acc: 0.8167\n",
            "Epoch 12/25\n",
            "44/44 [==============================] - ETA: 0s - loss: 0.0477 - acc: 1.0000 \n",
            "Epoch 12: saving model to /content/drive/MyDrive/result11/model02-12.h5\n",
            "44/44 [==============================] - 1304s 30s/step - loss: 0.0477 - acc: 1.0000 - val_loss: 0.4046 - val_acc: 0.8500\n",
            "Epoch 13/25\n",
            "44/44 [==============================] - ETA: 0s - loss: 0.1676 - acc: 0.9688 \n",
            "Epoch 13: saving model to /content/drive/MyDrive/result11/model02-13.h5\n",
            "44/44 [==============================] - 1348s 31s/step - loss: 0.1676 - acc: 0.9688 - val_loss: 0.4458 - val_acc: 0.8267\n",
            "Epoch 14/25\n",
            "44/44 [==============================] - ETA: 0s - loss: 0.0999 - acc: 0.9688 \n",
            "Epoch 14: saving model to /content/drive/MyDrive/result11/model02-14.h5\n",
            "44/44 [==============================] - 1320s 30s/step - loss: 0.0999 - acc: 0.9688 - val_loss: 0.4424 - val_acc: 0.8517\n",
            "Epoch 15/25\n",
            "44/44 [==============================] - ETA: 0s - loss: 0.0226 - acc: 1.0000 \n",
            "Epoch 15: saving model to /content/drive/MyDrive/result11/model02-15.h5\n",
            "44/44 [==============================] - 1410s 32s/step - loss: 0.0226 - acc: 1.0000 - val_loss: 0.5710 - val_acc: 0.8217\n",
            "Epoch 16/25\n",
            "44/44 [==============================] - ETA: 0s - loss: 0.1042 - acc: 1.0000 \n",
            "Epoch 16: saving model to /content/drive/MyDrive/result11/model02-16.h5\n",
            "44/44 [==============================] - 1213s 28s/step - loss: 0.1042 - acc: 1.0000 - val_loss: 0.4287 - val_acc: 0.8433\n",
            "Epoch 17/25\n",
            "44/44 [==============================] - ETA: 0s - loss: 0.0303 - acc: 1.0000 \n",
            "Epoch 17: saving model to /content/drive/MyDrive/result11/model02-17.h5\n",
            "44/44 [==============================] - 1255s 29s/step - loss: 0.0303 - acc: 1.0000 - val_loss: 0.4586 - val_acc: 0.8383\n",
            "Epoch 18/25\n",
            "44/44 [==============================] - ETA: 0s - loss: 0.0660 - acc: 0.9688 \n",
            "Epoch 18: saving model to /content/drive/MyDrive/result11/model02-18.h5\n",
            "44/44 [==============================] - 1212s 28s/step - loss: 0.0660 - acc: 0.9688 - val_loss: 0.4645 - val_acc: 0.8267\n",
            "Epoch 19/25\n",
            "44/44 [==============================] - ETA: 0s - loss: 0.0211 - acc: 1.0000 \n",
            "Epoch 19: saving model to /content/drive/MyDrive/result11/model02-19.h5\n",
            "44/44 [==============================] - 1235s 28s/step - loss: 0.0211 - acc: 1.0000 - val_loss: 0.4306 - val_acc: 0.8350\n",
            "Epoch 20/25\n",
            "44/44 [==============================] - ETA: 0s - loss: 0.0270 - acc: 1.0000 \n",
            "Epoch 20: saving model to /content/drive/MyDrive/result11/model02-20.h5\n",
            "44/44 [==============================] - 1355s 31s/step - loss: 0.0270 - acc: 1.0000 - val_loss: 0.4373 - val_acc: 0.8383\n",
            "Epoch 21/25\n",
            "44/44 [==============================] - ETA: 0s - loss: 0.0520 - acc: 0.9688 \n",
            "Epoch 21: saving model to /content/drive/MyDrive/result11/model02-21.h5\n",
            "44/44 [==============================] - 1336s 31s/step - loss: 0.0520 - acc: 0.9688 - val_loss: 0.4172 - val_acc: 0.8467\n",
            "Epoch 22/25\n",
            "44/44 [==============================] - ETA: 0s - loss: 0.0093 - acc: 1.0000 \n",
            "Epoch 22: saving model to /content/drive/MyDrive/result11/model02-22.h5\n",
            "44/44 [==============================] - 1201s 27s/step - loss: 0.0093 - acc: 1.0000 - val_loss: 0.4367 - val_acc: 0.8400\n",
            "Epoch 23/25\n",
            "44/44 [==============================] - ETA: 0s - loss: 0.0760 - acc: 0.9688 \n",
            "Epoch 23: saving model to /content/drive/MyDrive/result11/model02-23.h5\n",
            "44/44 [==============================] - 1231s 28s/step - loss: 0.0760 - acc: 0.9688 - val_loss: 0.4586 - val_acc: 0.8333\n",
            "Epoch 24/25\n",
            "44/44 [==============================] - ETA: 0s - loss: 0.0391 - acc: 1.0000 \n",
            "Epoch 24: saving model to /content/drive/MyDrive/result11/model02-24.h5\n",
            "44/44 [==============================] - 1189s 27s/step - loss: 0.0391 - acc: 1.0000 - val_loss: 0.5130 - val_acc: 0.8333\n",
            "Epoch 25/25\n",
            "44/44 [==============================] - ETA: 0s - loss: 0.0320 - acc: 1.0000 \n",
            "Epoch 25: saving model to /content/drive/MyDrive/result11/model02-25.h5\n",
            "44/44 [==============================] - 1226s 28s/step - loss: 0.0320 - acc: 1.0000 - val_loss: 0.5063 - val_acc: 0.8267\n"
          ]
        },
        {
          "data": {
            "text/plain": [
              "<keras.callbacks.History at 0x7effb40e70d0>"
            ]
          },
          "execution_count": 18,
          "metadata": {},
          "output_type": "execute_result"
        }
      ],
      "source": [
        "ebc2.fit(train_generator,\n",
        "         epochs=epochz,\n",
        "         steps_per_epoch=s_p_e,\n",
        "         validation_data=val_generator,\n",
        "         callbacks=[batch_stats_callback,checkpoint2],\n",
        "         )"
      ]
    },
    {
      "cell_type": "code",
      "execution_count": 19,
      "metadata": {
        "colab": {
          "base_uri": "https://localhost:8080/"
        },
        "id": "EdpxkG4E6qoi",
        "outputId": "e1171255-c749-4a71-be94-6a1894175e06"
      },
      "outputs": [
        {
          "name": "stdout",
          "output_type": "stream",
          "text": [
            "Model: \"sequential_4\"\n",
            "_________________________________________________________________\n",
            " Layer (type)                Output Shape              Param #   \n",
            "=================================================================\n",
            " keras_layer (KerasLayer)    (None, 1280)              207615832 \n",
            "                                                                 \n",
            " dense_4 (Dense)             (None, 4)                 5124      \n",
            "                                                                 \n",
            "=================================================================\n",
            "Total params: 207,620,956\n",
            "Trainable params: 5,124\n",
            "Non-trainable params: 207,615,832\n",
            "_________________________________________________________________\n"
          ]
        }
      ],
      "source": [
        "#上位分類層を接合\n",
        "ebc2=Sequential([feature_extractor_layer,\n",
        "                           layers.Dense(train_generator.num_classes,activation='softmax')])\n",
        "\n",
        "ebc2.summary()\n",
        "\n",
        "ebc2.compile(optimizer=tf.keras.optimizers.Adam(),\n",
        "              loss='categorical_crossentropy',\n",
        "              metrics=['acc'])"
      ]
    },
    {
      "cell_type": "code",
      "execution_count": 20,
      "metadata": {
        "colab": {
          "base_uri": "https://localhost:8080/",
          "height": 1000
        },
        "id": "4XMqb4oprnLb",
        "outputId": "57cc3f84-d55c-4714-c904-ab7dccdf7cfa"
      },
      "outputs": [
        {
          "name": "stdout",
          "output_type": "stream",
          "text": [
            "Epoch 1/25\n",
            "44/44 [==============================] - ETA: 0s - loss: 0.4573 - acc: 0.8438 \n",
            "Epoch 1: saving model to /content/drive/MyDrive/result11/model02-01.h5\n",
            "44/44 [==============================] - 2006s 46s/step - loss: 0.4573 - acc: 0.8438 - val_loss: 0.5594 - val_acc: 0.8110\n",
            "Epoch 2/25\n",
            "44/44 [==============================] - ETA: 0s - loss: 0.2231 - acc: 1.0000 \n",
            "Epoch 2: saving model to /content/drive/MyDrive/result11/model02-02.h5\n",
            "44/44 [==============================] - 2009s 46s/step - loss: 0.2231 - acc: 1.0000 - val_loss: 0.3710 - val_acc: 0.8880\n",
            "Epoch 3/25\n",
            "44/44 [==============================] - ETA: 0s - loss: 0.4272 - acc: 0.8750 \n",
            "Epoch 3: saving model to /content/drive/MyDrive/result11/model02-03.h5\n",
            "44/44 [==============================] - 2057s 47s/step - loss: 0.4272 - acc: 0.8750 - val_loss: 0.3076 - val_acc: 0.9025\n",
            "Epoch 4/25\n",
            "44/44 [==============================] - ETA: 0s - loss: 0.1158 - acc: 0.9688 \n",
            "Epoch 4: saving model to /content/drive/MyDrive/result11/model02-04.h5\n",
            "44/44 [==============================] - 2095s 48s/step - loss: 0.1158 - acc: 0.9688 - val_loss: 0.2950 - val_acc: 0.9030\n",
            "Epoch 5/25\n",
            "44/44 [==============================] - ETA: 0s - loss: 0.1806 - acc: 0.9062 \n",
            "Epoch 5: saving model to /content/drive/MyDrive/result11/model02-05.h5\n",
            "44/44 [==============================] - 2068s 48s/step - loss: 0.1806 - acc: 0.9062 - val_loss: 0.2716 - val_acc: 0.9080\n",
            "Epoch 6/25\n",
            "44/44 [==============================] - ETA: 0s - loss: 0.1114 - acc: 1.0000 \n",
            "Epoch 6: saving model to /content/drive/MyDrive/result11/model02-06.h5\n",
            "44/44 [==============================] - 2445s 56s/step - loss: 0.1114 - acc: 1.0000 - val_loss: 0.2426 - val_acc: 0.9155\n",
            "Epoch 7/25\n",
            "44/44 [==============================] - ETA: 0s - loss: 0.1869 - acc: 0.9375 \n",
            "Epoch 7: saving model to /content/drive/MyDrive/result11/model02-07.h5\n",
            "44/44 [==============================] - 2448s 56s/step - loss: 0.1869 - acc: 0.9375 - val_loss: 0.2100 - val_acc: 0.9300\n",
            "Epoch 8/25\n",
            "44/44 [==============================] - ETA: 0s - loss: 0.0671 - acc: 1.0000 \n",
            "Epoch 8: saving model to /content/drive/MyDrive/result11/model02-08.h5\n",
            "44/44 [==============================] - 2287s 53s/step - loss: 0.0671 - acc: 1.0000 - val_loss: 0.2921 - val_acc: 0.9005\n",
            "Epoch 9/25\n",
            "44/44 [==============================] - ETA: 0s - loss: 0.0726 - acc: 1.0000 \n",
            "Epoch 9: saving model to /content/drive/MyDrive/result11/model02-09.h5\n",
            "44/44 [==============================] - 2458s 57s/step - loss: 0.0726 - acc: 1.0000 - val_loss: 0.1977 - val_acc: 0.9325\n",
            "Epoch 10/25\n",
            "44/44 [==============================] - ETA: 0s - loss: 0.1171 - acc: 0.9375 \n",
            "Epoch 10: saving model to /content/drive/MyDrive/result11/model02-10.h5\n",
            "44/44 [==============================] - 2357s 54s/step - loss: 0.1171 - acc: 0.9375 - val_loss: 0.1912 - val_acc: 0.9380\n",
            "Epoch 11/25\n",
            "44/44 [==============================] - ETA: 0s - loss: 0.0474 - acc: 1.0000 \n",
            "Epoch 11: saving model to /content/drive/MyDrive/result11/model02-11.h5\n",
            "44/44 [==============================] - 2289s 53s/step - loss: 0.0474 - acc: 1.0000 - val_loss: 0.2023 - val_acc: 0.9335\n",
            "Epoch 12/25\n",
            "44/44 [==============================] - ETA: 0s - loss: 0.0581 - acc: 1.0000 \n",
            "Epoch 12: saving model to /content/drive/MyDrive/result11/model02-12.h5\n",
            "44/44 [==============================] - 2363s 54s/step - loss: 0.0581 - acc: 1.0000 - val_loss: 0.1729 - val_acc: 0.9430\n",
            "Epoch 13/25\n",
            "44/44 [==============================] - ETA: 0s - loss: 0.0522 - acc: 0.9688 \n",
            "Epoch 13: saving model to /content/drive/MyDrive/result11/model02-13.h5\n",
            "44/44 [==============================] - 2221s 51s/step - loss: 0.0522 - acc: 0.9688 - val_loss: 0.1902 - val_acc: 0.9375\n",
            "Epoch 14/25\n",
            "44/44 [==============================] - ETA: 0s - loss: 0.0926 - acc: 1.0000 \n",
            "Epoch 14: saving model to /content/drive/MyDrive/result11/model02-14.h5\n",
            "44/44 [==============================] - 2316s 53s/step - loss: 0.0926 - acc: 1.0000 - val_loss: 0.1618 - val_acc: 0.9445\n",
            "Epoch 15/25\n",
            "44/44 [==============================] - ETA: 0s - loss: 0.0366 - acc: 1.0000 \n",
            "Epoch 15: saving model to /content/drive/MyDrive/result11/model02-15.h5\n",
            "44/44 [==============================] - 2349s 54s/step - loss: 0.0366 - acc: 1.0000 - val_loss: 0.1942 - val_acc: 0.9355\n",
            "Epoch 16/25\n",
            "44/44 [==============================] - ETA: 0s - loss: 0.0715 - acc: 0.9688 "
          ]
        },
        {
          "ename": "KeyboardInterrupt",
          "evalue": "ignored",
          "output_type": "error",
          "traceback": [
            "\u001b[0;31m---------------------------------------------------------------------------\u001b[0m",
            "\u001b[0;31mKeyboardInterrupt\u001b[0m                         Traceback (most recent call last)",
            "\u001b[0;32m<ipython-input-20-4637dc3e6d49>\u001b[0m in \u001b[0;36m<module>\u001b[0;34m\u001b[0m\n\u001b[1;32m      4\u001b[0m                  \u001b[0msteps_per_epoch\u001b[0m\u001b[0;34m=\u001b[0m\u001b[0ms_p_e\u001b[0m\u001b[0;34m,\u001b[0m\u001b[0;34m\u001b[0m\u001b[0;34m\u001b[0m\u001b[0m\n\u001b[1;32m      5\u001b[0m                  \u001b[0mvalidation_data\u001b[0m\u001b[0;34m=\u001b[0m\u001b[0mgizi_data\u001b[0m\u001b[0;34m,\u001b[0m\u001b[0;34m\u001b[0m\u001b[0;34m\u001b[0m\u001b[0m\n\u001b[0;32m----> 6\u001b[0;31m                  \u001b[0mcallbacks\u001b[0m\u001b[0;34m=\u001b[0m\u001b[0;34m[\u001b[0m\u001b[0mcheckpoint2\u001b[0m\u001b[0;34m,\u001b[0m\u001b[0mbatch_stats_callback\u001b[0m\u001b[0;34m]\u001b[0m\u001b[0;34m\u001b[0m\u001b[0;34m\u001b[0m\u001b[0m\n\u001b[0m\u001b[1;32m      7\u001b[0m                  )\n",
            "\u001b[0;32m/usr/local/lib/python3.7/dist-packages/keras/utils/traceback_utils.py\u001b[0m in \u001b[0;36merror_handler\u001b[0;34m(*args, **kwargs)\u001b[0m\n\u001b[1;32m     62\u001b[0m     \u001b[0mfiltered_tb\u001b[0m \u001b[0;34m=\u001b[0m \u001b[0;32mNone\u001b[0m\u001b[0;34m\u001b[0m\u001b[0;34m\u001b[0m\u001b[0m\n\u001b[1;32m     63\u001b[0m     \u001b[0;32mtry\u001b[0m\u001b[0;34m:\u001b[0m\u001b[0;34m\u001b[0m\u001b[0;34m\u001b[0m\u001b[0m\n\u001b[0;32m---> 64\u001b[0;31m       \u001b[0;32mreturn\u001b[0m \u001b[0mfn\u001b[0m\u001b[0;34m(\u001b[0m\u001b[0;34m*\u001b[0m\u001b[0margs\u001b[0m\u001b[0;34m,\u001b[0m \u001b[0;34m**\u001b[0m\u001b[0mkwargs\u001b[0m\u001b[0;34m)\u001b[0m\u001b[0;34m\u001b[0m\u001b[0;34m\u001b[0m\u001b[0m\n\u001b[0m\u001b[1;32m     65\u001b[0m     \u001b[0;32mexcept\u001b[0m \u001b[0mException\u001b[0m \u001b[0;32mas\u001b[0m \u001b[0me\u001b[0m\u001b[0;34m:\u001b[0m  \u001b[0;31m# pylint: disable=broad-except\u001b[0m\u001b[0;34m\u001b[0m\u001b[0;34m\u001b[0m\u001b[0m\n\u001b[1;32m     66\u001b[0m       \u001b[0mfiltered_tb\u001b[0m \u001b[0;34m=\u001b[0m \u001b[0m_process_traceback_frames\u001b[0m\u001b[0;34m(\u001b[0m\u001b[0me\u001b[0m\u001b[0;34m.\u001b[0m\u001b[0m__traceback__\u001b[0m\u001b[0;34m)\u001b[0m\u001b[0;34m\u001b[0m\u001b[0;34m\u001b[0m\u001b[0m\n",
            "\u001b[0;32m/usr/local/lib/python3.7/dist-packages/keras/engine/training.py\u001b[0m in \u001b[0;36mfit\u001b[0;34m(self, x, y, batch_size, epochs, verbose, callbacks, validation_split, validation_data, shuffle, class_weight, sample_weight, initial_epoch, steps_per_epoch, validation_steps, validation_batch_size, validation_freq, max_queue_size, workers, use_multiprocessing)\u001b[0m\n\u001b[1;32m   1454\u001b[0m               \u001b[0muse_multiprocessing\u001b[0m\u001b[0;34m=\u001b[0m\u001b[0muse_multiprocessing\u001b[0m\u001b[0;34m,\u001b[0m\u001b[0;34m\u001b[0m\u001b[0;34m\u001b[0m\u001b[0m\n\u001b[1;32m   1455\u001b[0m               \u001b[0mreturn_dict\u001b[0m\u001b[0;34m=\u001b[0m\u001b[0;32mTrue\u001b[0m\u001b[0;34m,\u001b[0m\u001b[0;34m\u001b[0m\u001b[0;34m\u001b[0m\u001b[0m\n\u001b[0;32m-> 1456\u001b[0;31m               _use_cached_eval_dataset=True)\n\u001b[0m\u001b[1;32m   1457\u001b[0m           \u001b[0mval_logs\u001b[0m \u001b[0;34m=\u001b[0m \u001b[0;34m{\u001b[0m\u001b[0;34m'val_'\u001b[0m \u001b[0;34m+\u001b[0m \u001b[0mname\u001b[0m\u001b[0;34m:\u001b[0m \u001b[0mval\u001b[0m \u001b[0;32mfor\u001b[0m \u001b[0mname\u001b[0m\u001b[0;34m,\u001b[0m \u001b[0mval\u001b[0m \u001b[0;32min\u001b[0m \u001b[0mval_logs\u001b[0m\u001b[0;34m.\u001b[0m\u001b[0mitems\u001b[0m\u001b[0;34m(\u001b[0m\u001b[0;34m)\u001b[0m\u001b[0;34m}\u001b[0m\u001b[0;34m\u001b[0m\u001b[0;34m\u001b[0m\u001b[0m\n\u001b[1;32m   1458\u001b[0m           \u001b[0mepoch_logs\u001b[0m\u001b[0;34m.\u001b[0m\u001b[0mupdate\u001b[0m\u001b[0;34m(\u001b[0m\u001b[0mval_logs\u001b[0m\u001b[0;34m)\u001b[0m\u001b[0;34m\u001b[0m\u001b[0;34m\u001b[0m\u001b[0m\n",
            "\u001b[0;32m/usr/local/lib/python3.7/dist-packages/keras/utils/traceback_utils.py\u001b[0m in \u001b[0;36merror_handler\u001b[0;34m(*args, **kwargs)\u001b[0m\n\u001b[1;32m     62\u001b[0m     \u001b[0mfiltered_tb\u001b[0m \u001b[0;34m=\u001b[0m \u001b[0;32mNone\u001b[0m\u001b[0;34m\u001b[0m\u001b[0;34m\u001b[0m\u001b[0m\n\u001b[1;32m     63\u001b[0m     \u001b[0;32mtry\u001b[0m\u001b[0;34m:\u001b[0m\u001b[0;34m\u001b[0m\u001b[0;34m\u001b[0m\u001b[0m\n\u001b[0;32m---> 64\u001b[0;31m       \u001b[0;32mreturn\u001b[0m \u001b[0mfn\u001b[0m\u001b[0;34m(\u001b[0m\u001b[0;34m*\u001b[0m\u001b[0margs\u001b[0m\u001b[0;34m,\u001b[0m \u001b[0;34m**\u001b[0m\u001b[0mkwargs\u001b[0m\u001b[0;34m)\u001b[0m\u001b[0;34m\u001b[0m\u001b[0;34m\u001b[0m\u001b[0m\n\u001b[0m\u001b[1;32m     65\u001b[0m     \u001b[0;32mexcept\u001b[0m \u001b[0mException\u001b[0m \u001b[0;32mas\u001b[0m \u001b[0me\u001b[0m\u001b[0;34m:\u001b[0m  \u001b[0;31m# pylint: disable=broad-except\u001b[0m\u001b[0;34m\u001b[0m\u001b[0;34m\u001b[0m\u001b[0m\n\u001b[1;32m     66\u001b[0m       \u001b[0mfiltered_tb\u001b[0m \u001b[0;34m=\u001b[0m \u001b[0m_process_traceback_frames\u001b[0m\u001b[0;34m(\u001b[0m\u001b[0me\u001b[0m\u001b[0;34m.\u001b[0m\u001b[0m__traceback__\u001b[0m\u001b[0;34m)\u001b[0m\u001b[0;34m\u001b[0m\u001b[0;34m\u001b[0m\u001b[0m\n",
            "\u001b[0;32m/usr/local/lib/python3.7/dist-packages/keras/engine/training.py\u001b[0m in \u001b[0;36mevaluate\u001b[0;34m(self, x, y, batch_size, verbose, sample_weight, steps, callbacks, max_queue_size, workers, use_multiprocessing, return_dict, **kwargs)\u001b[0m\n\u001b[1;32m   1754\u001b[0m             \u001b[0;32mwith\u001b[0m \u001b[0mtf\u001b[0m\u001b[0;34m.\u001b[0m\u001b[0mprofiler\u001b[0m\u001b[0;34m.\u001b[0m\u001b[0mexperimental\u001b[0m\u001b[0;34m.\u001b[0m\u001b[0mTrace\u001b[0m\u001b[0;34m(\u001b[0m\u001b[0;34m'test'\u001b[0m\u001b[0;34m,\u001b[0m \u001b[0mstep_num\u001b[0m\u001b[0;34m=\u001b[0m\u001b[0mstep\u001b[0m\u001b[0;34m,\u001b[0m \u001b[0m_r\u001b[0m\u001b[0;34m=\u001b[0m\u001b[0;36m1\u001b[0m\u001b[0;34m)\u001b[0m\u001b[0;34m:\u001b[0m\u001b[0;34m\u001b[0m\u001b[0;34m\u001b[0m\u001b[0m\n\u001b[1;32m   1755\u001b[0m               \u001b[0mcallbacks\u001b[0m\u001b[0;34m.\u001b[0m\u001b[0mon_test_batch_begin\u001b[0m\u001b[0;34m(\u001b[0m\u001b[0mstep\u001b[0m\u001b[0;34m)\u001b[0m\u001b[0;34m\u001b[0m\u001b[0;34m\u001b[0m\u001b[0m\n\u001b[0;32m-> 1756\u001b[0;31m               \u001b[0mtmp_logs\u001b[0m \u001b[0;34m=\u001b[0m \u001b[0mself\u001b[0m\u001b[0;34m.\u001b[0m\u001b[0mtest_function\u001b[0m\u001b[0;34m(\u001b[0m\u001b[0miterator\u001b[0m\u001b[0;34m)\u001b[0m\u001b[0;34m\u001b[0m\u001b[0;34m\u001b[0m\u001b[0m\n\u001b[0m\u001b[1;32m   1757\u001b[0m               \u001b[0;32mif\u001b[0m \u001b[0mdata_handler\u001b[0m\u001b[0;34m.\u001b[0m\u001b[0mshould_sync\u001b[0m\u001b[0;34m:\u001b[0m\u001b[0;34m\u001b[0m\u001b[0;34m\u001b[0m\u001b[0m\n\u001b[1;32m   1758\u001b[0m                 \u001b[0mcontext\u001b[0m\u001b[0;34m.\u001b[0m\u001b[0masync_wait\u001b[0m\u001b[0;34m(\u001b[0m\u001b[0;34m)\u001b[0m\u001b[0;34m\u001b[0m\u001b[0;34m\u001b[0m\u001b[0m\n",
            "\u001b[0;32m/usr/local/lib/python3.7/dist-packages/tensorflow/python/util/traceback_utils.py\u001b[0m in \u001b[0;36merror_handler\u001b[0;34m(*args, **kwargs)\u001b[0m\n\u001b[1;32m    148\u001b[0m     \u001b[0mfiltered_tb\u001b[0m \u001b[0;34m=\u001b[0m \u001b[0;32mNone\u001b[0m\u001b[0;34m\u001b[0m\u001b[0;34m\u001b[0m\u001b[0m\n\u001b[1;32m    149\u001b[0m     \u001b[0;32mtry\u001b[0m\u001b[0;34m:\u001b[0m\u001b[0;34m\u001b[0m\u001b[0;34m\u001b[0m\u001b[0m\n\u001b[0;32m--> 150\u001b[0;31m       \u001b[0;32mreturn\u001b[0m \u001b[0mfn\u001b[0m\u001b[0;34m(\u001b[0m\u001b[0;34m*\u001b[0m\u001b[0margs\u001b[0m\u001b[0;34m,\u001b[0m \u001b[0;34m**\u001b[0m\u001b[0mkwargs\u001b[0m\u001b[0;34m)\u001b[0m\u001b[0;34m\u001b[0m\u001b[0;34m\u001b[0m\u001b[0m\n\u001b[0m\u001b[1;32m    151\u001b[0m     \u001b[0;32mexcept\u001b[0m \u001b[0mException\u001b[0m \u001b[0;32mas\u001b[0m \u001b[0me\u001b[0m\u001b[0;34m:\u001b[0m\u001b[0;34m\u001b[0m\u001b[0;34m\u001b[0m\u001b[0m\n\u001b[1;32m    152\u001b[0m       \u001b[0mfiltered_tb\u001b[0m \u001b[0;34m=\u001b[0m \u001b[0m_process_traceback_frames\u001b[0m\u001b[0;34m(\u001b[0m\u001b[0me\u001b[0m\u001b[0;34m.\u001b[0m\u001b[0m__traceback__\u001b[0m\u001b[0;34m)\u001b[0m\u001b[0;34m\u001b[0m\u001b[0;34m\u001b[0m\u001b[0m\n",
            "\u001b[0;32m/usr/local/lib/python3.7/dist-packages/tensorflow/python/eager/def_function.py\u001b[0m in \u001b[0;36m__call__\u001b[0;34m(self, *args, **kwds)\u001b[0m\n\u001b[1;32m    913\u001b[0m \u001b[0;34m\u001b[0m\u001b[0m\n\u001b[1;32m    914\u001b[0m       \u001b[0;32mwith\u001b[0m \u001b[0mOptionalXlaContext\u001b[0m\u001b[0;34m(\u001b[0m\u001b[0mself\u001b[0m\u001b[0;34m.\u001b[0m\u001b[0m_jit_compile\u001b[0m\u001b[0;34m)\u001b[0m\u001b[0;34m:\u001b[0m\u001b[0;34m\u001b[0m\u001b[0;34m\u001b[0m\u001b[0m\n\u001b[0;32m--> 915\u001b[0;31m         \u001b[0mresult\u001b[0m \u001b[0;34m=\u001b[0m \u001b[0mself\u001b[0m\u001b[0;34m.\u001b[0m\u001b[0m_call\u001b[0m\u001b[0;34m(\u001b[0m\u001b[0;34m*\u001b[0m\u001b[0margs\u001b[0m\u001b[0;34m,\u001b[0m \u001b[0;34m**\u001b[0m\u001b[0mkwds\u001b[0m\u001b[0;34m)\u001b[0m\u001b[0;34m\u001b[0m\u001b[0;34m\u001b[0m\u001b[0m\n\u001b[0m\u001b[1;32m    916\u001b[0m \u001b[0;34m\u001b[0m\u001b[0m\n\u001b[1;32m    917\u001b[0m       \u001b[0mnew_tracing_count\u001b[0m \u001b[0;34m=\u001b[0m \u001b[0mself\u001b[0m\u001b[0;34m.\u001b[0m\u001b[0mexperimental_get_tracing_count\u001b[0m\u001b[0;34m(\u001b[0m\u001b[0;34m)\u001b[0m\u001b[0;34m\u001b[0m\u001b[0;34m\u001b[0m\u001b[0m\n",
            "\u001b[0;32m/usr/local/lib/python3.7/dist-packages/tensorflow/python/eager/def_function.py\u001b[0m in \u001b[0;36m_call\u001b[0;34m(self, *args, **kwds)\u001b[0m\n\u001b[1;32m    952\u001b[0m       \u001b[0;31m# In this case we have not created variables on the first call. So we can\u001b[0m\u001b[0;34m\u001b[0m\u001b[0;34m\u001b[0m\u001b[0;34m\u001b[0m\u001b[0m\n\u001b[1;32m    953\u001b[0m       \u001b[0;31m# run the first trace but we should fail if variables are created.\u001b[0m\u001b[0;34m\u001b[0m\u001b[0;34m\u001b[0m\u001b[0;34m\u001b[0m\u001b[0m\n\u001b[0;32m--> 954\u001b[0;31m       \u001b[0mresults\u001b[0m \u001b[0;34m=\u001b[0m \u001b[0mself\u001b[0m\u001b[0;34m.\u001b[0m\u001b[0m_stateful_fn\u001b[0m\u001b[0;34m(\u001b[0m\u001b[0;34m*\u001b[0m\u001b[0margs\u001b[0m\u001b[0;34m,\u001b[0m \u001b[0;34m**\u001b[0m\u001b[0mkwds\u001b[0m\u001b[0;34m)\u001b[0m\u001b[0;34m\u001b[0m\u001b[0;34m\u001b[0m\u001b[0m\n\u001b[0m\u001b[1;32m    955\u001b[0m       \u001b[0;32mif\u001b[0m \u001b[0mself\u001b[0m\u001b[0;34m.\u001b[0m\u001b[0m_created_variables\u001b[0m \u001b[0;32mand\u001b[0m \u001b[0;32mnot\u001b[0m \u001b[0mALLOW_DYNAMIC_VARIABLE_CREATION\u001b[0m\u001b[0;34m:\u001b[0m\u001b[0;34m\u001b[0m\u001b[0;34m\u001b[0m\u001b[0m\n\u001b[1;32m    956\u001b[0m         raise ValueError(\"Creating variables on a non-first call to a function\"\n",
            "\u001b[0;32m/usr/local/lib/python3.7/dist-packages/tensorflow/python/eager/function.py\u001b[0m in \u001b[0;36m__call__\u001b[0;34m(self, *args, **kwargs)\u001b[0m\n\u001b[1;32m   2452\u001b[0m        filtered_flat_args) = self._maybe_define_function(args, kwargs)\n\u001b[1;32m   2453\u001b[0m     return graph_function._call_flat(\n\u001b[0;32m-> 2454\u001b[0;31m         filtered_flat_args, captured_inputs=graph_function.captured_inputs)  # pylint: disable=protected-access\n\u001b[0m\u001b[1;32m   2455\u001b[0m \u001b[0;34m\u001b[0m\u001b[0m\n\u001b[1;32m   2456\u001b[0m   \u001b[0;34m@\u001b[0m\u001b[0mproperty\u001b[0m\u001b[0;34m\u001b[0m\u001b[0;34m\u001b[0m\u001b[0m\n",
            "\u001b[0;32m/usr/local/lib/python3.7/dist-packages/tensorflow/python/eager/function.py\u001b[0m in \u001b[0;36m_call_flat\u001b[0;34m(self, args, captured_inputs, cancellation_manager)\u001b[0m\n\u001b[1;32m   1859\u001b[0m       \u001b[0;31m# No tape is watching; skip to running the function.\u001b[0m\u001b[0;34m\u001b[0m\u001b[0;34m\u001b[0m\u001b[0;34m\u001b[0m\u001b[0m\n\u001b[1;32m   1860\u001b[0m       return self._build_call_outputs(self._inference_function.call(\n\u001b[0;32m-> 1861\u001b[0;31m           ctx, args, cancellation_manager=cancellation_manager))\n\u001b[0m\u001b[1;32m   1862\u001b[0m     forward_backward = self._select_forward_and_backward_functions(\n\u001b[1;32m   1863\u001b[0m         \u001b[0margs\u001b[0m\u001b[0;34m,\u001b[0m\u001b[0;34m\u001b[0m\u001b[0;34m\u001b[0m\u001b[0m\n",
            "\u001b[0;32m/usr/local/lib/python3.7/dist-packages/tensorflow/python/eager/function.py\u001b[0m in \u001b[0;36mcall\u001b[0;34m(self, ctx, args, cancellation_manager)\u001b[0m\n\u001b[1;32m    500\u001b[0m               \u001b[0minputs\u001b[0m\u001b[0;34m=\u001b[0m\u001b[0margs\u001b[0m\u001b[0;34m,\u001b[0m\u001b[0;34m\u001b[0m\u001b[0;34m\u001b[0m\u001b[0m\n\u001b[1;32m    501\u001b[0m               \u001b[0mattrs\u001b[0m\u001b[0;34m=\u001b[0m\u001b[0mattrs\u001b[0m\u001b[0;34m,\u001b[0m\u001b[0;34m\u001b[0m\u001b[0;34m\u001b[0m\u001b[0m\n\u001b[0;32m--> 502\u001b[0;31m               ctx=ctx)\n\u001b[0m\u001b[1;32m    503\u001b[0m         \u001b[0;32melse\u001b[0m\u001b[0;34m:\u001b[0m\u001b[0;34m\u001b[0m\u001b[0;34m\u001b[0m\u001b[0m\n\u001b[1;32m    504\u001b[0m           outputs = execute.execute_with_cancellation(\n",
            "\u001b[0;32m/usr/local/lib/python3.7/dist-packages/tensorflow/python/eager/execute.py\u001b[0m in \u001b[0;36mquick_execute\u001b[0;34m(op_name, num_outputs, inputs, attrs, ctx, name)\u001b[0m\n\u001b[1;32m     53\u001b[0m     \u001b[0mctx\u001b[0m\u001b[0;34m.\u001b[0m\u001b[0mensure_initialized\u001b[0m\u001b[0;34m(\u001b[0m\u001b[0;34m)\u001b[0m\u001b[0;34m\u001b[0m\u001b[0;34m\u001b[0m\u001b[0m\n\u001b[1;32m     54\u001b[0m     tensors = pywrap_tfe.TFE_Py_Execute(ctx._handle, device_name, op_name,\n\u001b[0;32m---> 55\u001b[0;31m                                         inputs, attrs, num_outputs)\n\u001b[0m\u001b[1;32m     56\u001b[0m   \u001b[0;32mexcept\u001b[0m \u001b[0mcore\u001b[0m\u001b[0;34m.\u001b[0m\u001b[0m_NotOkStatusException\u001b[0m \u001b[0;32mas\u001b[0m \u001b[0me\u001b[0m\u001b[0;34m:\u001b[0m\u001b[0;34m\u001b[0m\u001b[0;34m\u001b[0m\u001b[0m\n\u001b[1;32m     57\u001b[0m     \u001b[0;32mif\u001b[0m \u001b[0mname\u001b[0m \u001b[0;32mis\u001b[0m \u001b[0;32mnot\u001b[0m \u001b[0;32mNone\u001b[0m\u001b[0;34m:\u001b[0m\u001b[0;34m\u001b[0m\u001b[0;34m\u001b[0m\u001b[0m\n",
            "\u001b[0;31mKeyboardInterrupt\u001b[0m: "
          ]
        }
      ],
      "source": [
        "#擬似ラベル作成\n",
        "history=ebc2.fit(train_generator,\n",
        "                 epochs=epochz,\n",
        "                 steps_per_epoch=s_p_e,\n",
        "                 validation_data=gizi_data,\n",
        "                 callbacks=[checkpoint2,batch_stats_callback]\n",
        "                 )"
      ]
    },
    {
      "cell_type": "code",
      "execution_count": null,
      "metadata": {
        "id": "IVmd6T5-OhOz"
      },
      "outputs": [],
      "source": [
        "gizi_label2=ebc2.predict(gizi_data)"
      ]
    },
    {
      "cell_type": "code",
      "execution_count": null,
      "metadata": {
        "id": "157xYYJjOmPW"
      },
      "outputs": [],
      "source": [
        "feature_extractor_layer.trainable=False\n",
        "#入力画像ノイズ(rand augmentation)の設定\n",
        "data_augmentation=Sequential([layers.RandomRotation(2.10)])\n",
        "#モデルノイズ（stochastic depth）の設定\n",
        "stochastic_Depth=Sequential([tfa.layers.StochasticDepth(0.35)])\n",
        "\n",
        "#モデルにrand augmentationを適用\n",
        "model2=Sequential([data_augmentation])\n",
        "#モデルにstochastic depthを適用\n",
        "model2=Sequential([stochastic_Depth])\n",
        "\n",
        "\n",
        "\n",
        "model2=Sequential([feature_extractor_layer,\n",
        "                           layers.Dense(train_generator.num_classes,activation='softmax'),\n",
        "                           #layers.Dropout(0.2)\n",
        "                  ])\n",
        "\n"
      ]
    },
    {
      "cell_type": "code",
      "execution_count": null,
      "metadata": {
        "id": "ic2Mzg1JOpH_"
      },
      "outputs": [],
      "source": [
        "#model2\n",
        "model2.compile(optimizer=tf.keras.optimizers.Adam(),\n",
        "              loss='categorical_crossentropy',\n",
        "              metrics=['acc'])\n",
        "model2.summary()\n"
      ]
    },
    {
      "cell_type": "code",
      "execution_count": null,
      "metadata": {
        "id": "i8rZ1QSROqdZ"
      },
      "outputs": [],
      "source": [
        "#model2\n",
        "history=model2.fit(gizi_data,\n",
        "                   epochs=15,\n",
        "                   steps_per_epoch=np.ceil(gizi_data.samples/batch_size),\n",
        "                   validation_data=val_generator,\n",
        "                   callbacks=[checkpoint2,batch_stats_callback]\n",
        "                   )\n"
      ]
    },
    {
      "cell_type": "code",
      "execution_count": null,
      "metadata": {
        "id": "PxbILdD8gQCE"
      },
      "outputs": [],
      "source": [
        "history=model2.fit(gizi_data,\n",
        "                   epochs=10,\n",
        "                   steps_per_epoch=np.ceil(gizi_data.samples/batch_size),\n",
        "                   validation_data=val_generator,\n",
        "                   callbacks=[checkpoint2,batch_stats_callback]\n",
        "                   )"
      ]
    },
    {
      "cell_type": "markdown",
      "metadata": {
        "id": "wO-pyy-B4a5J"
      },
      "source": [
        "2"
      ]
    },
    {
      "cell_type": "code",
      "execution_count": null,
      "metadata": {
        "id": "oTaVja0nro8c"
      },
      "outputs": [],
      "source": [
        "history=model2.fit(train_generator,\n",
        "                   epochs=15,\n",
        "                   steps_per_epoch=s_p_e,\n",
        "                   validation_data=val_generator,\n",
        "                   callbacks=[checkpoint2,batch_stats_callback]\n",
        "                   )"
      ]
    },
    {
      "cell_type": "code",
      "execution_count": null,
      "metadata": {
        "id": "iqoiEp4Ff2dE"
      },
      "outputs": [],
      "source": [
        "history=model2.fit(train_generator,\n",
        "                   epochs=10,\n",
        "                   steps_per_epoch=s_p_e,\n",
        "                   validation_data=val_generator,\n",
        "                   callbacks=[checkpoint2,batch_stats_callback]\n",
        "                   )"
      ]
    },
    {
      "cell_type": "code",
      "execution_count": null,
      "metadata": {
        "id": "WkeRE4nBOdql"
      },
      "outputs": [],
      "source": [
        "model2.save('/content/drive/MyDrive/result11/model2.h5/')"
      ]
    },
    {
      "cell_type": "markdown",
      "metadata": {
        "id": "PKvI-i08OQPz"
      },
      "source": [
        "model3"
      ]
    },
    {
      "cell_type": "code",
      "execution_count": null,
      "metadata": {
        "id": "5pHbUKKVpU4u"
      },
      "outputs": [],
      "source": [
        "ebc3.fit(train_generator,\n",
        "         epochs=epochz,\n",
        "         steps_per_epoch=s_p_e,\n",
        "         #validation_data=val_generator,\n",
        "         callbacks=[batch_stats_callback],\n",
        "         )"
      ]
    },
    {
      "cell_type": "code",
      "execution_count": null,
      "metadata": {
        "id": "FC0OJdAZNlzX"
      },
      "outputs": [],
      "source": [
        "#上位分類層を接合\n",
        "ebc3=Sequential([feature_extractor_layer,\n",
        "                           layers.Dense(train_generator.num_classes,activation='softmax')])\n",
        "\n",
        "ebc3.summary()\n",
        "\n",
        "ebc3.compile(optimizer=tf.keras.optimizers.Adam(),\n",
        "              loss='categorical_crossentropy',\n",
        "              metrics=['acc'])\n",
        "\n"
      ]
    },
    {
      "cell_type": "markdown",
      "metadata": {
        "id": "DlN8IuygSiz5"
      },
      "source": [
        "教師モデル作成"
      ]
    },
    {
      "cell_type": "code",
      "execution_count": null,
      "metadata": {
        "id": "TODUFDzdSR3Q"
      },
      "outputs": [],
      "source": [
        "ebc3.fit(train_generator,\n",
        "         epochs=epochz,\n",
        "         steps_per_epoch=s_p_e,\n",
        "         validation_data=val_generator,\n",
        "         callbacks=[batch_stats_callback,checkpoint3],\n",
        "         )"
      ]
    },
    {
      "cell_type": "code",
      "execution_count": null,
      "metadata": {
        "id": "-bHPfAViSyUE"
      },
      "outputs": [],
      "source": [
        "#上位分類層を接合\n",
        "ebc3=Sequential([feature_extractor_layer,\n",
        "                           layers.Dense(train_generator.num_classes,activation='softmax')])\n",
        "\n",
        "ebc3.summary()\n",
        "\n",
        "ebc3.compile(optimizer=tf.keras.optimizers.Adam(),\n",
        "              loss='categorical_crossentropy',\n",
        "              metrics=['acc'])"
      ]
    },
    {
      "cell_type": "code",
      "execution_count": null,
      "metadata": {
        "id": "EniSTvIJrrq6"
      },
      "outputs": [],
      "source": [
        "#擬似ラベル作成\n",
        "history=ebc3.fit(train_generator,\n",
        "                 epochs=epochz,\n",
        "                 steps_per_epoch=s_p_e,\n",
        "                 validation_data=gizi_data,\n",
        "                 callbacks=[batch_stats_callback,checkpoint3],\n",
        "                 )"
      ]
    },
    {
      "cell_type": "code",
      "execution_count": null,
      "metadata": {
        "id": "uUz4ogOIenWF"
      },
      "outputs": [],
      "source": [
        "gizi_label3=ebc3.predict(gizi_data)"
      ]
    },
    {
      "cell_type": "code",
      "execution_count": null,
      "metadata": {
        "id": "mJnPXaXOeuHY"
      },
      "outputs": [],
      "source": [
        "feature_extractor_layer.trainable=False\n",
        "#入力画像ノイズ(rand augmentation)の設定\n",
        "data_augmentation=Sequential([layers.RandomRotation(2.10)])\n",
        "#モデルノイズ（stochastic depth）の設定\n",
        "stochastic_Depth=Sequential([tfa.layers.StochasticDepth(0.35)])\n",
        "\n",
        "#モデルにrand augmentationを適用\n",
        "model3=Sequential([data_augmentation])\n",
        "#モデルにstochastic depthを適用\n",
        "model3=Sequential([stochastic_Depth])\n",
        "\n",
        "model3=Sequential([feature_extractor_layer,\n",
        "                           layers.Dense(train_generator.num_classes,activation='softmax'),\n",
        "                           #layers.Dropout(0.2)\n",
        "                  ])"
      ]
    },
    {
      "cell_type": "code",
      "execution_count": null,
      "metadata": {
        "id": "R48YnIGEOusf"
      },
      "outputs": [],
      "source": [
        "#model3\n",
        "model3.compile(optimizer=tf.keras.optimizers.Adam(),\n",
        "              loss='categorical_crossentropy',\n",
        "              metrics=['acc'])\n",
        "model3.summary()"
      ]
    },
    {
      "cell_type": "code",
      "execution_count": null,
      "metadata": {
        "id": "PM5XSKWlOu_g"
      },
      "outputs": [],
      "source": [
        "#model3\n",
        "history=model3.fit(gizi_data,\n",
        "                   epochs=15,\n",
        "                   steps_per_epoch=np.ceil(gizi_data.samples/batch_size),\n",
        "                   validation_data=val_generator,\n",
        "                   callbacks=[checkpoint3,batch_stats_callback]\n",
        "                   )"
      ]
    },
    {
      "cell_type": "code",
      "execution_count": null,
      "metadata": {
        "id": "RoecIlzMgTfb"
      },
      "outputs": [],
      "source": [
        "history=model3.fit(gizi_data,\n",
        "                   epochs=10,\n",
        "                   steps_per_epoch=np.ceil(gizi_data.samples/batch_size),\n",
        "                   validation_data=val_generator,\n",
        "                   callbacks=[checkpoint3,batch_stats_callback]\n",
        "                   )"
      ]
    },
    {
      "cell_type": "markdown",
      "metadata": {
        "id": "hexq4yjv4mZ5"
      },
      "source": [
        "3"
      ]
    },
    {
      "cell_type": "code",
      "execution_count": null,
      "metadata": {
        "id": "7Wcj-H-Q4rdV"
      },
      "outputs": [],
      "source": [
        "history=model3.fit(train_generator,\n",
        "                   epochs=15,\n",
        "                   steps_per_epoch=s_p_e,\n",
        "                   validation_data=val_generator,\n",
        "                   callbacks=[batch_stats_callback,checkpoint3]\n",
        "                   )"
      ]
    },
    {
      "cell_type": "code",
      "execution_count": null,
      "metadata": {
        "id": "L337ff-af5ll"
      },
      "outputs": [],
      "source": [
        "history=model3.fit(train_generator,\n",
        "                   epochs=10,\n",
        "                   steps_per_epoch=s_p_e,\n",
        "                   validation_data=val_generator,\n",
        "                   callbacks=[batch_stats_callback,checkpoint3]\n",
        "                   )"
      ]
    },
    {
      "cell_type": "code",
      "execution_count": null,
      "metadata": {
        "id": "YFcL0kU1qHAP"
      },
      "outputs": [],
      "source": [
        "#モデル保存\n",
        "model3.save('/content/drive/MyDrive/result11/model3.h5/')"
      ]
    },
    {
      "cell_type": "code",
      "execution_count": null,
      "metadata": {
        "id": "QXQ1LY0EkT2p"
      },
      "outputs": [],
      "source": []
    },
    {
      "cell_type": "code",
      "execution_count": null,
      "metadata": {
        "id": "-cRPYnBjkern"
      },
      "outputs": [],
      "source": [
        "from google.colab import runtime\n",
        "runtime.unassign()"
      ]
    },
    {
      "cell_type": "markdown",
      "metadata": {
        "id": "o8g1Y8pZF-Bf"
      },
      "source": [
        "Accuracy for each model"
      ]
    },
    {
      "cell_type": "code",
      "execution_count": null,
      "metadata": {
        "id": "XvwsHsw6NnzE"
      },
      "outputs": [],
      "source": [
        "#content google drive\n",
        "from google.colab import drive\n",
        "drive.mount('/content/drive', force_remount=True)"
      ]
    },
    {
      "cell_type": "code",
      "execution_count": null,
      "metadata": {
        "id": "z1jDy1hIOyZa"
      },
      "outputs": [],
      "source": [
        "from tensorflow import keras\n",
        "from tensorflow.keras.preprocessing.image import ImageDataGenerator"
      ]
    },
    {
      "cell_type": "code",
      "execution_count": null,
      "metadata": {
        "id": "BEAwV4afO04J"
      },
      "outputs": [],
      "source": [
        "model1 = keras.models.load_model('/content/drive/MyDrive/result11/model1.h5/')\n",
        "model2 = keras.models.load_model('/content/drive/MyDrive/result11/model2.h5/')\n",
        "model3 = keras.models.load_model('/content/drive/MyDrive/result11/model3.h5/')"
      ]
    },
    {
      "cell_type": "code",
      "execution_count": null,
      "metadata": {
        "id": "scuq19CoO_YT"
      },
      "outputs": [],
      "source": [
        "train_datagenerator = ImageDataGenerator(rescale = 1.0/255,\n",
        "                                        shear_range = 0.2,\n",
        "                                        zoom_range = 0.5,\n",
        "                                        horizontal_flip = True,\n",
        "                                        rotation_range=10,\n",
        "                                        width_shift_range=0.2,\n",
        "                                        brightness_range=[0.2,1.2]\n",
        "                                        )\n",
        "test_datagenerator = ImageDataGenerator(rescale = 1.0/255)\n",
        "\n",
        "training_set = train_datagenerator.flow_from_directory('/content/drive/MyDrive/data1/train/',\n",
        "                                                    target_size = (224,224),\n",
        "                                                    batch_size = 32,\n",
        "                                                    class_mode = 'categorical')\n",
        "\n",
        "class_dict = training_set.class_indices\n",
        "print(class_dict)\n",
        "\n",
        "li = list(class_dict.keys())\n",
        "print(li)\n",
        "\n",
        "valid_set = test_datagenerator.flow_from_directory('/content/drive/MyDrive/data1/test',\n",
        "                                                  target_size = (512,512),\n",
        "                                                    batch_size = 32,\n",
        "                                                    class_mode = 'categorical')\n",
        "\n",
        "# valid_set\n",
        "x_test, y_test = valid_set.next() "
      ]
    },
    {
      "cell_type": "code",
      "execution_count": null,
      "metadata": {
        "id": "okjB_mcYPFTd"
      },
      "outputs": [],
      "source": [
        "# predicting an image\n",
        "import matplotlib.pyplot as plt\n",
        "from keras.preprocessing import image\n",
        "import numpy as np\n",
        "\n",
        "class votingClassifer:\n",
        "    'votingClassifer class'\n",
        "\n",
        "\n",
        "    def __init__(self, estimators,mode=\"hard\",weight=None,show_info=\"percent\"):\n",
        "        \n",
        "        if mode not in [\"hard\",\"soft\"]:\n",
        "            raise Exception(\"the mode should be 'hard' or 'soft'\")\n",
        "            \n",
        "        self.estimators=estimators\n",
        "        self.mode=mode\n",
        "        self.weight=weight\n",
        "        self.show_info=show_info  \n",
        "            \n",
        "    def predict(self,x_test):        \n",
        "        if self.mode==\"hard\":\n",
        "            return self.votingClassifer_hard(self.estimators, x_test, show_info=self.show_info)\n",
        "        else:\n",
        "            return self.votingClassifer_soft(self.estimators, x_test, weight=self.weight, show_info=self.show_info)\n",
        "\n",
        "    def getNumberDiff(self, index_classes, n):  \n",
        "        \n",
        "        for x in index_classes:\n",
        "            if index_class_prefer != x:\n",
        "                return x    \n",
        "    \n",
        "    def getNumberElse(self, index_classes, n):\n",
        "\n",
        "        indices = [i for i, value in enumerate(index_classes) if value != n]\n",
        "        counts = np.bincount(indices)\n",
        "        ind=np.argmax(counts)\n",
        "        n1=(indices == ind).sum()\n",
        " \n",
        "                \n",
        "        return n1\n",
        "    \n",
        "    # hard voting\n",
        "    def votingClassifer_hard(self,estimators,x_test,show_info='percent'):\n",
        "        \n",
        "        if show_info not in [\"info\",\"percent\",\"nothing\"]:\n",
        "            raise Exception(\"the attribut 'show_info' should be 'info' or 'percent','nothing'\")            \n",
        "            \n",
        "        \n",
        "        cpt=0\n",
        "        index_classes_glob, class_names_glob, probs_glob=[],[],[]\n",
        "        N=len(x_test)\n",
        "        for x in x_test:\n",
        "            index_classes, class_names, probs=[],[],[]\n",
        "            for model in estimators:\n",
        "                img = np.expand_dims(x, axis=0)\n",
        "                # make a prediction\n",
        "                y_prob = model.predict(img)[0]\n",
        "                probabilty = y_prob.flatten()\n",
        "                max_prob = probabilty.max()\n",
        "                y_classes = y_prob.argmax(axis=-1)\n",
        "                index_class, class_name, prob = y_classes,li[y_classes],max_prob\n",
        "                index_classes.append(index_class)\n",
        "                class_names.append(class_name)\n",
        "                probs.append(prob)\n",
        "            index_classes, class_names, probs = np.array(index_classes), np.array(class_names), np.array(probs)    \n",
        "            counts = np.bincount(index_classes)\n",
        "            index_class_prefer=np.argmax(counts)\n",
        " \n",
        "            n1=(index_classes == index_class_prefer).sum()\n",
        "    \n",
        "            if n1 == 1:\n",
        "                print(\"\\n Each estimator predict a different class\")\n",
        "                prob = probs.max()\n",
        "                indice = [i for i, value in enumerate(probs) if value == prob][0]\n",
        "                class_name = class_names[indice]\n",
        "\n",
        "                \n",
        "            elif n1 == len(estimators)/2 and len(estimators)/2 == self.getNumberElse(index_classes, index_class_prefer):\n",
        "                \n",
        "                print(\"\\n the half-estimators predict a class and the other estimators predict a different class\")\n",
        "                \n",
        "                indices1 = [i for i, value in enumerate(index_classes) if value == index_class_prefer]\n",
        "                sum2=0\n",
        "                for ind in indices1:\n",
        "                    sum2+=probs[ind]\n",
        "                \n",
        "                prob1=sum2/len(indices1)\n",
        "                \n",
        "                n2=self.getNumberDiff(index_classes, index_class_prefer)      \n",
        "                \n",
        "                indices2 = [i for i, value in enumerate(index_classes) if value == n2]\n",
        "                sum2=0\n",
        "                for ind in indices2:\n",
        "                    sum2+=probs[ind]\n",
        "                \n",
        "                prob2=sum2/len(indices2)\n",
        "                \n",
        "                if prob1 < prob2:\n",
        "                    prob=prob2\n",
        "                    indice = [i for i, value in enumerate(index_classes) if value == n2][0]\n",
        "                    class_name = class_names[indice]\n",
        "                    \n",
        "                else:\n",
        "                    prob=prob1\n",
        "                    indice = [i for i, value in enumerate(index_classes) if value == index_class_prefer][0]\n",
        "                    class_name = class_names[indice]\n",
        "                \n",
        "            else:\n",
        "                \n",
        "                sum1=0\n",
        "                nbr=0\n",
        "                for i, index in zip(range(len(probs)),index_classes):\n",
        "                    if index_class_prefer== index:\n",
        "                        sum1+=probs[i]\n",
        "                        nbr+=1\n",
        "                        \n",
        "                prob=sum1/nbr\n",
        "                indice = index_class_prefer\n",
        "                class_name = li[index_class_prefer]\n",
        "\n",
        "            \n",
        "            if show_info==\"info\":\n",
        "                cpt+=1\n",
        "                print(\"\\rpercent: {:.2f}%, li[{}]:{} --> {}\".format(cpt*100/N,index_class_prefer, li[index_class_prefer], prob), end='')   \n",
        "            elif show_info==\"percent\":\n",
        "                cpt+=1\n",
        "                print(\"\\rpercent: {:.2f}%\".format(cpt*100/N), end='')\n",
        "          \n",
        "                \n",
        "            index_classes_glob.append(indice)\n",
        "            class_names_glob.append(class_name)\n",
        "            probs_glob.append(prob)\n",
        "\n",
        "        return np.array(index_classes_glob), np.array(class_names_glob), np.array(probs_glob) \n",
        "    \n",
        "   # soft voting \n",
        "    def votingClassifer_soft(self, estimators, x_test, weight=None, show_info=\"percent\"):\n",
        "        \n",
        "        if show_info not in [\"info\",\"percent\",\"nothing\"]:\n",
        "            raise Exception(\"the attribut 'show_info' should be 'info' or 'percent','nothing'\")  \n",
        "\n",
        "        if weight is None :\n",
        "            weight=np.ones(len(estimators))\n",
        "\n",
        "        if len(weight) != len(estimators):\n",
        "            raise Exception(\"number of models and wheight should be equals\")    \n",
        "\n",
        "        cpt=0 \n",
        "        # get number of classes \n",
        "        x = image.img_to_array(x_test[0])\n",
        "        x = np.expand_dims(x, axis=0)\n",
        "        y_prob = estimators[0].predict(x) \n",
        "        num_classes =  y_prob.shape[1]\n",
        "\n",
        "        Tab=np.zeros(num_classes)# num_classes\n",
        "        index_classes_glob, class_names_glob, probs_glob=[],[],[]\n",
        "        N=len(x_test)\n",
        "        for x in x_test:\n",
        "            index_classes, class_names, probs= [], [], []\n",
        "            for model in estimators:\n",
        "                img = np.expand_dims(x, axis=0)\n",
        "                # make a prediction\n",
        "                y_prob = model.predict(img)[0]\n",
        "                idxs = np.argsort(y_prob)\n",
        "                # loop over the indexes of the high confidence class labels\n",
        "                for (index, value) in enumerate(idxs):\n",
        "                    # build the label and draw the label on the image\n",
        "                    #label = \"{}) {}[{}]: {:.2f}%\".format(index,li[value],value, y_prob[value] * 100)\n",
        "                    #print(label)\n",
        "                    Tab[value]=y_prob[value]\n",
        "\n",
        "                probs.append(Tab)\n",
        "\n",
        "            probs=np.array(probs) # probs.shape: (3, 38)\n",
        "\n",
        "            proba=[]   \n",
        "\n",
        "            div=sum(weight)\n",
        "            for i in range(len(probs[0])):\n",
        "                s=0\n",
        "                for j in range(len(weight)):\n",
        "                    s+= probs[j][i] * weight[j] \n",
        "                s=s/div\n",
        "                proba.append(s)\n",
        "\n",
        "            proba=np.array(proba)\n",
        "            max_prob=max(proba)\n",
        "\n",
        "            indices=[i for i, value in enumerate(proba) if value == max_prob]\n",
        "\n",
        "            index_class, class_name, prob=indices[0],li[indices[0]],max_prob \n",
        "\n",
        "            index_classes_glob.append(index_class)\n",
        "            class_names_glob.append(class_name)\n",
        "            probs_glob.append(prob) \n",
        "\n",
        "            if show_info==\"info\":\n",
        "                cpt+=1\n",
        "                print(\"percent: {:.2f}%, li[{}]:{} --> {}%\".format(cpt*100/N,index_class, li[index_class], prob))   \n",
        "            elif show_info==\"percent\":\n",
        "                cpt+=1\n",
        "                print(\"\\rpercent: {:.2f}%\".format(cpt*100/N), end='')\n",
        "\n",
        "\n",
        "\n",
        "        return np.array(index_classes_glob), np.array(class_names_glob), np.array(probs_glob)  "
      ]
    },
    {
      "cell_type": "code",
      "execution_count": null,
      "metadata": {
        "id": "0sDMxq6CPJ9m"
      },
      "outputs": [],
      "source": [
        "from sklearn.base import is_classifier, is_regressor\n",
        "models_names=['model1','model2','model3']\n",
        "print(\"model name\\t estimator name\\t is_regressor\\t is_classifier\")    \n",
        "for estimator , model_name in zip([model1,model2,model3],models_names):\n",
        "        print(\"{}\\t   {}     \\t {}      \\t {}\".format(model_name,estimator.__class__.__name__,\n",
        "                                              is_regressor(estimator),\n",
        "                                              is_classifier(estimator)\n",
        "                                              ))"
      ]
    },
    {
      "cell_type": "code",
      "execution_count": null,
      "metadata": {
        "id": "Rkv7dtYRhtCl"
      },
      "outputs": [],
      "source": [
        "from sklearn.metrics import accuracy_score\n",
        "from sklearn.metrics import precision_score\n",
        "from sklearn.metrics import recall_score\n",
        "from sklearn.metrics import classification_report\n",
        "import numpy as np\n",
        "models=[model1,model2,model3]\n",
        "model_names=[\"model1\",\"model2\",'model3']\n",
        "for model,model_name in zip(models,model_names):\n",
        "            \n",
        "    y_prob = model.predict(x_test)\n",
        "    y_pred1 = y_prob.argmax(axis=-1)\n",
        "    y_test1=np.argmax(y_test, axis=1)\n",
        "    # accuracy\n",
        "    print(model_name+\" accuracy: \",accuracy_score(y_test1,y_pred1))\n",
        "    del model , y_pred1, y_test1\n",
        "    #Precision\n",
        "    #print('Precision:', precision_score(y_test,y_pred1))\n",
        "    #Recall\n",
        "    #print('Recall:', recall_score(y_test1,y_pred1))\n",
        "    #F-measure\n",
        "    #print(\"Classification report\")\n",
        "    #print(classification_report(y_test1, y_pred1))"
      ]
    },
    {
      "cell_type": "code",
      "execution_count": null,
      "metadata": {
        "id": "RNwvATGkF39x"
      },
      "outputs": [],
      "source": [
        "# valid_set\n",
        "x_test, y_test = valid_set.next() \n",
        "\n",
        "#VotingClassifier(hard)\n",
        "estimators = [model1,model2,model3]\n",
        "vc=votingClassifer(estimators=estimators,mode=\"hard\",show_info=\"percent\")\n",
        "index_classes, class_names, probs=vc.predict(x_test)"
      ]
    },
    {
      "cell_type": "markdown",
      "metadata": {
        "id": "1SQTEoB5GNaJ"
      },
      "source": [
        "accuracy"
      ]
    },
    {
      "cell_type": "code",
      "execution_count": null,
      "metadata": {
        "id": "o43-_QmgGLtR"
      },
      "outputs": [],
      "source": [
        "# inverse_to_categorical inverser format binary to format indexation\n",
        "# datagenerator use the methode to_categorical for labelsation to frmat binary \n",
        "# the method inverce of to_categorical is argmax\n",
        "import numpy as np\n",
        "y_test1=np.argmax(y_test, axis=1)\n",
        "y_pred1=index_classes\n",
        "\n",
        "# accuracy\n",
        "from sklearn.metrics import accuracy_score\n",
        "print(\"votingClassifer(hard) accuracy : \",accuracy_score(y_test1,y_pred1))"
      ]
    }
  ],
  "metadata": {
    "colab": {
      "provenance": []
    },
    "gpuClass": "standard",
    "kernelspec": {
      "display_name": "Python 3.9.6 64-bit",
      "language": "python",
      "name": "python3"
    },
    "language_info": {
      "name": "python",
      "version": "3.9.6"
    },
    "vscode": {
      "interpreter": {
        "hash": "31f2aee4e71d21fbe5cf8b01ff0e069b9275f58929596ceb00d14d90e3e16cd6"
      }
    }
  },
  "nbformat": 4,
  "nbformat_minor": 0
}
